{
 "cells": [
  {
   "cell_type": "markdown",
   "id": "19e5b4f4",
   "metadata": {
    "tags": []
   },
   "source": [
    "# Musterlösung Praktikum 4"
   ]
  },
  {
   "cell_type": "markdown",
   "id": "87ecf0bf",
   "metadata": {},
   "source": [
    "Für dieses Praktikum wird das Modul sympy benötigt. Dieses muss vorher gegebenenfalls über das Terminal installiert werden.\n",
    "\n",
    "```\n",
    "pip install sympy\n",
    "```\n",
    "\n",
    "Anschließend kann das Modul importiert werden.\n",
    "\n",
    "Für die Darstellung wird zudem das Modul IPython.display verwendet."
   ]
  },
  {
   "cell_type": "code",
   "execution_count": 2,
   "id": "2bb99bca",
   "metadata": {},
   "outputs": [],
   "source": [
    "from sympy import *\n",
    "from IPython.display import display, Math, Latex\n",
    "init_printing(use_latex='mathjax')"
   ]
  },
  {
   "cell_type": "code",
   "execution_count": 3,
   "id": "3f55d5a5-56c6-4d2c-8cf5-2279e7262247",
   "metadata": {},
   "outputs": [],
   "source": [
    "# helper function for latex pretty printing\n",
    "def display_latex_result(a, b=None):\n",
    "  if b is None:\n",
    "    res = \"$${}$$\".format(a)\n",
    "  else:\n",
    "    res = \"$${} = {}$$\".format(a, latex(b, mat_delim='('))\n",
    "  display(Latex(res))"
   ]
  },
  {
   "cell_type": "markdown",
   "id": "f1281ab4-a7ce-42b5-8901-84c2a55e2f24",
   "metadata": {
    "tags": []
   },
   "source": [
    "## Aufgabe 4.1"
   ]
  },
  {
   "cell_type": "markdown",
   "id": "393a7176-b4fd-431e-906f-75017dc0121e",
   "metadata": {},
   "source": [
    "$\\newcommand{\\mbf}{\\mathbf}$\n",
    "$\\newcommand{\\mrm}{\\mathrm}$\n",
    "$\\newcommand{\\tcdegree}{{°}}$\n",
    "$\\newcommand{\\Atan}{\\mathrm{atan2}}$\n",
    "\n",
    "Erläutern Sie, wie die $\\Atan$-Funktion arbeitet. Geben Sie an, wie $\\Atan(y, x)$ aus den Werten $x, y$ mittels der $\\arctan$-Funktion berechnet werden kann. Führen Sie dazu eine Fallunterscheidung abhängig von den Werten der Argumente $x, y$ durch."
   ]
  },
  {
   "cell_type": "markdown",
   "id": "f4ff8e2e-bef4-4305-8870-ae84f6aa3be7",
   "metadata": {
    "tags": []
   },
   "source": [
    "### Lösung:"
   ]
  },
  {
   "cell_type": "markdown",
   "id": "3763dc91-f247-45f6-b396-d0126454f2d9",
   "metadata": {},
   "source": [
    "$\\newcommand{\\mbf}{\\mathbf}$\n",
    "$\\newcommand{\\mrm}{\\mathrm}$\n",
    "$\\newcommand{\\tcdegree}{{°}}$\n",
    "$\\newcommand{\\Atan}{\\mathrm{atan2}}$\n",
    "<div class=\"alert alert-warning\" role=\"alert\">\n",
    "Da die Arkustangensfunkton nicht die Möglichkeit bietet, den Winkel im korrekten Quadranten zu ermitteln und außerdem die Tangensfunktion für einen Funktionswert außerhalb des Wertebereichs $\\pm \\frac{\\pi}{2}$ nicht umkehrbar ist, gibt es eine Funktion, die mit 2 Argumenten aufgerufen wird. Dies ist die $\\Atan$-Funktion mit einem einem Wertebereich von $-\\pi < \\operatorname{atan2}(y,~x) \\le \\pi$, bei der das Vorzeichen beider Parameter ausgewertet und so der Quadrant des Ergebnisses bestimmt wird. Diese Funktion dient bei der Umrechnung von kartesischen Koordinaten $\\mbf{P(x,~y)}$ in Polarkoordinaten $\\mbf{P(r,~\\varphi)}$ zur der Ermittlung des Winkels $\\varphi$.\n",
    "\n",
    "<!--    \n",
    "Umformung der $\\Atan$-Funktion in eine $\\arctan$-Funktion:\n",
    "\\parpic{$~\\hspace{1.5cm}$\\includegraphics[width=6cm]{Grafik.pdf}}\n",
    "~\\\\[0.25cm]\n",
    "$~\\hspace{1cm} \\varphi=\\Atan(y,~ x) ~~~~ -\\frac{\\pi}{2} \\le \\varphi \\le \\frac{\\pi}{2}$ \\\\[0.25cm]\n",
    "$~\\hspace{1cm} \\varphi=\\arctan\\left(\\frac{y}{x}\\right)~~~~~ -\\pi \\le \\varphi \\le \\pi$ \n",
    "\\picskip{0}\n",
    "-->\n",
    "\n",
    "$\n",
    "\\operatorname{atan2}(y,x) := \\begin{cases} \\arctan\\left(\\frac{y}{x}\\right) & \\mathrm{f\\ddot ur}\\ x > 0\\\\ \\arctan\\left(\\frac{y}{x}\\right) + \\pi & \\mathrm{f\\ddot ur}\\ x < 0,\\ y \\geq 0\\\\ \\arctan\\left(\\frac{y}{x}\\right) - \\pi & \\mathrm{f\\ddot ur}\\ x < 0,\\ y < 0\\\\ +\\pi/2 & \\mathrm{f\\ddot ur}\\ x = 0,\\ y > 0\\\\ -\\pi/2 & \\mathrm{f\\ddot ur}\\ x = 0,\\ y < 0\\\\ 0 & \\mathrm{f\\ddot ur}\\ x = 0,\\ y = 0 \\end{cases} \n",
    "$\n",
    "</div>"
   ]
  },
  {
   "cell_type": "markdown",
   "id": "cd6143e1-f770-43f1-9f49-144123cdf841",
   "metadata": {},
   "source": [
    "## Aufgabe 4.2"
   ]
  },
  {
   "cell_type": "markdown",
   "id": "288b22c9-f509-4017-9721-3df951bb2bbd",
   "metadata": {},
   "source": [
    "### Ergänzen Sie den nachfolgenden Code um die atan2-Funktion nachzubilden:"
   ]
  },
  {
   "cell_type": "code",
   "execution_count": 4,
   "id": "c05cc132-c6f8-4944-a85b-c97dd32f5f1b",
   "metadata": {},
   "outputs": [],
   "source": [
    "def Atan2(y, x):\n",
    "    if x > 0:\n",
    "        return atan(y/x)\n",
    "    elif x == 0: \n",
    "        if y == 0:\n",
    "            return 0\n",
    "        elif y > 0:\n",
    "            return pi/2\n",
    "        else:\n",
    "            return -pi/2\n",
    "    elif y >= 0:\n",
    "        return atan(y/x) + pi\n",
    "    return atan(y/x) - pi"
   ]
  },
  {
   "cell_type": "markdown",
   "id": "bb6bb999-fcd7-4fa0-b55a-9dceb04b1811",
   "metadata": {
    "tags": []
   },
   "source": [
    "## Für die folgenden Aufgaben ist der quaderförmiger Körper aus Praktikum 3 gegeben."
   ]
  },
  {
   "cell_type": "markdown",
   "id": "957d4898-c70f-435c-bc95-d826ad1cca84",
   "metadata": {},
   "source": [
    "<figure>\n",
    "<center>\n",
    "<img width='500' src='https://fh-dortmund.sciebo.de/s/esxLNzGVvbZZEm5/download?path=%2F&files=quader.png' />\n",
    "</figure>\n",
    "\n",
    "Der Körper wird zunächst um den Winkel $\\varphi_x=-30\\tcdegree$ um die x-Achse, dann um den Winkel $\\varphi_z=90\\tcdegree$ um die z-Achse und schließlich um den Winkel $\\varphi_y=-90\\tcdegree$ um die y-Achse\n",
    "des ortsfesten Koordinatensystems $B$ gedreht."
   ]
  },
  {
   "cell_type": "markdown",
   "id": "094bf170-8ef6-4e04-949a-2e772c7d9051",
   "metadata": {
    "tags": []
   },
   "source": [
    "## Aufgabe 4.3"
   ]
  },
  {
   "cell_type": "markdown",
   "id": "0abbceb8-8848-40a2-aaa5-1707cd0414e8",
   "metadata": {
    "jp-MarkdownHeadingCollapsed": true,
    "tags": []
   },
   "source": [
    "Berechnen Sie die Eulerschen Winkel des Koordinatensystem $K$ **vor** der Drehung des Körpers bezüglich des Koordinatensystems $B$."
   ]
  },
  {
   "cell_type": "markdown",
   "id": "9a040286-9a19-488e-adf7-a5da02daf880",
   "metadata": {
    "tags": []
   },
   "source": [
    "### Lösung:"
   ]
  },
  {
   "cell_type": "markdown",
   "id": "00faad36-8b2c-4e54-8a2b-97df7a853084",
   "metadata": {
    "tags": []
   },
   "source": [
    "$\\newcommand{\\Sin}{{\\sin}}$\n",
    "$\\newcommand{\\Cos}{{\\cos}}$\n",
    "\n",
    "<div class=\"alert alert-warning\" role=\"alert\">\n",
    "Das Koordinatensystem $K$ vor der Drehung des Körpers (siehe Aufgabe 3.4):\n",
    "\n",
    "$    \n",
    "{}^B\\mbf{R}_K \n",
    "= \\left(\\begin{array}{rrr}\n",
    "0 & 0 & -1 \\\\\n",
    "0 & -1 & 0 \\\\\n",
    "-1 & 0 & 0\n",
    "\\end{array}\\right)\n",
    "$\n",
    "\n",
    "$\n",
    "\\begin{align}\n",
    "\\alpha &= \\Atan \\left( R_{23}, R_{13} \\right) \\\\ \n",
    "& = \\Atan(0,~ -1) = \\pi = 180\\tcdegree \\\\\n",
    "\\Sin\\alpha & =\\sin\\alpha = \\sin(180\\tcdegree) = 0 \\\\\n",
    "\\Cos\\alpha & =\\cos\\alpha = \\cos(180\\tcdegree) = -1 \\\\\n",
    "\\beta & = \\Atan \\left(\\Cos\\alpha R_{13} + \\Sin\\alpha R_{23}, \n",
    "R_{33}  \\right) \\\\ &=\\Atan((-1)\\cdot(-1) + 0\\cdot0,~ 0) \n",
    "= \\Atan(1,~ 0) = \\frac{\\pi}{2} = 90\\tcdegree \\\\\n",
    "\\gamma &= \\Atan \\left(  -\\Sin\\alpha R_{11} + \\Cos\\alpha R_{21}, -\\Sin\\alpha R_{12} + \\Cos\\alpha R_{22} \\right) \\\\\n",
    "& = \\Atan(- 0\\cdot0 + (-1)\\cdot0,~ - 0\\cdot0 + (-1)\\cdot(-1)) = \n",
    "\\Atan(0,~ 1) = 0\\tcdegree\n",
    "\\end{align}\n",
    "$\n",
    " \n",
    "Für die Euler-Winkel gilt $\\alpha = 180\\tcdegree$, $\\beta = 90\\tcdegree$ und $\\gamma = 0\\tcdegree$.\n",
    "</div>"
   ]
  },
  {
   "cell_type": "markdown",
   "id": "d7f081c8-6f51-422b-a12e-85e4b73779d6",
   "metadata": {
    "tags": []
   },
   "source": [
    "### Ergänzen Sie den nachstehenden Code um Ihre Rechnung zu überprüfen"
   ]
  },
  {
   "cell_type": "code",
   "execution_count": 5,
   "id": "69b12932-947d-448d-9cf5-e57258347830",
   "metadata": {},
   "outputs": [
    {
     "data": {
      "text/latex": [
       "$$\\mrm{EUL} = \\begin{pmatrix}\\alpha\\\\ \\beta\\\\ \\gamma\\end{pmatrix} = \\left(\\begin{matrix}180\\\\90\\\\0\\end{matrix}\\right)$$"
      ],
      "text/plain": [
       "<IPython.core.display.Latex object>"
      ]
     },
     "metadata": {},
     "output_type": "display_data"
    }
   ],
   "source": [
    "rad2deg = 180/pi\n",
    "\n",
    "def rot2eul(R):\n",
    "  eul = Matrix([0, 0, 0])\n",
    "  eul[0] = Atan2(R[1,2], R[0,2])\n",
    "  sin_alpha = sin(eul[0])\n",
    "  cos_alpha = cos(eul[0])\n",
    "  eul[1] = Atan2(cos_alpha * R[0,2] + sin_alpha * R[1,2], R[2,2])\n",
    "  eul[2] = Atan2(-sin_alpha * R[0,0] + cos_alpha * R[1,0], -sin_alpha * R[0,1] + cos_alpha * R[1,1])\n",
    "  return eul\n",
    "\n",
    "Rk = Matrix([[0, 0, -1],\n",
    "             [0, -1, 0],\n",
    "             [-1, 0, 0]\n",
    "            ])\n",
    "\n",
    "display_latex_result('\\mrm{EUL} = \\\\begin{pmatrix}\\\\alpha\\\\\\\\ \\\\beta\\\\\\\\ \\\\gamma\\\\end{pmatrix}', rot2eul(Rk) * rad2deg)"
   ]
  },
  {
   "cell_type": "markdown",
   "id": "d4603723-ce62-4e05-9484-65bc41d3ef30",
   "metadata": {
    "tags": []
   },
   "source": [
    "## Aufgabe 4.4"
   ]
  },
  {
   "cell_type": "markdown",
   "id": "a9409cca-fcf2-4783-a9b4-e52c99a93649",
   "metadata": {
    "jp-MarkdownHeadingCollapsed": true,
    "tags": []
   },
   "source": [
    "Berechnen Sie die Roll-Nick-Gier-Winkel des Koordinatensystem $K$ **vor** der Drehung des Körpers bezüglich des Koordinatensystems $B$."
   ]
  },
  {
   "cell_type": "markdown",
   "id": "41d8716c-9592-4b41-a8b6-f52f87abbff8",
   "metadata": {
    "tags": []
   },
   "source": [
    "### Lösung:"
   ]
  },
  {
   "cell_type": "markdown",
   "id": "f86bce46-d8d0-4437-a5a7-0ae1a818a85f",
   "metadata": {},
   "source": [
    "<div class=\"alert alert-block alert-warning\">\n",
    "\n",
    "$\n",
    "\\begin{align*}\n",
    "\\alpha & = \\Atan \\left( R_{21}, R_{11}  \\right) \\\\ \n",
    "& = \\Atan(0,~ 0) = 0\\tcdegree ~~~~~~~~\\mbox{(singuläre Stellung)}\\\\\n",
    "\\Sin\\alpha & =\\sin\\alpha = \\sin(0\\tcdegree) = 0 \\\\\n",
    "\\Cos\\alpha & =\\cos\\alpha = \\cos(0\\tcdegree) = 1 \\\\\n",
    "\\beta  & =  \\Atan \\left(-R_{31}, \\Cos\\alpha R_{11} + \\Sin\\alpha R_{21}\\right) \\\\\n",
    "& = \\Atan(-(-1),~ 1\\cdot0 + 0\\cdot0)\n",
    "= \\Atan(1,~ 0) = \\frac{\\pi}{2} = 90\\tcdegree\\\\\n",
    "\\gamma & = \n",
    "\\Atan \\left( \\Sin\\alpha R_{13} - \\Cos\\alpha R_{23}, \n",
    "\\Cos\\alpha R_{22} - \\Sin\\alpha R_{12} \\right) \\\\\n",
    "& = \\Atan(0\\cdot(-1) - 1\\cdot0,~ 1\\cdot(-1) - 0\\cdot0) = \n",
    "\\Atan(0,~ -1) = \\pi = 180\\tcdegree\\\\\n",
    "\\end{align*}\n",
    "$\n",
    "\n",
    "Für die Roll-Nick-Gier-Winkel gilt $\\alpha = 0\\tcdegree$, $\\beta = 90\\tcdegree$ und $\\gamma = 180\\tcdegree$.\n",
    "\n",
    "</div>"
   ]
  },
  {
   "cell_type": "markdown",
   "id": "3ff65a51-a489-46e5-aeb9-8595f00b9e35",
   "metadata": {
    "tags": []
   },
   "source": [
    "### Ergänzen Sie den nachstehenden Code um Ihre Rechnung zu überprüfen"
   ]
  },
  {
   "cell_type": "code",
   "execution_count": 6,
   "id": "6344f71e-27fa-49c1-9700-23c2738f1ed1",
   "metadata": {},
   "outputs": [
    {
     "data": {
      "text/latex": [
       "$$\\mrm{RPY} = \\begin{pmatrix}\\alpha\\\\ \\beta\\\\ \\gamma\\end{pmatrix} = \\left(\\begin{matrix}0\\\\90.0\\\\180.0\\end{matrix}\\right)$$"
      ],
      "text/plain": [
       "<IPython.core.display.Latex object>"
      ]
     },
     "metadata": {},
     "output_type": "display_data"
    }
   ],
   "source": [
    "def rot2rpy(R):\n",
    "  eul = Matrix([0, 0, 0])\n",
    "  if R[1,0] == 0 and R[0,0] == 0: # singularity\n",
    "    eul[0] = 0\n",
    "  else:      \n",
    "    eul[0] = Atan2(R[1,0], R[0,0])\n",
    "  \n",
    "  sin_alpha = sin(eul[0])\n",
    "  cos_alpha = cos(eul[0])\n",
    "  eul[1] = Atan2(-R[2,0], cos_alpha * R[0,0] + sin_alpha * R[1,0])\n",
    "  eul[2] = Atan2(sin_alpha * R[0,2] - cos_alpha * R[1,2], cos_alpha * R[1,1] - sin_alpha * R[0,1])\n",
    "  return eul\n",
    "\n",
    "display_latex_result('\\mrm{RPY} = \\\\begin{pmatrix}\\\\alpha\\\\\\\\ \\\\beta\\\\\\\\ \\\\gamma\\\\end{pmatrix}', (rot2rpy(Rk) * rad2deg).evalf())"
   ]
  },
  {
   "cell_type": "markdown",
   "id": "2b3e5f25-5911-4203-9c4b-e31fdc31e07f",
   "metadata": {
    "tags": []
   },
   "source": [
    "## Aufgabe 4.5"
   ]
  },
  {
   "cell_type": "markdown",
   "id": "e1de2ce8-3ea1-4fc8-8633-c3bab5dc4646",
   "metadata": {
    "jp-MarkdownHeadingCollapsed": true,
    "tags": []
   },
   "source": [
    "Berechnen Sie die Eulerschen Winkel des Koordinatensystem $K$ **nach** der Drehung des Körpers bezüglich des Koordinatensystems $B$."
   ]
  },
  {
   "cell_type": "markdown",
   "id": "cd32b8ac-a298-45ef-8fd2-e446d391000d",
   "metadata": {
    "tags": []
   },
   "source": [
    "### Lösung:"
   ]
  },
  {
   "cell_type": "markdown",
   "id": "b91f9644-0599-42dc-afda-e35ce158ca3c",
   "metadata": {},
   "source": [
    "<div class=\"alert alert-warning\" role=\"alert\">\n",
    "Koordinatensystem $K$ nach der Drehung des Körpers (siehe Aufgabe 3.5):\n",
    "\n",
    "$\n",
    "{}^B\\mbf{R}_{Kn}\n",
    "= \\frac{1}{2}\\left( \\begin{array}{rrr}\n",
    "\\sqrt{3} & -1 & 0 \\\\\n",
    "0 & 0 & -2 \\\\\n",
    "1 & \\sqrt{3} & 0\n",
    "\\end{array}\\right)\n",
    "$\n",
    "\n",
    "$    \n",
    "\\begin{align*}\n",
    "\\alpha &= \\Atan(-1,~ 0) = -\\frac{\\pi}{2} = -90\\tcdegree \\\\\n",
    "\\sin\\alpha &= \\sin(-90\\tcdegree) = -1 \\\\\n",
    "\\cos\\alpha &= \\cos(-90\\tcdegree) = 0 \\\\\n",
    "\\beta &= \\Atan(1,~ 0) = \\frac{\\pi}{2} = 90\\tcdegree \\\\\n",
    "\\gamma &= \\Atan\\left(\\frac{\\sqrt{3}}{2},~ -\\frac{1}{2}\\right) \n",
    "= \\arctan\\left(-\\sqrt{3}\\right) + 180\\tcdegree = 120\\tcdegree \n",
    "\\end{align*}\n",
    "$\n",
    "    \n",
    "Für die Euler-Winkel gilt $\\alpha = -90\\tcdegree$, $\\beta = 90\\tcdegree$ und $\\gamma = 120\\tcdegree$.\n",
    "\n",
    "</div>"
   ]
  },
  {
   "cell_type": "markdown",
   "id": "535e4d6d-5fee-4a52-8614-0b8f68c4c6d9",
   "metadata": {
    "tags": []
   },
   "source": [
    "### Ergänzen Sie den nachstehenden Code um Ihre Rechnung zu überprüfen"
   ]
  },
  {
   "cell_type": "code",
   "execution_count": 1,
   "id": "74f100d1-bf82-4210-b11b-94b52bc7323e",
   "metadata": {},
   "outputs": [
    {
     "ename": "NameError",
     "evalue": "name 'Matrix' is not defined",
     "output_type": "error",
     "traceback": [
      "\u001b[1;31m---------------------------------------------------------------------------\u001b[0m",
      "\u001b[1;31mNameError\u001b[0m                                 Traceback (most recent call last)",
      "Cell \u001b[1;32mIn[1], line 1\u001b[0m\n\u001b[1;32m----> 1\u001b[0m Rkn \u001b[38;5;241m=\u001b[39m \u001b[38;5;241m1\u001b[39m\u001b[38;5;241m/\u001b[39m\u001b[38;5;241m2\u001b[39m \u001b[38;5;241m*\u001b[39m \u001b[43mMatrix\u001b[49m([[sqrt(\u001b[38;5;241m3\u001b[39m), \u001b[38;5;241m-\u001b[39m\u001b[38;5;241m1\u001b[39m,  \u001b[38;5;241m0\u001b[39m],\n\u001b[0;32m      2\u001b[0m                    [\u001b[38;5;241m0\u001b[39m,         \u001b[38;5;241m0\u001b[39m, \u001b[38;5;241m-\u001b[39m\u001b[38;5;241m2\u001b[39m],\n\u001b[0;32m      3\u001b[0m                    [\u001b[38;5;241m1\u001b[39m,   sqrt(\u001b[38;5;241m3\u001b[39m),  \u001b[38;5;241m0\u001b[39m]\n\u001b[0;32m      4\u001b[0m                   ])\n\u001b[0;32m      6\u001b[0m display_latex_result(\u001b[38;5;124m'\u001b[39m\u001b[38;5;124m\\\u001b[39m\u001b[38;5;124mmrm\u001b[39m\u001b[38;5;132;01m{EUL}\u001b[39;00m\u001b[38;5;124m = \u001b[39m\u001b[38;5;130;01m\\\\\u001b[39;00m\u001b[38;5;124mbegin\u001b[39m\u001b[38;5;132;01m{pmatrix}\u001b[39;00m\u001b[38;5;130;01m\\\\\u001b[39;00m\u001b[38;5;124malpha\u001b[39m\u001b[38;5;130;01m\\\\\u001b[39;00m\u001b[38;5;130;01m\\\\\u001b[39;00m\u001b[38;5;124m \u001b[39m\u001b[38;5;130;01m\\\\\u001b[39;00m\u001b[38;5;124mbeta\u001b[39m\u001b[38;5;130;01m\\\\\u001b[39;00m\u001b[38;5;130;01m\\\\\u001b[39;00m\u001b[38;5;124m \u001b[39m\u001b[38;5;130;01m\\\\\u001b[39;00m\u001b[38;5;124mgamma\u001b[39m\u001b[38;5;130;01m\\\\\u001b[39;00m\u001b[38;5;124mend\u001b[39m\u001b[38;5;132;01m{pmatrix}\u001b[39;00m\u001b[38;5;124m'\u001b[39m, (rot2eul(Rkn) \u001b[38;5;241m*\u001b[39m rad2deg)\u001b[38;5;241m.\u001b[39mevalf())\n",
      "\u001b[1;31mNameError\u001b[0m: name 'Matrix' is not defined"
     ]
    }
   ],
   "source": [
    "Rkn = 1/2 * Matrix([[sqrt(3), -1,  0],\n",
    "                   [0,         0, -2],\n",
    "                   [1,   sqrt(3),  0]\n",
    "                  ])\n",
    "\n",
    "display_latex_result('\\mrm{EUL} = \\\\begin{pmatrix}\\\\alpha\\\\\\\\ \\\\beta\\\\\\\\ \\\\gamma\\\\end{pmatrix}', (rot2eul(Rkn) * rad2deg).evalf())"
   ]
  },
  {
   "cell_type": "markdown",
   "id": "ba6d4b45-1690-4d76-a063-f9ab870a4cc8",
   "metadata": {
    "tags": []
   },
   "source": [
    "## Aufgabe 4.6"
   ]
  },
  {
   "cell_type": "markdown",
   "id": "82a3489b-846a-4d0d-95e8-30876da84eb5",
   "metadata": {},
   "source": [
    "Berechnen Sie die Roll-Nick-Gier-Winkel des Koordinatensystem $K$ **nach** der Drehung des Körpers bezüglich des Koordinatensystems $B$."
   ]
  },
  {
   "cell_type": "markdown",
   "id": "73767686-ca68-4c4a-b1de-8d31f70e001b",
   "metadata": {
    "tags": []
   },
   "source": [
    "### Lösung:"
   ]
  },
  {
   "cell_type": "markdown",
   "id": "c7aa4ab8-a74a-4ee7-9663-ad27d3a1d718",
   "metadata": {},
   "source": [
    "<div class=\"alert alert-warning\" role=\"alert\">\n",
    "$\n",
    "\\begin{align*}\n",
    "\\alpha &= \\Atan\\left(0, ~\\frac{\\sqrt{3}}{2} \\right) = 0\\tcdegree \\\\\n",
    "\\sin\\alpha &= \\sin(0\\tcdegree) = 0 \\\\\n",
    "\\cos\\alpha &= \\cos(0\\tcdegree) = 1 \\\\\n",
    "\\beta &= \\Atan\\left(-\\frac{1}{2},~ \\frac{\\sqrt{3}}{2}\\right) \n",
    "= \\arctan\\left(-\\frac{1}{\\sqrt{3}}\\right)= -30\\tcdegree \\\\\n",
    "\\gamma &= \\Atan(1,~ 0) = \\frac{\\pi}{2} = 90\\tcdegree\t\n",
    "\\end{align*}\n",
    "$\n",
    "    \n",
    "Für die Roll-Nick-Gier-Winkel gilt $\\alpha = 0\\tcdegree$, $\\beta = -30\\tcdegree$ und $\\gamma = 90\\tcdegree$.\n",
    "</div>"
   ]
  },
  {
   "cell_type": "markdown",
   "id": "6bccfc2d-8375-4553-aec9-955e09d74692",
   "metadata": {
    "tags": []
   },
   "source": [
    "### Ergänzen Sie den nachstehenden Code um Ihre Rechnung zu überprüfen"
   ]
  },
  {
   "cell_type": "code",
   "execution_count": 7,
   "id": "e8b332bd-1869-412c-b626-03aac09f1802",
   "metadata": {},
   "outputs": [
    {
     "data": {
      "text/latex": [
       "$$\\mrm{RPY} = \\begin{pmatrix}\\alpha\\\\ \\beta\\\\ \\gamma\\end{pmatrix} = \\left(\\begin{matrix}0\\\\-30.0\\\\90.0\\end{matrix}\\right)$$"
      ],
      "text/plain": [
       "<IPython.core.display.Latex object>"
      ]
     },
     "metadata": {},
     "output_type": "display_data"
    }
   ],
   "source": [
    "display_latex_result('\\mrm{RPY} = \\\\begin{pmatrix}\\\\alpha\\\\\\\\ \\\\beta\\\\\\\\ \\\\gamma\\\\end{pmatrix}', (rot2rpy(Rkn) * rad2deg).evalf())"
   ]
  }
 ],
 "metadata": {
  "kernelspec": {
   "display_name": "Python 3 (ipykernel)",
   "language": "python",
   "name": "python3"
  },
  "language_info": {
   "codemirror_mode": {
    "name": "ipython",
    "version": 3
   },
   "file_extension": ".py",
   "mimetype": "text/x-python",
   "name": "python",
   "nbconvert_exporter": "python",
   "pygments_lexer": "ipython3",
   "version": "3.10.0"
  }
 },
 "nbformat": 4,
 "nbformat_minor": 5
}
