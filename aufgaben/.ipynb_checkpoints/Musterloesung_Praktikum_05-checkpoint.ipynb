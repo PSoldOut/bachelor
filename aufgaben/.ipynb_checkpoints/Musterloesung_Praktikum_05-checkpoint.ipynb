{
 "cells": [
  {
   "cell_type": "markdown",
   "id": "19e5b4f4",
   "metadata": {
    "tags": []
   },
   "source": [
    "# Musterlösung Praktikum 5"
   ]
  },
  {
   "cell_type": "markdown",
   "id": "87ecf0bf",
   "metadata": {},
   "source": [
    "Für dieses Praktikum wird das Modul sympy benötigt. Dieses muss vorher gegebenenfalls über das Terminal installiert werden.\n",
    "\n",
    "```\n",
    "pip install sympy\n",
    "```\n",
    "\n",
    "Anschließend kann das Modul importiert werden.\n",
    "\n",
    "Für die Darstellung wird zudem das Modul IPython.display verwendet."
   ]
  },
  {
   "cell_type": "code",
   "execution_count": 1,
   "id": "2bb99bca",
   "metadata": {},
   "outputs": [],
   "source": [
    "from sympy import *\n",
    "from IPython.display import display, Math, Latex\n",
    "from sympy.physics.mechanics import dynamicsymbols, init_vprinting\n",
    "init_vprinting(use_latex='mathjax')\n",
    "#init_printing(use_latex='mathjax')"
   ]
  },
  {
   "cell_type": "code",
   "execution_count": 2,
   "id": "3f55d5a5-56c6-4d2c-8cf5-2279e7262247",
   "metadata": {},
   "outputs": [],
   "source": [
    "# helper function for latex pretty printing\n",
    "def display_latex_result(a, b=None):\n",
    "  if b is None:\n",
    "    res = \"$${}$$\".format(a)\n",
    "  else:\n",
    "    res = \"$${} = {}$$\".format(a, latex(b, mat_delim='('))\n",
    "  display(Latex(res))"
   ]
  },
  {
   "cell_type": "markdown",
   "id": "6c78a811-a0a7-4c0e-bafc-6fcadfa4c025",
   "metadata": {},
   "source": [
    "$\\newcommand{\\mbf}{\\mathbf}$\n",
    "$\\newcommand{\\mrm}{\\mathrm}$\n",
    "$\\newcommand{\\tcdegree}{{°}}$\n",
    "$\\newcommand{\\unitms}{{\\mathrm{\\frac{m}{s}}}}$\n",
    "$\\newcommand{\\unitrads}{{\\mathrm{\\frac{rad}{s}}}}$\n",
    "\n",
    "Gegeben ist ein mobiler Roboter mit Differentialantrieb, der den im Weltkoordinatensystem abgebildeten Kurs von $A$ nach $C$ vorwärts abfährt. \n",
    "Der Kurs besteht aus einem Halbkreis zwischen den Punkten $A = (4, 9)$ und $B = (11, 2)$ und zwischen $B$ und $C = (18, 9)$ aus einer Geraden. Die Positionen der Punkte sind in $\\mathrm{m}$ angegeben.\n",
    "\n",
    "<figure>\n",
    "<center>\n",
    "<img width='800' src='https://fh-dortmund.sciebo.de/s/esxLNzGVvbZZEm5/download?path=%2F&files=diff_drive.png' />\n",
    "</figure>\n",
    "\n",
    "Der Roboter soll den gesamten Kurs mit einer konstanten Lineargeschwindigkeit von $\\dot{x}_\\mathrm{R} = 1\\unitms$ abfahren. Beschleunigungs- und Verzögerungsvorgänge sollen vernachlässigt werden. Der Roboter hat einen halben Radabstand von $b = 0,5\\mathrm{m}$ und Radradius von $r = 0,25\\mathrm{m}$.\n",
    "\n",
    "Die nachfolgende Animation visualisiert die Bewegung des Roboters beim Abfahren des Kurses\n",
    "\n",
    "<figure>\n",
    "<center>\n",
    "<img width='800' src='https://fh-dortmund.sciebo.de/s/esxLNzGVvbZZEm5/download?path=%2F&files=differential_drive_rob.gif' />\n",
    "</figure>"
   ]
  },
  {
   "cell_type": "markdown",
   "id": "094bf170-8ef6-4e04-949a-2e772c7d9051",
   "metadata": {
    "tags": []
   },
   "source": [
    "## Aufgabe 5.1"
   ]
  },
  {
   "cell_type": "markdown",
   "id": "0abbceb8-8848-40a2-aaa5-1707cd0414e8",
   "metadata": {
    "jp-MarkdownHeadingCollapsed": true,
    "tags": []
   },
   "source": [
    "Berechnen Sie die Länge der beiden Kursabschnitte und des gesamten Kurses. "
   ]
  },
  {
   "cell_type": "markdown",
   "id": "9a040286-9a19-488e-adf7-a5da02daf880",
   "metadata": {
    "tags": []
   },
   "source": [
    "### Lösung:"
   ]
  },
  {
   "cell_type": "markdown",
   "id": "00faad36-8b2c-4e54-8a2b-97df7a853084",
   "metadata": {
    "tags": []
   },
   "source": [
    "<div class=\"alert alert-warning\" role=\"alert\">\n",
    "\n",
    "$\n",
    "\\begin{align}\n",
    "& \\text{Durchmesser des Halbkreises:}\\\\[2mm]\n",
    "d_\\mrm{AB} &= | B - A |  \\\\\n",
    "  &= \\left|\\left(\\begin{array}{c} 11\\\\2 \\end{array} \\right) - \\left(\\begin{array}{c} 4\\\\9 \\end{array} \\right) \\right|  \\\\\n",
    " & = \\sqrt{7^2 + (-7)^2} \\\\\n",
    " & = \\sqrt{98} \\approx 9,90\\mathrm{m}  \\\\[2mm]\n",
    "\\end{align}\n",
    "$\n",
    "\n",
    "$\n",
    "\\begin{align}\n",
    "&\\text{Umfang des Halbkreises (Innenwinkel $\\alpha = 180°$):}\\\\[2mm]\n",
    "s_\\mrm{AB} & = r \\cdot 2 \\pi \\cdot \\frac{\\alpha}{360\\tcdegree} \\\\\n",
    " & = \\frac{1}{2} \\sqrt{98}\\mathrm{m} \\cdot 2 \\pi \\cdot \\frac{180\\tcdegree}{360\\tcdegree} \\\\\n",
    " & \\approx 15,55\\mathrm{m}   \\\\[0.5cm]\n",
    " &\\text{Länge der Strecke von B nach C}\\\\\n",
    " s_\\mrm{BC}  & = | C - B |  \\\\\n",
    " & = \\left|\\left(\\begin{array}{c} 18\\\\9 \\end{array} \\right) - \\left(\\begin{array}{c} 11\\\\2 \\end{array} \\right) \\right|  \\\\\n",
    " & = \\sqrt{7^2 + 7^2} \\\\\n",
    " & = \\sqrt{98} \\approx 9,90\\mathrm{m} \\\\[0.5cm]\n",
    "\\end{align}\n",
    "$\n",
    "\n",
    "$\n",
    "\\begin{align}\n",
    " s_\\mrm{ges}  & = s_\\mrm{AB} + s_\\mrm{BC} \\\\\n",
    " & = \\pi \\cdot \\frac{1}{2} \\sqrt{98}\\mathrm{m} + \\sqrt{98}\\mathrm{m} \\\\\n",
    "& \\approx 25,45\\mathrm{m}  \\\\\n",
    "\\end{align}\n",
    "$\n",
    "\n",
    "</div>"
   ]
  },
  {
   "cell_type": "markdown",
   "id": "d7f081c8-6f51-422b-a12e-85e4b73779d6",
   "metadata": {
    "tags": []
   },
   "source": [
    "### Ergänzen Sie den nachstehenden Code um Ihre Rechnung zu überprüfen"
   ]
  },
  {
   "cell_type": "code",
   "execution_count": 3,
   "id": "69b12932-947d-448d-9cf5-e57258347830",
   "metadata": {},
   "outputs": [
    {
     "data": {
      "text/latex": [
       "$$s_\\mathrm{AB} = 3.5 \\sqrt{2} \\pi$$"
      ],
      "text/plain": [
       "<IPython.core.display.Latex object>"
      ]
     },
     "metadata": {},
     "output_type": "display_data"
    },
    {
     "data": {
      "text/latex": [
       "$$s_\\mathrm{AB} = 15.5500902835543$$"
      ],
      "text/plain": [
       "<IPython.core.display.Latex object>"
      ]
     },
     "metadata": {},
     "output_type": "display_data"
    },
    {
     "data": {
      "text/latex": [
       "$$s_\\mathrm{BC} = 7 \\sqrt{2}$$"
      ],
      "text/plain": [
       "<IPython.core.display.Latex object>"
      ]
     },
     "metadata": {},
     "output_type": "display_data"
    },
    {
     "data": {
      "text/latex": [
       "$$s_\\mathrm{g} = 7 \\sqrt{2} + 3.5 \\sqrt{2} \\pi$$"
      ],
      "text/plain": [
       "<IPython.core.display.Latex object>"
      ]
     },
     "metadata": {},
     "output_type": "display_data"
    },
    {
     "data": {
      "text/latex": [
       "$$s_\\mathrm{g} = 25.4495852201659$$"
      ],
      "text/plain": [
       "<IPython.core.display.Latex object>"
      ]
     },
     "metadata": {},
     "output_type": "display_data"
    }
   ],
   "source": [
    "# Durchmesser des Halbkreises\n",
    "A = Matrix([4, 9])\n",
    "B = Matrix([11, 2])\n",
    "dAB = (B - A).norm()\n",
    "\n",
    "# Umfang des Halbkreis (Innenwinkel 180°)\n",
    "alpha = 180\n",
    "sAB = (dAB/2) * (2*pi) * (alpha/360)\n",
    "\n",
    "# Länge der Strecke von B nach C\n",
    "C = Matrix([18, 9])\n",
    "sBC = (C - B).norm()\n",
    "\n",
    "# Gesamtstrecke\n",
    "sg = sAB + sBC\n",
    "display_latex_result('s_\\mathrm{AB}', sAB)\n",
    "display_latex_result('s_\\mathrm{AB}', sAB.evalf())\n",
    "display_latex_result('s_\\mathrm{BC}', sBC)\n",
    "display_latex_result('s_\\mathrm{g}', sg)\n",
    "display_latex_result('s_\\mathrm{g}', sg.evalf())\n"
   ]
  },
  {
   "cell_type": "markdown",
   "id": "d4603723-ce62-4e05-9484-65bc41d3ef30",
   "metadata": {
    "tags": []
   },
   "source": [
    "## Aufgabe 5.2"
   ]
  },
  {
   "cell_type": "markdown",
   "id": "a9409cca-fcf2-4783-a9b4-e52c99a93649",
   "metadata": {
    "jp-MarkdownHeadingCollapsed": true,
    "tags": []
   },
   "source": [
    "Welche Zeit benötigt der Roboter für die beiden Kursabschnitte und den gesamten Kurs?\n",
    "(Beschleunigungs- und Verzögerungsvorgänge sollen vernachlässigt werden.) "
   ]
  },
  {
   "cell_type": "markdown",
   "id": "41d8716c-9592-4b41-a8b6-f52f87abbff8",
   "metadata": {
    "tags": []
   },
   "source": [
    "### Lösung:"
   ]
  },
  {
   "cell_type": "markdown",
   "id": "f86bce46-d8d0-4437-a5a7-0ae1a818a85f",
   "metadata": {},
   "source": [
    "<!--\n",
    "<div class=\"alert alert-warning\" role=\"alert\">\n",
    "-->\n",
    "<div class=\"alert alert-block alert-warning\">\n",
    "Der Roboter bewegt sich mit einer konstanten Geschwindigkeit von $v = \\dot{x}_\\mathrm{R} = 1\\unitms$ entlang des Kurses.\n",
    "\n",
    "$\n",
    "\\begin{align}\n",
    "t_\\mrm{AB} & =  \\frac{s_\\mrm{AB}}{v} = 15,55\\mathrm{s}\\\\[0.25cm]\n",
    "t_\\mrm{BC} & =  \\frac{s_\\mrm{BC}}{v} = 9,90\\mathrm{s}\\\\[0.25cm]\n",
    "t_\\mrm{ges}  & = t_\\mrm{AB} + t_\\mrm{BC} = 25,45\\mathrm{s}\n",
    "\\end{align}\n",
    "$\n",
    "</div>"
   ]
  },
  {
   "cell_type": "markdown",
   "id": "2b3e5f25-5911-4203-9c4b-e31fdc31e07f",
   "metadata": {
    "tags": []
   },
   "source": [
    "## Aufgabe 5.3"
   ]
  },
  {
   "cell_type": "markdown",
   "id": "e1de2ce8-3ea1-4fc8-8633-c3bab5dc4646",
   "metadata": {
    "jp-MarkdownHeadingCollapsed": true,
    "tags": []
   },
   "source": [
    "Welche Geschwindigkeiten in Roboterkoordinaten \n",
    "($\\mbf{v}_\\mathrm{R} = \\dot{\\mbf{x}}_\\mathrm{R} = (\\dot{x}_\\mathrm{R}, \\dot{y}_\\mathrm{R}, \\dot{\\theta})^\\mathrm{T}$) \n",
    "ergeben sich für die beiden Abschnitte jeweils?"
   ]
  },
  {
   "cell_type": "markdown",
   "id": "cd32b8ac-a298-45ef-8fd2-e446d391000d",
   "metadata": {
    "tags": []
   },
   "source": [
    "### Lösung:"
   ]
  },
  {
   "cell_type": "markdown",
   "id": "b91f9644-0599-42dc-afda-e35ce158ca3c",
   "metadata": {},
   "source": [
    "<div class=\"alert alert-warning\" role=\"alert\">\n",
    "\n",
    "    \n",
    "Ein differetialgetriebener Roboter hat zwei Freiheitsgrade, es gilt stets $\\dot{y}_\\mathrm{R} = 0$.\n",
    "\n",
    "Für beide Kursabschnitte gilt $\\dot{x}_\\mathrm{R} = v = 1\\unitms$.\n",
    "Die Rotationsgeschwindigkeit ergibt sich bei konstanter Drehgeschindigkeit aus dem auf dem jeweiligen Kursabschnitt zurückgelegten Drehwinkel durch die dabei verwendete Zeit.\n",
    "\n",
    "Drehgeschwindigkeiten werden hier zur Verdeutlichung immer in der Einheit $\\unitrads$ angegeben. \n",
    "$\\mathrm{rad}$ ist eine Pseudoeinheit, die angibt, dass ein Winkel im Bogenmaß angebenen wird. Sie kann auch weggelassen werden.\n",
    "\n",
    "Halbkreis, Strecke AB:\n",
    "\n",
    "$\n",
    "\\dot{\\theta} = \\frac{\\pi\\cdot \\mathrm{rad}}{15,55\\mathrm{s}} = 0,20\\unitrads\n",
    "$\n",
    "\n",
    "$\n",
    "\\begin{pmatrix}\n",
    "\\dot{x}_\\mathrm{R}  \\\\\n",
    "\\dot{y}_\\mathrm{R} \\\\\n",
    "\\dot{\\theta}  \n",
    "\\end{pmatrix} \n",
    " = \n",
    "\\begin{pmatrix}\n",
    "1\\unitms \\\\\n",
    "0\\\\\n",
    "0,20\\unitrads\n",
    "\\end{pmatrix} \n",
    "$\n",
    "\n",
    "Gerade, Strecke BC:\n",
    "\n",
    "$\n",
    "\\dot{\\theta} = \\frac{0}{9,90\\mathrm{s}} = 0\n",
    "$\n",
    "\n",
    "$\n",
    "\\begin{pmatrix}\n",
    "\\dot{x}_\\mrm{R}  \\\\\n",
    "\\dot{y}_\\mathrm{R}\\\\\n",
    "\\dot{\\theta}  \n",
    "\\end{pmatrix} \n",
    " = \n",
    "\\begin{pmatrix}\n",
    "1\\unitms \\\\\n",
    "0\\\\\n",
    "0\n",
    "\\end{pmatrix} \n",
    "$\n",
    "\n",
    "</div>"
   ]
  },
  {
   "cell_type": "markdown",
   "id": "ba6d4b45-1690-4d76-a063-f9ab870a4cc8",
   "metadata": {
    "tags": []
   },
   "source": [
    "## Aufgabe 5.4"
   ]
  },
  {
   "cell_type": "markdown",
   "id": "82a3489b-846a-4d0d-95e8-30876da84eb5",
   "metadata": {},
   "source": [
    "Welche Radgeschwindigkeiten ($\\dot{\\mbf\\varphi} = (\\dot{\\varphi}_\\mrm{l}, \\dot{\\varphi}_\\mrm{r})^\\mathrm{T}$) ergeben sich für die beiden Kursabschnitte?"
   ]
  },
  {
   "cell_type": "markdown",
   "id": "73767686-ca68-4c4a-b1de-8d31f70e001b",
   "metadata": {
    "tags": []
   },
   "source": [
    "### Lösung:"
   ]
  },
  {
   "cell_type": "markdown",
   "id": "c7aa4ab8-a74a-4ee7-9663-ad27d3a1d718",
   "metadata": {},
   "source": [
    "<div class=\"alert alert-warning\" role=\"alert\">\n",
    "\n",
    "Für einen differentialgetriebenen Roboter gilt:\n",
    "\n",
    "$\n",
    "\\begin{pmatrix} \\dot{\\varphi}_r \\\\ \\dot{\\varphi}_l  \\end{pmatrix} =\n",
    "\\frac{1}{r}\n",
    "\\begin{pmatrix} \n",
    "1 & 0 & +b \\\\\n",
    "1 & 0 & -b \\\\\n",
    "\\end{pmatrix}\n",
    "\\begin{pmatrix} \\dot{x}_\\mrm{R} \\\\ \\dot{y}_\\mrm{R} \\\\ \\dot{\\theta} \\\\ \\end{pmatrix}\n",
    "$ \n",
    "\n",
    "Die Radgeschwindigkeiten werden hier zur Verdeutlichung in der Einheit $\\unitrads$ angegeben. \n",
    "Richtig ist auch die Einheit $\\frac{1}{s}$.\n",
    "\n",
    "Strecke AB:\n",
    "\n",
    "$\n",
    "\\begin{pmatrix} \\dot{\\varphi}_r \\\\ \\dot{\\varphi}_l  \\end{pmatrix} =\n",
    "\\frac{1}{0,25\\mathrm{m}}\n",
    "\\begin{pmatrix} \n",
    "1 & 0 & +0,5\\mathrm{m} \\\\\n",
    "1 & 0 & -0,5\\mathrm{m} \\\\\n",
    "\\end{pmatrix}\n",
    "\\begin{pmatrix} 1\\unitms \\\\ 0 \\\\ 0,2\\unitrads \\\\ \\end{pmatrix}\n",
    "=\n",
    "\\begin{pmatrix} 4,4\\unitrads \\\\ 3,6\\unitrads  \\end{pmatrix}\n",
    "$ \n",
    " \n",
    "Strecke BC:\n",
    "\n",
    "$\n",
    "\\begin{pmatrix} \\dot{\\varphi}_r \\\\ \\dot{\\varphi}_l  \\end{pmatrix} =\n",
    "\\frac{1}{0,25\\mathrm{m}}\n",
    "\\begin{pmatrix} \n",
    "1 & 0 & +0,5\\mathrm{m} \\\\\n",
    "1 & 0 & -0,5\\mathrm{m} \\\\\n",
    "\\end{pmatrix}\n",
    "\\begin{pmatrix} 1\\unitms \\\\ 0 \\\\ 0 \\\\ \\end{pmatrix}\n",
    "=\n",
    "\\begin{pmatrix} 4\\unitrads \\\\ 4\\unitrads  \\end{pmatrix}\n",
    "$ "
   ]
  },
  {
   "cell_type": "markdown",
   "id": "6bccfc2d-8375-4553-aec9-955e09d74692",
   "metadata": {
    "tags": []
   },
   "source": [
    "### Ergänzen Sie den nachstehenden Code um Ihre Rechnung zu überprüfen"
   ]
  },
  {
   "cell_type": "code",
   "execution_count": 4,
   "id": "e8b332bd-1869-412c-b626-03aac09f1802",
   "metadata": {},
   "outputs": [
    {
     "data": {
      "text/latex": [
       "$\\displaystyle \\left[\\begin{matrix}\\dot{\\varphi}_{r}\\\\\\dot{\\varphi}_{l}\\end{matrix}\\right]$"
      ],
      "text/plain": [
       "⎡varṗhiᵣ⎤\n",
       "⎢       ⎥\n",
       "⎣varṗhiₗ⎦"
      ]
     },
     "metadata": {},
     "output_type": "display_data"
    },
    {
     "data": {
      "text/latex": [
       "$$\\begin{pmatrix} \\dot{\\varphi}_r \\\\ \\dot{\\varphi}_l  \\end{pmatrix} = \\left(\\begin{matrix}\\frac{d}{d t} \\varphi_{r}{\\left(t \\right)}\\\\\\frac{d}{d t} \\varphi_{l}{\\left(t \\right)}\\end{matrix}\\right)$$"
      ],
      "text/plain": [
       "<IPython.core.display.Latex object>"
      ]
     },
     "metadata": {},
     "output_type": "display_data"
    },
    {
     "data": {
      "text/latex": [
       "$$\\mathbf{R} = \\left(\\begin{matrix}\\frac{1}{r} & 0 & \\frac{b}{r}\\\\\\frac{1}{r} & 0 & - \\frac{b}{r}\\end{matrix}\\right)$$"
      ],
      "text/plain": [
       "<IPython.core.display.Latex object>"
      ]
     },
     "metadata": {},
     "output_type": "display_data"
    },
    {
     "data": {
      "text/latex": [
       "$\\displaystyle \\left[\\begin{matrix}\\dot{x}_{R}\\\\\\dot{y}_{R}\\\\\\dot{\\theta}\\end{matrix}\\right]$"
      ],
      "text/plain": [
       "⎡x_̇R⎤\n",
       "⎢   ⎥\n",
       "⎢y_̇R⎥\n",
       "⎢   ⎥\n",
       "⎣ θ̇ ⎦"
      ]
     },
     "metadata": {},
     "output_type": "display_data"
    },
    {
     "data": {
      "text/latex": [
       "$$\\begin{pmatrix} \\dot{x}_\\mathrm{R} \\\\ \\dot{y}_\\mathrm{R} \\\\ \\dot{\\theta}  \\end{pmatrix} = \\left(\\begin{matrix}\\frac{d}{d t} x_{R}{\\left(t \\right)}\\\\\\frac{d}{d t} y_{R}{\\left(t \\right)}\\\\\\frac{d}{d t} \\theta{\\left(t \\right)}\\end{matrix}\\right)$$"
      ],
      "text/plain": [
       "<IPython.core.display.Latex object>"
      ]
     },
     "metadata": {},
     "output_type": "display_data"
    },
    {
     "data": {
      "text/latex": [
       "$\\displaystyle 0.202030508910442$"
      ],
      "text/plain": [
       "0.202030508910442"
      ]
     },
     "metadata": {},
     "output_type": "display_data"
    },
    {
     "data": {
      "text/latex": [
       "$$\\begin{pmatrix} \\dot{\\varphi}_r \\\\ \\dot{\\varphi}_l  \\end{pmatrix}_\\mathrm{AB} = \\left(\\begin{matrix}4.40406101782088\\\\3.59593898217912\\end{matrix}\\right)$$"
      ],
      "text/plain": [
       "<IPython.core.display.Latex object>"
      ]
     },
     "metadata": {},
     "output_type": "display_data"
    },
    {
     "data": {
      "text/latex": [
       "$$\\begin{pmatrix} \\dot{\\varphi}_r \\\\ \\dot{\\varphi}_l  \\end{pmatrix}_\\mathrm{BC} = \\left(\\begin{matrix}4.0\\\\4.0\\end{matrix}\\right)$$"
      ],
      "text/plain": [
       "<IPython.core.display.Latex object>"
      ]
     },
     "metadata": {},
     "output_type": "display_data"
    }
   ],
   "source": [
    "r, b, t = symbols('r b t')\n",
    "phi_l, phi_r, xR, yR, theta = dynamicsymbols('varphi_l varphi_r x_R, y_R, theta')\n",
    "dphi_l = phi_l.diff(t)\n",
    "dphi_r = phi_r.diff(t)\n",
    "\n",
    "dphi = Matrix([dphi_r, dphi_l])\n",
    "display(dphi)\n",
    "display_latex_result('\\\\begin{pmatrix} \\\\dot{\\\\varphi}_r \\\\\\\\ \\\\dot{\\\\varphi}_l  \\\\end{pmatrix}', dphi)\n",
    "\n",
    "J = 1/r * Matrix([[1, 0, b],[1, 0, -b]])\n",
    "#display(R)\n",
    "display_latex_result('\\mathbf{R}', J)\n",
    "\n",
    "dxR = xR.diff(t)\n",
    "dyR = yR.diff(t)\n",
    "dtheta = theta.diff(t)\n",
    "dx = Matrix([dxR, dyR, dtheta])\n",
    "display(dx)\n",
    "display_latex_result('\\\\begin{pmatrix} \\\\dot{x}_\\\\mathrm{R} \\\\\\\\ \\\\dot{y}_\\\\mathrm{R} \\\\\\\\ \\\\dot{\\\\theta}  \\\\end{pmatrix}', dx)\n",
    "\n",
    "dphi = J * dx\n",
    "\n",
    "dthetaAB = (pi / sAB).evalf()\n",
    "display(dthetaAB)\n",
    "\n",
    "# Strecke AB\n",
    "dphiAB = dphi.subs({b:0.5, r:0.25, dtheta:dthetaAB, dxR:1})\n",
    "display_latex_result('\\\\begin{pmatrix} \\\\dot{\\\\varphi}_r \\\\\\\\ \\\\dot{\\\\varphi}_l  \\\\end{pmatrix}_\\mathrm{AB}', dphiAB)\n",
    "\n",
    "# Strecke BC\n",
    "dphiBC = dphi.subs({b:0.5, r:0.25, dtheta:0, dxR:1})\n",
    "display_latex_result('\\\\begin{pmatrix} \\\\dot{\\\\varphi}_r \\\\\\\\ \\\\dot{\\\\varphi}_l  \\\\end{pmatrix}_\\mathrm{BC}', dphiBC)"
   ]
  },
  {
   "cell_type": "markdown",
   "id": "9e8a7a2d-2c5f-497f-a585-42705587de88",
   "metadata": {
    "tags": []
   },
   "source": [
    "## Aufgabe 5.5"
   ]
  },
  {
   "cell_type": "markdown",
   "id": "119a9a4a-3231-4754-aa66-85bcd33c86ae",
   "metadata": {},
   "source": [
    "Welche Geschwindigkeiten in Weltkoordinaten ($\\mbf{v}_\\mathrm{W} = \\dot{\\mbf{x}}_\\mathrm{W} = (\\dot{x}_\\mathrm{W}, \\dot{y}_\\mathrm{W}, \\dot{\\theta})^\\mathrm{T}$)  über der Zeit\n",
    "ergeben sich?"
   ]
  },
  {
   "cell_type": "markdown",
   "id": "73fccd5f-ced1-473e-b645-aaef353e7315",
   "metadata": {
    "tags": []
   },
   "source": [
    "### Lösung:"
   ]
  },
  {
   "cell_type": "markdown",
   "id": "bc04a79c-38ec-4527-baf7-fcf6633d9118",
   "metadata": {},
   "source": [
    "<div class=\"alert alert-warning\" role=\"alert\">\n",
    "\n",
    "Vorwärtskinematik (von Roboter- in Weltkoordinaten): \n",
    "\n",
    "$\n",
    "\\left( \\begin{array}{c}\n",
    "\\dot{x}_\\mrm{W} \\\\\n",
    "\\dot{y}_\\mrm{W} \\\\\n",
    "\\dot{\\theta}\n",
    "\\end{array} \\right)\n",
    "= \\left( \\begin{array}{ccc}\n",
    "\\cos \\theta & -\\sin \\theta \\ & 0 \\\\\n",
    "\\sin \\theta & \\cos \\theta & 0 \\\\\n",
    "0 & 0 & 1\n",
    "\\end{array} \\right)\n",
    "\\cdot \\left( \\begin{array}{c}\n",
    "\\dot{x}_\\mrm{R} \\\\\n",
    "\\dot{y}_\\mrm{R} \\\\\n",
    "\\dot{\\theta}\n",
    "\\end{array} \\right)\n",
    "$\n",
    "\n",
    "Gerade Strecke:\n",
    "\n",
    "Berechnung der Bewegungsrichtung $\\alpha$ im Weltkkordinatensystem\n",
    "\n",
    "$\n",
    "\\alpha = \\mathrm{atan2}(\\Delta x, \\Delta y) =  \\mathrm{atan2}(18 - 11, 9 -2) = \\mathrm{atan2}(7, 7) = \\frac{\\pi}{2} = 45°\n",
    "$\n",
    "\n",
    "Beim Differentialantrieb entspricht die Orientierung $\\theta = \\alpha$ bei Vorwärtsfahrt\n",
    "\n",
    "$\n",
    "\\left( \\begin{array}{c}\n",
    "\\dot{x}_\\mrm{W} \\\\\n",
    "\\dot{y}_\\mrm{W} \\\\\n",
    "\\dot{\\theta}\n",
    "\\end{array} \\right)\n",
    "\\, = \\, \n",
    "\\left( \\begin{array}{ccc}\n",
    "\\cos 45\\tcdegree & -\\sin 45\\tcdegree \\ & 0 \\\\\n",
    "\\sin 45\\tcdegree & \\cos 45\\tcdegree & 0 \\\\\n",
    "0 & 0 & 1\n",
    "\\end{array} \\right)\n",
    "\\cdot \\left( \\begin{array}{c}\n",
    "1\\unitms \\\\\n",
    "0\\unitms\\\\\n",
    "0\\unitrads\n",
    "\\end{array} \\right) \n",
    "= \\left( \\begin{array}{c}\n",
    "0,707\\unitms \\\\\n",
    "0,707\\unitms\\\\\n",
    "0\\unitrads\n",
    "\\end{array} \\right)\n",
    "$\n",
    "\n",
    "\n",
    "Halbkreis: \n",
    "\n",
    "Der Roboter ändert auf dem Halbkreis seine Orientierung kontinuierlich zwischen $\\theta_\\mrm{A}$ und $\\theta_\\mrm{B}$.\n",
    "Die Orientierung ist deshalb eine Funktion der Zeit:\n",
    "$\n",
    "\\theta(t) = \\theta_\\mrm{A} + \\dot{\\theta} \\cdot t = -\\frac{3\\, \\pi}{4} + 0,2\\unitrads\\cdot t\n",
    "$\n",
    "\n",
    "$\n",
    "\\left( \\begin{array}{c}\n",
    "\\dot{x}_\\mrm{W} \\\\\n",
    "\\dot{y}_\\mrm{W} \\\\\n",
    "\\dot{\\theta}\n",
    "\\end{array} \\right)\n",
    "\\, = \\, \n",
    "\\left( \\begin{array}{ccc}\n",
    "\\cos(\\theta(t)) & -\\sin(\\theta(t)) \\ & 0 \\\\\n",
    "\\sin(\\theta(t)) & \\cos(\\theta(t)) & 0 \\\\\n",
    "0 & 0 & 1\n",
    "\\end{array} \\right)\n",
    "\\cdot \\left( \\begin{array}{c}\n",
    "1\\unitms \\\\\n",
    "0\\unitms\\\\\n",
    "0,2\\unitrads\n",
    "\\end{array} \\right) \n",
    "= \\left( \\begin{array}{c}\n",
    "\\cos(\\theta(t)) \\cdot 1\\unitms \\\\\n",
    "\\sin(\\theta(t)) \\cdot 1\\unitms\\\\\n",
    "0,2\\unitrads\n",
    "\\end{array} \\right) \n",
    "$\n",
    "\n",
    "</div>"
   ]
  },
  {
   "cell_type": "markdown",
   "id": "1cbcb664-5f04-49b0-bb9d-d2a7a1cff103",
   "metadata": {},
   "source": [
    "### Ergänzen Sie den nachstehenden Code um Ihre Rechnung zu überprüfen"
   ]
  },
  {
   "cell_type": "code",
   "execution_count": 5,
   "id": "ef17097d-4ab4-4b2c-9968-ecfa5cd8b37a",
   "metadata": {},
   "outputs": [
    {
     "data": {
      "text/latex": [
       "$$\\mathbf{R}(\\theta(t)) = \\left(\\begin{matrix}\\cos{\\left(\\theta{\\left(t \\right)} \\right)} & - \\sin{\\left(\\theta{\\left(t \\right)} \\right)} & 0\\\\\\sin{\\left(\\theta{\\left(t \\right)} \\right)} & \\cos{\\left(\\theta{\\left(t \\right)} \\right)} & 0\\\\0 & 0 & 1\\end{matrix}\\right)$$"
      ],
      "text/plain": [
       "<IPython.core.display.Latex object>"
      ]
     },
     "metadata": {},
     "output_type": "display_data"
    },
    {
     "data": {
      "text/latex": [
       "$$\\alpha = \\frac{\\pi}{4}$$"
      ],
      "text/plain": [
       "<IPython.core.display.Latex object>"
      ]
     },
     "metadata": {},
     "output_type": "display_data"
    },
    {
     "data": {
      "text/latex": [
       "$$\\mathbf{R}\\left(\\frac{\\pi}{4}\\right) = \\left(\\begin{matrix}\\frac{\\sqrt{2}}{2} & - \\frac{\\sqrt{2}}{2} & 0\\\\\\frac{\\sqrt{2}}{2} & \\frac{\\sqrt{2}}{2} & 0\\\\0 & 0 & 1\\end{matrix}\\right)$$"
      ],
      "text/plain": [
       "<IPython.core.display.Latex object>"
      ]
     },
     "metadata": {},
     "output_type": "display_data"
    },
    {
     "data": {
      "text/latex": [
       "$$\\begin{pmatrix} \\dot{x}_\\mathrm{W} \\\\ \\dot{y}_\\mathrm{W} \\\\ \\dot{\\theta}  \\end{pmatrix}_\\mrm{BC} = \\left(\\begin{matrix}\\frac{\\sqrt{2}}{2}\\\\\\frac{\\sqrt{2}}{2}\\\\0\\end{matrix}\\right)$$"
      ],
      "text/plain": [
       "<IPython.core.display.Latex object>"
      ]
     },
     "metadata": {},
     "output_type": "display_data"
    },
    {
     "data": {
      "text/latex": [
       "$$\\begin{pmatrix} \\dot{x}_\\mathrm{W} \\\\ \\dot{y}_\\mathrm{W} \\\\ \\dot{\\theta}  \\end{pmatrix}_\\mrm{BC} = \\left(\\begin{matrix}0.707106781186548\\\\0.707106781186548\\\\0\\end{matrix}\\right)$$"
      ],
      "text/plain": [
       "<IPython.core.display.Latex object>"
      ]
     },
     "metadata": {},
     "output_type": "display_data"
    },
    {
     "data": {
      "text/latex": [
       "$$\\begin{pmatrix} \\dot{x}_\\mathrm{W} \\\\ \\dot{y}_\\mathrm{W} \\\\ \\dot{\\theta}  \\end{pmatrix}_\\mrm{AB} = \\left(\\begin{matrix}\\cos{\\left(\\theta{\\left(t \\right)} \\right)}\\\\\\sin{\\left(\\theta{\\left(t \\right)} \\right)}\\\\0.2\\end{matrix}\\right)$$"
      ],
      "text/plain": [
       "<IPython.core.display.Latex object>"
      ]
     },
     "metadata": {},
     "output_type": "display_data"
    }
   ],
   "source": [
    "# Rotationsmatrix zur Umrechnung der Geschwindigkeiten von Roboterkoordinaten in Weltkoordinaten\n",
    "def rotz(theta):\n",
    "  R = Matrix([[cos(theta), -sin(theta), 0],\n",
    "              [sin(theta),  cos(theta), 0],\n",
    "              [         0,           0, 1]])\n",
    "  return R\n",
    "\n",
    "theta = dynamicsymbols('theta')\n",
    "display_latex_result('\\mathbf{R}(\\\\theta(t))', rotz(theta))\n",
    "\n",
    "# Strecke B -> C\n",
    "# Berechnung des Bahnwinkels\n",
    "DeltaCB = C - B\n",
    "alpha = atan2(DeltaCB[1], DeltaCB[1])\n",
    "display_latex_result('\\\\alpha', alpha)\n",
    "\n",
    "# Geschwindigkeiten des Roboters im Roboterkoordinatensystem\n",
    "dxR = Matrix([1, 0, 0])\n",
    "\n",
    "display_latex_result('\\mathbf{R}\\\\left(\\\\frac{\\\\pi}{4}\\\\right)', rotz(alpha))\n",
    "\n",
    "dxW = rotz(alpha) * dxR\n",
    "display_latex_result('\\\\begin{pmatrix} \\\\dot{x}_\\\\mathrm{W} \\\\\\\\ \\\\dot{y}_\\\\mathrm{W} \\\\\\\\ \\\\dot{\\\\theta}  \\\\end{pmatrix}_\\mrm{BC}', dxW)\n",
    "display_latex_result('\\\\begin{pmatrix} \\\\dot{x}_\\\\mathrm{W} \\\\\\\\ \\\\dot{y}_\\\\mathrm{W} \\\\\\\\ \\\\dot{\\\\theta}  \\\\end{pmatrix}_\\mrm{BC}', dxW.evalf())\n",
    "\n",
    "# Strecke A -> B, Halbkreis\n",
    "dxR = Matrix([1, 0, 0.2])\n",
    "dxW = rotz(theta) * dxR\n",
    "display_latex_result('\\\\begin{pmatrix} \\\\dot{x}_\\\\mathrm{W} \\\\\\\\ \\\\dot{y}_\\\\mathrm{W} \\\\\\\\ \\\\dot{\\\\theta}  \\\\end{pmatrix}_\\mrm{AB}', dxW)"
   ]
  },
  {
   "cell_type": "markdown",
   "id": "ba9d5002-2046-4870-a771-f0607f5e8727",
   "metadata": {},
   "source": [
    "## Animation des Roboters"
   ]
  },
  {
   "cell_type": "markdown",
   "id": "82f2c932-a073-4084-953e-63fdce5e4c77",
   "metadata": {},
   "source": [
    "Für die Animation des mobilen Roboters sind mehrere Pakete (matplotlib, ipympl, ipyfilechoose) erforderich, die in der requirements.txt angegeben sind:\n",
    "\n",
    "```\n",
    "pip install -r requirements.txt\n",
    "```"
   ]
  },
  {
   "cell_type": "code",
   "execution_count": 6,
   "id": "a56b3038-0bdc-41e1-a105-34b101d8fa75",
   "metadata": {},
   "outputs": [
    {
     "data": {
      "application/vnd.jupyter.widget-view+json": {
       "model_id": "0870f49bd50847e0896943bfd6e3dc63",
       "version_major": 2,
       "version_minor": 0
      },
      "image/png": "[encoded data removed]",
      "text/html": [
       "\n",
       "            <div style=\"display: inline-block;\">\n",
       "                <div class=\"jupyter-widgets widget-label\" style=\"text-align: center;\">\n",
       "                    Figure\n",
       "                </div>\n",
       "                <img src='data:image/png;base64,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' width=1000.0/>\n",
       "            </div>\n",
       "        "
      ],
      "text/plain": [
       "Canvas(toolbar=Toolbar(toolitems=[('Home', 'Reset original view', 'home', 'home'), ('Back', 'Back to previous …"
      ]
     },
     "metadata": {},
     "output_type": "display_data"
    }
   ],
   "source": [
    "%matplotlib widget\n",
    "from mobile_robot_differential import *\n",
    "\n",
    "fig = plt.figure(figsize=(10, 14))\n",
    "\n",
    "points = [[4.0, 9.0], [11.0, 2.0], [18.0, 9.0]]\n",
    "\n",
    "anim = differential_drive_rob_animation(fig, points, delta_v=1, delta_theta=0.2, r_val=0.25, b_val=0.5, rob=True, wheels=True)\n",
    "#anim.save(\"differential_drive_rob_wheel_vel.gif\")"
   ]
  }
 ],
 "metadata": {
  "kernelspec": {
   "display_name": "Python 3 (ipykernel)",
   "language": "python",
   "name": "python3"
  },
  "language_info": {
   "codemirror_mode": {
    "name": "ipython",
    "version": 3
   },
   "file_extension": ".py",
   "mimetype": "text/x-python",
   "name": "python",
   "nbconvert_exporter": "python",
   "pygments_lexer": "ipython3",
   "version": "3.8.10"
  }
 },
 "nbformat": 4,
 "nbformat_minor": 5
}
