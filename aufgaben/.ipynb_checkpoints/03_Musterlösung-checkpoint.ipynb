{
 "cells": [
  {
   "cell_type": "markdown",
   "id": "19e5b4f4",
   "metadata": {
    "tags": []
   },
   "source": [
    "# Musterlösung Praktikum 3"
   ]
  },
  {
   "cell_type": "markdown",
   "id": "87ecf0bf",
   "metadata": {},
   "source": [
    "Für dieses Praktikum wird das Modul sympy benötigt. Dieses muss vorher gegebenenfalls über das Terminal installiert werden.\n",
    "\n",
    "```\n",
    "pip install sympy\n",
    "```\n",
    "\n",
    "Anschließend kann das Modul importiert werden.\n",
    "\n",
    "Für die Darstellung wird zudem das Modul IPython.display verwendet."
   ]
  },
  {
   "cell_type": "code",
   "execution_count": 1,
   "id": "2bb99bca",
   "metadata": {},
   "outputs": [],
   "source": [
    "from sympy import *\n",
    "from IPython.display import display, Math, Latex\n",
    "init_printing(use_latex='mathjax')"
   ]
  },
  {
   "cell_type": "code",
   "execution_count": 2,
   "id": "3f55d5a5-56c6-4d2c-8cf5-2279e7262247",
   "metadata": {},
   "outputs": [],
   "source": [
    "# helper function for latex pretty printing\n",
    "def display_latex_result(a, b=None):\n",
    "  if b is None:\n",
    "    res = \"$${}$$\".format(a)\n",
    "  else:\n",
    "    res = \"$${} = {}$$\".format(a, latex(b, mat_delim='('))\n",
    "  display(Latex(res))"
   ]
  },
  {
   "cell_type": "markdown",
   "id": "6c78a811-a0a7-4c0e-bafc-6fcadfa4c025",
   "metadata": {},
   "source": [
    "$\\newcommand{\\mbf}{\\mathbf}$\n",
    "$\\newcommand{\\mrm}{\\mathrm}$\n",
    "$\\newcommand{\\tcdegree}{{°}}$\n",
    "\n",
    "Gegeben ist ein quaderförmiger Köorper mit den Kantenläangen $l_x=4$, $l_y=6$ und $l_z=3$. Eine Quaderecke befindet sich, wie in der nachfolgenden Abbildung darstellt, im Ursprung eines ortsfesten Koordinatensystems $B$.  In der dem Ursprung gegenüberliegenden Quaderecke K ist ein körperfestes Koordinatensystem $K$ angebracht.\n",
    "\n",
    "<figure>\n",
    "<center>\n",
    "<img width='500' src='https://fh-dortmund.sciebo.de/s/esxLNzGVvbZZEm5/download?path=%2F&files=quader.png' />\n",
    "</figure>\n",
    "\n",
    "Der Körper wird nun zunächst um den Winkel $\\varphi_x=-30\\tcdegree$ um die x-Achse, dann um den Winkel $\\varphi_z=90\\tcdegree$ um die z-Achse und schließlich um den Winkel $\\varphi_y=-90\\tcdegree$ um die y-Achse des ortsfesten Koordinatensystems $B$ gedreht."
   ]
  },
  {
   "cell_type": "markdown",
   "id": "094bf170-8ef6-4e04-949a-2e772c7d9051",
   "metadata": {
    "tags": []
   },
   "source": [
    "## Aufgabe 3.1"
   ]
  },
  {
   "cell_type": "markdown",
   "id": "0abbceb8-8848-40a2-aaa5-1707cd0414e8",
   "metadata": {
    "jp-MarkdownHeadingCollapsed": true,
    "tags": []
   },
   "source": [
    "Stellen Sie die Rotationsmatritzen $\\mbf{R}_x := \\mbf{R}(x, -30\\tcdegree)$, $\\mbf{R}_y := \\mbf{R}(y, -90\\tcdegree)$ und $\\mbf{R}_z := \\mbf{R}(z, 90\\tcdegree)$ auf."
   ]
  },
  {
   "cell_type": "markdown",
   "id": "9a040286-9a19-488e-adf7-a5da02daf880",
   "metadata": {
    "tags": []
   },
   "source": [
    "### Lösung:"
   ]
  },
  {
   "cell_type": "markdown",
   "id": "00faad36-8b2c-4e54-8a2b-97df7a853084",
   "metadata": {
    "tags": []
   },
   "source": [
    "<div class=\"alert alert-warning\" role=\"alert\">\n",
    "\n",
    "Basisrotationen um die x-, y- und z-Achse:\n",
    "\n",
    "$\n",
    "\\mbf{R}_x := \\mbf{R}(x, \\alpha) \n",
    "= \\left(\\begin{array}{ccc} \n",
    "1 & 0 & 0 \\\\\n",
    "0 & \\cos(\\alpha) & -\\sin(\\alpha) \\\\\n",
    "0 & \\sin(\\alpha) & \\cos(\\alpha) \n",
    "\\end{array}\\right)\n",
    "$\n",
    "\n",
    "$\n",
    "\\mbf{R}_y := \\mbf{R}(y, \\beta) \n",
    "= \\left(\\begin{array}{ccc}\n",
    "\\cos(\\beta) & 0 & \\sin(\\beta) \\\\\n",
    "0 & 1 & 0 \\\\\n",
    "-\\sin(\\beta) & 0 & \\cos(\\beta) \n",
    "\\end{array}\\right) \n",
    "$\n",
    "\n",
    "$\n",
    "\\mbf{R}_z := \\mbf{R}(z, \\gamma) \n",
    "= \\left(\\begin{array}{ccc}\n",
    "\\cos(\\gamma) & -\\sin(\\gamma) & 0  \\\\\n",
    "\\sin(\\gamma) & \\cos(\\gamma) & 0 \\\\\n",
    "0 & 0 & 1 \n",
    "\\end{array}\\right) \n",
    "$\n",
    "\n",
    "Aufstellen der Rotationsmatrizen:\n",
    "\n",
    "$\n",
    "\\mbf{R}_x := \\mbf{R}(x, -30\\tcdegree) \n",
    "= \\left(\\begin{array}{ccc} \n",
    "1& 0 & 0 \\\\\n",
    "0 & \\cos (-30\\tcdegree) & -\\sin (-30\\tcdegree) \\\\\n",
    "0 & \\sin (- 30\\tcdegree) & \\cos (-30\\tcdegree) \n",
    "\\end{array}\\right)\n",
    " = \\frac{1}{2}\\left(\\begin{array}{ccc}\n",
    "2 & 0 & 0 \\\\\n",
    "0 & \\sqrt {3} & 1 \\\\\n",
    "0 &  -1 &  \\sqrt {3} \n",
    "\\end{array}\\right)\n",
    "$\n",
    "\n",
    "$\n",
    "\\mbf{R}_y := \\mbf{R}(y, -90\\tcdegree) \n",
    "= \\left(\\begin{array}{ccc}\n",
    "\\cos (-90\\tcdegree) & 0 & \\sin (-90\\tcdegree) \\\\\n",
    "0 & 1 & 0 \\\\\n",
    "-\\sin (- 90\\tcdegree) & 0 & \\cos (-90\\tcdegree) \n",
    "\\end{array}\\right ) \n",
    "= \\left(\\begin{array}{ccc}\n",
    "0 & 0 & -1 \\\\\n",
    "0 & 1 & 0 \\\\\n",
    "1 & 0 & 0\n",
    "\\end{array}\\right)\n",
    "$\n",
    "\n",
    "$\n",
    "\\mbf{R}_z := \\mbf{R}(z, 90\\tcdegree) \n",
    "= \\left(\\begin{array}{ccc}\n",
    "\\cos (90\\tcdegree) & -\\sin (90\\tcdegree) & 0  \\\\\n",
    "\\sin ( 90\\tcdegree) & \\cos (90\\tcdegree) & 0 \\\\\n",
    "0 & 0 & 1 \n",
    "\\end{array}\\right ) \n",
    "= \\left(\\begin{array}{ccc}\n",
    "0 & -1 & 0 \\\\\n",
    "1 & 0 & 0 \\\\\n",
    "0 & 0 & 1\n",
    "\\end{array}\\right)\n",
    "$\n",
    "</div>"
   ]
  },
  {
   "cell_type": "markdown",
   "id": "d7f081c8-6f51-422b-a12e-85e4b73779d6",
   "metadata": {
    "tags": []
   },
   "source": [
    "### Ergänzen Sie den nachstehenden Code um Ihre Rechnung zu überprüfen"
   ]
  },
  {
   "cell_type": "code",
   "execution_count": 3,
   "id": "69b12932-947d-448d-9cf5-e57258347830",
   "metadata": {},
   "outputs": [
    {
     "data": {
      "text/latex": [
       "$$\\mbf{R}_x = \\left(\\begin{matrix}1 & 0 & 0\\\\0 & \\cos{\\left(\\alpha \\right)} & - \\sin{\\left(\\alpha \\right)}\\\\0 & \\sin{\\left(\\alpha \\right)} & \\cos{\\left(\\alpha \\right)}\\end{matrix}\\right)$$"
      ],
      "text/plain": [
       "<IPython.core.display.Latex object>"
      ]
     },
     "metadata": {},
     "output_type": "display_data"
    },
    {
     "data": {
      "text/latex": [
       "$$\\mbf{R}_y = \\left(\\begin{matrix}\\cos{\\left(\\beta \\right)} & 0 & \\sin{\\left(\\beta \\right)}\\\\0 & 1 & 0\\\\- \\sin{\\left(\\beta \\right)} & 0 & \\cos{\\left(\\beta \\right)}\\end{matrix}\\right)$$"
      ],
      "text/plain": [
       "<IPython.core.display.Latex object>"
      ]
     },
     "metadata": {},
     "output_type": "display_data"
    },
    {
     "data": {
      "text/latex": [
       "$$\\mbf{R}_z = \\left(\\begin{matrix}\\cos{\\left(\\gamma \\right)} & - \\sin{\\left(\\gamma \\right)} & 0\\\\\\sin{\\left(\\gamma \\right)} & \\cos{\\left(\\gamma \\right)} & 0\\\\0 & 0 & 1\\end{matrix}\\right)$$"
      ],
      "text/plain": [
       "<IPython.core.display.Latex object>"
      ]
     },
     "metadata": {},
     "output_type": "display_data"
    }
   ],
   "source": [
    "def rotx(alpha):\n",
    "  Rx = Matrix([[ 1,          0,           0],\n",
    "               [ 0, cos(alpha), -sin(alpha)],\n",
    "               [ 0, sin(alpha),  cos(alpha)]\n",
    "              ])\n",
    "  return Rx\n",
    "\n",
    "def roty(beta):\n",
    "  Ry = Matrix([[ cos(beta),  0, sin(beta)],\n",
    "               [ 0,          1,         0],\n",
    "               [-sin(beta),  0, cos(beta)]\n",
    "              ])\n",
    "  return Ry\n",
    "\n",
    "def rotz(gamma):\n",
    "  Rz = Matrix([[ cos(gamma), -sin(gamma), 0],\n",
    "               [ sin(gamma),  cos(gamma), 0],\n",
    "               [ 0,          0,           1],\n",
    "              ])\n",
    "  return Rz\n",
    "\n",
    "alpha, beta, gamma = symbols('alpha beta gamma')\n",
    "display_latex_result('\\mbf{R}_x', rotx(alpha))\n",
    "display_latex_result('\\mbf{R}_y', roty(beta))\n",
    "display_latex_result('\\mbf{R}_z', rotz(gamma))"
   ]
  },
  {
   "cell_type": "code",
   "execution_count": 4,
   "id": "2f81ca08-0837-47fe-80d8-60c3d5c04403",
   "metadata": {},
   "outputs": [
    {
     "data": {
      "text/latex": [
       "$$\\mbf{R}(x, -30°) = \\left(\\begin{matrix}1 & 0 & 0\\\\0 & \\frac{\\sqrt{3}}{2} & \\frac{1}{2}\\\\0 & - \\frac{1}{2} & \\frac{\\sqrt{3}}{2}\\end{matrix}\\right)$$"
      ],
      "text/plain": [
       "<IPython.core.display.Latex object>"
      ]
     },
     "metadata": {},
     "output_type": "display_data"
    },
    {
     "data": {
      "text/latex": [
       "$$\\mbf{R}(y, -90°) = \\left(\\begin{matrix}0 & 0 & -1\\\\0 & 1 & 0\\\\1 & 0 & 0\\end{matrix}\\right)$$"
      ],
      "text/plain": [
       "<IPython.core.display.Latex object>"
      ]
     },
     "metadata": {},
     "output_type": "display_data"
    },
    {
     "data": {
      "text/latex": [
       "$$\\mbf{R}(z, 90°) = \\left(\\begin{matrix}0 & -1 & 0\\\\1 & 0 & 0\\\\0 & 0 & 1\\end{matrix}\\right)$$"
      ],
      "text/plain": [
       "<IPython.core.display.Latex object>"
      ]
     },
     "metadata": {},
     "output_type": "display_data"
    }
   ],
   "source": [
    "# conversion constant\n",
    "deg2rad = pi/180\n",
    "\n",
    "Rx = rotx(-30 * deg2rad)\n",
    "display_latex_result('\\mbf{R}(x, -30°)', Rx)\n",
    "\n",
    "Ry = roty(-90 * deg2rad)\n",
    "display_latex_result('\\mbf{R}(y, -90°)', Ry)\n",
    "\n",
    "Rz = rotz(90 * deg2rad)\n",
    "display_latex_result('\\mbf{R}(z, 90°)', Rz)"
   ]
  },
  {
   "cell_type": "markdown",
   "id": "d4603723-ce62-4e05-9484-65bc41d3ef30",
   "metadata": {
    "tags": []
   },
   "source": [
    "## Aufgabe 3.2"
   ]
  },
  {
   "cell_type": "markdown",
   "id": "a9409cca-fcf2-4783-a9b4-e52c99a93649",
   "metadata": {
    "jp-MarkdownHeadingCollapsed": true,
    "tags": []
   },
   "source": [
    "Stellen Sie Gesamtrotationsmatrix $\\mbf{R}_G = \\mbf{R}_y \\mbf{R}_z \\mbf{R}_x$ auf."
   ]
  },
  {
   "cell_type": "markdown",
   "id": "41d8716c-9592-4b41-a8b6-f52f87abbff8",
   "metadata": {
    "tags": []
   },
   "source": [
    "### Lösung:"
   ]
  },
  {
   "cell_type": "markdown",
   "id": "f86bce46-d8d0-4437-a5a7-0ae1a818a85f",
   "metadata": {},
   "source": [
    "<!--\n",
    "<div class=\"alert alert-warning\" role=\"alert\">\n",
    "-->\n",
    "<div class=\"alert alert-block alert-warning\">\n",
    "$\n",
    "\\mbf{R}_G = \\mbf{R}_y \\mbf{R}_z \\mbf{R}_x \n",
    "= \\left(\\begin{array}{ccc}\n",
    "0 & 0 & -1 \\\\\n",
    "0 & 1 & 0 \\\\\n",
    "1 & 0 & 0\n",
    "\\end{array}\\right)\n",
    "\\cdot \\left(\\begin{array}{ccc}\n",
    "0 & -1 & 0 \\\\\n",
    "1 & 0 & 0 \\\\\n",
    "0 & 0 & 1\n",
    "\\end{array}\\right)\n",
    "\\cdot \\frac{1}{2}\\left(\\begin{array}{ccc}\n",
    "2 & 0 & 0 \\\\\n",
    "0 & \\sqrt {3} & 1 \\\\\n",
    "0 &  -1 &  \\sqrt {3} \n",
    "\\end{array}\\right)\n",
    "= \\frac{1}{2}\n",
    "\\left(\\begin{array}{rrr}\n",
    "0 &  1 &  -\\sqrt{3} \\\\\n",
    "2 & 0 & 0 \\\\\n",
    "0 & -\\sqrt{3} & -1\n",
    "\\end{array}\\right )\n",
    "$\n",
    "</div>"
   ]
  },
  {
   "cell_type": "markdown",
   "id": "3ff65a51-a489-46e5-aeb9-8595f00b9e35",
   "metadata": {
    "tags": []
   },
   "source": [
    "### Ergänzen Sie den nachstehenden Code um Ihre Rechnung zu überprüfen"
   ]
  },
  {
   "cell_type": "code",
   "execution_count": 5,
   "id": "6344f71e-27fa-49c1-9700-23c2738f1ed1",
   "metadata": {},
   "outputs": [
    {
     "data": {
      "text/latex": [
       "$$\\mbf{R}_G = \\left(\\begin{matrix}0 & \\frac{1}{2} & - \\frac{\\sqrt{3}}{2}\\\\1 & 0 & 0\\\\0 & - \\frac{\\sqrt{3}}{2} & - \\frac{1}{2}\\end{matrix}\\right)$$"
      ],
      "text/plain": [
       "<IPython.core.display.Latex object>"
      ]
     },
     "metadata": {},
     "output_type": "display_data"
    }
   ],
   "source": [
    "Rg = Ry * Rz * Rx\n",
    "display_latex_result('\\mbf{R}_G', Rg)"
   ]
  },
  {
   "cell_type": "markdown",
   "id": "2b3e5f25-5911-4203-9c4b-e31fdc31e07f",
   "metadata": {
    "tags": []
   },
   "source": [
    "## Aufgabe 3.3"
   ]
  },
  {
   "cell_type": "markdown",
   "id": "e1de2ce8-3ea1-4fc8-8633-c3bab5dc4646",
   "metadata": {
    "jp-MarkdownHeadingCollapsed": true,
    "tags": []
   },
   "source": [
    "Welche Positionen nehmen nach der Drehung des Körpers die Körperecken K, L, M und N in Bezug auf das Koordinatensystem $B$ ein?"
   ]
  },
  {
   "cell_type": "markdown",
   "id": "cd32b8ac-a298-45ef-8fd2-e446d391000d",
   "metadata": {
    "tags": []
   },
   "source": [
    "### Lösung:"
   ]
  },
  {
   "cell_type": "markdown",
   "id": "b91f9644-0599-42dc-afda-e35ce158ca3c",
   "metadata": {},
   "source": [
    "<div class=\"alert alert-warning\" role=\"alert\">\n",
    "Die Positionen der 4 Ecken vor der Drehung des Körpers: \n",
    "\n",
    "$\n",
    "\\mbf{p}_{Kv} =  \n",
    "\\left(\\begin{array}{c}\n",
    "4 \\\\ 6 \\\\ 3 \n",
    "\\end{array}\\right)\n",
    "\\hspace{1.5cm}\n",
    "\\mbf{p}_{Lv} \\,=\\, \n",
    "\\left(\\begin{array}{c}\n",
    "4 \\\\ 6 \\\\ 0 \n",
    "\\end{array}\\right)\n",
    "\\hspace{1.5cm}\n",
    "\\mbf{p}_{Mv} \\,=\\,\n",
    "\\left(\\begin{array}{c}\n",
    "0 \\\\ 6 \\\\ 0 \n",
    "\\end{array}\\right)\n",
    "\\hspace{1.5cm}\n",
    "\\mbf{p}_{Nv} \\,=\\, \n",
    "\\left(\\begin{array}{c}\n",
    "0 \\\\ 6 \\\\ 3 \n",
    "\\end{array}\\right)\n",
    "$\n",
    "\n",
    "Die Positionen nach der Drehung der Körpers werden wie folgt berechnet: \n",
    "\n",
    "$\n",
    "\\mbf{p}_{in} = \\mbf{R}_G \\cdot \\mbf{p}_{iv} \\hspace{2cm}  i \\in \\{ K, L, M, N \\}\n",
    "$\n",
    "\n",
    "Somit ergeben sich die nachstehenden Positionen: \n",
    "\n",
    "$\n",
    "\\mbf{p}_{Kn} \n",
    "= \\frac{1}{2}\n",
    "\\left(\\begin{array}{ccc}\n",
    "0 &  1 &  -\\sqrt{3} \\\\\n",
    "2 & 0 & 0 \\\\\n",
    "0 & -\\sqrt{3} & -1\n",
    "\\end{array}\\right )\n",
    "\\cdot \n",
    "\\left(\\begin{array}{c}\n",
    "4 \\\\ 6 \\\\ 3 \n",
    "\\end{array}\\right)\n",
    "\\approx\n",
    "\\left(\\begin{array}{r}\n",
    "0,4 \\\\ 4 \\\\ -6,7\n",
    "\\end{array}\\right)\n",
    "$\n",
    "\n",
    "$\n",
    "\\mbf{p}_{Ln} \n",
    "= \\frac{1}{2}\n",
    "\\left(\\begin{array}{ccc}\n",
    "0 &  1 &  -\\sqrt{3} \\\\\n",
    "2 & 0 & 0 \\\\\n",
    "0 & -\\sqrt{3} & -1\n",
    "\\end{array}\\right )\n",
    "\\cdot \n",
    "\\left(\\begin{array}{c}\n",
    "4 \\\\ 6 \\\\ 0 \n",
    "\\end{array}\\right)\n",
    "\\approx\n",
    "\\left(\\begin{array}{r}\n",
    "3 \\\\ 4 \\\\ -5,2\n",
    "\\end{array}\\right)\n",
    "$\n",
    "\n",
    "$\n",
    "\\mbf{p}_{Mn} \n",
    "= \\frac{1}{2}\n",
    "\\left(\\begin{array}{ccc}\n",
    "0 &  1 &  -\\sqrt{3} \\\\\n",
    "2 & 0 & 0 \\\\\n",
    "0 & -\\sqrt{3} & -1\n",
    "\\end{array}\\right )\n",
    "\\cdot \n",
    "\\left(\\begin{array}{c}\n",
    "0 \\\\ 6 \\\\ 0 \n",
    "\\end{array}\\right)\n",
    "\\approx\n",
    "\\left(\\begin{array}{r}\n",
    "3 \\\\ 0 \\\\ -5,2\n",
    "\\end{array}\\right)\n",
    "$\n",
    "\n",
    "$\n",
    "\\mbf{p}_{Nn} \n",
    "= \\frac{1}{2}\n",
    "\\left(\\begin{array}{ccc}\n",
    "0 &  1 &  -\\sqrt{3} \\\\\n",
    "2 & 0 & 0 \\\\\n",
    "0 & -\\sqrt{3} & -1\n",
    "\\end{array}\\right )\n",
    "\\cdot \n",
    "\\left(\\begin{array}{c}\n",
    "0 \\\\ 6 \\\\ 3 \n",
    "\\end{array}\\right)\n",
    "\\approx\n",
    "\\left(\\begin{array}{r}\n",
    "0,4 \\\\ 0 \\\\  -6,7\n",
    "\\end{array}\\right)\n",
    "$\n",
    "</div>"
   ]
  },
  {
   "cell_type": "markdown",
   "id": "535e4d6d-5fee-4a52-8614-0b8f68c4c6d9",
   "metadata": {
    "tags": []
   },
   "source": [
    "### Ergänzen Sie den nachstehenden Code um Ihre Rechnung zu überprüfen"
   ]
  },
  {
   "cell_type": "code",
   "execution_count": 6,
   "id": "74f100d1-bf82-4210-b11b-94b52bc7323e",
   "metadata": {},
   "outputs": [
    {
     "data": {
      "text/latex": [
       "$$\\mbf{P}_{Kn} = \\left(\\begin{matrix}3 - \\frac{3 \\sqrt{3}}{2}\\\\4\\\\- 3 \\sqrt{3} - \\frac{3}{2}\\end{matrix}\\right)$$"
      ],
      "text/plain": [
       "<IPython.core.display.Latex object>"
      ]
     },
     "metadata": {},
     "output_type": "display_data"
    },
    {
     "data": {
      "text/latex": [
       "$$\\mbf{P}_{Kn} = \\left(\\begin{matrix}0.401923788646684\\\\4.0\\\\-6.69615242270663\\end{matrix}\\right)$$"
      ],
      "text/plain": [
       "<IPython.core.display.Latex object>"
      ]
     },
     "metadata": {},
     "output_type": "display_data"
    },
    {
     "data": {
      "text/latex": [
       "$$\\mbf{P}_{Ln} = \\left(\\begin{matrix}3\\\\4\\\\- 3 \\sqrt{3}\\end{matrix}\\right)$$"
      ],
      "text/plain": [
       "<IPython.core.display.Latex object>"
      ]
     },
     "metadata": {},
     "output_type": "display_data"
    },
    {
     "data": {
      "text/latex": [
       "$$\\mbf{P}_{Ln} = \\left(\\begin{matrix}3.0\\\\4.0\\\\-5.19615242270663\\end{matrix}\\right)$$"
      ],
      "text/plain": [
       "<IPython.core.display.Latex object>"
      ]
     },
     "metadata": {},
     "output_type": "display_data"
    },
    {
     "data": {
      "text/latex": [
       "$$\\mbf{P}_{Mn} = \\left(\\begin{matrix}3\\\\0\\\\- 3 \\sqrt{3}\\end{matrix}\\right)$$"
      ],
      "text/plain": [
       "<IPython.core.display.Latex object>"
      ]
     },
     "metadata": {},
     "output_type": "display_data"
    },
    {
     "data": {
      "text/latex": [
       "$$\\mbf{P}_{Mn} = \\left(\\begin{matrix}3.0\\\\0\\\\-5.19615242270663\\end{matrix}\\right)$$"
      ],
      "text/plain": [
       "<IPython.core.display.Latex object>"
      ]
     },
     "metadata": {},
     "output_type": "display_data"
    },
    {
     "data": {
      "text/latex": [
       "$$\\mbf{P}_{Nn} = \\left(\\begin{matrix}3 - \\frac{3 \\sqrt{3}}{2}\\\\0\\\\- 3 \\sqrt{3} - \\frac{3}{2}\\end{matrix}\\right)$$"
      ],
      "text/plain": [
       "<IPython.core.display.Latex object>"
      ]
     },
     "metadata": {},
     "output_type": "display_data"
    },
    {
     "data": {
      "text/latex": [
       "$$\\mbf{P}_{Nn} = \\left(\\begin{matrix}0.401923788646684\\\\0\\\\-6.69615242270663\\end{matrix}\\right)$$"
      ],
      "text/plain": [
       "<IPython.core.display.Latex object>"
      ]
     },
     "metadata": {},
     "output_type": "display_data"
    }
   ],
   "source": [
    "PKv = Matrix([4, 6, 3])\n",
    "PLv = Matrix([4, 6, 0])\n",
    "PMv = Matrix([0, 6, 0])\n",
    "PNv = Matrix([0, 6, 3])\n",
    "\n",
    "display_latex_result('\\mbf{P}_{Kn}', Rg * PKv)\n",
    "display_latex_result('\\mbf{P}_{Kn}', (Rg * PKv).evalf())\n",
    "\n",
    "display_latex_result('\\mbf{P}_{Ln}', Rg * PLv)\n",
    "display_latex_result('\\mbf{P}_{Ln}', (Rg * PLv).evalf())\n",
    "\n",
    "display_latex_result('\\mbf{P}_{Mn}', Rg * PMv)\n",
    "display_latex_result('\\mbf{P}_{Mn}', (Rg * PMv).evalf())\n",
    "\n",
    "display_latex_result('\\mbf{P}_{Nn}', Rg * PNv)\n",
    "display_latex_result('\\mbf{P}_{Nn}', (Rg * PNv).evalf())"
   ]
  },
  {
   "cell_type": "markdown",
   "id": "ba6d4b45-1690-4d76-a063-f9ab870a4cc8",
   "metadata": {
    "tags": []
   },
   "source": [
    "## Aufgabe 3.4"
   ]
  },
  {
   "cell_type": "markdown",
   "id": "82a3489b-846a-4d0d-95e8-30876da84eb5",
   "metadata": {},
   "source": [
    "Welche Orientierung ausgedrückt als Rotationsmatrix hat das Koordinatensystem $K$ **vor** der Drehung des Körpers bezüglich des Koordinatensystems $B$?"
   ]
  },
  {
   "cell_type": "markdown",
   "id": "73767686-ca68-4c4a-b1de-8d31f70e001b",
   "metadata": {
    "tags": []
   },
   "source": [
    "### Lösung:"
   ]
  },
  {
   "cell_type": "markdown",
   "id": "c7aa4ab8-a74a-4ee7-9663-ad27d3a1d718",
   "metadata": {},
   "source": [
    "<div class=\"alert alert-warning\" role=\"alert\">\n",
    "Orientierungsmatrizen, dargestellt über die Einheitsvektoren $\\mbf{e}_{xK}$, $\\mbf{e}_{yK}$ und $\\mbf{e}_{zK}$:\n",
    "\n",
    "$\n",
    "{}^B\\mbf{e}_{xK} \n",
    "= \\left( \\begin{array}{c}\n",
    "u_x \\\\ u_y \\\\ u_z\n",
    "\\end{array} \\right) \n",
    "= u_x {}^B\\mbf{e}_{xB} \n",
    "+ u_y {}^B\\mbf{e}_{yB} \n",
    "+ u_z {}^B\\mbf{e}_{zB}\n",
    "$\n",
    "\n",
    "$\n",
    "{}^B\\mbf{e}_{yK} \n",
    "= \\left( \\begin{array}{c}\n",
    "v_x \\\\ v_y \\\\ v_z\n",
    "\\end{array} \\right) \n",
    "= v_x {}^B\\mbf{e}_{xB} \n",
    "+ v_y {}^B\\mbf{e}_{yB} \n",
    "+ v_z {}^B\\mbf{e}_{zB}\n",
    "$\n",
    "\n",
    "$\n",
    "{}^B\\mbf{e}_{zK} \n",
    "= \\left( \\begin{array}{c}\n",
    "w_x \\\\ w_y \\\\ w_z\n",
    "\\end{array} \\right)\n",
    "= w_x {}^B\\mbf{e}_{xB} \n",
    "+ w_y {}^B\\mbf{e}_{yB} \n",
    "+ w_z {}^B\\mbf{e}_{zB}\n",
    "$\n",
    "\n",
    "Der Einheitsvektor $\\mbf{e}_x$ des Körperkoordinatensystems zeigt in negative $z$-Richtung des Basis\\-koordinatensystems, der Einheitsvektor $\\mbf{e}_y$ in negative $y$-Richtung und der Einheitsvektor  $\\mbf{e}_z$ in negative $x$-Richtung. Entsprechend ergibt sich für die Orientierung des Koordinatensystems $K$ in Bezug auf das System $B$: \n",
    "\n",
    "$\n",
    "{}^B\\mbf{e}_{xK} \n",
    "= \\left( \\begin{array}{r}\n",
    "0 \\\\ 0 \\\\ -1\n",
    "\\end{array} \\right) \n",
    "= 0 \\cdot {}^B\\mbf{e}_{xB} \n",
    "+ 0 \\cdot {}^B\\mbf{e}_{yB} \n",
    "+ (-1) \\cdot {}^B\\mbf{e}_{zB}\n",
    "= -1 \\cdot {}^B\\mbf{e}_{zB} \n",
    "$\n",
    "\n",
    "$\n",
    "{}^B\\mbf{e}_{yK} \n",
    "= \\left( \\begin{array}{r}\n",
    "0 \\\\ -1 \\\\ 0\n",
    "\\end{array} \\right) \n",
    "= 0 \\cdot {}^B\\mbf{e}_{xB} \n",
    "+ (-1) \\cdot {}^B\\mbf{e}_{yB} \n",
    "+ 0 \\cdot {}^B\\mbf{e}_{zB}\n",
    "= -1 \\cdot {}^B\\mbf{e}_{yB} \n",
    "$\n",
    "\n",
    "$\n",
    "{}^B\\mbf{e}_{zK} \n",
    "= \\left(\\begin{array}{r}\n",
    "-1 \\\\ 0 \\\\ 0 \n",
    "\\end{array} \\right)\n",
    "= (-1) \\cdot {}^B\\!\\mbf{e}_{xB} \n",
    "+ 0 \\cdot {}^B\\mbf{e}_{yB} \n",
    "+ 0 \\cdot {}^B\\mbf{e}_{zB}\n",
    "= -1 \\cdot {}^B\\mbf{e}_{xB} \n",
    "$\n",
    "\n",
    "$\n",
    "{}^B\\mbf{R}_K \n",
    "= \\left(\\begin{array}{ccc}\n",
    "{}^B\\mbf{e}_{xK} & {}^B\\mbf{e}_{yK} & {}^B\\mbf{e}_{zK} \\\\\n",
    "\\end{array}\\right) \n",
    "= \\left(\\begin{array}{ccc}\n",
    "u_x &  v_x & w_x \\\\\n",
    "u_y &  v_y & w_y \\\\\n",
    "u_z &  v_z & w_z \\\\\n",
    "\\end{array}\\right)\n",
    "= \\left(\\begin{array}{rrr}\n",
    "0 & 0 & -1 \\\\\n",
    "0 & -1 & 0 \\\\\n",
    "-1 & 0 & 0\n",
    "\\end{array}\\right)\n",
    "$\n",
    " \n",
    "Alternativ lässt sich die Orientierung von $K$ in Bezug auf $B$ auch über zwei Rotationen darstellen:\n",
    "\n",
    "Rotation erst um die z-Achse und danach um die y-Achse von $B$:\n",
    "$\n",
    "{}^B\\mbf{R}_K \n",
    "= \\mbf{R}(y, -90\\tcdegree) \\cdot \\mbf{R}(z, 180\\tcdegree) \n",
    "= \\left(\\begin{array}{ccc}\n",
    "0 & 0 & -1 \\\\\n",
    "0 & 1 & 0 \\\\\n",
    "1 & 0 & 0\n",
    "\\end{array}\\right)\n",
    "\\cdot \\left(\\begin{array}{rrr}\n",
    "-1 & 0 & 0 \\\\\n",
    "0 & -1 & 0 \\\\\n",
    "0 & 0 & 1\n",
    "\\end{array}\\right)\n",
    "= \\left(\\begin{array}{rrr}\n",
    "0 & 0 & -1 \\\\\n",
    "0 & -1 & 0 \\\\\n",
    "-1 & 0 & 0\n",
    "\\end{array}\\right)\n",
    "$\n",
    "\n",
    "oder \n",
    "\n",
    "Rotation erst um die y-Achse und danach um die x-Achse von $B$:\n",
    "$\n",
    "{}^B\\mbf{R}_K \n",
    "= \\mbf{R}(x, 180\\tcdegree) \\cdot \\mbf{R}(y, -90\\tcdegree)\n",
    "= \\left(\\begin{array}{rrr}\n",
    "1 & 0 & 0 \\\\\n",
    "0 & -1 & 0 \\\\\n",
    "0 & 0 & -1\n",
    "\\end{array}\\right)\n",
    "\\cdot \\left(\\begin{array}{ccc}\n",
    "0 & 0 & -1 \\\\\n",
    "0 & 1 & 0 \\\\\n",
    "1 & 0 & 0\n",
    "\\end{array}\\right)\n",
    "= \\left(\\begin{array}{rrr}\n",
    "0 & 0 & -1 \\\\\n",
    "0 & -1 & 0 \\\\\n",
    "-1 & 0 & 0\n",
    "\\end{array}\\right)\n",
    "$"
   ]
  },
  {
   "cell_type": "markdown",
   "id": "6bccfc2d-8375-4553-aec9-955e09d74692",
   "metadata": {
    "tags": []
   },
   "source": [
    "### Ergänzen Sie den nachstehenden Code um Ihre Rechnung zu überprüfen"
   ]
  },
  {
   "cell_type": "code",
   "execution_count": 7,
   "id": "e8b332bd-1869-412c-b626-03aac09f1802",
   "metadata": {},
   "outputs": [
    {
     "data": {
      "text/latex": [
       "$${}^B\\mbf{R}_K = \\left(\\begin{matrix}0 & 0 & -1\\\\0 & -1 & 0\\\\-1 & 0 & 0\\end{matrix}\\right)$$"
      ],
      "text/plain": [
       "<IPython.core.display.Latex object>"
      ]
     },
     "metadata": {},
     "output_type": "display_data"
    },
    {
     "data": {
      "text/latex": [
       "$${}^B\\mbf{R}_K = \\left(\\begin{matrix}0 & 0 & -1\\\\0 & -1 & 0\\\\-1 & 0 & 0\\end{matrix}\\right)$$"
      ],
      "text/plain": [
       "<IPython.core.display.Latex object>"
      ]
     },
     "metadata": {},
     "output_type": "display_data"
    }
   ],
   "source": [
    "RK = roty(-90 * deg2rad) * rotz(180 * deg2rad)\n",
    "display_latex_result('{}^B\\mbf{R}_K', RK)\n",
    "\n",
    "RK = rotx(180 * deg2rad) * roty(-90 * deg2rad)\n",
    "display_latex_result('{}^B\\mbf{R}_K', RK)"
   ]
  },
  {
   "cell_type": "markdown",
   "id": "9e8a7a2d-2c5f-497f-a585-42705587de88",
   "metadata": {
    "tags": []
   },
   "source": [
    "## Aufgabe 3.5"
   ]
  },
  {
   "cell_type": "markdown",
   "id": "119a9a4a-3231-4754-aa66-85bcd33c86ae",
   "metadata": {},
   "source": [
    "Welche Orientierung ausgedrückt als Rotationsmatrix hat das Koordinatensystem $K$ **nach** der Drehung des Körpers bezüglich des Koordinatensystems $B$?"
   ]
  },
  {
   "cell_type": "markdown",
   "id": "73fccd5f-ced1-473e-b645-aaef353e7315",
   "metadata": {
    "tags": []
   },
   "source": [
    "### Lösung:"
   ]
  },
  {
   "cell_type": "markdown",
   "id": "bc04a79c-38ec-4527-baf7-fcf6633d9118",
   "metadata": {},
   "source": [
    "<div class=\"alert alert-warning\" role=\"alert\">\n",
    "$\n",
    "{}^B\\mbf{R}_{Kn}\n",
    "= \\mbf{R}_G \\cdot {}^B\\mbf{R}_K \n",
    "= \\frac{1}{2}\n",
    "\\left(\\begin{array}{rrr}\n",
    "0 &  1 &  -\\sqrt{3} \\\\\n",
    "2 & 0 & 0 \\\\\n",
    "0 & -\\sqrt{3} & -1\n",
    "\\end{array}\\right )\n",
    "\\cdot \\left(\\begin{array}{rrr}\n",
    "0 & 0 & -1 \\\\\n",
    "0 & -1 & 0 \\\\\n",
    "-1 & 0 & 0\n",
    "\\end{array}\\right)\n",
    "= \\frac{1}{2}\\left( \\begin{array}{rrr}\n",
    "\\sqrt{3} & -1 & 0 \\\\\n",
    "0 & 0 & -2 \\\\\n",
    "1 & \\sqrt{3} & 0\n",
    "\\end{array}\\right)\n",
    "$\n",
    "</div>"
   ]
  },
  {
   "cell_type": "markdown",
   "id": "6518208b-6c53-403a-aa8f-8e975c44164d",
   "metadata": {},
   "source": [
    "### Ergänzen Sie den nachstehenden Code um Ihre Rechnung zu überprüfen"
   ]
  },
  {
   "cell_type": "code",
   "execution_count": 8,
   "id": "43b14307-4514-49aa-8056-ae0c3745f72c",
   "metadata": {},
   "outputs": [
    {
     "data": {
      "text/latex": [
       "$${}^B\\mbf{R}_{Kn} = \\left(\\begin{matrix}\\frac{\\sqrt{3}}{2} & - \\frac{1}{2} & 0\\\\0 & 0 & -1\\\\\\frac{1}{2} & \\frac{\\sqrt{3}}{2} & 0\\end{matrix}\\right)$$"
      ],
      "text/plain": [
       "<IPython.core.display.Latex object>"
      ]
     },
     "metadata": {},
     "output_type": "display_data"
    }
   ],
   "source": [
    "RKn = Rg * RK\n",
    "display_latex_result('{}^B\\mbf{R}_{Kn}', RKn)"
   ]
  }
 ],
 "metadata": {
  "kernelspec": {
   "display_name": "Python 3 (ipykernel)",
   "language": "python",
   "name": "python3"
  },
  "language_info": {
   "codemirror_mode": {
    "name": "ipython",
    "version": 3
   },
   "file_extension": ".py",
   "mimetype": "text/x-python",
   "name": "python",
   "nbconvert_exporter": "python",
   "pygments_lexer": "ipython3",
   "version": "3.8.10"
  }
 },
 "nbformat": 4,
 "nbformat_minor": 5
}
