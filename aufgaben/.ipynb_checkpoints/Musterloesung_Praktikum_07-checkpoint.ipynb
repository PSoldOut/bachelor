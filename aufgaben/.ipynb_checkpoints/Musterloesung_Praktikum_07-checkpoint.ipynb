{
 "cells": [
  {
   "cell_type": "markdown",
   "id": "19e5b4f4",
   "metadata": {
    "tags": []
   },
   "source": [
    "# Musterlösung Praktikum 7"
   ]
  },
  {
   "cell_type": "markdown",
   "id": "87ecf0bf",
   "metadata": {},
   "source": [
    "Für dieses Praktikum wird das Modul sympy benötigt. Dieses muss vorher gegebenenfalls über das Terminal installiert werden.\n",
    "\n",
    "```\n",
    "pip install sympy\n",
    "```\n",
    "\n",
    "Anschließend kann das Modul importiert werden.\n",
    "\n",
    "Für die Darstellung wird zudem das Modul IPython.display verwendet."
   ]
  },
  {
   "cell_type": "code",
   "execution_count": 1,
   "id": "2bb99bca",
   "metadata": {},
   "outputs": [],
   "source": [
    "from sympy import *\n",
    "from IPython.display import display, Math, Latex\n",
    "from sympy.physics.mechanics import dynamicsymbols, init_vprinting\n",
    "init_vprinting(use_latex='mathjax')"
   ]
  },
  {
   "cell_type": "code",
   "execution_count": 2,
   "id": "3f55d5a5-56c6-4d2c-8cf5-2279e7262247",
   "metadata": {},
   "outputs": [],
   "source": [
    "# helper function for latex pretty printing\n",
    "def display_latex_result(a, b=None):\n",
    "  if b is None:\n",
    "    res = \"$${}$$\".format(a)\n",
    "  else:\n",
    "    res = \"$${} = {}$$\".format(a, latex(b, mat_delim='('))\n",
    "  display(Latex(res))"
   ]
  },
  {
   "cell_type": "markdown",
   "id": "6c78a811-a0a7-4c0e-bafc-6fcadfa4c025",
   "metadata": {},
   "source": [
    "$\\newcommand{\\mbf}{\\mathbf}$\n",
    "$\\newcommand{\\mrm}{\\mathrm}$\n",
    "$\\newcommand{\\tcdegree}{{°}}$\n",
    "$\\newcommand{\\unitms}{{\\mathrm{\\frac{m}{s}}}}$\n",
    "$\\newcommand{\\unitrads}{{\\mathrm{\\frac{rad}{s}}}}$\n",
    "\n",
    "Gegeben ist ein omnidirektionaler mobiler Roboter mit Mecanumantrieb. \n",
    "Die Mecanum-Räder sind am Roboter bezogen auf das Roboterkoordinatensystem nicht geneigt angebracht. Die Rollen innerhalb des Rades sind bezogen auf das Radkoordinatensystem um $45^\\circ=\\frac{\\pi}{4}\\mathrm{rad}$ geneigt angebracht ($\\pm 45^\\circ$ siehe Abbildung). Die Abbildung zeigt dabei die Rollen mit Bodenkontakt, die Orientierung der Rollen ist also schon gegenüber der Draufsicht auf das Rad gedreht.\n",
    "\n",
    "<table><tr>\n",
    "<td> \n",
    "\n",
    "$i$  | $\\delta_i$  | $\\alpha_i$                | $l_i$               |$\\gamma_i$\n",
    ":---:|:-----------:|:-------------------------:|:------------------:|:------------------:|\n",
    "1    | $0°$ | $-\\arctan(b/a)$           | $\\sqrt{a^2 + b^2}$ |$+\\frac{\\pi}{4}$|\n",
    "2    | $0°$ | $+\\arctan(b/a)$           | $\\sqrt{a^2 + b^2}$ |$-\\frac{\\pi}{4}$|\n",
    "3    | $0°$ | $+180^\\circ-\\arctan(b/a)$ | $\\sqrt{a^2 + b^2}$ |$+\\frac{\\pi}{4}$|\n",
    "4    | $0°$ | $-180^\\circ+\\arctan(b/a)$ | $\\sqrt{a^2 + b^2}$ |$-\\frac{\\pi}{4}$|\n",
    "\n",
    "</td>\n",
    "<td>\n",
    "<figure>\n",
    "<center>\n",
    "<img width='400' src='https://fh-dortmund.sciebo.de/s/esxLNzGVvbZZEm5/download?path=%2F&files=mecanum12.png'/>\n",
    "</figure>\n",
    "</td>\n",
    "<td>\n",
    "<figure>\n",
    "<center>\n",
    "<img width='300' src='https://fh-dortmund.sciebo.de/s/esxLNzGVvbZZEm5/download?path=%2F&files=mecanum_wheel_lsg.png'/>\n",
    "</figure>\n",
    "</td>\n",
    "</tr></table>    \n",
    "    \n"
   ]
  },
  {
   "cell_type": "markdown",
   "id": "094bf170-8ef6-4e04-949a-2e772c7d9051",
   "metadata": {
    "tags": []
   },
   "source": [
    "## Aufgabe 7.1"
   ]
  },
  {
   "cell_type": "markdown",
   "id": "0abbceb8-8848-40a2-aaa5-1707cd0414e8",
   "metadata": {
    "jp-MarkdownHeadingCollapsed": true,
    "tags": []
   },
   "source": [
    "Zeichnen Sie die Radkoordinatensysteme in die Grafik ein und tragen Sie zu jedem Radkoordinatensystem die dazugehörigen Parameter in die angegebene Tabelle ein."
   ]
  },
  {
   "cell_type": "markdown",
   "id": "d4603723-ce62-4e05-9484-65bc41d3ef30",
   "metadata": {
    "tags": []
   },
   "source": [
    "## Aufgabe 7.2"
   ]
  },
  {
   "cell_type": "markdown",
   "id": "a9409cca-fcf2-4783-a9b4-e52c99a93649",
   "metadata": {
    "jp-MarkdownHeadingCollapsed": true,
    "tags": []
   },
   "source": [
    "Geben Sie die kinematische Gleichung der Rückwärtstransformation an.\n",
    "\n",
    "\n",
    "Hinweis: Die Rückwärtstransformation berechnet die Radgeschwindigkeiten $\\dot{\\varphi}_1 \\dots \\dot{\\varphi}_4$ aus den\n",
    "vorgegebenen Geschwindigkeiten im Roboterkoordinatensystem $\\dot{x}_\\mathrm{R}, \\dot{y}_\\mathrm{R}, \\dot{\\theta}$.\n",
    "\n",
    "Die Kinematik des Rades $i$ kann durch die nachfolgende Gleichung beschrieben werden:\n",
    "\n",
    "$$\n",
    "\\dot{\\varphi}_i = \\frac{1}{r \\cdot \\cos(\\gamma_i)}\\begin{pmatrix} \\cos(\\delta_i + \\gamma_i), & \\sin(\\delta_i + \\gamma_i), & l_i  \\sin(\\delta_i + \\gamma_i- \\alpha_i)\\end{pmatrix}\n",
    "\\begin{pmatrix} \\dot{x}_\\mathrm{R} \\\\ \\dot{y}_\\mathrm{R} \\\\ \\dot{\\theta} \\\\ \\end{pmatrix}\n",
    "$$ \n",
    "\n",
    "Es gilt: $\\sin(x+y) = \\sin x \\cdot \\cos y + \\cos x \\cdot \\sin y$ ; $\\sin(x-y) = \\sin x \\cdot \\cos y - \\cos x \\cdot \\sin y$ ; $\\sin(\\arctan x) = \\frac{x}{\\sqrt{x^2 + 1}}$ ; $\\cos(\\arctan x) = \\frac{1}{\\sqrt{x^2 + 1}}$  ."
   ]
  },
  {
   "cell_type": "markdown",
   "id": "41d8716c-9592-4b41-a8b6-f52f87abbff8",
   "metadata": {
    "tags": []
   },
   "source": [
    "### Lösung:"
   ]
  },
  {
   "cell_type": "markdown",
   "id": "f86bce46-d8d0-4437-a5a7-0ae1a818a85f",
   "metadata": {},
   "source": [
    "<!--\n",
    "<div class=\"alert alert-warning\" role=\"alert\">\n",
    "-->\n",
    "<div class=\"alert alert-block alert-warning\">\n",
    "\n",
    "!!! Anpassen !!!\n",
    "\n",
    "Mit den Parametern des ersten Rades:\n",
    "\n",
    "$\n",
    "\\dot{\\varphi}_1 = \\frac{1}{r}\\begin{pmatrix} \\cos\\left(+45\\tcdegree\\right), & \\sin\\left(+45\\tcdegree\\right), & \\sqrt{a^2 + b^2} \\sin\\left(+45\\tcdegree + \\arctan\\left(\\frac{b}{a}\\right)\\right)\\end{pmatrix}\n",
    "\\begin{pmatrix} \\dot{x}_\\mrm{R} \\\\ \\dot{y}_\\mrm{R} \\\\ \\dot{\\theta} \\\\ \\end{pmatrix}\n",
    "$ \n",
    "\n",
    "$\n",
    "\\dot{\\varphi}_1 = \\frac{1}{r}\\begin{pmatrix} \\frac{1}{\\sqrt{2}}, & \\frac{1}{\\sqrt{2}}, & \\sqrt{a^2 + b^2}\\left(\\sin\\left(+45\\tcdegree\\right) \\cos\\left(\\arctan\\left(\\frac{b}{a}\\right)\\right) + \\cos\\left(+45\\tcdegree\\right) \\sin\\left(\\arctan\\left(\\frac{b}{a}\\right)\\right) \\right)\\end{pmatrix}\n",
    "\\begin{pmatrix} \\dot{x}_\\mrm{R} \\\\ \\dot{y}_\\mrm{R} \\\\ \\dot{\\theta} \\\\ \\end{pmatrix}\n",
    "$\n",
    "\n",
    "$\n",
    "\\dot{\\varphi}_1 = \\frac{1}{\\sqrt{2}\\; r}\\begin{pmatrix} 1, & 1, & \\sqrt{a^2 + b^2}\\left(\\frac{1}{\\sqrt{\\frac{b^2}{a^2} + 1}} + \\frac{\\frac{b}{a}}{\\sqrt{\\frac{b^2}{a^2} + 1}}\\right)\\end{pmatrix}\n",
    "\\begin{pmatrix} \\dot{x}_\\mrm{R} \\\\ \\dot{y}_\\mrm{R} \\\\ \\dot{\\theta} \\\\ \\end{pmatrix}\n",
    "$\n",
    "\n",
    "$\n",
    "\\dot{\\varphi}_1 = \\frac{1}{\\sqrt{2}\\; r}\\begin{pmatrix} 1, & 1, & (a + b)\\end{pmatrix}\n",
    "\\begin{pmatrix} \\dot{x}_\\mrm{R} \\\\ \\dot{y}_\\mrm{R} \\\\ \\dot{\\theta} \\\\ \\end{pmatrix}\n",
    "$ \n",
    "\n",
    "Durch Einsetzen der Parameter der anderen Räder erhält man:\n",
    "\n",
    "$\n",
    "\\frac{1}{\\sqrt{2}\\; r}\\begin{pmatrix} 1, & -1, & -(a + b)\\end{pmatrix}\n",
    "\\begin{pmatrix} \\dot{x}_\\mrm{R} \\\\ \\dot{y}_\\mrm{R} \\\\ \\dot{\\theta} \\\\ \\end{pmatrix}\n",
    " = \\dot{\\varphi}_2\n",
    "$\n",
    "\n",
    "$\n",
    "\\frac{1}{\\sqrt{2}\\; r}\\begin{pmatrix} 1, & 1, & -(a + b)\\end{pmatrix}\n",
    "\\begin{pmatrix} \\dot{x}_\\mrm{R} \\\\ \\dot{y}_\\mrm{R} \\\\ \\dot{\\theta} \\\\ \\end{pmatrix}\n",
    " = \\dot{\\varphi}_3\n",
    "$\n",
    "\n",
    "$\n",
    "\\frac{1}{\\sqrt{2}\\; r}\\begin{pmatrix} 1, & -1, & (a + b)\\end{pmatrix}\n",
    "\\begin{pmatrix} \\dot{x}_\\mrm{R} \\\\ \\dot{y}_\\mrm{R} \\\\ \\dot{\\theta} \\\\ \\end{pmatrix}\n",
    " = \\dot{\\varphi}_4\n",
    "$ \n",
    "\n",
    "\n",
    "Durch Zusammenführung der Gleichungen erhält man die Rücktransformation:\n",
    "\n",
    "$\n",
    "\\left(\\begin{array}{c}\n",
    "\\dot{\\varphi}_{1} \\\\\n",
    "\\dot{\\varphi}_{2} \\\\\n",
    "\\dot{\\varphi}_{3} \\\\\n",
    "\\dot{\\varphi}_{4} \n",
    "\\end{array} \\right) = \n",
    "\\frac{1}{\\sqrt{2}\\;r}\n",
    "\\left(\\begin{array}{rrr}\n",
    " 1 & 1 &  (a+b) \\\\\n",
    " 1 & -1 & -(a+b) \\\\\n",
    " 1 & 1 & -(a+b) \\\\\n",
    " 1 & -1 &  (a+b)\n",
    "\\end{array} \\right)\n",
    "\\left(\\begin{array}{c}\n",
    "\\dot{x}_\\mrm{R}  \\\\\n",
    "\\dot{y}_\\mrm{R}  \\\\\n",
    "\\dot{\\theta}  \n",
    "\\end{array} \\right) \n",
    "$\n",
    "\n",
    "</div>"
   ]
  },
  {
   "cell_type": "markdown",
   "id": "4a846008-8e8f-4fa2-b582-0176e56cc152",
   "metadata": {},
   "source": [
    "### Ergänzen Sie den nachstehenden Code um Ihre Rechnung zu überprüfen"
   ]
  },
  {
   "cell_type": "code",
   "execution_count": 3,
   "id": "ce59944d-70e9-47bd-be9b-f6a7307b16c3",
   "metadata": {},
   "outputs": [
    {
     "data": {
      "text/latex": [
       "$$\\mathbf{\\dot{\\varphi}_i} = \\left(\\begin{matrix}\\frac{\\cos{\\left(\\delta_{i} + \\gamma_{i} \\right)}}{r_{i} \\cos{\\left(\\gamma_{i} \\right)}} & \\frac{\\sin{\\left(\\delta_{i} + \\gamma_{i} \\right)}}{r_{i} \\cos{\\left(\\gamma_{i} \\right)}} & \\frac{l_{i} \\sin{\\left(- \\alpha_{i} + \\delta_{i} + \\gamma_{i} \\right)}}{r_{i} \\cos{\\left(\\gamma_{i} \\right)}}\\end{matrix}\\right)$$"
      ],
      "text/plain": [
       "<IPython.core.display.Latex object>"
      ]
     },
     "metadata": {},
     "output_type": "display_data"
    },
    {
     "data": {
      "text/latex": [
       "$$\\mathbf{J} = \\left(\\begin{matrix}\\frac{1}{r} & \\frac{1}{r} & \\frac{\\sqrt{2} \\sqrt{a^{2} + b^{2}} \\sin{\\left(\\operatorname{atan}{\\left(\\frac{a}{b} \\right)} + \\frac{\\pi}{4} \\right)}}{r}\\\\\\frac{1}{r} & - \\frac{1}{r} & - \\frac{\\sqrt{2} \\sqrt{a^{2} + b^{2}} \\sin{\\left(\\operatorname{atan}{\\left(\\frac{a}{b} \\right)} + \\frac{\\pi}{4} \\right)}}{r}\\\\\\frac{1}{r} & \\frac{1}{r} & - \\frac{\\sqrt{2} \\sqrt{a^{2} + b^{2}} \\sin{\\left(\\operatorname{atan}{\\left(\\frac{a}{b} \\right)} + \\frac{\\pi}{4} \\right)}}{r}\\\\\\frac{1}{r} & - \\frac{1}{r} & \\frac{\\sqrt{2} \\sqrt{a^{2} + b^{2}} \\sin{\\left(\\operatorname{atan}{\\left(\\frac{a}{b} \\right)} + \\frac{\\pi}{4} \\right)}}{r}\\end{matrix}\\right)$$"
      ],
      "text/plain": [
       "<IPython.core.display.Latex object>"
      ]
     },
     "metadata": {},
     "output_type": "display_data"
    },
    {
     "data": {
      "text/latex": [
       "$$\\mathbf{J} = \\left(\\begin{matrix}\\frac{1}{r} & \\frac{1}{r} & \\frac{a + b}{r}\\\\\\frac{1}{r} & - \\frac{1}{r} & - \\frac{a + b}{r}\\\\\\frac{1}{r} & \\frac{1}{r} & - \\frac{a + b}{r}\\\\\\frac{1}{r} & - \\frac{1}{r} & \\frac{a + b}{r}\\end{matrix}\\right)$$"
      ],
      "text/plain": [
       "<IPython.core.display.Latex object>"
      ]
     },
     "metadata": {},
     "output_type": "display_data"
    },
    {
     "data": {
      "text/latex": [
       "$$\\dot{\\mathbf{\\varphi}} = \\mathbf{J} \\cdot \\dot{\\mathbf{x}}_\\mathrm{R} = \\frac{1}{r} \\cdot \\left(\\begin{matrix}1 & 1 & a + b\\\\1 & -1 & - a - b\\\\1 & 1 & - a - b\\\\1 & -1 & a + b\\end{matrix}\\right) \\cdot \\dot{\\mathbf{x}}_\\mathrm{R}$$"
      ],
      "text/plain": [
       "<IPython.core.display.Latex object>"
      ]
     },
     "metadata": {},
     "output_type": "display_data"
    }
   ],
   "source": [
    "def wheel_vel(r, gamma, delta, alpha, l):\n",
    "      vel = Matrix([[cos(gamma + delta), sin(gamma + delta), l*sin(delta + gamma - alpha)]])\n",
    "      vel = 1/(r*cos(gamma))*vel\n",
    "      return vel;\n",
    "\n",
    "# Definition der benötigten Symbole\n",
    "r_i, alpha_i, gamma_i, delta_i, l_i = symbols('r_i alpha_i gamma_i delta_i l_i')\n",
    "# Ausgabe der allgemeinen Gleichung\n",
    "dot_phi = wheel_vel(r_i, gamma_i, delta_i, alpha_i, l_i)\n",
    "display_latex_result('\\\\mathbf{\\\\dot{\\\\varphi}_i}', dot_phi)\n",
    "\n",
    "# Einsetzen der Parameter des konkreten mobilen Roboters\n",
    "r, a, b, = symbols('r a b', positive=True)\n",
    "l = sqrt(a*a + b*b)\n",
    "J = Matrix([[wheel_vel(r, pi/4,   0, -atan(a/b),      l)],\n",
    "            [wheel_vel(r, -pi/4,  0,  atan(a/b),      l)],\n",
    "            [wheel_vel(r, pi/4,  0,  pi - atan(a/b), l)],\n",
    "            [wheel_vel(r, -pi/4,  0, -pi + atan(a/b), l)]])\n",
    "\n",
    "display_latex_result('\\\\mathbf{J}', J)\n",
    "\n",
    "# Vereinfachung der Matrix\n",
    "J = simplify(J)\n",
    "display_latex_result('\\\\mathbf{J}', J)\n",
    "\n",
    "# Herausziehen eines gemeinsamen Faktors\n",
    "fac = 1/r\n",
    "Jf = J/fac\n",
    "res = \"$${} = {} \\cdot {} \\cdot {}$$\".format('\\\\dot{\\mathbf{\\\\varphi}} = \\mathbf{J} \\cdot \\\\dot{\\mathbf{x}}_\\mathrm{R}', latex(fac), latex(Jf, mat_delim='('), '\\\\dot{\\mathbf{x}}_\\mathrm{R}')\n",
    "display(Latex(res))"
   ]
  },
  {
   "cell_type": "markdown",
   "id": "1d718ec1-f032-4cd0-84e5-1034e3fa23aa",
   "metadata": {},
   "source": [
    "## Zusatzaufgabe Vorwärtskinematik\n",
    "Geben Sie die kinematische Gleichung der Vorwärtskinematik an.\n",
    "Hinweis: Die Vorwärtskinematik erhalten Sie durch Bildung der Pseudoinversen (Moore-Penrose-Inverse) von $\\mathbf{J}$ (Methode der kleinsten Fehlerquadrate)"
   ]
  },
  {
   "cell_type": "code",
   "execution_count": 4,
   "id": "1f0a4918-0fc5-4f13-8137-86f3da2c677a",
   "metadata": {},
   "outputs": [
    {
     "data": {
      "text/latex": [
       "$$\\mathbf{J}^* = \\left(\\begin{matrix}\\frac{r}{4} & \\frac{r}{4} & \\frac{r}{4} & \\frac{r}{4}\\\\\\frac{r}{4} & - \\frac{r}{4} & \\frac{r}{4} & - \\frac{r}{4}\\\\\\frac{r}{4 \\left(a + b\\right)} & - \\frac{r}{4 \\left(a + b\\right)} & - \\frac{r}{4 \\left(a + b\\right)} & \\frac{r}{4 \\left(a + b\\right)}\\end{matrix}\\right)$$"
      ],
      "text/plain": [
       "<IPython.core.display.Latex object>"
      ]
     },
     "metadata": {},
     "output_type": "display_data"
    }
   ],
   "source": [
    "Jinv = ((J.T * J).inv(method=\"LU\")) * J.T # Moore-Penrose-Inverse\n",
    "display_latex_result('\\\\mathbf{J}^*', Jinv)"
   ]
  },
  {
   "cell_type": "markdown",
   "id": "55aaa1ac-f436-42a3-86d4-823e7f5e4e07",
   "metadata": {},
   "source": [
    "wir ziehen wieder einen Faktor heraus"
   ]
  },
  {
   "cell_type": "code",
   "execution_count": 5,
   "id": "24eaec5c-d982-4c44-ba04-127c44094eea",
   "metadata": {},
   "outputs": [
    {
     "data": {
      "text/latex": [
       "$$\\mathbf{J}^* = \\frac{r}{4} \\cdot \\left(\\begin{matrix}1 & 1 & 1 & 1\\\\1 & -1 & 1 & -1\\\\\\frac{1}{a + b} & - \\frac{1}{a + b} & - \\frac{1}{a + b} & \\frac{1}{a + b}\\end{matrix}\\right)$$"
      ],
      "text/plain": [
       "<IPython.core.display.Latex object>"
      ]
     },
     "metadata": {},
     "output_type": "display_data"
    }
   ],
   "source": [
    "fac = r/4\n",
    "Jfinv = Jinv/fac\n",
    "res = \"$${} = {} \\cdot {}$$\".format('\\mathbf{J}^*', latex(fac), latex(Jfinv, mat_delim='('))\n",
    "display(Latex(res))"
   ]
  },
  {
   "cell_type": "markdown",
   "id": "247324b6-42bf-4113-814a-7f5c253e5872",
   "metadata": {},
   "source": [
    "## Bahninterpolation"
   ]
  },
  {
   "cell_type": "markdown",
   "id": "0875652e-565f-43a5-a8ef-e64dd6a73bd6",
   "metadata": {},
   "source": [
    "Der Roboter soll den im Weltkoordinatensystem abgebildeten Kurs von A nach C abfahren. Der Kurs besteht aus jeweils zwei\n",
    "Geraden zwischen den Punkten $A$ = (1, 9), $B$ = (8, 2) und $C$ = (17, 2). Die Positionen der Punkte sind in m angegeben.\n",
    "\n",
    "Der Roboter soll im Punkt $A$ mit der Orientierung $\\theta = 180°$ starten, diese Orientierung bis $B$ beibehalten und in $C$  $\\theta = 0°$ erreichen. \n",
    "$\\theta$ soll linear zwischen den Punkten $B$ und $C$ interpoliert werden. Der Betrag der Lineargeschwindigkeit in Weltkoordinaten soll $|v_w|=\\sqrt{\\dot{x}_w^2+\\dot{y}_w^2}=1\\unitms$ betragen.\n",
    "\n",
    "Die Radabstände des Roboters betragen $a = 0,2$m und $b = 0,3$m, der Radradius beträgt $r = 0,1$m der Geschwindigkeit $\\dot{x}_\\mathrm{R} =$ 1m/s abfahren. Der Roboter hat die Abmessungen von\n",
    "$a =$ 0,2m und $b =$ 0,3m, sowie einen Radradius von $r =$ 0,1m.\n",
    "\n",
    "Die nachfolgende Animation visualisiert die Bewegung des Roboters beim Abfahren des Kurses\n",
    "\n",
    "<figure>\n",
    "<center>\n",
    "<img width='800' src='https://fh-dortmund.sciebo.de/s/esxLNzGVvbZZEm5/download?path=%2F&files=mecanum_rob.gif' />\n",
    "</figure>"
   ]
  },
  {
   "cell_type": "markdown",
   "id": "2b3e5f25-5911-4203-9c4b-e31fdc31e07f",
   "metadata": {
    "tags": []
   },
   "source": [
    "## Aufgabe 7.3"
   ]
  },
  {
   "cell_type": "markdown",
   "id": "e1de2ce8-3ea1-4fc8-8633-c3bab5dc4646",
   "metadata": {
    "jp-MarkdownHeadingCollapsed": true,
    "tags": []
   },
   "source": [
    "Welche Längen haben die einzelnen Kursabschnitte?"
   ]
  },
  {
   "cell_type": "markdown",
   "id": "cd32b8ac-a298-45ef-8fd2-e446d391000d",
   "metadata": {
    "tags": []
   },
   "source": [
    "### Lösung:"
   ]
  },
  {
   "cell_type": "markdown",
   "id": "b91f9644-0599-42dc-afda-e35ce158ca3c",
   "metadata": {},
   "source": [
    "<div class=\"alert alert-warning\" role=\"alert\">\n",
    "\n",
    "$\n",
    "s_\\mrm{AB} = \\sqrt{7^2 + 7^2}\\mathrm{m} = \\sqrt{2} \\cdot 7\\mathrm{m}= 9,9\\mathrm{m}\\, , \\quad s_\\mrm{BC} = 9\\mathrm{m}\n",
    "$\n",
    "\n",
    "wobei $s_\\mrm{AB}$ die Strecke zwischen den Punkten $A$ und $B$ ist und $s_\\mrm{BC}$ die Strecke zwischen den Punkten $B$ und $C$ ist. \n",
    "\n",
    "</div>"
   ]
  },
  {
   "cell_type": "markdown",
   "id": "ba6d4b45-1690-4d76-a063-f9ab870a4cc8",
   "metadata": {
    "tags": []
   },
   "source": [
    "## Aufgabe 7.4"
   ]
  },
  {
   "cell_type": "markdown",
   "id": "82a3489b-846a-4d0d-95e8-30876da84eb5",
   "metadata": {},
   "source": [
    "Welche Zeit benötigt der Roboter für die einzelnen Kursabschnitte, wenn er mit der vorgegebenen Lineargeschwindigkeit den Kurs abfährt? Beschleunigungsvorgänge sollen nicht berücksichtigt werden."
   ]
  },
  {
   "cell_type": "markdown",
   "id": "73767686-ca68-4c4a-b1de-8d31f70e001b",
   "metadata": {
    "tags": []
   },
   "source": [
    "### Lösung:"
   ]
  },
  {
   "cell_type": "markdown",
   "id": "c7aa4ab8-a74a-4ee7-9663-ad27d3a1d718",
   "metadata": {},
   "source": [
    "<div class=\"alert alert-warning\" role=\"alert\">\n",
    "$\n",
    "t_{AB}=\\frac{s_{AB}}{|v_w|}=\\sqrt{2}\\cdot7s=9,9s,\\:  t_{BC}=9s\n",
    "    $\n",
    "\n",
    "wobei $t_{AB}$ die Zeit ist, die der Roboter für die Strecke $s_{AB}$ benötigt. Es gilt $t_{AB} = t_{B} − t_{A}$.\n",
    "$t_{B}$ und $t_{A}$ sind die absoluten Zeitpunkte in den Punkten $A$ und $B$. Analog gilt das Gleiche für $t_{BC}$.\n",
    "</div>"
   ]
  },
  {
   "cell_type": "markdown",
   "id": "fb76f2d4-d12d-486f-a366-d4588270a257",
   "metadata": {
    "tags": []
   },
   "source": [
    "## Aufgabe 7.5"
   ]
  },
  {
   "cell_type": "markdown",
   "id": "cdf6fb10-210d-4d7f-8efe-63d8631a9100",
   "metadata": {},
   "source": [
    "Mit welchen Geschwindigkeiten in Weltkoordinaten $(\\dot{x}_W,\\dot{y}_W, \\dot{\\theta})$ bewegt sich der\n",
    "Roboter jeweils auf den beiden Kursabschnitten?"
   ]
  },
  {
   "cell_type": "markdown",
   "id": "272c9273-9d83-4eaf-b010-5f57c10ef6ab",
   "metadata": {
    "tags": []
   },
   "source": [
    "### Lösung:"
   ]
  },
  {
   "cell_type": "markdown",
   "id": "d2ca7edc-91a8-40ed-a55f-415a5dee67c7",
   "metadata": {},
   "source": [
    "<div class=\"alert alert-warning\" role=\"alert\">\n",
    "$\n",
    "\\newcommand{\\bm}[1]{{\\mathbf{#1}}}\n",
    "\\newcommand{\\e}{{\\,\\mathrm{e}\\,}}\n",
    "\\newcommand{\\dd}{{\\,\\mathrm{d}}}\n",
    "$\n",
    "\n",
    "Die translatorische Bewegung eines Körpers in der Ebene kann durch\n",
    "den Geschwindigkeitsvektor \n",
    "\n",
    "$\n",
    "\\mbf{v} = \\begin{pmatrix}v_x\\\\ v_y\\end{pmatrix} = \n",
    "\\begin{pmatrix}\\dd x(t) / \\dd t\\\\ \\dd y(t) / \\dd t\\end{pmatrix} =\n",
    "\\begin{pmatrix}\\dot{x}\\\\ \\dot{y}\\end{pmatrix}\n",
    "$\n",
    "\n",
    "in einem kartesischen Koordinatensystem dargestellt werden.\n",
    "\n",
    "Betrag $|\\bm{v}|$ und Bewegungsrichtung $\\alpha$ können daraus berechnet werden:\n",
    "\n",
    "$\n",
    "|\\bm{v}| = \\sqrt{\\dot{x}^2 + \\dot{y}^2} \\, , \\, \\alpha = \\mathrm{atan2}(\\dot{y}, \\dot{x})\n",
    "$\n",
    "\n",
    "Es gilt $\\dot{x} = |\\bm{v}| \\cdot \\cos\\alpha$ und $\\dot{y} = |\\bm{v}| \\cdot \\sin\\alpha$  \n",
    "\n",
    "Strecke AB\n",
    "\n",
    "Aus der Geraden zwischen den Punkten A und B ergibt sich eine Bewegungsrichtung \n",
    "\n",
    "$\n",
    "\\alpha = \\mathrm{atan2}(-7, 7) = -45^\\circ\n",
    "$\n",
    "\n",
    "Aus der Bewegungsrichtung $\\alpha = -45^\\circ$ und der gegebenen Bahngeschwindigkeit \n",
    "\n",
    "$|v_\\mathrm{W}| = 1\\unitms$ lässt sich die Geschwindigkeit in Weltkoordinaten bestimmen:\n",
    "\n",
    "$\n",
    "\\left(\\begin{array}{c}\n",
    "\\dot{x}_\\mrm{W}  \\\\\n",
    "\\dot{y}_\\mrm{W}  \\\\\n",
    "\\dot{\\theta}  \n",
    "\\end{array} \\right) \n",
    "= \n",
    "\\left(\\begin{array}{c}\n",
    "|\\bm{v}_\\mathrm{W}|  \\cdot \\cos(\\alpha) \\\\\n",
    "|\\bm{v}_\\mathrm{W}|  \\cdot \\sin(\\alpha) \\\\\n",
    "0\n",
    "\\end{array} \\right)\n",
    "= \n",
    "\\left(\\begin{array}{c}\n",
    "1\\unitms \\cdot \\cos(-45\\tcdegree) \\\\\n",
    "1\\unitms \\cdot \\sin(-45\\tcdegree) \\\\\n",
    "0\n",
    "\\end{array} \\right)\n",
    "= \n",
    "\\left(\\begin{array}{c}\n",
    "0,707\\unitms \\\\\n",
    "-0,707\\unitms\\\\\n",
    "0\n",
    "\\end{array} \\right)\n",
    "$\n",
    "\n",
    "Strecke BC\n",
    "\n",
    "Aus der Geraden zwischen den Punkten B und C ergibt sich eine Bewegungsrichtung \n",
    "\n",
    "$\n",
    "\\alpha = \\mathrm{atan2}(0, 9) = 0^\\circ\n",
    "$\n",
    "\n",
    "Aus der Bewegungsrichtung $\\alpha = 0^{\\circ}$ und der gegebenen Bahngeschwindigkeit \n",
    "$|v_\\mathrm{W}| = 1\\unitms$ lässt sich die Geschwindigkeit in Weltkoordinaten bestimmen.\n",
    "Die Rotationsgeschwindigkeit ergibt sich aus der Drehung zwischen B und C um den Winkel $\\Delta\\theta = 180^{\\tcdegree} = \\pi$\n",
    "während der Fahrtzeit $t_\\mrm{BC}$ von $9\\mathrm{s}$.\n",
    "\n",
    "$\n",
    "\\left(\\begin{array}{c}\n",
    "\\dot{x}_\\mrm{W}  \\\\\n",
    "\\dot{y}_\\mrm{W}  \\\\\n",
    "\\dot{\\theta}  \n",
    "\\end{array} \\right) \n",
    "= \n",
    "\\left(\\begin{array}{c}\n",
    "1\\unitms  \\\\\n",
    "0 \\\\\n",
    "\\frac{\\pi}{9}\\unitrads\n",
    "\\end{array} \\right)\n",
    "= \n",
    "\\left(\\begin{array}{c}\n",
    "1\\unitms \\\\\n",
    "0\\\\\n",
    "0,349\\unitrads\n",
    "\\end{array} \\right)\n",
    "$\n",
    "\n",
    "\n",
    "</div>"
   ]
  },
  {
   "cell_type": "markdown",
   "id": "5cafbfaf-1746-477b-b28d-7d1b4168480e",
   "metadata": {
    "tags": []
   },
   "source": [
    "## Aufgabe 7.5"
   ]
  },
  {
   "cell_type": "markdown",
   "id": "2646c436-41fb-4996-a779-7a43941ad461",
   "metadata": {},
   "source": [
    "Welche Geschwindigkeiten in Roboterkoordinaten $(\\dot{x}_\\mathrm{R}, \\dot{y}_\\mathrm{R}, \\dot{\\theta})$  über der Zeit ergeben sich\n",
    "daraus?"
   ]
  },
  {
   "cell_type": "markdown",
   "id": "838688ee-85be-482d-ad09-377e975e1a5f",
   "metadata": {
    "tags": []
   },
   "source": [
    "### Lösung:"
   ]
  },
  {
   "cell_type": "markdown",
   "id": "d1c32005-93aa-47a9-9329-19ac5ac7ed99",
   "metadata": {},
   "source": [
    "<div class=\"alert alert-warning\" role=\"alert\">\n",
    "\n",
    "$\n",
    "\\left(\\begin{array}{c}\n",
    "\\dot{x}_\\mrm{R}  \\\\\n",
    "\\dot{y}_\\mrm{R}  \\\\\n",
    "\\dot{\\theta}  \n",
    "\\end{array} \\right)\n",
    " =\n",
    "\\left(\\begin{array}{ccc}\n",
    "\\cos\\theta & \\sin\\theta & 0 \\\\\n",
    "-\\sin\\theta &  \\cos\\theta & 0 \\\\\n",
    "0 & 0 & 1\n",
    "\\end{array} \\right)\n",
    "\\left(\\begin{array}{c}\n",
    "\\dot{x}_\\mrm{W}  \\\\\n",
    "\\dot{y}_\\mrm{W}  \\\\\n",
    "\\dot{\\theta}  \n",
    "\\end{array} \\right)\n",
    "$\n",
    "\n",
    "Strecke AB, $\\theta_\\mrm{AB} = 180\\tcdegree$\n",
    "\n",
    "$\n",
    "\\left(\\begin{array}{c}\n",
    "\\dot{x}_\\mrm{R}  \\\\\n",
    "\\dot{y}_\\mrm{R}  \\\\\n",
    "\\dot{\\theta}  \n",
    "\\end{array} \\right)\n",
    " =\n",
    "\\left(\\begin{array}{ccc}\n",
    "-1 & 0 & 0 \\\\\n",
    "0 & -1 & 0 \\\\\n",
    "0 & 0 & 1 \\\\\n",
    "\\end{array} \\right)\n",
    "\\left(\\begin{array}{c}\n",
    "0,707\\unitms \\\\\n",
    "-0,707\\unitms\\\\\n",
    "0\n",
    "\\end{array} \\right)\n",
    "=\n",
    "\\left(\\begin{array}{c}\n",
    "-0,707\\unitms \\\\\n",
    "0,707\\unitms\\\\\n",
    "0\n",
    "\\end{array} \\right)\n",
    "$\n",
    "\n",
    "Strecke BC, $\\theta_\\mrm{BC}(t) = \\theta_\\mrm{B} + \\dot{\\theta} \\cdot (t - t_\\mrm{B}) = 180\\tcdegree + 0,349\\unitrads \\cdot (t - 9,9\\mathrm{s})$\n",
    "\n",
    "$\n",
    "\\left(\\begin{array}{c}\n",
    "\\dot{x}_\\mrm{R}  \\\\\n",
    "\\dot{y}_\\mrm{R}  \\\\\n",
    "\\dot{\\theta}  \n",
    "\\end{array} \\right)\n",
    " =\n",
    "\\left(\\begin{array}{ccc}\n",
    "\\cos\\left(\\theta_\\mrm{BC}(t)\\right) & \\sin\\left(\\theta_\\mrm{BC}(t)\\right) & 0 \\\\\n",
    "-\\sin\\left(\\theta_\\mrm{BC}(t)\\right) &  \\cos\\left(\\theta_\\mrm{BC}(t)\\right) & 0 \\\\\n",
    "0 & 0 & 1\n",
    "\\end{array} \\right)\n",
    "\\left(\\begin{array}{c}\n",
    "1\\unitms \\\\\n",
    "0\\\\\n",
    "0,349\\unitrads\n",
    "\\end{array} \\right)\n",
    "=\n",
    "\\left(\\begin{array}{c}\n",
    "1\\unitms \\cdot \\cos\\left(\\theta_\\mrm{BC}(t)\\right)\\\\\n",
    "-1\\unitms \\cdot \\sin\\left(\\theta_\\mrm{BC}(t)\\right)\\\\\n",
    "0,349\\unitrads \n",
    "\\end{array} \\right)\n",
    "$\n",
    "\n",
    "$t_\\mrm{B}$ ist die absolute Zeit im Punkt $B$. $(t - t_\\mrm{B})$ ist die relative Zeit auf der Strecke von $B$ nach $C$, welche im Punkt $B$ mit $0$ startet.\n",
    "Setzt man der Einfachheit halber im Startpunkt $A$, $t = t_\\mrm{A} = 0$, ergibt sich $t_\\mrm{B} = t_\\mrm{A} + t_\\mrm{AB} = 9,9\\mathrm{s}$.\n",
    "\n",
    "\n",
    "</div>"
   ]
  },
  {
   "cell_type": "markdown",
   "id": "3c72c614-e7be-4cc6-a004-272e7b8342be",
   "metadata": {
    "tags": []
   },
   "source": [
    "## Aufgabe 7.6"
   ]
  },
  {
   "cell_type": "markdown",
   "id": "7f34d3f1-64e8-4939-a806-f049286b6839",
   "metadata": {},
   "source": [
    "Welche Radgeschwindigkeiten $(\\dot{\\varphi}_1, \\dot{\\varphi}_2, \\dot{\\varphi}_3, \\dot{\\varphi}_4)$ \n",
    "als Funktion der Zeit muss der Roboter für die beiden Kursabschnitte einstellen?"
   ]
  },
  {
   "cell_type": "markdown",
   "id": "16324b92-774c-4c69-b72e-80bd8abf9fee",
   "metadata": {
    "tags": []
   },
   "source": [
    "### Lösung:"
   ]
  },
  {
   "cell_type": "markdown",
   "id": "add1b7d3-8c12-4a2d-9ba3-c4d0e5af77ad",
   "metadata": {},
   "source": [
    "<div class=\"alert alert-warning\" role=\"alert\">\n",
    "\n",
    "$\n",
    "\\left(\\begin{array}{c}\n",
    "\\dot{\\varphi}_{1} \\\\\n",
    "\\dot{\\varphi}_{2} \\\\\n",
    "\\dot{\\varphi}_{3} \\\\\n",
    "\\dot{\\varphi}_{4} \n",
    "\\end{array} \\right) = \n",
    "\\frac{1}{r}\n",
    "\\left(\\begin{array}{rrr}\n",
    " 1 & 1 &  (a+b) \\\\\n",
    " 1 & -1 & -(a+b) \\\\\n",
    " 1 & 1 & -(a+b) \\\\\n",
    " 1 & -1 &  (a+b)\n",
    "\\end{array} \\right)\n",
    "\\left(\\begin{array}{c}\n",
    "\\dot{x}_\\mrm{R}  \\\\\n",
    "\\dot{y}_\\mrm{R}  \\\\\n",
    "\\dot{\\theta}  \n",
    "\\end{array} \\right) \n",
    "= \n",
    "\\frac{10}{\\mathrm{m}}\n",
    "\\left(\\begin{array}{rrr}\n",
    " 1 & 1 &  0,5\\mathrm{m} \\\\\n",
    " 1 & -1 & -0,5\\mathrm{m} \\\\\n",
    " 1 & 1 & -0,5\\mathrm{m} \\\\\n",
    " 1 & -1 &  0,5\\mathrm{m}\n",
    "\\end{array} \\right)\n",
    "\\left(\\begin{array}{c}\n",
    "\\dot{x}_\\mrm{R}  \\\\\n",
    "\\dot{y}_\\mrm{R}  \\\\\n",
    "\\dot{\\theta}  \n",
    "\\end{array} \\right)\n",
    "$\n",
    "\n",
    "Strecke AB\n",
    "\n",
    "$\n",
    "\\left(\\begin{array}{c}\n",
    "\\dot{\\varphi}_{1} \\\\\n",
    "\\dot{\\varphi}_{2} \\\\\n",
    "\\dot{\\varphi}_{3} \\\\\n",
    "\\dot{\\varphi}_{4} \n",
    "\\end{array} \\right) = \n",
    "\\frac{10}{\\mathrm{m}}\n",
    "\\left(\\begin{array}{rrr}\n",
    " 1 & 1 &  0,5\\mathrm{m} \\\\\n",
    " 1 & -1 & -0,5\\mathrm{m} \\\\\n",
    " 1 & 1 & -0,5\\mathrm{m} \\\\\n",
    " 1 & -1 &  0,5\\mathrm{m}\n",
    "\\end{array} \\right)\n",
    "\\left(\\begin{array}{c}\n",
    "-0,707\\unitms \\\\\n",
    "0,707\\unitms\\\\\n",
    "0\\\\\n",
    "\\end{array} \\right)\n",
    "=\n",
    "\\left(\\begin{array}{c}\n",
    "0\\\\\n",
    "-14,14\\unitrads \\\\\n",
    "0\\\\\n",
    "-14,14\\unitrads\n",
    "\\end{array} \\right)\n",
    "$\n",
    "\n",
    "Strecke BC, $\\theta_\\mrm{BC}(t) = \\theta_\\mrm{B} + \\dot{\\theta} \\cdot (t - t_\\mrm{B}) = 180\\tcdegree + 0,349\\unitrads \\cdot (t - 9,9\\mathrm{s})$\n",
    "\n",
    "$\n",
    "\\left(\\begin{array}{c}\n",
    "\\dot{\\varphi}_{1} \\\\\n",
    "\\dot{\\varphi}_{2} \\\\\n",
    "\\dot{\\varphi}_{3} \\\\\n",
    "\\dot{\\varphi}_{4} \n",
    "\\end{array} \\right) = \n",
    "\\frac{10}{\\mathrm{m}}\n",
    "\\left(\\begin{array}{rrr}\n",
    " 1 & 1 &  0,5\\mathrm{m} \\\\\n",
    " 1 & -1 & -0,5\\mathrm{m} \\\\\n",
    " 1 & 1 & -0,5\\mathrm{m} \\\\\n",
    " 1 & -1 &  0,5\\mathrm{m}\n",
    "\\end{array} \\right)\n",
    "\\left(\\begin{array}{c}\n",
    "1\\unitms \\cdot \\cos\\left(\\theta_\\mrm{BC}(t)\\right)\\\\\n",
    "-1\\unitms \\cdot \\sin\\left(\\theta_\\mrm{BC}(t)\\right)\\\\\n",
    "0,349\\unitrads \n",
    "\\end{array} \\right)\n",
    "$\n",
    "\n",
    "\n",
    "</div>"
   ]
  },
  {
   "cell_type": "markdown",
   "id": "9e8a7a2d-2c5f-497f-a585-42705587de88",
   "metadata": {
    "tags": []
   },
   "source": [
    "## Animation des mobilen Roboters"
   ]
  },
  {
   "cell_type": "markdown",
   "id": "d14c826a-442d-4827-ba9a-aa2cde540c0e",
   "metadata": {},
   "source": [
    "Für die Animation des mobilen Roboters sind mehrere Pakete (matplotlib, ipympl, ipyfilechoose) erforderich, die in der requirements.txt angegeben sind:\n",
    "\n",
    "```\n",
    "pip install -r requirements.txt\n",
    "```"
   ]
  },
  {
   "cell_type": "code",
   "execution_count": 7,
   "id": "ef17097d-4ab4-4b2c-9968-ecfa5cd8b37a",
   "metadata": {},
   "outputs": [
    {
     "data": {
      "application/vnd.jupyter.widget-view+json": {
       "model_id": "2eb7febca85d4490b24273dfd01a43b5",
       "version_major": 2,
       "version_minor": 0
      },
      "image/png": "[encoded data removed]",
      "text/html": [
       "\n",
       "            <div style=\"display: inline-block;\">\n",
       "                <div class=\"jupyter-widgets widget-label\" style=\"text-align: center;\">\n",
       "                    Figure\n",
       "                </div>\n",
       "                <img src='data:image/png;base64,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' width=1000.0/>\n",
       "            </div>\n",
       "        "
      ],
      "text/plain": [
       "Canvas(toolbar=Toolbar(toolitems=[('Home', 'Reset original view', 'home', 'home'), ('Back', 'Back to previous …"
      ]
     },
     "metadata": {},
     "output_type": "display_data"
    }
   ],
   "source": [
    "%matplotlib widget\n",
    "from mobile_robot_mecanum_wheel import *\n",
    "\n",
    "fig = plt.figure(figsize=(10, 6))\n",
    "\n",
    "points = [[1.0, 9.0], [8.0, 2.0], [17.0, 2.0]]\n",
    "\n",
    "\n",
    "anim = macanum_rob_animation(fig, points,rob=True)\n",
    "\n",
    "anim.save('mecanum_rob.gif')"
   ]
  }
 ],
 "metadata": {
  "kernelspec": {
   "display_name": "Python 3 (ipykernel)",
   "language": "python",
   "name": "python3"
  },
  "language_info": {
   "codemirror_mode": {
    "name": "ipython",
    "version": 3
   },
   "file_extension": ".py",
   "mimetype": "text/x-python",
   "name": "python",
   "nbconvert_exporter": "python",
   "pygments_lexer": "ipython3",
   "version": "3.8.10"
  }
 },
 "nbformat": 4,
 "nbformat_minor": 5
}
