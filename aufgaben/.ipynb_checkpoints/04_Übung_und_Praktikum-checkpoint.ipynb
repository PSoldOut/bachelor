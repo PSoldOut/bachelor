{
 "cells": [
  {
   "cell_type": "markdown",
   "id": "19e5b4f4",
   "metadata": {
    "tags": []
   },
   "source": [
    "# Praktikum 4"
   ]
  },
  {
   "cell_type": "markdown",
   "id": "87ecf0bf",
   "metadata": {},
   "source": [
    "Für dieses Praktikum wird das Modul sympy benötigt. Dieses muss vorher gegebenenfalls über das Terminal installiert werden.\n",
    "\n",
    "```\n",
    "pip install sympy\n",
    "```\n",
    "\n",
    "Anschließend kann das Modul importiert werden.\n",
    "\n",
    "Für die Darstellung wird zudem das Modul IPython.display verwendet."
   ]
  },
  {
   "cell_type": "code",
   "execution_count": 5,
   "id": "2bb99bca",
   "metadata": {},
   "outputs": [
    {
     "data": {
      "text/latex": [
       "$\\displaystyle \\pi$"
      ],
      "text/plain": [
       "π"
      ]
     },
     "metadata": {},
     "output_type": "display_data"
    }
   ],
   "source": [
    "from sympy import *\n",
    "from IPython.display import display, Math, Latex\n",
    "init_printing(use_latex='mathjax')\n",
    "\n",
    "display(acos(-1))"
   ]
  },
  {
   "cell_type": "code",
   "execution_count": 6,
   "id": "3f55d5a5-56c6-4d2c-8cf5-2279e7262247",
   "metadata": {},
   "outputs": [],
   "source": [
    "# helper function for latex pretty printing\n",
    "def display_latex_result(a, b=None):\n",
    "  if b is None:\n",
    "    res = \"$${}$$\".format(a)\n",
    "  else:\n",
    "    res = \"$${} = {}$$\".format(a, latex(b, mat_delim='('))\n",
    "  display(Latex(res))"
   ]
  },
  {
   "cell_type": "markdown",
   "id": "f1281ab4-a7ce-42b5-8901-84c2a55e2f24",
   "metadata": {
    "tags": []
   },
   "source": [
    "## Aufgabe 4.1"
   ]
  },
  {
   "cell_type": "markdown",
   "id": "393a7176-b4fd-431e-906f-75017dc0121e",
   "metadata": {},
   "source": [
    "$\\newcommand{\\mbf}{\\mathbf}$\n",
    "$\\newcommand{\\mrm}{\\mathrm}$\n",
    "$\\newcommand{\\tcdegree}{{°}}$\n",
    "$\\newcommand{\\Atan}{\\mathrm{atan2}}$\n",
    "\n",
    "Erläutern Sie, wie die $\\Atan$-Funktion arbeitet. Geben Sie an, wie $\\Atan(y, x)$ aus den Werten $x, y$ mittels der $\\arctan$-Funktion berechnet werden kann. Führen Sie dazu eine Fallunterscheidung abhängig von den Werten der Argumente $x, y$ durch."
   ]
  },
  {
   "cell_type": "markdown",
   "id": "cd6143e1-f770-43f1-9f49-144123cdf841",
   "metadata": {},
   "source": [
    "## Aufgabe 4.2"
   ]
  },
  {
   "cell_type": "markdown",
   "id": "288b22c9-f509-4017-9721-3df951bb2bbd",
   "metadata": {},
   "source": [
    "### Ergänzen Sie den nachfolgenden Code um die atan2-Funktion nachzubilden:"
   ]
  },
  {
   "cell_type": "code",
   "execution_count": 12,
   "id": "c05cc132-c6f8-4944-a85b-c97dd32f5f1b",
   "metadata": {},
   "outputs": [],
   "source": [
    "def Atann2(y, x):\n",
    "    if x > 0:\n",
    "        return atan(y/x)\n",
    "    elif x == 0:\n",
    "        if y == 0:\n",
    "            return 0\n",
    "        elif y > 0:\n",
    "            return pi/2\n",
    "        else:\n",
    "            return -pi/2\n",
    "    elif y >= 0:\n",
    "        return atan(y/x) + pi\n",
    "    else:\n",
    "        return atan(y/x) - pi\n",
    "    "
   ]
  },
  {
   "cell_type": "markdown",
   "id": "bb6bb999-fcd7-4fa0-b55a-9dceb04b1811",
   "metadata": {
    "tags": []
   },
   "source": [
    "## Für die folgenden Aufgaben ist der quaderförmiger Körper aus Praktikum 3 gegeben."
   ]
  },
  {
   "cell_type": "markdown",
   "id": "957d4898-c70f-435c-bc95-d826ad1cca84",
   "metadata": {},
   "source": [
    "<figure>\n",
    "<center>\n",
    "<img width='500' src='https://fh-dortmund.sciebo.de/s/esxLNzGVvbZZEm5/download?path=%2F&files=quader.png' />\n",
    "</figure>\n",
    "\n",
    "Der Körper wird zunächst um den Winkel $\\varphi_x=-30\\tcdegree$ um die x-Achse, dann um den Winkel $\\varphi_z=90\\tcdegree$ um die z-Achse und schließlich um den Winkel $\\varphi_y=-90\\tcdegree$ um die y-Achse\n",
    "des ortsfesten Koordinatensystems $B$ gedreht."
   ]
  },
  {
   "cell_type": "markdown",
   "id": "094bf170-8ef6-4e04-949a-2e772c7d9051",
   "metadata": {
    "tags": []
   },
   "source": [
    "## Aufgabe 4.3"
   ]
  },
  {
   "cell_type": "markdown",
   "id": "0abbceb8-8848-40a2-aaa5-1707cd0414e8",
   "metadata": {
    "jp-MarkdownHeadingCollapsed": true,
    "tags": []
   },
   "source": [
    "Berechnen Sie die Eulerschen Winkel des Koordinatensystem $K$ **vor** der Drehung des Körpers bezüglich des Koordinatensystems $B$."
   ]
  },
  {
   "cell_type": "markdown",
   "id": "d7f081c8-6f51-422b-a12e-85e4b73779d6",
   "metadata": {
    "tags": []
   },
   "source": [
    "### Ergänzen Sie den nachstehenden Code um Ihre Rechnung zu überprüfen"
   ]
  },
  {
   "cell_type": "code",
   "execution_count": 13,
   "id": "69b12932-947d-448d-9cf5-e57258347830",
   "metadata": {},
   "outputs": [
    {
     "data": {
      "text/latex": [
       "$\\displaystyle -0.296745690105582$"
      ],
      "text/plain": [
       "-0.296745690105582"
      ]
     },
     "metadata": {},
     "output_type": "display_data"
    },
    {
     "data": {
      "text/latex": [
       "$\\displaystyle -0.296745690105582$"
      ],
      "text/plain": [
       "-0.296745690105582"
      ]
     },
     "metadata": {},
     "output_type": "display_data"
    },
    {
     "data": {
      "text/latex": [
       "$\\displaystyle -0.236443047083827$"
      ],
      "text/plain": [
       "-0.236443047083827"
      ]
     },
     "metadata": {},
     "output_type": "display_data"
    }
   ],
   "source": [
    "rad2deg = 180/pi\n",
    "\n",
    "display(atan2(-0.24095, 0.788))\n",
    "display(Atann2(-0.24095, 0.788))\n",
    "display(atan(-0.24095))\n",
    "\n",
    "def rot2eul(R):\n",
    "  eul = Matrix([0, 0, 0])\n",
    "  eul[0] = Atan2(\n",
    "  sin_alpha = sin(eul[0])\n",
    "  cos_alpha = cos(eul[0])\n",
    "  eul[1] = Atan2(\n",
    "  eul[2] = Atan2(\n",
    "  return eul\n",
    "\n",
    "Rk = Matrix([[0, 0, -1],\n",
    "             [0, -1, 0],\n",
    "             [-1, 0, 0]\n",
    "            ])\n",
    "\n",
    "display_latex_result('\\mrm{EUL} = \\\\begin{pmatrix}\\\\alpha\\\\\\\\ \\\\beta\\\\\\\\ \\\\gamma\\\\end{pmatrix}', rot2eul(Rk) * rad2deg)\n",
    "\n"
   ]
  },
  {
   "cell_type": "markdown",
   "id": "d4603723-ce62-4e05-9484-65bc41d3ef30",
   "metadata": {
    "tags": []
   },
   "source": [
    "## Aufgabe 4.4"
   ]
  },
  {
   "cell_type": "markdown",
   "id": "a9409cca-fcf2-4783-a9b4-e52c99a93649",
   "metadata": {
    "jp-MarkdownHeadingCollapsed": true,
    "tags": []
   },
   "source": [
    "Berechnen Sie die Roll-Nick-Gier-Winkel des Koordinatensystem $K$ **vor** der Drehung des Körpers bezüglich des Koordinatensystems $B$."
   ]
  },
  {
   "cell_type": "markdown",
   "id": "3ff65a51-a489-46e5-aeb9-8595f00b9e35",
   "metadata": {
    "tags": []
   },
   "source": [
    "### Ergänzen Sie den nachstehenden Code um Ihre Rechnung zu überprüfen"
   ]
  },
  {
   "cell_type": "code",
   "execution_count": null,
   "id": "6344f71e-27fa-49c1-9700-23c2738f1ed1",
   "metadata": {},
   "outputs": [],
   "source": [
    "def rot2rpy(R):\n",
    "  eul = Matrix([0, 0, 0])\n",
    "  eul[0] = Atan2(\n",
    "  sin_alpha = sin(eul[0])\n",
    "  cos_alpha = cos(eul[0])\n",
    "  eul[1] = Atan2(\n",
    "  eul[2] = Atan2(\n",
    "  return eul\n",
    "\n",
    "display_latex_result('\\mrm{RPY} = \\\\begin{pmatrix}\\\\alpha\\\\\\\\ \\\\beta\\\\\\\\ \\\\gamma\\\\end{pmatrix}', (rot2rpy(Rk) * rad2deg).evalf())"
   ]
  },
  {
   "cell_type": "markdown",
   "id": "2b3e5f25-5911-4203-9c4b-e31fdc31e07f",
   "metadata": {
    "tags": []
   },
   "source": [
    "## Aufgabe 4.5"
   ]
  },
  {
   "cell_type": "markdown",
   "id": "e1de2ce8-3ea1-4fc8-8633-c3bab5dc4646",
   "metadata": {
    "jp-MarkdownHeadingCollapsed": true,
    "tags": []
   },
   "source": [
    "Berechnen Sie die Eulerschen Winkel des Koordinatensystem $K$ **nach** der Drehung des Körpers bezüglich des Koordinatensystems $B$."
   ]
  },
  {
   "cell_type": "markdown",
   "id": "535e4d6d-5fee-4a52-8614-0b8f68c4c6d9",
   "metadata": {
    "tags": []
   },
   "source": [
    "### Ergänzen Sie den nachstehenden Code um Ihre Rechnung zu überprüfen"
   ]
  },
  {
   "cell_type": "code",
   "execution_count": null,
   "id": "74f100d1-bf82-4210-b11b-94b52bc7323e",
   "metadata": {},
   "outputs": [],
   "source": [
    "Rkn = 1/2 * Matrix([[sqrt(3), -1,  0],\n",
    "                   [,   , ],\n",
    "                   [,   , ]\n",
    "                  ])\n",
    "\n",
    "display_latex_result('\\mrm{EUL} = \\\\begin{pmatrix}\\\\alpha\\\\\\\\ \\\\beta\\\\\\\\ \\\\gamma\\\\end{pmatrix}', (rot2eul("
   ]
  },
  {
   "cell_type": "markdown",
   "id": "ba6d4b45-1690-4d76-a063-f9ab870a4cc8",
   "metadata": {
    "tags": []
   },
   "source": [
    "## Aufgabe 4.6"
   ]
  },
  {
   "cell_type": "markdown",
   "id": "82a3489b-846a-4d0d-95e8-30876da84eb5",
   "metadata": {},
   "source": [
    "Berechnen Sie die Roll-Nick-Gier-Winkel des Koordinatensystem $K$ **nach** der Drehung des Körpers bezüglich des Koordinatensystems $B$."
   ]
  },
  {
   "cell_type": "markdown",
   "id": "6bccfc2d-8375-4553-aec9-955e09d74692",
   "metadata": {
    "tags": []
   },
   "source": [
    "### Ergänzen Sie den nachstehenden Code um Ihre Rechnung zu überprüfen"
   ]
  },
  {
   "cell_type": "code",
   "execution_count": null,
   "id": "e8b332bd-1869-412c-b626-03aac09f1802",
   "metadata": {},
   "outputs": [],
   "source": [
    "display_latex_result('\\mrm{RPY} = \\\\begin{pmatrix}\\\\alpha\\\\\\\\ \\\\beta\\\\\\\\ \\\\gamma\\\\end{pmatrix}', (rot2rpy("
   ]
  }
 ],
 "metadata": {
  "kernelspec": {
   "display_name": "Python 3 (ipykernel)",
   "language": "python",
   "name": "python3"
  },
  "language_info": {
   "codemirror_mode": {
    "name": "ipython",
    "version": 3
   },
   "file_extension": ".py",
   "mimetype": "text/x-python",
   "name": "python",
   "nbconvert_exporter": "python",
   "pygments_lexer": "ipython3",
   "version": "3.10.0"
  }
 },
 "nbformat": 4,
 "nbformat_minor": 5
}
