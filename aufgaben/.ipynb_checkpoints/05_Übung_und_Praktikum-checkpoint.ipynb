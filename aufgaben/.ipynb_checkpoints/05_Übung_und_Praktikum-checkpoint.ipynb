{
 "cells": [
  {
   "cell_type": "markdown",
   "id": "19e5b4f4",
   "metadata": {
    "tags": []
   },
   "source": [
    "# Praktikum 5"
   ]
  },
  {
   "cell_type": "markdown",
   "id": "87ecf0bf",
   "metadata": {},
   "source": [
    "Für dieses Praktikum wird das Modul sympy benötigt. Dieses muss vorher gegebenenfalls über das Terminal installiert werden.\n",
    "\n",
    "```\n",
    "pip install sympy\n",
    "```\n",
    "\n",
    "Anschließend kann das Modul importiert werden.\n",
    "\n",
    "Für die Darstellung wird zudem das Modul IPython.display verwendet."
   ]
  },
  {
   "cell_type": "code",
   "execution_count": null,
   "id": "2bb99bca",
   "metadata": {},
   "outputs": [],
   "source": [
    "from sympy import *\n",
    "from IPython.display import display, Math, Latex\n",
    "from sympy.physics.mechanics import dynamicsymbols, init_vprinting\n",
    "init_vprinting(use_latex='mathjax')\n",
    "#init_printing(use_latex='mathjax')"
   ]
  },
  {
   "cell_type": "code",
   "execution_count": null,
   "id": "3f55d5a5-56c6-4d2c-8cf5-2279e7262247",
   "metadata": {},
   "outputs": [],
   "source": [
    "# helper function for latex pretty printing\n",
    "def display_latex_result(a, b=None):\n",
    "  if b is None:\n",
    "    res = \"$${}$$\".format(a)\n",
    "  else:\n",
    "    res = \"$${} = {}$$\".format(a, latex(b, mat_delim='('))\n",
    "  display(Latex(res))"
   ]
  },
  {
   "cell_type": "markdown",
   "id": "6c78a811-a0a7-4c0e-bafc-6fcadfa4c025",
   "metadata": {},
   "source": [
    "$\\newcommand{\\mbf}{\\mathbf}$\n",
    "$\\newcommand{\\mrm}{\\mathrm}$\n",
    "$\\newcommand{\\tcdegree}{{°}}$\n",
    "$\\newcommand{\\unitms}{{\\mathrm{\\frac{m}{s}}}}$\n",
    "$\\newcommand{\\unitrads}{{\\mathrm{\\frac{rad}{s}}}}$\n",
    "\n",
    "Gegeben ist ein mobiler Roboter mit Differentialantrieb, der den im Weltkoordinatensystem abgebildeten Kurs von $A$ nach $C$ vorwärts abfährt. \n",
    "Der Kurs besteht aus einem Halbkreis zwischen den Punkten $A = (4, 9)$ und $B = (11, 2)$ und zwischen $B$ und $C = (18, 9)$ aus einer Geraden. Die Positionen der Punkte sind in $\\mathrm{m}$ angegeben.\n",
    "\n",
    "<figure>\n",
    "<center>\n",
    "<img width='800' src='https://fh-dortmund.sciebo.de/s/esxLNzGVvbZZEm5/download?path=%2F&files=diff_drive.png' />\n",
    "</figure>\n",
    "\n",
    "Der Roboter soll den gesamten Kurs mit einer konstanten Lineargeschwindigkeit von $\\dot{x}_\\mathrm{R} = 1\\unitms$ abfahren. Beschleunigungs- und Verzögerungsvorgänge sollen vernachlässigt werden. Der Roboter hat einen halben Radabstand von $b = 0,5\\mathrm{m}$ und Radradius von $r = 0,25\\mathrm{m}$.\n",
    "\n",
    "Die nachfolgende Animation visualisiert die Bewegung des Roboters beim Abfahren des Kurses\n",
    "\n",
    "<figure>\n",
    "<center>\n",
    "<img width='800' src='https://fh-dortmund.sciebo.de/s/esxLNzGVvbZZEm5/download?path=%2F&files=differential_drive_rob.gif' />\n",
    "</figure>"
   ]
  },
  {
   "cell_type": "markdown",
   "id": "094bf170-8ef6-4e04-949a-2e772c7d9051",
   "metadata": {
    "tags": []
   },
   "source": [
    "## Aufgabe 5.1"
   ]
  },
  {
   "cell_type": "markdown",
   "id": "0abbceb8-8848-40a2-aaa5-1707cd0414e8",
   "metadata": {
    "jp-MarkdownHeadingCollapsed": true,
    "tags": []
   },
   "source": [
    "Berechnen Sie die Länge der beiden Kursabschnitte und des gesamten Kurses. "
   ]
  },
  {
   "cell_type": "markdown",
   "id": "d7f081c8-6f51-422b-a12e-85e4b73779d6",
   "metadata": {
    "tags": []
   },
   "source": [
    "### Ergänzen Sie den nachstehenden Code um Ihre Rechnung zu überprüfen"
   ]
  },
  {
   "cell_type": "code",
   "execution_count": null,
   "id": "69b12932-947d-448d-9cf5-e57258347830",
   "metadata": {},
   "outputs": [],
   "source": [
    "# Durchmesser des Halbkreises\n",
    "A = Matrix([ , ])\n",
    "B = Matrix([ , ])\n",
    "dAB = (B - A).norm()\n",
    "\n",
    "# Umfang des Halbkreis (Innenwinkel 180°)\n",
    "sAB = \n",
    "\n",
    "# Länge der Strecke von B nach C\n",
    "C = Matrix([ , ])\n",
    "sBC = \n",
    "\n",
    "# Gesamtstrecke\n",
    "sg = \n",
    "display_latex_result('d_\\mathrm{AB}', sAB)\n",
    "display_latex_result('d_\\mathrm{AB}', sAB.evalf())\n",
    "display_latex_result('d_\\mathrm{BC}', sBC)\n",
    "display_latex_result('d_\\mathrm{g}', sg)\n",
    "display_latex_result('d_\\mathrm{g}', sg.evalf())\n"
   ]
  },
  {
   "cell_type": "markdown",
   "id": "d4603723-ce62-4e05-9484-65bc41d3ef30",
   "metadata": {
    "tags": []
   },
   "source": [
    "## Aufgabe 5.2"
   ]
  },
  {
   "cell_type": "markdown",
   "id": "a9409cca-fcf2-4783-a9b4-e52c99a93649",
   "metadata": {
    "jp-MarkdownHeadingCollapsed": true,
    "tags": []
   },
   "source": [
    "Welche Zeit benötigt der Roboter für die beiden Kursabschnitte und den gesamten Kurs?\n",
    "(Beschleunigungs- und Verzögerungsvorgänge sollen vernachlässigt werden.) "
   ]
  },
  {
   "cell_type": "markdown",
   "id": "2b3e5f25-5911-4203-9c4b-e31fdc31e07f",
   "metadata": {
    "tags": []
   },
   "source": [
    "## Aufgabe 5.3"
   ]
  },
  {
   "cell_type": "markdown",
   "id": "e1de2ce8-3ea1-4fc8-8633-c3bab5dc4646",
   "metadata": {
    "jp-MarkdownHeadingCollapsed": true,
    "tags": []
   },
   "source": [
    "Welche Geschwindigkeiten in Roboterkoordinaten \n",
    "($\\mbf{v}_\\mathrm{R} = \\dot{\\mbf{x}}_\\mathrm{R} = (\\dot{x}_\\mathrm{R}, \\dot{y}_\\mathrm{R}, \\dot{\\theta})^\\mathrm{T}$) \n",
    "ergeben sich für die beiden Abschnitte jeweils?"
   ]
  },
  {
   "cell_type": "markdown",
   "id": "ba6d4b45-1690-4d76-a063-f9ab870a4cc8",
   "metadata": {
    "tags": []
   },
   "source": [
    "## Aufgabe 5.4"
   ]
  },
  {
   "cell_type": "markdown",
   "id": "82a3489b-846a-4d0d-95e8-30876da84eb5",
   "metadata": {},
   "source": [
    "Welche Radgeschwindigkeiten ($\\dot{\\mbf\\varphi} = (\\dot{\\varphi}_\\mrm{l}, \\dot{\\varphi}_\\mrm{r})^\\mathrm{T}$) ergeben sich für die beiden Kursabschnitte?"
   ]
  },
  {
   "cell_type": "markdown",
   "id": "6bccfc2d-8375-4553-aec9-955e09d74692",
   "metadata": {
    "tags": []
   },
   "source": [
    "### Ergänzen Sie den nachstehenden Code um Ihre Rechnung zu überprüfen"
   ]
  },
  {
   "cell_type": "code",
   "execution_count": null,
   "id": "e8b332bd-1869-412c-b626-03aac09f1802",
   "metadata": {
    "scrolled": true
   },
   "outputs": [],
   "source": [
    "r, b, t = symbols('r b t')\n",
    "phi_l, phi_r, xR, yR, theta = dynamicsymbols('varphi_l varphi_r x_R, y_R, theta')\n",
    "dphi_r = phi_r.diff(t)\n",
    "dphi_l = phi_l.diff(t)\n",
    "\n",
    "dphi = Matrix([dphi_l, dphi_r])\n",
    "display(dphi)\n",
    "display_latex_result('\\\\begin{pmatrix} \\\\dot{\\\\varphi}_r \\\\\\\\ \\\\dot{\\\\varphi}_l  \\\\end{pmatrix}', dphi)\n",
    "\n",
    "J = 1/ * Matrix([[ , , ],[ , , ]])\n",
    "display_latex_result('\\mathbf{J}', J)\n",
    "\n",
    "dxR = xR.diff(t)\n",
    "dyR = yR.diff(t)\n",
    "dtheta = theta.diff(t)\n",
    "dx = Matrix([dxR, dyR, dtheta])\n",
    "display(dx)\n",
    "display_latex_result('\\\\begin{pmatrix} \\\\dot{x}_\\\\mathrm{R} \\\\\\\\ \\\\dot{y}_\\\\mathrm{R} \\\\\\\\ \\\\dot{\\\\theta}  \\\\end{pmatrix}', dx)\n",
    "\n",
    "dphi = \n",
    "\n",
    "# Strecke AB\n",
    "dphiAB = dphi.subs({b:0.5, r:, dtheta:, dxR:})\n",
    "display_latex_result('\\\\begin{pmatrix} \\\\dot{\\\\varphi}_r \\\\\\\\ \\\\dot{\\\\varphi}_l  \\\\end{pmatrix}_\\mathrm{AB}', dphiAB)\n",
    "\n",
    "# Strecke BC\n",
    "dphiBC = dphi.subs({b:, r:, dtheta:, dxR:})\n",
    "display_latex_result('\\\\begin{pmatrix} \\\\dot{\\\\varphi}_r \\\\\\\\ \\\\dot{\\\\varphi}_l  \\\\end{pmatrix}_\\mathrm{BC}', dphiBC)"
   ]
  },
  {
   "cell_type": "markdown",
   "id": "9e8a7a2d-2c5f-497f-a585-42705587de88",
   "metadata": {
    "tags": []
   },
   "source": [
    "## Aufgabe 5.5"
   ]
  },
  {
   "cell_type": "markdown",
   "id": "119a9a4a-3231-4754-aa66-85bcd33c86ae",
   "metadata": {},
   "source": [
    "Welche Geschwindigkeiten in Weltkoordinaten ($\\mbf{v}_\\mathrm{W} = \\dot{\\mbf{x}}_\\mathrm{W} = (\\dot{x}_\\mathrm{W}, \\dot{y}_\\mathrm{W}, \\dot{\\theta})^\\mathrm{T}$)  über der Zeit\n",
    "ergeben sich?"
   ]
  },
  {
   "cell_type": "markdown",
   "id": "1cbcb664-5f04-49b0-bb9d-d2a7a1cff103",
   "metadata": {},
   "source": [
    "### Ergänzen Sie den nachstehenden Code um Ihre Rechnung zu überprüfen"
   ]
  },
  {
   "cell_type": "code",
   "execution_count": null,
   "id": "ef17097d-4ab4-4b2c-9968-ecfa5cd8b37a",
   "metadata": {},
   "outputs": [],
   "source": [
    "# Rotationsmatrix zur Umrechnung der Geschwindigkeiten von Roboterkoordinaten in Weltkoordinaten\n",
    "def rotz(theta):\n",
    "  R = Matrix([[cos(theta), -sin(theta), 0],\n",
    "              [sin(theta),  cos(theta), 0],\n",
    "              [         0,           0, 1]])\n",
    "  return R\n",
    "\n",
    "theta = dynamicsymbols('theta')\n",
    "display_latex_result('\\mathbf{R}(\\\\theta(t))', rotz(theta))\n",
    "\n",
    "# Strecke B -> C\n",
    "# Berechnung des Bahnwinkels\n",
    "DeltaCB = C - B\n",
    "alpha = atan2( , )\n",
    "display_latex_result('\\\\alpha', alpha)\n",
    "\n",
    "# Geschwindigkeiten des Roboters im Roboterkoordinatensystem\n",
    "dxR = Matrix([ , , ])\n",
    "\n",
    "display_latex_result('\\mathbf{R}\\\\left(\\\\frac{\\\\pi}{4}\\\\right)', rotz(alpha))\n",
    "\n",
    "dxW = rotz(alpha) * dxR\n",
    "display_latex_result('\\\\begin{pmatrix} \\\\dot{x}_\\\\mathrm{W} \\\\\\\\ \\\\dot{y}_\\\\mathrm{W} \\\\\\\\ \\\\dot{\\\\theta}  \\\\end{pmatrix}_\\mrm{BC}', dxW)\n",
    "display_latex_result('\\\\begin{pmatrix} \\\\dot{x}_\\\\mathrm{W} \\\\\\\\ \\\\dot{y}_\\\\mathrm{W} \\\\\\\\ \\\\dot{\\\\theta}  \\\\end{pmatrix}_\\mrm{BC}', dxW.evalf())\n",
    "\n",
    "# Strecke A -> B, Halbkreis\n",
    "dxR = Matrix([ , , ])\n",
    "dxW = rotz(theta) * dxR\n",
    "display_latex_result('\\\\begin{pmatrix} \\\\dot{x}_\\\\mathrm{W} \\\\\\\\ \\\\dot{y}_\\\\mathrm{W} \\\\\\\\ \\\\dot{\\\\theta}  \\\\end{pmatrix}_\\mrm{AB}', dxW)"
   ]
  }
 ],
 "metadata": {
  "kernelspec": {
   "display_name": "Python 3 (ipykernel)",
   "language": "python",
   "name": "python3"
  },
  "language_info": {
   "codemirror_mode": {
    "name": "ipython",
    "version": 3
   },
   "file_extension": ".py",
   "mimetype": "text/x-python",
   "name": "python",
   "nbconvert_exporter": "python",
   "pygments_lexer": "ipython3",
   "version": "3.8.10"
  }
 },
 "nbformat": 4,
 "nbformat_minor": 5
}
