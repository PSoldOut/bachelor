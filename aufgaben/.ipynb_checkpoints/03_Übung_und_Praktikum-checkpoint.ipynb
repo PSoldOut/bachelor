{
 "cells": [
  {
   "cell_type": "markdown",
   "id": "19e5b4f4",
   "metadata": {
    "tags": []
   },
   "source": [
    "# Praktikum 3"
   ]
  },
  {
   "cell_type": "markdown",
   "id": "87ecf0bf",
   "metadata": {},
   "source": [
    "Für dieses Praktikum wird das Modul sympy benötigt. Dieses muss vorher gegebenenfalls über das Terminal installiert werden.\n",
    "\n",
    "```\n",
    "pip install sympy\n",
    "```\n",
    "\n",
    "Anschließend kann das Modul importiert werden.\n",
    "\n",
    "Für die Darstellung wird zudem das Modul IPython.display verwendet."
   ]
  },
  {
   "cell_type": "code",
   "execution_count": null,
   "id": "2bb99bca",
   "metadata": {},
   "outputs": [],
   "source": [
    "from sympy import *\n",
    "from IPython.display import display, Math, Latex\n",
    "init_printing(use_latex='mathjax')"
   ]
  },
  {
   "cell_type": "code",
   "execution_count": null,
   "id": "3f55d5a5-56c6-4d2c-8cf5-2279e7262247",
   "metadata": {},
   "outputs": [],
   "source": [
    "# helper function for latex pretty printing\n",
    "def display_latex_result(a, b=None):\n",
    "  if b is None:\n",
    "    res = \"$${}$$\".format(a)\n",
    "  else:\n",
    "    res = \"$${} = {}$$\".format(a, latex(b, mat_delim='('))\n",
    "  display(Latex(res))"
   ]
  },
  {
   "cell_type": "markdown",
   "id": "6c78a811-a0a7-4c0e-bafc-6fcadfa4c025",
   "metadata": {},
   "source": [
    "$\\newcommand{\\mbf}{\\mathbf}$\n",
    "$\\newcommand{\\mrm}{\\mathrm}$\n",
    "$\\newcommand{\\tcdegree}{{°}}$\n",
    "\n",
    "Gegeben ist ein quaderförmiger Köorper mit den Kantenläangen $l_x=4$, $l_y=6$ und $l_z=3$. Eine Quaderecke befindet sich, wie in der nachfolgenden Abbildung darstellt, im Ursprung eines ortsfesten Koordinatensystems $B$.  In der dem Ursprung gegenüberliegenden Quaderecke K ist ein körperfestes Koordinatensystem $K$ angebracht.\n",
    "\n",
    "<figure>\n",
    "<center>\n",
    "<img width='500' src='https://fh-dortmund.sciebo.de/s/esxLNzGVvbZZEm5/download?path=%2F&files=quader.png' />\n",
    "</figure>\n",
    "\n",
    "Der Körper wird nun zunächst um den Winkel $\\varphi_x=-30\\tcdegree$ um die x-Achse, dann um den Winkel $\\varphi_z=90\\tcdegree$ um die z-Achse und schließlich um den Winkel $\\varphi_y=-90\\tcdegree$ um die y-Achse des ortsfesten Koordinatensystems $B$ gedreht."
   ]
  },
  {
   "cell_type": "markdown",
   "id": "094bf170-8ef6-4e04-949a-2e772c7d9051",
   "metadata": {
    "tags": []
   },
   "source": [
    "## Aufgabe 3.1"
   ]
  },
  {
   "cell_type": "markdown",
   "id": "0abbceb8-8848-40a2-aaa5-1707cd0414e8",
   "metadata": {
    "jp-MarkdownHeadingCollapsed": true,
    "tags": []
   },
   "source": [
    "Stellen Sie die Rotationsmatritzen $\\mbf{R}_x := \\mbf{R}(x, -30\\tcdegree)$, $\\mbf{R}_y := \\mbf{R}(y, -90\\tcdegree)$ und $\\mbf{R}_z := \\mbf{R}(z, 90\\tcdegree)$ auf."
   ]
  },
  {
   "cell_type": "markdown",
   "id": "d7f081c8-6f51-422b-a12e-85e4b73779d6",
   "metadata": {
    "tags": []
   },
   "source": [
    "### Ergänzen Sie den nachstehenden Code um Ihre Rechnung zu überprüfen"
   ]
  },
  {
   "cell_type": "code",
   "execution_count": null,
   "id": "69b12932-947d-448d-9cf5-e57258347830",
   "metadata": {},
   "outputs": [],
   "source": [
    "def rotx(alpha):\n",
    "  Rx = Matrix([[ , , ],\n",
    "               [ , , ],\n",
    "               [ , , ]\n",
    "              ])\n",
    "  return Rx\n",
    "\n",
    "def roty(beta):\n",
    "  Ry = Matrix([[ cos(beta),  0, sin(beta)],\n",
    "               [ 0,          1,         0],\n",
    "               [-sin(beta),  0, cos(beta)]\n",
    "              ])\n",
    "  return Ry\n",
    "\n",
    "def rotz(gamma):\n",
    "  Rz = Matrix([[ cos(gamma), -sin(gamma), 0],\n",
    "               [ sin(gamma),  cos(gamma), 0],\n",
    "               [ 0,          0,           1],\n",
    "              ])\n",
    "  return Rz\n",
    "\n",
    "alpha, beta, gamma = symbols('alpha beta gamma')\n",
    "display_latex_result('\\mbf{R}_x', rotx(alpha))\n",
    "display_latex_result('\\mbf{R}_y', roty(beta))\n",
    "display_latex_result('\\mbf{R}_z', rotz(gamma))"
   ]
  },
  {
   "cell_type": "code",
   "execution_count": null,
   "id": "2f81ca08-0837-47fe-80d8-60c3d5c04403",
   "metadata": {},
   "outputs": [],
   "source": [
    "# conversion constant\n",
    "deg2rad = pi/180\n",
    "\n",
    "Rx = rotx(\n",
    "display_latex_result('\\mbf{R}(x, -30°)', Rx)\n",
    "\n",
    "Ry = roty(\n",
    "display_latex_result('\\mbf{R}(y, -90°)', Ry)\n",
    "\n",
    "Rz = rotz(\n",
    "display_latex_result('\\mbf{R}(z, 90°)', Rz)"
   ]
  },
  {
   "cell_type": "markdown",
   "id": "d4603723-ce62-4e05-9484-65bc41d3ef30",
   "metadata": {
    "tags": []
   },
   "source": [
    "## Aufgabe 3.2"
   ]
  },
  {
   "cell_type": "markdown",
   "id": "a9409cca-fcf2-4783-a9b4-e52c99a93649",
   "metadata": {
    "jp-MarkdownHeadingCollapsed": true,
    "tags": []
   },
   "source": [
    "Stellen Sie Gesamtrotationsmatrix $\\mbf{R}_G = \\mbf{R}_y \\mbf{R}_z \\mbf{R}_x$ auf."
   ]
  },
  {
   "cell_type": "markdown",
   "id": "3ff65a51-a489-46e5-aeb9-8595f00b9e35",
   "metadata": {
    "tags": []
   },
   "source": [
    "### Ergänzen Sie den nachstehenden Code um Ihre Rechnung zu überprüfen"
   ]
  },
  {
   "cell_type": "code",
   "execution_count": null,
   "id": "6344f71e-27fa-49c1-9700-23c2738f1ed1",
   "metadata": {},
   "outputs": [],
   "source": [
    "Rg = \n",
    "display_latex_result('\\mbf{R}_G', Rg)"
   ]
  },
  {
   "cell_type": "markdown",
   "id": "2b3e5f25-5911-4203-9c4b-e31fdc31e07f",
   "metadata": {
    "tags": []
   },
   "source": [
    "## Aufgabe 3.3"
   ]
  },
  {
   "cell_type": "markdown",
   "id": "e1de2ce8-3ea1-4fc8-8633-c3bab5dc4646",
   "metadata": {
    "jp-MarkdownHeadingCollapsed": true,
    "tags": []
   },
   "source": [
    "Welche Positionen nehmen nach der Drehung des Körpers die Körperecken K, L, M und N in Bezug auf das Koordinatensystem $B$ ein?"
   ]
  },
  {
   "cell_type": "markdown",
   "id": "535e4d6d-5fee-4a52-8614-0b8f68c4c6d9",
   "metadata": {
    "tags": []
   },
   "source": [
    "### Ergänzen Sie den nachstehenden Code um Ihre Rechnung zu überprüfen"
   ]
  },
  {
   "cell_type": "code",
   "execution_count": null,
   "id": "74f100d1-bf82-4210-b11b-94b52bc7323e",
   "metadata": {},
   "outputs": [],
   "source": [
    "PKv = Matrix(\n",
    "PLv = Matrix(\n",
    "PMv = Matrix(\n",
    "PNv = Matrix(\n",
    "\n",
    "display_latex_result('\\mbf{P}_{Kn}', \n",
    "display_latex_result('\\mbf{P}_{Ln}',\n",
    "display_latex_result('\\mbf{P}_{Mn}',\n",
    "display_latex_result('\\mbf{P}_{Nn}',\n"
   ]
  },
  {
   "cell_type": "markdown",
   "id": "ba6d4b45-1690-4d76-a063-f9ab870a4cc8",
   "metadata": {
    "tags": []
   },
   "source": [
    "## Aufgabe 3.4"
   ]
  },
  {
   "cell_type": "markdown",
   "id": "82a3489b-846a-4d0d-95e8-30876da84eb5",
   "metadata": {},
   "source": [
    "Welche Orientierung ausgedrückt als Rotationsmatrix hat das Koordinatensystem $K$ **vor** der Drehung des Körpers bezüglich des Koordinatensystems $B$?"
   ]
  },
  {
   "cell_type": "markdown",
   "id": "6bccfc2d-8375-4553-aec9-955e09d74692",
   "metadata": {
    "tags": []
   },
   "source": [
    "### Ergänzen Sie den nachstehenden Code um Ihre Rechnung zu überprüfen"
   ]
  },
  {
   "cell_type": "code",
   "execution_count": null,
   "id": "e8b332bd-1869-412c-b626-03aac09f1802",
   "metadata": {},
   "outputs": [],
   "source": [
    "RK = \n",
    "display_latex_result('{}^B\\mbf{R}_K', RK)"
   ]
  },
  {
   "cell_type": "markdown",
   "id": "9e8a7a2d-2c5f-497f-a585-42705587de88",
   "metadata": {
    "tags": []
   },
   "source": [
    "## Aufgabe 3.5"
   ]
  },
  {
   "cell_type": "markdown",
   "id": "119a9a4a-3231-4754-aa66-85bcd33c86ae",
   "metadata": {},
   "source": [
    "Welche Orientierung ausgedrückt als Rotationsmatrix hat das Koordinatensystem $K$ **nach** der Drehung des Körpers bezüglich des Koordinatensystems $B$?"
   ]
  },
  {
   "cell_type": "markdown",
   "id": "6518208b-6c53-403a-aa8f-8e975c44164d",
   "metadata": {},
   "source": [
    "### Ergänzen Sie den nachstehenden Code um Ihre Rechnung zu überprüfen"
   ]
  },
  {
   "cell_type": "code",
   "execution_count": null,
   "id": "43b14307-4514-49aa-8056-ae0c3745f72c",
   "metadata": {},
   "outputs": [],
   "source": [
    "RKn = \n",
    "display_latex_result('{}^B\\mbf{R}_{Kn}', RKn)"
   ]
  }
 ],
 "metadata": {
  "kernelspec": {
   "display_name": "Python 3 (ipykernel)",
   "language": "python",
   "name": "python3"
  },
  "language_info": {
   "codemirror_mode": {
    "name": "ipython",
    "version": 3
   },
   "file_extension": ".py",
   "mimetype": "text/x-python",
   "name": "python",
   "nbconvert_exporter": "python",
   "pygments_lexer": "ipython3",
   "version": "3.8.10"
  }
 },
 "nbformat": 4,
 "nbformat_minor": 5
}
