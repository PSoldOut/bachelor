{
 "cells": [
  {
   "cell_type": "markdown",
   "id": "19e5b4f4",
   "metadata": {
    "tags": []
   },
   "source": [
    "# Praktikum 11"
   ]
  },
  {
   "cell_type": "markdown",
   "id": "e647833e-f5d1-4f48-9171-a4606d9dcb65",
   "metadata": {},
   "source": [
    "## Technische Voraussetzungen"
   ]
  },
  {
   "cell_type": "markdown",
   "id": "87ecf0bf",
   "metadata": {},
   "source": [
    "Für dieses Praktikum wird das Modul sympy benötigt. Dieses muss vorher gegebenenfalls über das Terminal installiert werden.\n",
    "\n",
    "```\n",
    "pip install sympy\n",
    "```\n",
    "\n",
    "Anschließend kann das Modul importiert werden.\n",
    "\n",
    "Für die Darstellung wird zudem das Modul IPython.display verwendet."
   ]
  },
  {
   "cell_type": "code",
   "execution_count": 1,
   "id": "2bb99bca",
   "metadata": {},
   "outputs": [],
   "source": [
    "from sympy import *\n",
    "from IPython.display import display, Math, Latex\n",
    "from sympy.physics.mechanics import dynamicsymbols, init_vprinting\n",
    "init_vprinting(use_latex='mathjax')"
   ]
  },
  {
   "cell_type": "code",
   "execution_count": 2,
   "id": "3f55d5a5-56c6-4d2c-8cf5-2279e7262247",
   "metadata": {},
   "outputs": [],
   "source": [
    "# helper function for latex pretty printing\n",
    "def display_latex_result(a, b=None):\n",
    "  if b is None:\n",
    "    res = \"$${}$$\".format(a)\n",
    "  else:\n",
    "    res = \"$${} = {}$$\".format(a, latex(b, mat_delim='('))\n",
    "  display(Latex(res))"
   ]
  },
  {
   "cell_type": "markdown",
   "id": "7e48ba3b-b056-4d00-881b-45034c7a6a0c",
   "metadata": {},
   "source": [
    "## Aufgabenstellung"
   ]
  },
  {
   "cell_type": "markdown",
   "id": "6c78a811-a0a7-4c0e-bafc-6fcadfa4c025",
   "metadata": {},
   "source": [
    "$\\newcommand{\\mbf}{\\mathbf}$\n",
    "$\\newcommand{\\mrm}{\\mathrm}$\n",
    "$\\newcommand{\\tcdegree}{{°}}$\n",
    "$\\newcommand{\\unitms}{{\\mathrm{\\frac{m}{s}}}}$\n",
    "$\\newcommand{\\unitrads}{{\\mathrm{\\frac{rad}{s}}}}$\n",
    "\n",
    "Gegeben ist der abgebildete ebene Roboter mit 3 Freiheitsgraden aus Praktikum 10. \n",
    "Der Endeffektor des Roboters ist in seinem Arbeitsraum bezüglich seiner Position ($x, y$) und seiner Orientierung ($\\varphi$) bewegbar. \n",
    "Der Roboter besitzt im Konfigurationsraum hierfür zwei Dreh- und ein Schubgelenke (DSD).\n",
    "<table><tr>\n",
    "<td> \n",
    "\n",
    "Nr.  | $\\theta_i$  | $d_i$ | $a_i$ |$\\alpha_i$\n",
    ":---:|:-----------:|:-----:|:-----:|:--------:|\n",
    "1    | $\\theta_1$   | $0$   | $0$   |$90°$       |\n",
    "2    | $0$       | $l_1$   | $0$   |$-90°$     |\n",
    "3    | $\\theta_3$        | $0$   | $l_2$   |$0$       |\n",
    "\n",
    "<!--\n",
    "<figure>\n",
    "<center>\n",
    "<img width='400' src='https://fh-dortmund.sciebo.de/s/esxLNzGVvbZZEm5/download?path=%2F&files=stanford.png'/>\n",
    "</figure>\n",
    "-->\n",
    "\n",
    "<td>\n",
    "<figure>\n",
    "<center>\n",
    "<img width='500' src='https://fh-dortmund.sciebo.de/s/esxLNzGVvbZZEm5/download?path=%2F&files=dh-ssd-ml.png'/>\n",
    "</figure>\n",
    "</td>\n",
    "</tr></table>    \n",
    "    \n"
   ]
  },
  {
   "cell_type": "markdown",
   "id": "443e3c4f-f767-49eb-bccb-04291bcfd1db",
   "metadata": {},
   "source": [
    "## Motivation und Gesamtziel der Aufgabe"
   ]
  },
  {
   "cell_type": "markdown",
   "id": "0e33069e-b5be-4240-a4ec-45767dd0b428",
   "metadata": {},
   "source": [
    "<figure>\n",
    "    <center>\n",
    "    <img src='https://fh-dortmund.sciebo.de/s/esxLNzGVvbZZEm5/download?path=%2F&files=robot_dsd_path_and_q.gif'  /> \n",
    "    <figcaption>Animation des Roboters beim Abfahren einer linearen Bahn mit konstanter Orientierung</figcaption>\n",
    "    </center>\n",
    "</figure>\n",
    "\n",
    "<figure>\n",
    "\n",
    "Ziel der Aufgabe ist die Umsetzung einer Bahnsteuerung für den vorgegebenen Roboter. Die Animation zeigt eine beispielhafte Bahn, die in kartesischen Koordinaten vorgegeben ist. Um diese Bahn abzufahren, muss der Roboter das inverse kinematische Problem lösen, das heißt, er muss aus der vorgegebenen kartesischen Bahn die Gelenkoordinaten berechnen. Es müssen dazu folgende Teilaufgaben gelöst werden:\n",
    "1. Kinematische Modellierung mittels des Denavit-Hartenberg-Verfahrens. (Praktikum 10)\n",
    "1. Implementierung der Vorwärtstransformation mittels der zuvor bestimmeten Matrizen. (Praktikum 10)\n",
    "1. Bestimmung der Jacobi-Matrix zur Linearisierung der Vorwärtskinematik.\n",
    "1. Numerische Implementierung der Rückwärtskinematik mittels der inversen Jacobi-Matrix.\n",
    "1. Definition der Bahn im kartesichen Arbeitsraum, Interpolation der Bahn und widerholte Ausführung der Rückwärtskinematik. "
   ]
  },
  {
   "cell_type": "markdown",
   "id": "bb769139-9d0f-4642-b3cf-d1a5e7f898e3",
   "metadata": {},
   "source": [
    "### Kinematische Modellierung mittels des Denavit-Hartenberg-Verfahrens. (Praktikum 10)"
   ]
  },
  {
   "cell_type": "code",
   "execution_count": 3,
   "id": "a938e0f0-d8f7-4ab1-b7cb-0c609cb6ab13",
   "metadata": {},
   "outputs": [],
   "source": [
    "from sympy import *\n",
    "theta_i, alpha_i, a_i, d_i = symbols('theta_i alpha_i a_i d_i')"
   ]
  },
  {
   "cell_type": "code",
   "execution_count": 4,
   "id": "15c7c2c9-f415-4405-829f-7432a80d4781",
   "metadata": {},
   "outputs": [],
   "source": [
    "def dhFrame(theta, d, a, alpha):\n",
    "    \n",
    "    rot_theta = Matrix([ [cos(theta), -sin(theta), 0, 0], \n",
    "                         [sin(theta), cos(theta),  0, 0], \n",
    "                         [0,             0,        1, 0], \n",
    "                         [0,             0,        0, 1] ])\n",
    "    \n",
    "    trans_d = Matrix([ [1, 0, 0, 0],\n",
    "                       [0, 1, 0, 0],\n",
    "                       [0, 0, 1, d],\n",
    "                       [0, 0, 0, 1] ])\n",
    "    \n",
    "    trans_a = Matrix([ [1, 0, 0, a], \n",
    "                       [0, 1, 0, 0], \n",
    "                       [0, 0, 1, 0], \n",
    "                       [0, 0, 0, 1] ])\n",
    "    \n",
    "    rot_alpha = Matrix([ [1,          0,           0, 0], \n",
    "                         [0, cos(alpha), -sin(alpha), 0], \n",
    "                         [0, sin(alpha),  cos(alpha), 0], \n",
    "                         [0,          0,           0, 1] ])\n",
    "    \n",
    "    dh_frame = rot_theta * trans_d * trans_a * rot_alpha\n",
    "    \n",
    "    return dh_frame;"
   ]
  },
  {
   "cell_type": "code",
   "execution_count": 5,
   "id": "ecc69636-19b4-41b6-9969-401317769f0b",
   "metadata": {},
   "outputs": [
    {
     "data": {
      "text/latex": [
       "$$T_\\mrm{DH} = \\left(\\begin{matrix}\\cos{\\left(\\theta_{i} \\right)} & - \\sin{\\left(\\theta_{i} \\right)} \\cos{\\left(\\alpha_{i} \\right)} & \\sin{\\left(\\alpha_{i} \\right)} \\sin{\\left(\\theta_{i} \\right)} & a_{i} \\cos{\\left(\\theta_{i} \\right)}\\\\\\sin{\\left(\\theta_{i} \\right)} & \\cos{\\left(\\alpha_{i} \\right)} \\cos{\\left(\\theta_{i} \\right)} & - \\sin{\\left(\\alpha_{i} \\right)} \\cos{\\left(\\theta_{i} \\right)} & a_{i} \\sin{\\left(\\theta_{i} \\right)}\\\\0 & \\sin{\\left(\\alpha_{i} \\right)} & \\cos{\\left(\\alpha_{i} \\right)} & d_{i}\\\\0 & 0 & 0 & 1\\end{matrix}\\right)$$"
      ],
      "text/plain": [
       "<IPython.core.display.Latex object>"
      ]
     },
     "metadata": {},
     "output_type": "display_data"
    }
   ],
   "source": [
    "Tdh = dhFrame(theta_i, d_i, a_i, alpha_i)\n",
    "display_latex_result('T_\\mrm{DH}', Tdh)"
   ]
  },
  {
   "cell_type": "code",
   "execution_count": 6,
   "id": "917f0409-c86d-4df4-8c7d-5826378fad81",
   "metadata": {},
   "outputs": [
    {
     "data": {
      "text/latex": [
       "$${}^0\\mbf{T}_1 = \\left(\\begin{matrix}\\cos{\\left(\\theta_{1} \\right)} & 0 & \\sin{\\left(\\theta_{1} \\right)} & 0\\\\\\sin{\\left(\\theta_{1} \\right)} & 0 & - \\cos{\\left(\\theta_{1} \\right)} & 0\\\\0 & 1 & 0 & 0\\\\0 & 0 & 0 & 1\\end{matrix}\\right)$$"
      ],
      "text/plain": [
       "<IPython.core.display.Latex object>"
      ]
     },
     "metadata": {},
     "output_type": "display_data"
    }
   ],
   "source": [
    "theta1 = symbols('theta_1')\n",
    "T01 = dhFrame(theta1, 0, 0, pi/2)\n",
    "display_latex_result('{}^0\\mbf{T}_1', T01)"
   ]
  },
  {
   "cell_type": "code",
   "execution_count": 7,
   "id": "e4708479-f0e2-4993-87aa-8467addb6003",
   "metadata": {},
   "outputs": [
    {
     "data": {
      "text/latex": [
       "$${}^1\\mbf{T}_2 = \\left(\\begin{matrix}1 & 0 & 0 & 0\\\\0 & 0 & 1 & 0\\\\0 & -1 & 0 & l_{1}\\\\0 & 0 & 0 & 1\\end{matrix}\\right)$$"
      ],
      "text/plain": [
       "<IPython.core.display.Latex object>"
      ]
     },
     "metadata": {},
     "output_type": "display_data"
    }
   ],
   "source": [
    "l1 = symbols('l_1')\n",
    "T12 = dhFrame(0, l1, 0, -pi/2)\n",
    "display_latex_result('{}^1\\mbf{T}_2', T12)"
   ]
  },
  {
   "cell_type": "code",
   "execution_count": 8,
   "id": "ff4c7ec1-050c-41c9-adef-18fb8e1a9ac2",
   "metadata": {},
   "outputs": [
    {
     "data": {
      "text/latex": [
       "$${}^2\\mbf{T}_3 = \\left(\\begin{matrix}\\cos{\\left(\\theta_{3} \\right)} & - \\sin{\\left(\\theta_{3} \\right)} & 0 & l_{2} \\cos{\\left(\\theta_{3} \\right)}\\\\\\sin{\\left(\\theta_{3} \\right)} & \\cos{\\left(\\theta_{3} \\right)} & 0 & l_{2} \\sin{\\left(\\theta_{3} \\right)}\\\\0 & 0 & 1 & 0\\\\0 & 0 & 0 & 1\\end{matrix}\\right)$$"
      ],
      "text/plain": [
       "<IPython.core.display.Latex object>"
      ]
     },
     "metadata": {},
     "output_type": "display_data"
    }
   ],
   "source": [
    "theta3, l2 = symbols('theta_3 l_2')\n",
    "T23 = dhFrame(theta3, 0, l2, 0)\n",
    "display_latex_result('{}^2\\mbf{T}_3', T23)"
   ]
  },
  {
   "cell_type": "code",
   "execution_count": 9,
   "id": "9f3c81be-fc50-4c1f-9dca-fb5bf691552e",
   "metadata": {},
   "outputs": [
    {
     "data": {
      "text/latex": [
       "$${}^0\\mbf{T}_3 = \\left(\\begin{matrix}- \\sin{\\left(\\theta_{1} \\right)} \\sin{\\left(\\theta_{3} \\right)} + \\cos{\\left(\\theta_{1} \\right)} \\cos{\\left(\\theta_{3} \\right)} & - \\sin{\\left(\\theta_{1} \\right)} \\cos{\\left(\\theta_{3} \\right)} - \\sin{\\left(\\theta_{3} \\right)} \\cos{\\left(\\theta_{1} \\right)} & 0 & l_{1} \\sin{\\left(\\theta_{1} \\right)} - l_{2} \\sin{\\left(\\theta_{1} \\right)} \\sin{\\left(\\theta_{3} \\right)} + l_{2} \\cos{\\left(\\theta_{1} \\right)} \\cos{\\left(\\theta_{3} \\right)}\\\\\\sin{\\left(\\theta_{1} \\right)} \\cos{\\left(\\theta_{3} \\right)} + \\sin{\\left(\\theta_{3} \\right)} \\cos{\\left(\\theta_{1} \\right)} & - \\sin{\\left(\\theta_{1} \\right)} \\sin{\\left(\\theta_{3} \\right)} + \\cos{\\left(\\theta_{1} \\right)} \\cos{\\left(\\theta_{3} \\right)} & 0 & - l_{1} \\cos{\\left(\\theta_{1} \\right)} + l_{2} \\sin{\\left(\\theta_{1} \\right)} \\cos{\\left(\\theta_{3} \\right)} + l_{2} \\sin{\\left(\\theta_{3} \\right)} \\cos{\\left(\\theta_{1} \\right)}\\\\0 & 0 & 1 & 0\\\\0 & 0 & 0 & 1\\end{matrix}\\right)$$"
      ],
      "text/plain": [
       "<IPython.core.display.Latex object>"
      ]
     },
     "metadata": {},
     "output_type": "display_data"
    },
    {
     "data": {
      "text/latex": [
       "$${}^0\\mbf{T}_3 = \\left(\\begin{matrix}\\cos{\\left(\\theta_{1} + \\theta_{3} \\right)} & - \\sin{\\left(\\theta_{1} + \\theta_{3} \\right)} & 0 & l_{1} \\sin{\\left(\\theta_{1} \\right)} + l_{2} \\cos{\\left(\\theta_{1} + \\theta_{3} \\right)}\\\\\\sin{\\left(\\theta_{1} + \\theta_{3} \\right)} & \\cos{\\left(\\theta_{1} + \\theta_{3} \\right)} & 0 & - l_{1} \\cos{\\left(\\theta_{1} \\right)} + l_{2} \\sin{\\left(\\theta_{1} + \\theta_{3} \\right)}\\\\0 & 0 & 1 & 0\\\\0 & 0 & 0 & 1\\end{matrix}\\right)$$"
      ],
      "text/plain": [
       "<IPython.core.display.Latex object>"
      ]
     },
     "metadata": {},
     "output_type": "display_data"
    }
   ],
   "source": [
    "T03 = T01 * T12 * T23\n",
    "display_latex_result('{}^0\\mbf{T}_3', T03)\n",
    "T03 = simplify(T03)\n",
    "display_latex_result('{}^0\\mbf{T}_3', T03)\n"
   ]
  },
  {
   "cell_type": "markdown",
   "id": "173a0e92-2218-4ddf-8194-2433649cda55",
   "metadata": {},
   "source": [
    "Berechnung von ${}^{U}\\mbf{T}_H$"
   ]
  },
  {
   "cell_type": "code",
   "execution_count": 10,
   "id": "e13d35b0-8ddb-4898-8f8f-5b129e5792cd",
   "metadata": {},
   "outputs": [
    {
     "data": {
      "text/latex": [
       "$${}^U\\mbf{T}_0 = \\left(\\begin{matrix}1 & 0 & 0 & u_{x}\\\\0 & 1 & 0 & u_{y}\\\\0 & 0 & 1 & 0\\\\0 & 0 & 0 & 1\\end{matrix}\\right)$$"
      ],
      "text/plain": [
       "<IPython.core.display.Latex object>"
      ]
     },
     "metadata": {},
     "output_type": "display_data"
    },
    {
     "data": {
      "text/latex": [
       "$${}^3\\mbf{T}_H = \\left(\\begin{matrix}0 & 0 & 1 & 0\\\\1 & 0 & 0 & 0\\\\0 & 1 & 0 & 0\\\\0 & 0 & 0 & 1\\end{matrix}\\right)$$"
      ],
      "text/plain": [
       "<IPython.core.display.Latex object>"
      ]
     },
     "metadata": {},
     "output_type": "display_data"
    },
    {
     "data": {
      "text/latex": [
       "$${}^3\\mbf{T}_H = \\left(\\begin{matrix}0 & 0 & 1 & 0\\\\1 & 0 & 0 & 0\\\\0 & 1 & 0 & 0\\\\0 & 0 & 0 & 1\\end{matrix}\\right)$$"
      ],
      "text/plain": [
       "<IPython.core.display.Latex object>"
      ]
     },
     "metadata": {},
     "output_type": "display_data"
    },
    {
     "data": {
      "text/latex": [
       "$${}^U\\mbf{T}_H = \\left(\\begin{matrix}- \\sin{\\left(\\theta_{1} + \\theta_{3} \\right)} & 0 & \\cos{\\left(\\theta_{1} + \\theta_{3} \\right)} & l_{1} \\sin{\\left(\\theta_{1} \\right)} + l_{2} \\cos{\\left(\\theta_{1} + \\theta_{3} \\right)} + u_{x}\\\\\\cos{\\left(\\theta_{1} + \\theta_{3} \\right)} & 0 & \\sin{\\left(\\theta_{1} + \\theta_{3} \\right)} & - l_{1} \\cos{\\left(\\theta_{1} \\right)} + l_{2} \\sin{\\left(\\theta_{1} + \\theta_{3} \\right)} + u_{y}\\\\0 & 1 & 0 & 0\\\\0 & 0 & 0 & 1\\end{matrix}\\right)$$"
      ],
      "text/plain": [
       "<IPython.core.display.Latex object>"
      ]
     },
     "metadata": {},
     "output_type": "display_data"
    }
   ],
   "source": [
    "ux, uy = symbols('u_x u_y')\n",
    "\n",
    "TU0 = Matrix([ [1, 0, 0, ux],\n",
    "               [0, 1, 0, uy],\n",
    "               [0, 0, 1,  0],\n",
    "               [0, 0, 0,  1] ])\n",
    "\n",
    "display_latex_result('{}^U\\mbf{T}_0', simplify(TU0))\n",
    "\n",
    "\n",
    "T3H = Matrix([ [0, 0, 1, 0], \n",
    "               [1, 0, 0, 0], \n",
    "               [0, 1, 0, 0], \n",
    "               [0, 0, 0, 1] ])\n",
    "\n",
    "display_latex_result('{}^3\\mbf{T}_H', T3H)\n",
    "\n",
    "# oder Ansatz über zwei Rotationen, theta = 90°, alpha = 90°\n",
    "T3H = dhFrame(pi/2, 0, 0, pi/2)\n",
    "display_latex_result('{}^3\\mbf{T}_H', T3H)\n",
    "\n",
    "TUH = TU0 * T03 * T3H\n",
    "display_latex_result('{}^U\\mbf{T}_H', simplify(TUH))"
   ]
  },
  {
   "cell_type": "markdown",
   "id": "453dcb5f-a177-4f81-a524-7290547e8527",
   "metadata": {},
   "source": [
    "### Berechnung Roll-Nick-Gier-Winkel"
   ]
  },
  {
   "cell_type": "markdown",
   "id": "ca63fd3a-b5a8-40d1-8f1c-ee056a53d23c",
   "metadata": {},
   "source": [
    "Für die weitere Berechnung müssen die Roll-Nick-Gier-Winkel $(\\alpha, \\beta, \\gamma)$ der Matrix ${}^u\\mathbf{T}_h$ in ZYX-Konvention bestimmt werden\n",
    "\n",
    "\\begin{equation*}\n",
    "\\mathbf{R}_\\mathrm{RPY} \\,:=\\, \\mathbf{R}_\\mathrm{RPY}(\\alpha, \\beta, \\gamma) \\,:=\\,\n",
    "\\mathbf{R}(z, \\alpha)\\mathbf{R}(y, \\beta)\\mathbf{R}(x, \\gamma)\n",
    "\\end{equation*} \n",
    "\n",
    "die Roll-Nick-Gier-Winkel lassen sich wie folgt bestimmen\n",
    "\n",
    "\\begin{equation*}\n",
    "\\begin{array}{lcl}\n",
    "\\alpha    & = & \\displaystyle\n",
    "\\mathrm{atan2} \\left( R_{21}, ~R_{11}  \\right) \\\\\n",
    "\\beta    & = &  \\displaystyle\n",
    "\\mathrm{atan2} \\left(-R_{31}, ~R_{21}\\cdot\\sin\\alpha  + R_{11}\\cdot\\cos\\alpha  \\right) \\\\\n",
    "\\gamma    & = & \\displaystyle\n",
    "\\mathrm{atan2} \\left( R_{13}\\cdot\\sin\\alpha  -  R_{23}\\cdot\\cos\\alpha, ~-R_{12}\\cdot\\sin\\alpha +  R_{22}\\cdot\\cos\\alpha \\right) \n",
    "\\end{array}\n",
    "\\end{equation*}\n",
    "\n",
    "\n",
    "(Hinweis: Für die Vereinfachung gilt: $\\mathrm{atan2}(\\sin(x), \\cos(x)) = x$ für $x \\in \\{-\\pi \\dots \\pi\\}$; $\\cos(x) = \\sin(x + \\pi/2)$; $-\\sin(x) = \\cos(x + \\pi/2)$)"
   ]
  },
  {
   "cell_type": "code",
   "execution_count": 11,
   "id": "c7b0a70b-dd85-4e85-8a16-f09ac2b344f4",
   "metadata": {},
   "outputs": [
    {
     "data": {
      "text/latex": [
       "$$\\alpha = \\operatorname{atan}_{2}{\\left(\\cos{\\left(\\theta_{1} + \\theta_{3} \\right)},- \\sin{\\left(\\theta_{1} + \\theta_{3} \\right)} \\right)}$$"
      ],
      "text/plain": [
       "<IPython.core.display.Latex object>"
      ]
     },
     "metadata": {},
     "output_type": "display_data"
    }
   ],
   "source": [
    "alpha, beta, gamma = symbols('alpha beta gamma')\n",
    "alpha = atan2(TUH[1,0], TUH[0,0])\n",
    "display_latex_result('\\\\alpha', alpha)"
   ]
  },
  {
   "cell_type": "markdown",
   "id": "a9490bdc-5026-4cef-ad42-9496603974ee",
   "metadata": {},
   "source": [
    "Dieser Ausdruck kann noch vereinfacht werden, da gilt: $\\mathrm{atan2}(\\sin(x), \\cos(x)) = x$ und $\\cos(x) = \\sin(x + \\pi/2)$ sowie $-\\sin(x) = \\cos(x + \\pi/2)$"
   ]
  },
  {
   "cell_type": "code",
   "execution_count": 12,
   "id": "4fffaa1c-97b8-49e7-b4fb-89787c118c35",
   "metadata": {},
   "outputs": [
    {
     "data": {
      "text/latex": [
       "$$\\alpha = \\theta_{1} + \\theta_{3} + \\frac{\\pi}{2}$$"
      ],
      "text/plain": [
       "<IPython.core.display.Latex object>"
      ]
     },
     "metadata": {},
     "output_type": "display_data"
    }
   ],
   "source": [
    "x = Wild('x')\n",
    "alpha = alpha.replace(atan2(cos(x), -sin(x)), x + pi/2)\n",
    "display_latex_result('\\\\alpha', alpha)"
   ]
  },
  {
   "cell_type": "code",
   "execution_count": 13,
   "id": "bcf46809-9dd2-4401-a273-e8170f83d636",
   "metadata": {},
   "outputs": [
    {
     "data": {
      "text/latex": [
       "$$\\beta = \\operatorname{atan}_{2}{\\left(0,\\sin^{2}{\\left(\\theta_{1} + \\theta_{3} \\right)} + \\cos^{2}{\\left(\\theta_{1} + \\theta_{3} \\right)} \\right)}$$"
      ],
      "text/plain": [
       "<IPython.core.display.Latex object>"
      ]
     },
     "metadata": {},
     "output_type": "display_data"
    }
   ],
   "source": [
    "beta = atan2(-TUH[2,0], TUH[1,0]*sin(alpha) + TUH[0,0]*cos(alpha))\n",
    "display_latex_result('\\\\beta', beta)"
   ]
  },
  {
   "cell_type": "markdown",
   "id": "7ecc5725-2f20-453e-be7b-c10fd4d19d3d",
   "metadata": {},
   "source": [
    "Auch dies kann weiter vereinfacht werden:"
   ]
  },
  {
   "cell_type": "code",
   "execution_count": 14,
   "id": "6f3929a5-74d9-4c29-adbf-08ead5e74739",
   "metadata": {},
   "outputs": [
    {
     "data": {
      "text/latex": [
       "$$\\beta = 0$$"
      ],
      "text/plain": [
       "<IPython.core.display.Latex object>"
      ]
     },
     "metadata": {},
     "output_type": "display_data"
    }
   ],
   "source": [
    "beta = simplify(beta)\n",
    "display_latex_result('\\\\beta', beta)"
   ]
  },
  {
   "cell_type": "code",
   "execution_count": 15,
   "id": "13797880-4439-487b-9c87-08797c9df1d1",
   "metadata": {},
   "outputs": [
    {
     "data": {
      "text/latex": [
       "$$\\gamma = \\operatorname{atan}_{2}{\\left(\\sin^{2}{\\left(\\theta_{1} + \\theta_{3} \\right)} + \\cos^{2}{\\left(\\theta_{1} + \\theta_{3} \\right)},0 \\right)}$$"
      ],
      "text/plain": [
       "<IPython.core.display.Latex object>"
      ]
     },
     "metadata": {},
     "output_type": "display_data"
    }
   ],
   "source": [
    "gamma = atan2(TUH[0,2]*sin(alpha) - TUH[1,2]*cos(alpha), -TUH[0,1]*sin(alpha) + TUH[1,1]*cos(alpha))\n",
    "display_latex_result('\\\\gamma', gamma)"
   ]
  },
  {
   "cell_type": "markdown",
   "id": "4d91518f-1268-49e3-ad0e-4392c1a71f9a",
   "metadata": {},
   "source": [
    "was noch zu vereinfachen ist:"
   ]
  },
  {
   "cell_type": "code",
   "execution_count": 16,
   "id": "098bf1ae-71ec-4252-91c9-572192138ca0",
   "metadata": {},
   "outputs": [
    {
     "data": {
      "text/latex": [
       "$$\\gamma = \\frac{\\pi}{2}$$"
      ],
      "text/plain": [
       "<IPython.core.display.Latex object>"
      ]
     },
     "metadata": {},
     "output_type": "display_data"
    }
   ],
   "source": [
    "gamma = simplify(gamma)\n",
    "display_latex_result('\\\\gamma', gamma)"
   ]
  },
  {
   "cell_type": "markdown",
   "id": "fcac9c15-2d09-45dc-ba21-e0100b0a4eb5",
   "metadata": {},
   "source": [
    "Kontrolle des Ergebnisses:"
   ]
  },
  {
   "cell_type": "code",
   "execution_count": 17,
   "id": "95c23f0c-a025-4231-b224-9ab672410a2c",
   "metadata": {},
   "outputs": [
    {
     "data": {
      "text/latex": [
       "$${}^U\\mbf{R}_H = \\left(\\begin{matrix}- \\sin{\\left(\\theta_{1} + \\theta_{3} \\right)} & 0 & \\cos{\\left(\\theta_{1} + \\theta_{3} \\right)}\\\\\\cos{\\left(\\theta_{1} + \\theta_{3} \\right)} & 0 & \\sin{\\left(\\theta_{1} + \\theta_{3} \\right)}\\\\0 & 1 & 0\\end{matrix}\\right)$$"
      ],
      "text/plain": [
       "<IPython.core.display.Latex object>"
      ]
     },
     "metadata": {},
     "output_type": "display_data"
    }
   ],
   "source": [
    "Rz = Matrix([ [cos(alpha), -sin(alpha), 0], [sin(alpha), cos(alpha), 0], [0, 0, 1]  ])\n",
    "Ry = Matrix([ [cos(beta), 0, sin(beta)], [0, 1, 0], [-sin(beta), 0, cos(beta)] ])\n",
    "Rx = Matrix([ [ 1, 0, 0], [0, cos(gamma), -sin(gamma)], [0, sin(gamma), cos(gamma)] ])\n",
    "\n",
    "R = Rz * Ry * Rx\n",
    "display_latex_result('{}^U\\mbf{R}_H', R)"
   ]
  },
  {
   "cell_type": "markdown",
   "id": "4508e1e9-0fb0-4906-919a-242951575139",
   "metadata": {},
   "source": [
    "Die Orientierung des Werkzeugkoordinatensystems $K_h$ relativ zum Basiskoordinatensystem $K_u$ kann also durch die Roll-Nick-Gierwinkel\n",
    "\n",
    "\\begin{equation*}\n",
    "\\begin{array}{lcl}\n",
    "\\alpha    & = &  \\displaystyle \\theta_1 + \\theta_3 + \\frac{\\pi}{2}\\\\\n",
    "\\beta    & = &   0 \\\\\n",
    "\\gamma    & = &  \\displaystyle \\frac{\\pi}{2}\n",
    "\\end{array}\n",
    "\\end{equation*}\n",
    "\n",
    "dargestellt werden, wobei der Rotationswinkel um die z-Achse ($\\alpha$) dem Winkel $\\varphi$ plus 90° aus der Abbildung entspricht. \n",
    "\n",
    "$\n",
    "\\varphi = \\alpha - 90°\n",
    "$\n",
    "\n",
    "Die Orientierung ist somit auch nur in $\\alpha$ variabel."
   ]
  },
  {
   "cell_type": "markdown",
   "id": "5cafbfaf-1746-477b-b28d-7d1b4168480e",
   "metadata": {
    "tags": []
   },
   "source": [
    "### Implementierung der Vorwärtstransformation mittels der zuvor bestimmeten Matrizen. (Praktikum 10)"
   ]
  },
  {
   "cell_type": "markdown",
   "id": "c86cd144-cf26-4f69-901f-82d6b0cc39ff",
   "metadata": {},
   "source": [
    "Die nachstehende Funktion bildet die Vorwärtrkinematik des Roboters ab\n",
    "$$\n",
    "\\mathbf{x} = \\mathbf{f}(\\mathbf{q}) ~~\\text{mit}~~ \\mathbf{x} = [x, y, \\alpha]^T ~~\\text{und}~~ \\mathbf{q} = [\\theta_1, d_2, \\theta_3]^T\n",
    "$$\n",
    "(Es wird nur die variablen Komponenten der Weltkoordinaten berechnet.)\n",
    "\n",
    "Die Konstanten seien $u_x = 0.4, u_y = 0.4, l_2 = 0.5$"
   ]
  },
  {
   "cell_type": "code",
   "execution_count": 18,
   "id": "9239858d-eca1-45dd-9a57-1a3b77499934",
   "metadata": {},
   "outputs": [
    {
     "data": {
      "text/latex": [
       "$\\displaystyle \\left[\\begin{matrix}2.9\\\\0.4\\\\\\frac{\\pi}{2}\\end{matrix}\\right]$"
      ],
      "text/plain": [
       "⎡2.9⎤\n",
       "⎢   ⎥\n",
       "⎢0.4⎥\n",
       "⎢   ⎥\n",
       "⎢ π ⎥\n",
       "⎢ ─ ⎥\n",
       "⎣ 2 ⎦"
      ]
     },
     "execution_count": 18,
     "metadata": {},
     "output_type": "execute_result"
    }
   ],
   "source": [
    "def mod_2pi(a): # -pi < a < pi\n",
    "  while a < -pi:\n",
    "    a += 2*pi \n",
    "  while a > pi:\n",
    "    a -= 2*pi\n",
    "  return a \n",
    "\n",
    "def fkine(q): # q = [theta1, l1 , theta3]\n",
    "  x = Matrix([TUH[0,3], TUH[1,3], alpha] )\n",
    "  x = x.subs({theta1:q[0], l1:q[1], theta3:q[2], l2:0.5, ux:0.4, uy:0.4})\n",
    "  x[2] = mod_2pi(x[2])\n",
    "  return x\n",
    "\n",
    "# aufrufen der Funktion mit theta1 = pi/2, l1 = 2, theta3 = -pi/2\n",
    "# der Arm steht horizontal gestreckt in Richtung der xu-Achse\n",
    "q = Matrix([pi/2, 2, -pi/2])\n",
    "fkine(q)"
   ]
  },
  {
   "cell_type": "markdown",
   "id": "0facb6ce-397e-48c2-930a-775ad11096d6",
   "metadata": {
    "tags": []
   },
   "source": [
    "## Aufgabe 11.1"
   ]
  },
  {
   "cell_type": "markdown",
   "id": "2646c436-41fb-4996-a779-7a43941ad461",
   "metadata": {},
   "source": [
    "Bestimmen Sie analytisch die Jacobi Matrix $\\mathbf{J}_\\mathrm{a}(\\mathbf{q})$ der Funktion $\\mathbf{x} = \\mathbf{f}(\\mathbf{q})$ mit $\\mathbf{x} = [x, y, \\alpha]^\\mathrm{T}$ und $\\mathbf{q} = [q_1, q_2, q_3]^\\mathrm{T}$\n",
    "\n",
    "$$ \n",
    "\\mathbf{J}_\\mathrm{a}(\\mathbf{q}) = \\frac{\\partial\\mathbf{f}(\\mathbf{q})}{\\partial\\mathbf{q}} = \n",
    "\\begin{pmatrix} \n",
    "\t\\frac{\\partial f_1}{\\partial q_1}& \\frac{\\partial f_1}{\\partial q_2} & \\cdots & \\frac{\\partial f_1}{\\partial q_n}\\\\\n",
    "\t\\vdots & \\vdots & \\ddots & \\vdots\\\\\n",
    "\t\\frac{\\partial f_6}{\\partial q_1}& \\frac{\\partial f_6}{\\partial q_2} & \\cdots & \\frac{\\partial f_6}{\\partial q_n}\n",
    "\\end{pmatrix}\n",
    "$$\n"
   ]
  },
  {
   "cell_type": "markdown",
   "id": "3e941252-f4df-4314-8c88-337db29c8ce1",
   "metadata": {},
   "source": [
    "### Ergänzen Sie den nachstehenden Code um $\\mbf{J}_a$ zu berechnen."
   ]
  },
  {
   "cell_type": "code",
   "execution_count": 19,
   "id": "1c920e0d-b64a-4347-815c-29f300dd038f",
   "metadata": {},
   "outputs": [
    {
     "ename": "SyntaxError",
     "evalue": "invalid syntax (4023687991.py, line 1)",
     "output_type": "error",
     "traceback": [
      "\u001b[0;36m  Cell \u001b[0;32mIn[19], line 1\u001b[0;36m\u001b[0m\n\u001b[0;31m    Ja = Matrix( [ [diff(TUH[,], theta1), diff(TUH[,], l1), diff(TUH[,], theta3)],\u001b[0m\n\u001b[0m                             ^\u001b[0m\n\u001b[0;31mSyntaxError\u001b[0m\u001b[0;31m:\u001b[0m invalid syntax\n"
     ]
    }
   ],
   "source": [
    "Ja = Matrix( [ [diff(TUH[,], theta1), diff(TUH[,], l1), diff(TUH[,], theta3)], \n",
    "              [diff(TUH[,], theta1), diff(TUH[,], l1), diff(TUH[,], theta3)],\n",
    "              [diff(alpha, ),    diff(alpha, ),    diff(alpha, )]\n",
    "            ] )\n",
    "display_latex_result('\\\\mbf{J}_a', Ja)"
   ]
  },
  {
   "cell_type": "markdown",
   "id": "3c72c614-e7be-4cc6-a004-272e7b8342be",
   "metadata": {
    "tags": []
   },
   "source": [
    "## Aufgabe 11.2"
   ]
  },
  {
   "cell_type": "markdown",
   "id": "1bb94400-c4fe-4d26-a34c-152346e519a6",
   "metadata": {},
   "source": [
    " Bestimmen Sie geometrisch die Jacobi-Matrix $\\mathbf{J}_\\mathrm{g}(\\mathbf{q})$ mithilfe der DH-Matrizen \n",
    "\n",
    "$$\n",
    "\\dot{\\mathbf{x}} = \\mathbf{J}_\\mathrm{g}(\\mathbf{q}) \\cdot \\dot{\\mathbf{q}}\n",
    "$$\n",
    "\n",
    "mit $\\dot{\\mathbf{x}} = [v_x, v_y, v_z, \\omega_x, \\omega_y, \\omega_z]^\\mathrm{T}$ und $\\dot{\\mathbf{q}} = [\\dot{q}_1, \\dot{q}_2, \\dot{q}_3]^\\mathrm{T}$\n",
    "<!--\n",
    "Die Spalten der Jacobi-Matrix ergeben sich dabei wie folgt:\n",
    "-->"
   ]
  },
  {
   "cell_type": "markdown",
   "id": "42206078-240e-4068-960f-b0393ced1a55",
   "metadata": {},
   "source": [
    "### Ergänzen Sie den nachstehenden Code um $\\mbf{J}_a$ zu berechnen."
   ]
  },
  {
   "cell_type": "code",
   "execution_count": null,
   "id": "cdedbc9c-8e01-4dbb-b1c6-694eea48a7c1",
   "metadata": {},
   "outputs": [],
   "source": [
    "z0 = TU0[, ]\n",
    "p0 = TU0[, ]\n",
    "ph = TUH[, ]\n",
    "J1 =  Matrix([z0.cross(ph - p0), z0])\n",
    "display_latex_result('\\\\mbf{J}_1', J1)"
   ]
  },
  {
   "cell_type": "code",
   "execution_count": null,
   "id": "6f214551-839a-4dca-8ddb-80e97f662c5b",
   "metadata": {},
   "outputs": [],
   "source": [
    "TU1 = TU0 * T01\n",
    "z1 = TU1[,]\n",
    "J2 = Matrix([ , [0], [0], [0]])\n",
    "display_latex_result('\\\\mbf{J}_2', J2)"
   ]
  },
  {
   "cell_type": "code",
   "execution_count": null,
   "id": "c4b38bc0-5f88-487d-bebe-b79707148df6",
   "metadata": {},
   "outputs": [],
   "source": [
    "TU2 = TU1 * T12\n",
    "z2 = TU2[,]\n",
    "p2 = TU2[,]\n",
    "J3 =  Matrix([z2.cross(ph - p2), z2])\n",
    "display_latex_result('\\\\mbf{J}_3', J3)"
   ]
  },
  {
   "cell_type": "markdown",
   "id": "7ea44814-fda4-4276-9d8d-7ec6e572032c",
   "metadata": {},
   "source": [
    "Durch Zusammensetzten der drei Spalten erhalten wir die geometrische Jacobi-Matrix"
   ]
  },
  {
   "cell_type": "code",
   "execution_count": null,
   "id": "ac3b6021-5208-4516-86d0-93fef34e7e3a",
   "metadata": {},
   "outputs": [],
   "source": [
    "Jg = Matrix([[J1, J2, J3]])\n",
    "display_latex_result('\\\\mbf{J}_g', Jg)"
   ]
  },
  {
   "cell_type": "markdown",
   "id": "1eba1cd4-5e37-4b87-9ff8-a63bdcd4cd14",
   "metadata": {
    "tags": []
   },
   "source": [
    "## Aufgabe 11.3"
   ]
  },
  {
   "cell_type": "markdown",
   "id": "12c9ac50-e6f0-440b-a1a0-7d13cc686151",
   "metadata": {},
   "source": [
    "Erweitern Sie die nachstehende Funktion derart, dass mittels der Jacobi-Matrix die numerische Rücktransformation des Roboters berechnet wird. \n",
    "\n",
    "Hinweis: Ausgehend von einem Startpunkt der Gelenkwinkel $\\mathbf{q}_k$ kann die Lösung für $\\mathbf{q} = \\mathbf{f}^{-1}(\\mathbf{x})$ iterativ bestimmt werden:\n",
    "$$\n",
    "\\mathbf{q}_{k+1} = \\mathbf{q}_k + \\mathbf{J}^{-1}(\\mathbf{q}_k) \\cdot (\\mathbf{x} - \\mathbf{x}_k) \\quad \\text{mit} \\quad \\mathbf{x}_k = \\mathbf{f}(\\mathbf{q}_k)\n",
    "$$\n",
    "\n",
    "Sobald eine hinreichend genaue Lösung ($\\left| \\mathbf{x} - \\mathbf{x}_k \\right| < \\epsilon$) für $\\mathbf{x}$ gefunden ist, wird die Iteration abgebrochen."
   ]
  },
  {
   "cell_type": "code",
   "execution_count": null,
   "id": "cb3917e0-d3c4-4490-b6b3-a1a705c61402",
   "metadata": {},
   "outputs": [],
   "source": [
    "J_inv = .inv()\n",
    "J_inv = simplify(J_inv)\n",
    "J_inv"
   ]
  },
  {
   "cell_type": "markdown",
   "id": "50389bc6-f970-468c-9fd6-c09b837bdb75",
   "metadata": {},
   "source": [
    "Die Jacobi-Matrix hat eine Singularität bei $l_1 = 0$, dies muss bei der Initialisierung der Werte von $\\mathbf{q}$ berücksichtigt werden. "
   ]
  },
  {
   "cell_type": "code",
   "execution_count": null,
   "id": "b56bf490-91d8-47af-922e-0dbd9ee29ce0",
   "metadata": {},
   "outputs": [],
   "source": [
    "def ikine(x, qk=None): # x = [x, y, alpha], q = [theta1, l1, theta3] \n",
    "  if qk is None:  \n",
    "    qk = Matrix([0, 1, 0]) # theta1 = theta3 = 0, l1 = 1\n",
    "  Ji = J_inv.subs({l2:0.5, ux:0.2, uy:0.2}) # Konstanten ersetzen\n",
    "  for i in range(0, 100):\n",
    "    xk = fkine(qk)\n",
    "    dx = (x - xk).evalf()    \n",
    "    norm_x = sqrt(dx.dot(dx))\n",
    "    if norm_x < 0.0000000001:\n",
    "      #print(i)\n",
    "      break\n",
    "    Jkinv = Ji.subs({theta1:qk[], l1:qk[], theta3:qk[]})\n",
    "    Jkinv = Jkinv.evalf()\n",
    "    qk = qk +  * dx\n",
    "    qk[0] = mod_2pi(qk[0]) # -pi < theta1 < pi\n",
    "    qk[2] = mod_2pi(qk[2]) # -pi < theta1 < pi\n",
    "    qk[1] = abs(qk[1])     # 0 <= l1\n",
    "    qk = qk.evalf()\n",
    "    #print(qk)\n",
    "  return qk  \n",
    "\n",
    "qk = Matrix([pi, 5, pi/2])\n",
    "q = Matrix([pi/2, 2, -pi/2])\n",
    "display(q)\n",
    "x = fkine(q)\n",
    "display(x)\n",
    "q = ikine(x, qk)\n",
    "display(q)"
   ]
  },
  {
   "cell_type": "markdown",
   "id": "8a723177-53a5-43d4-a955-30c9dd78f159",
   "metadata": {},
   "source": [
    "### Die folgende Animation bewegt den Roboter auf einer Geraden"
   ]
  },
  {
   "cell_type": "markdown",
   "id": "c69ef3e4-355b-468e-9a69-78d1ef8d6d38",
   "metadata": {},
   "source": [
    "Der Roboter wird von der Pose $x=-3, y=3, \\varphi=90^\\circ$ nach $x=3, y=3, \\varphi=90^\\circ$ bewegt."
   ]
  },
  {
   "cell_type": "code",
   "execution_count": null,
   "id": "524d336e-0cc2-4db8-bcb7-0c231e76ac25",
   "metadata": {},
   "outputs": [],
   "source": [
    "import numpy as np\n",
    "\n",
    "line_x = np.linspace(start=-3, stop=3, num=100) # desired range of motion for joint 1\n",
    "\n",
    "def getData():\n",
    "    theta1 = np.array([])\n",
    "    l1 = np.array([])\n",
    "    theta3 = np.array([])\n",
    "\n",
    "    qkm1 = Matrix([np.pi, 3, -np.pi])\n",
    "    for i in line_x:\n",
    "        xk = Matrix([i, 3.0, 3/4*np.pi])\n",
    "        qk = ikine(xk, qkm1)\n",
    "        qkm1 = qk\n",
    "        qk = qk.evalf()\n",
    "        theta1 = np.append(theta1, float(qk[0] - np.pi/2))\n",
    "        l1 = np.append(l1, float(qk[1]))\n",
    "        theta3 = np.append(theta3, float(qk[2] + np.pi/2))\n",
    "        \n",
    "    return theta1, l1, theta3\n",
    "\n",
    "theta1, l1, theta3 = getData() "
   ]
  },
  {
   "cell_type": "code",
   "execution_count": null,
   "id": "33240648-6ed3-4826-a4eb-5eaed4aa2b69",
   "metadata": {},
   "outputs": [],
   "source": [
    "%matplotlib widget\n",
    "from matplotlib.animation import FuncAnimation\n",
    "import matplotlib.pyplot as plt\n",
    "import numpy as np\n",
    "from dsd_robot_plot import *\n",
    "from sympy import *\n",
    "\n",
    "fig = plt.figure(figsize=(10, 5))\n",
    "ax = fig.add_subplot(111)\n",
    "ax.set_xlabel('X')\n",
    "ax.set_ylabel('Y')\n",
    "\n",
    "ax.set_xlim(-5, 5)\n",
    "ax.set_ylim(-1, 4)\n",
    "\n",
    "#theta1, l1, theta3 = getData() \n",
    "\n",
    "dsd_rob = dsd_robot(theta1[0], l1[0], theta3[0],True)\n",
    "f_d1, f_d2, f_d3, f_d4, f_d5, f_d6 = dsd_robotprint(ax, dsd_rob)\n",
    "\n",
    "\n",
    "\n",
    "def animate(i):\n",
    "    dsd_rob.update(theta1[i], l1[i], theta3[i], True)\n",
    "    s_theta1 = theta1[i]*180/np.pi\n",
    "    s_l1 = l1[i]\n",
    "\n",
    "    x,y = dsd_rob.points[2]\n",
    "    f_d2.set(angle=(s_theta1-90),xy = (x,y))\n",
    "    \n",
    "    #updating the second part of the push element\n",
    "    x,y = dsd_rob.points[3]\n",
    "    f_d3.set(angle=(s_theta1-90),xy = (x,y), height=s_l1-1)\n",
    "\n",
    "    #updating the second rotational element\n",
    "    x,y = dsd_rob.points[4]\n",
    "    f_d5.set_data(x,y)\n",
    "\n",
    "    #updating the triangle after the second rotational element\n",
    "    x = [dsd_rob.points[5], dsd_rob.points[6], dsd_rob.points[7]]\n",
    "    f_d6.set(xy=x)\n",
    "    \n",
    "    return f_d2, f_d3, f_d5, f_d6\n",
    "\n",
    "    \n",
    "\n",
    "ani = FuncAnimation(fig, animate, frames=range(len(line_x)),  interval=50, repeat=False)\n",
    "#ani.save('robot_dsd_path.gif')\n"
   ]
  }
 ],
 "metadata": {
  "kernelspec": {
   "display_name": "Python 3 (ipykernel)",
   "language": "python",
   "name": "python3"
  },
  "language_info": {
   "codemirror_mode": {
    "name": "ipython",
    "version": 3
   },
   "file_extension": ".py",
   "mimetype": "text/x-python",
   "name": "python",
   "nbconvert_exporter": "python",
   "pygments_lexer": "ipython3",
   "version": "3.8.10"
  }
 },
 "nbformat": 4,
 "nbformat_minor": 5
}
