{
 "cells": [
  {
   "cell_type": "markdown",
   "id": "19e5b4f4",
   "metadata": {
    "tags": []
   },
   "source": [
    "# Musterlösung Praktikum 6"
   ]
  },
  {
   "cell_type": "markdown",
   "id": "87ecf0bf",
   "metadata": {},
   "source": [
    "Für dieses Praktikum wird das Modul sympy benötigt. Dieses muss vorher gegebenenfalls über das Terminal installiert werden.\n",
    "\n",
    "```\n",
    "pip install sympy\n",
    "```\n",
    "\n",
    "Anschließend kann das Modul importiert werden.\n",
    "\n",
    "Für die Darstellung wird zudem das Modul IPython.display verwendet."
   ]
  },
  {
   "cell_type": "code",
   "execution_count": 1,
   "id": "2bb99bca",
   "metadata": {},
   "outputs": [],
   "source": [
    "from sympy import *\n",
    "from IPython.display import display, Math, Latex\n",
    "from sympy.physics.mechanics import dynamicsymbols, init_vprinting\n",
    "init_vprinting(use_latex='mathjax')"
   ]
  },
  {
   "cell_type": "code",
   "execution_count": 2,
   "id": "3f55d5a5-56c6-4d2c-8cf5-2279e7262247",
   "metadata": {},
   "outputs": [],
   "source": [
    "# helper function for latex pretty printing\n",
    "def display_latex_result(a, b=None):\n",
    "  if b is None:\n",
    "    res = \"$${}$$\".format(a)\n",
    "  else:\n",
    "    res = \"$${} = {}$$\".format(a, latex(b, mat_delim='('))\n",
    "  display(Latex(res))"
   ]
  },
  {
   "cell_type": "markdown",
   "id": "6c78a811-a0a7-4c0e-bafc-6fcadfa4c025",
   "metadata": {},
   "source": [
    "$\\newcommand{\\mbf}{\\mathbf}$\n",
    "$\\newcommand{\\mrm}{\\mathrm}$\n",
    "$\\newcommand{\\tcdegree}{{°}}$\n",
    "$\\newcommand{\\unitms}{{\\mathrm{\\frac{m}{s}}}}$\n",
    "$\\newcommand{\\unitrads}{{\\mathrm{\\frac{rad}{s}}}}$\n",
    "\n",
    "Gegeben ist ein omnidirektionaler mobiler Roboter mit vier Omni-Wheels. \n",
    "Ein Omni-Wheel ermöglicht eine angetriebene Fahrt in Richtung des Rades und gleichzeitig ein passives Rollen in orthogonaler Richtung.\n",
    "Die Omni-Wheels sind am Roboter bezogen auf das Roboterkoordinatensystem um $45^\\circ$ geneigt angebracht ($\\delta_i = \\pm 45^\\circ$, siehe Abbildung).\n",
    "\n",
    "<table><tr>\n",
    "<td> \n",
    "    \n",
    "$i$  | $\\delta_i$  | $\\alpha_i$                | $l_i$              |\n",
    ":---:|:-----------:|:-------------------------:|:------------------:|\n",
    "1    | $+45^\\circ$ | $-\\arctan(b/a)$           | $\\sqrt{a^2 + b^2}$ |\n",
    "2    | $-45^\\circ$ | $+\\arctan(b/a)$           | $\\sqrt{a^2 + b^2}$ |\n",
    "3    | $+45^\\circ$ | $+180^\\circ-\\arctan(b/a)$ | $\\sqrt{a^2 + b^2}$ |\n",
    "4    | $-45^\\circ$ | $-180^\\circ+\\arctan(b/a)$ | $\\sqrt{a^2 + b^2}$ |\n",
    "\n",
    "</td>\n",
    "<td>\n",
    "<figure>\n",
    "<center>\n",
    "<img width='300' src='https://fh-dortmund.sciebo.de/s/esxLNzGVvbZZEm5/download?path=%2F&files=4stanford_lsg.png' />\n",
    "</figure>\n",
    "<font color=\"00FF00\">$\\delta_i$ ist die Orientierung des Rades in Bezug zum Roboterkoordinatensystem,</font>\n",
    "    \n",
    "<font color=\"red\">$\\alpha_i$ und $l_i$ geben die Position in Polarkoordinaten im Roboterkoordinatensystem an.</font>\n",
    "</td>\n",
    "</tr></table>    "
   ]
  },
  {
   "cell_type": "markdown",
   "id": "094bf170-8ef6-4e04-949a-2e772c7d9051",
   "metadata": {
    "tags": []
   },
   "source": [
    "## Aufgabe 6.1"
   ]
  },
  {
   "cell_type": "markdown",
   "id": "0abbceb8-8848-40a2-aaa5-1707cd0414e8",
   "metadata": {
    "jp-MarkdownHeadingCollapsed": true,
    "tags": []
   },
   "source": [
    "Zeichnen Sie die Radkoordinatensysteme in die Grafik ein und tragen Sie zu jedem Radkoordinatensystem die dazugehörigen Parameter in die angegebene Tabelle ein."
   ]
  },
  {
   "cell_type": "markdown",
   "id": "d4603723-ce62-4e05-9484-65bc41d3ef30",
   "metadata": {
    "tags": []
   },
   "source": [
    "## Aufgabe 6.2"
   ]
  },
  {
   "cell_type": "markdown",
   "id": "a9409cca-fcf2-4783-a9b4-e52c99a93649",
   "metadata": {
    "jp-MarkdownHeadingCollapsed": true,
    "tags": []
   },
   "source": [
    "Geben Sie die kinematische Gleichung der Rückwärtstransformation an.\n",
    "\n",
    "\n",
    "Die Kinematik des Rades $i$ kann durch die nachfolgende Gleichung beschrieben werden:\n",
    "\n",
    "$$\n",
    "\\dot{\\varphi}_i = \\frac{1}{r}\\begin{pmatrix} \\cos(\\delta_i), & \\sin(\\delta_i), & l_i  \\sin(\\delta_i - \\alpha_i)\\end{pmatrix}\n",
    "\\begin{pmatrix} \\dot{x}_\\mathrm{R} \\\\ \\dot{y}_\\mathrm{R} \\\\ \\dot{\\theta} \\\\ \\end{pmatrix}\n",
    "$$ \n",
    "\n",
    "Es gilt: $\\sin(x+y) = \\sin x \\cdot \\cos y + \\cos x \\cdot \\sin y$ ; $\\sin(x-y) = \\sin x \\cdot \\cos y - \\cos x \\cdot \\sin y$ ; $\\sin(\\arctan x) = \\frac{x}{\\sqrt{x^2 + 1}}$ ; $\\cos(\\arctan x) = \\frac{1}{\\sqrt{x^2 + 1}}$ .\n"
   ]
  },
  {
   "cell_type": "markdown",
   "id": "41d8716c-9592-4b41-a8b6-f52f87abbff8",
   "metadata": {
    "tags": []
   },
   "source": [
    "### Lösung:"
   ]
  },
  {
   "cell_type": "markdown",
   "id": "f86bce46-d8d0-4437-a5a7-0ae1a818a85f",
   "metadata": {},
   "source": [
    "<!--\n",
    "<div class=\"alert alert-warning\" role=\"alert\">\n",
    "-->\n",
    "<div class=\"alert alert-block alert-warning\">\n",
    "Mit den Parametern des ersten Rades:\n",
    "\n",
    "$\n",
    "\\dot{\\varphi}_1 = \\frac{1}{r}\\begin{pmatrix} \\cos\\left(+45\\tcdegree\\right), & \\sin\\left(+45\\tcdegree\\right), & \\sqrt{a^2 + b^2} \\sin\\left(+45\\tcdegree + \\arctan\\left(\\frac{b}{a}\\right)\\right)\\end{pmatrix}\n",
    "\\begin{pmatrix} \\dot{x}_\\mrm{R} \\\\ \\dot{y}_\\mrm{R} \\\\ \\dot{\\theta} \\\\ \\end{pmatrix}\n",
    "$ \n",
    "\n",
    "$\n",
    "\\dot{\\varphi}_1 = \\frac{1}{r}\\begin{pmatrix} \\frac{1}{\\sqrt{2}}, & \\frac{1}{\\sqrt{2}}, & \\sqrt{a^2 + b^2}\\left(\\sin\\left(+45\\tcdegree\\right) \\cos\\left(\\arctan\\left(\\frac{b}{a}\\right)\\right) + \\cos\\left(+45\\tcdegree\\right) \\sin\\left(\\arctan\\left(\\frac{b}{a}\\right)\\right) \\right)\\end{pmatrix}\n",
    "\\begin{pmatrix} \\dot{x}_\\mrm{R} \\\\ \\dot{y}_\\mrm{R} \\\\ \\dot{\\theta} \\\\ \\end{pmatrix}\n",
    "$\n",
    "\n",
    "$\n",
    "\\dot{\\varphi}_1 = \\frac{1}{\\sqrt{2}\\; r}\\begin{pmatrix} 1, & 1, & \\sqrt{a^2 + b^2}\\left(\\frac{1}{\\sqrt{\\frac{b^2}{a^2} + 1}} + \\frac{\\frac{b}{a}}{\\sqrt{\\frac{b^2}{a^2} + 1}}\\right)\\end{pmatrix}\n",
    "\\begin{pmatrix} \\dot{x}_\\mrm{R} \\\\ \\dot{y}_\\mrm{R} \\\\ \\dot{\\theta} \\\\ \\end{pmatrix}\n",
    "$\n",
    "\n",
    "$\n",
    "\\dot{\\varphi}_1 = \\frac{1}{\\sqrt{2}\\; r}\\begin{pmatrix} 1, & 1, & (a + b)\\end{pmatrix}\n",
    "\\begin{pmatrix} \\dot{x}_\\mrm{R} \\\\ \\dot{y}_\\mrm{R} \\\\ \\dot{\\theta} \\\\ \\end{pmatrix}\n",
    "$ \n",
    "\n",
    "Durch Einsetzen der Parameter der anderen Räder erhält man:\n",
    "\n",
    "$\n",
    "\\frac{1}{\\sqrt{2}\\; r}\\begin{pmatrix} 1, & -1, & -(a + b)\\end{pmatrix}\n",
    "\\begin{pmatrix} \\dot{x}_\\mrm{R} \\\\ \\dot{y}_\\mrm{R} \\\\ \\dot{\\theta} \\\\ \\end{pmatrix}\n",
    " = \\dot{\\varphi}_2\n",
    "$\n",
    "\n",
    "$\n",
    "\\frac{1}{\\sqrt{2}\\; r}\\begin{pmatrix} 1, & 1, & -(a + b)\\end{pmatrix}\n",
    "\\begin{pmatrix} \\dot{x}_\\mrm{R} \\\\ \\dot{y}_\\mrm{R} \\\\ \\dot{\\theta} \\\\ \\end{pmatrix}\n",
    " = \\dot{\\varphi}_3\n",
    "$\n",
    "\n",
    "$\n",
    "\\frac{1}{\\sqrt{2}\\; r}\\begin{pmatrix} 1, & -1, & (a + b)\\end{pmatrix}\n",
    "\\begin{pmatrix} \\dot{x}_\\mrm{R} \\\\ \\dot{y}_\\mrm{R} \\\\ \\dot{\\theta} \\\\ \\end{pmatrix}\n",
    " = \\dot{\\varphi}_4\n",
    "$ \n",
    "\n",
    "\n",
    "Durch Zusammenführung der Gleichungen erhält man die Rücktransformation:\n",
    "\n",
    "$\n",
    "\\left(\\begin{array}{c}\n",
    "\\dot{\\varphi}_{1} \\\\\n",
    "\\dot{\\varphi}_{2} \\\\\n",
    "\\dot{\\varphi}_{3} \\\\\n",
    "\\dot{\\varphi}_{4} \n",
    "\\end{array} \\right) = \n",
    "\\frac{1}{\\sqrt{2}\\;r}\n",
    "\\left(\\begin{array}{rrr}\n",
    " 1 & 1 &  (a+b) \\\\\n",
    " 1 & -1 & -(a+b) \\\\\n",
    " 1 & 1 & -(a+b) \\\\\n",
    " 1 & -1 &  (a+b)\n",
    "\\end{array} \\right)\n",
    "\\left(\\begin{array}{c}\n",
    "\\dot{x}_\\mrm{R}  \\\\\n",
    "\\dot{y}_\\mrm{R}  \\\\\n",
    "\\dot{\\theta}  \n",
    "\\end{array} \\right) \n",
    "$\n",
    "\n",
    "</div>"
   ]
  },
  {
   "cell_type": "markdown",
   "id": "4a846008-8e8f-4fa2-b582-0176e56cc152",
   "metadata": {},
   "source": [
    "### Ergänzen Sie den nachstehenden Code um Ihre Rechnung zu überprüfen"
   ]
  },
  {
   "cell_type": "code",
   "execution_count": 3,
   "id": "ce59944d-70e9-47bd-be9b-f6a7307b16c3",
   "metadata": {},
   "outputs": [
    {
     "data": {
      "text/latex": [
       "$$\\mathbf{\\dot{\\varphi}_i} = \\left(\\begin{matrix}\\frac{\\cos{\\left(\\delta_{i} \\right)}}{r_{i}} & \\frac{\\sin{\\left(\\delta_{i} \\right)}}{r_{i}} & - \\frac{l_{i} \\sin{\\left(\\alpha_{i} - \\delta_{i} \\right)}}{r_{i}}\\end{matrix}\\right)$$"
      ],
      "text/plain": [
       "<IPython.core.display.Latex object>"
      ]
     },
     "metadata": {},
     "output_type": "display_data"
    },
    {
     "data": {
      "text/latex": [
       "$$\\mathbf{J} = \\left(\\begin{matrix}\\frac{\\sqrt{2}}{2 r} & \\frac{\\sqrt{2}}{2 r} & \\frac{\\sqrt{a^{2} + b^{2}} \\sin{\\left(\\operatorname{atan}{\\left(\\frac{a}{b} \\right)} + \\frac{\\pi}{4} \\right)}}{r}\\\\\\frac{\\sqrt{2}}{2 r} & - \\frac{\\sqrt{2}}{2 r} & - \\frac{\\sqrt{a^{2} + b^{2}} \\sin{\\left(\\operatorname{atan}{\\left(\\frac{a}{b} \\right)} + \\frac{\\pi}{4} \\right)}}{r}\\\\\\frac{\\sqrt{2}}{2 r} & \\frac{\\sqrt{2}}{2 r} & - \\frac{\\sqrt{a^{2} + b^{2}} \\sin{\\left(\\operatorname{atan}{\\left(\\frac{a}{b} \\right)} + \\frac{\\pi}{4} \\right)}}{r}\\\\\\frac{\\sqrt{2}}{2 r} & - \\frac{\\sqrt{2}}{2 r} & \\frac{\\sqrt{a^{2} + b^{2}} \\sin{\\left(\\operatorname{atan}{\\left(\\frac{a}{b} \\right)} + \\frac{\\pi}{4} \\right)}}{r}\\end{matrix}\\right)$$"
      ],
      "text/plain": [
       "<IPython.core.display.Latex object>"
      ]
     },
     "metadata": {},
     "output_type": "display_data"
    },
    {
     "data": {
      "text/latex": [
       "$$\\mathbf{J} = \\left(\\begin{matrix}\\frac{\\sqrt{2}}{2 r} & \\frac{\\sqrt{2}}{2 r} & \\frac{\\sqrt{2} \\left(a + b\\right)}{2 r}\\\\\\frac{\\sqrt{2}}{2 r} & - \\frac{\\sqrt{2}}{2 r} & - \\frac{\\sqrt{2} \\left(a + b\\right)}{2 r}\\\\\\frac{\\sqrt{2}}{2 r} & \\frac{\\sqrt{2}}{2 r} & - \\frac{\\sqrt{2} \\left(a + b\\right)}{2 r}\\\\\\frac{\\sqrt{2}}{2 r} & - \\frac{\\sqrt{2}}{2 r} & \\frac{\\sqrt{2} \\left(a + b\\right)}{2 r}\\end{matrix}\\right)$$"
      ],
      "text/plain": [
       "<IPython.core.display.Latex object>"
      ]
     },
     "metadata": {},
     "output_type": "display_data"
    },
    {
     "data": {
      "text/latex": [
       "$$\\dot{\\mathbf{\\varphi}} = \\mathbf{J} \\cdot \\dot{\\mathbf{x}}_\\mathrm{R} = \\frac{\\sqrt{2}}{2 r} \\cdot \\left(\\begin{matrix}1 & 1 & a + b\\\\1 & -1 & - a - b\\\\1 & 1 & - a - b\\\\1 & -1 & a + b\\end{matrix}\\right) \\cdot \\dot{\\mathbf{x}}_\\mathrm{R}$$"
      ],
      "text/plain": [
       "<IPython.core.display.Latex object>"
      ]
     },
     "metadata": {},
     "output_type": "display_data"
    }
   ],
   "source": [
    "def wheel_vel(r, delta, alpha, l):\n",
    "      vel = Matrix([[cos(delta), sin(delta), l*sin(delta - alpha)]])\n",
    "      vel = 1/r*vel\n",
    "      return vel;\n",
    "\n",
    "# Definition der benötigten Symbole\n",
    "r_i, alpha_i, delta_i, l_i = symbols('r_i alpha_i delta_i l_i')\n",
    "\n",
    "# Ausgabe der allgemeinen Gleichung\n",
    "dot_phi = wheel_vel(r_i, delta_i, alpha_i, l_i)\n",
    "display_latex_result('\\\\mathbf{\\\\dot{\\\\varphi}_i}', dot_phi)\n",
    "\n",
    "# Einsetzen der Parameter des konkreten mobilen Roboters\n",
    "r, a, b, = symbols('r a b', positive=True)\n",
    "l = sqrt(a*a + b*b)\n",
    "J = Matrix([[wheel_vel(r,  pi/4, -atan(a/b),      l)],\n",
    "            [wheel_vel(r, -pi/4,  atan(a/b),      l)],\n",
    "            [wheel_vel(r,  pi/4,  pi - atan(a/b), l)],\n",
    "            [wheel_vel(r, -pi/4, -pi + atan(a/b), l)]])\n",
    "\n",
    "display_latex_result('\\\\mathbf{J}', J)\n",
    "\n",
    "# Vereinfachung der Matrix\n",
    "J = simplify(J)\n",
    "display_latex_result('\\\\mathbf{J}', J)\n",
    "\n",
    "# Herausziehen eines gemeinsamen Faktors\n",
    "fac = sqrt(2)/2/r\n",
    "Jf = J/fac\n",
    "res = \"$${} = {} \\cdot {} \\cdot {}$$\".format('\\\\dot{\\mathbf{\\\\varphi}} = \\mathbf{J} \\cdot \\\\dot{\\mathbf{x}}_\\mathrm{R}', latex(fac), latex(Jf, mat_delim='('), '\\\\dot{\\mathbf{x}}_\\mathrm{R}')\n",
    "display(Latex(res))"
   ]
  },
  {
   "cell_type": "markdown",
   "id": "0875652e-565f-43a5-a8ef-e64dd6a73bd6",
   "metadata": {},
   "source": [
    "Der Roboter soll im Weltkoordinatensystem vorwärts einen Kreis mit dem Radius 10m mit der Geschwindigkeit $\\dot{x}_\\mathrm{R} =$ 1m/s abfahren. Der Roboter hat die Abmessungen von\n",
    "$a =$ 0,2m und $b =$ 0,3m, sowie einen Radradius von $r =$ 0,1m.\n",
    "\n",
    "Die nachfolgende Animation visualisiert die Bewegung des Roboters beim Abfahren des Kurses\n",
    "\n",
    "<figure>\n",
    "<center>\n",
    "<img width='800' src='https://fh-dortmund.sciebo.de/s/esxLNzGVvbZZEm5/download?path=%2F&files=omni_wheel_circle.gif' />\n",
    "</figure>"
   ]
  },
  {
   "cell_type": "markdown",
   "id": "2b3e5f25-5911-4203-9c4b-e31fdc31e07f",
   "metadata": {
    "tags": []
   },
   "source": [
    "## Aufgabe 6.3"
   ]
  },
  {
   "cell_type": "markdown",
   "id": "e1de2ce8-3ea1-4fc8-8633-c3bab5dc4646",
   "metadata": {
    "jp-MarkdownHeadingCollapsed": true,
    "tags": []
   },
   "source": [
    "Wie groß ist die Drehgeschwindigkeit $\\dot{\\theta}$ des Roboters für den Kreis?"
   ]
  },
  {
   "cell_type": "markdown",
   "id": "cd32b8ac-a298-45ef-8fd2-e446d391000d",
   "metadata": {
    "tags": []
   },
   "source": [
    "### Lösung:"
   ]
  },
  {
   "cell_type": "markdown",
   "id": "b91f9644-0599-42dc-afda-e35ce158ca3c",
   "metadata": {},
   "source": [
    "<div class=\"alert alert-warning\" role=\"alert\">\n",
    "$\n",
    "s = 2 \\cdot \\pi \\cdot 10\\mathrm{m} = 62,8\\mathrm{m} \\; , \\quad t = \\frac{62,8m}{1 \\unitms} = 62,8s \\Rightarrow\n",
    "\\dot{\\theta} = \\frac{2\\pi}{t} = 0,1 \\unitrads\n",
    "$\n",
    "</div>"
   ]
  },
  {
   "cell_type": "code",
   "execution_count": 4,
   "id": "b0a30989-efc1-43d9-8217-886c2b8ed1c3",
   "metadata": {
    "colab": {
     "base_uri": "https://localhost:8080/",
     "height": 38
    },
    "id": "2_ZTdcyR6TH5",
    "outputId": "fd0ab3d1-b5b0-4405-b210-2eacc4845ec8"
   },
   "outputs": [
    {
     "data": {
      "text/latex": [
       "$$\\dot{\\theta} = \\frac{1}{10}$$"
      ],
      "text/plain": [
       "<IPython.core.display.Latex object>"
      ]
     },
     "metadata": {},
     "output_type": "display_data"
    }
   ],
   "source": [
    "R = 10\n",
    "v_x = 1\n",
    "s = 2 * pi * R\n",
    "t = s / v_x\n",
    "dot_theta = 2 * pi / t\n",
    "display_latex_result('\\\\dot{\\\\theta}', dot_theta)"
   ]
  },
  {
   "cell_type": "markdown",
   "id": "ba6d4b45-1690-4d76-a063-f9ab870a4cc8",
   "metadata": {
    "tags": []
   },
   "source": [
    "## Aufgabe 6.4"
   ]
  },
  {
   "cell_type": "markdown",
   "id": "82a3489b-846a-4d0d-95e8-30876da84eb5",
   "metadata": {},
   "source": [
    "Auf welche Winkelgeschwindigkeit müssen die Räder $\\dot{\\varphi}_1 \\dots \\dot{\\varphi}_4$ eingestellt werden."
   ]
  },
  {
   "cell_type": "markdown",
   "id": "73767686-ca68-4c4a-b1de-8d31f70e001b",
   "metadata": {
    "tags": []
   },
   "source": [
    "### Lösung:"
   ]
  },
  {
   "cell_type": "markdown",
   "id": "c7aa4ab8-a74a-4ee7-9663-ad27d3a1d718",
   "metadata": {},
   "source": [
    "<div class=\"alert alert-warning\" role=\"alert\">\n",
    "$\n",
    "\\left(\\begin{array}{c}\n",
    "\\dot{\\varphi}_{1} \\\\\n",
    "\\dot{\\varphi}_{2} \\\\\n",
    "\\dot{\\varphi}_{3} \\\\\n",
    "\\dot{\\varphi}_{4} \n",
    "\\end{array} \\right) = \n",
    "\\frac{1}{\\sqrt{2}\\;1\\mathrm{m}}\n",
    "\\left(\\begin{array}{rrr}\n",
    " 1 & 1 &  0,5\\mathrm{m} \\\\\n",
    " 1 & -1 & -0,5\\mathrm{m} \\\\\n",
    " 1 & 1 & -0,5\\mathrm{m} \\\\\n",
    " 1 & -1 &  0,5\\mathrm{m}\n",
    "\\end{array} \\right)\n",
    "\\left(\\begin{array}{c}\n",
    "1\\unitms  \\\\\n",
    "0  \\\\\n",
    "0,1\\unitrads  \n",
    "\\end{array} \\right) \n",
    "=\n",
    "\\left(\\begin{array}{c}\n",
    "7,4247\\\\\n",
    "6,7175\\\\\n",
    "6,7175\\\\\n",
    "7,4247\n",
    "\\end{array} \\right)\n",
    "$\n",
    "\n",
    "</div>"
   ]
  },
  {
   "cell_type": "markdown",
   "id": "6bccfc2d-8375-4553-aec9-955e09d74692",
   "metadata": {
    "tags": []
   },
   "source": [
    "### Ergänzen Sie den nachstehenden Code um Ihre Rechnung zu überprüfen"
   ]
  },
  {
   "cell_type": "code",
   "execution_count": 5,
   "id": "e8b332bd-1869-412c-b626-03aac09f1802",
   "metadata": {},
   "outputs": [
    {
     "data": {
      "text/latex": [
       "$$\\mathbf{J} = \\left(\\begin{matrix}5.0 \\sqrt{2} & 5.0 \\sqrt{2} & 2.5 \\sqrt{2}\\\\5.0 \\sqrt{2} & - 5.0 \\sqrt{2} & - 2.5 \\sqrt{2}\\\\5.0 \\sqrt{2} & 5.0 \\sqrt{2} & - 2.5 \\sqrt{2}\\\\5.0 \\sqrt{2} & - 5.0 \\sqrt{2} & 2.5 \\sqrt{2}\\end{matrix}\\right)$$"
      ],
      "text/plain": [
       "<IPython.core.display.Latex object>"
      ]
     },
     "metadata": {},
     "output_type": "display_data"
    },
    {
     "data": {
      "text/latex": [
       "$$\\dot{\\mathbf{\\varphi}} = \\left(\\begin{matrix}5.25 \\sqrt{2}\\\\4.75 \\sqrt{2}\\\\4.75 \\sqrt{2}\\\\5.25 \\sqrt{2}\\end{matrix}\\right)$$"
      ],
      "text/plain": [
       "<IPython.core.display.Latex object>"
      ]
     },
     "metadata": {},
     "output_type": "display_data"
    },
    {
     "data": {
      "text/latex": [
       "$$\\dot{\\mathbf{\\varphi}} = \\left(\\begin{matrix}7.42462120245875\\\\6.7175144212722\\\\6.7175144212722\\\\7.42462120245875\\end{matrix}\\right)$$"
      ],
      "text/plain": [
       "<IPython.core.display.Latex object>"
      ]
     },
     "metadata": {},
     "output_type": "display_data"
    }
   ],
   "source": [
    "# Einsetzen der konkreten Werte für die geometrischen Parameter des Roboters\n",
    "J = J.subs({r:0.1, a:0.2, b:0.3})\n",
    "#J = J.evalf()\n",
    "display_latex_result('\\\\mathbf{J}', J)\n",
    "\n",
    "# Multipizieren der Matrix J mit den Geschwindigkeiten in Roboterkoordinaten\n",
    "x_R = Matrix([1, 0, 0.1])\n",
    "dot_phi = J * x_R\n",
    "display_latex_result('\\dot{\\mathbf{\\\\varphi}}', dot_phi)\n",
    "\n",
    "# oder als Fießkommazahl\n",
    "display_latex_result('\\dot{\\mathbf{\\\\varphi}}', dot_phi.evalf())"
   ]
  },
  {
   "cell_type": "markdown",
   "id": "9e8a7a2d-2c5f-497f-a585-42705587de88",
   "metadata": {
    "tags": []
   },
   "source": [
    "## Animation des mobilen Roboters"
   ]
  },
  {
   "cell_type": "markdown",
   "id": "d14c826a-442d-4827-ba9a-aa2cde540c0e",
   "metadata": {},
   "source": [
    "Für die Animation des mobilen Roboters sind mehrere Pakete (matplotlib, ipympl, ipyfilechoose) erforderich, die in der requirements.txt angegeben sind:\n",
    "\n",
    "```\n",
    "pip install -r requirements.txt\n",
    "```"
   ]
  },
  {
   "cell_type": "code",
   "execution_count": 1,
   "id": "ef17097d-4ab4-4b2c-9968-ecfa5cd8b37a",
   "metadata": {},
   "outputs": [
    {
     "data": {
      "application/vnd.jupyter.widget-view+json": {
       "model_id": "ee07a882dde54ac1824fc879bec818c4",
       "version_major": 2,
       "version_minor": 0
      },
      "image/png": "[encoded data removed]",
      "text/html": [
       "\n",
       "            <div style=\"display: inline-block;\">\n",
       "                <div class=\"jupyter-widgets widget-label\" style=\"text-align: center;\">\n",
       "                    Figure\n",
       "                </div>\n",
       "                <img src='data:image/png;base64,iVBORw0KGgoAAAANSUhEUgAAA+gAAAMgCAYAAACwGEg9AAAAOXRFWHRTb2Z0d2FyZQBNYXRwbG90bGliIHZlcnNpb24zLjcuMywgaHR0cHM6Ly9tYXRwbG90bGliLm9yZy/OQEPoAAAACXBIWXMAAA9hAAAPYQGoP6dpAACNuklEQVR4nOzdd3gUZeP18bMpQCgJJdTQpHdQqnSkaOhduqBgpARRioogiiAqiAqIAiIgRapBaqQIgrTQOwKCSIdQkgDp2fcPfsxLHjokmdnd7+e6crlTdvfwPCyZs/c9Mza73W4XAAAAAAAwlZvZAQAAAAAAAAUdAAAAAABLoKADAAAAAGABFHQAAAAAACyAgg4AAAAAgAVQ0AEAAAAAsAAKOgAAAAAAFkBBBwAAAADAAijoAAAAAABYAAUdAAAAAAALoKADAAAAAGABFHQAAAAAACyAgg4AAAAAgAVQ0AEAAAAAsAAKOgAAAAAAFkBBBwAAAADAAijoAAAAAABYAAUdAAAAAAALoKADAAAAAGABFHQAAAAAACyAgg4AAAAAgAVQ0AEAAAAAsAAKOgAAAAAAFkBBBwAAAADAAijoAAAAAABYAAUdAAAAAAALoKADAAAAAGABFHQAAAAAACyAgg4AAAAAgAVQ0AEAAAAAsAAKOgAAAAAAFkBBBwAAAADAAijoAAAAAABYAAUdAAAAAAALoKADAAAAAGABFHQAAAAAACyAgg4AAAAAgAVQ0AEAAAAAsAAKOgAAAAAAFkBBBwAAAADAAijoAAAAAABYAAUdAAAAAAALoKADAAAAAGABFHQAAAAAACyAgg4AAAAAgAVQ0AEAAAAAsAAKOgAAAAAAFkBBBwAAAADAAijoAAAAAABYAAUdAAAAAAALoKADAAAAAGABFHQAAAAAACyAgg4AAAAAgAVQ0AEAAAAAsAAKOgAAAAAAFkBBBwAAAADAAijoAAAAAABYAAUdAAAAAAALoKADAAAAAGABFHQAAAAAACyAgg4AAAAAgAVQ0AEAAAAAsAAKOgAAAAAAFkBBBwAAAADAAijoAAAAAABYAAUdAAAAAAALoKADAAAAAGABFHQAAAAAACyAgg4AAAAAgAVQ0AEAAAAAsAAKOgAAAAAAFkBBBwAAAADAAijoAAAAAABYAAUdAAAAAAALoKADAAAAAGABFHQAAAAAACyAgg4AAAAAgAVQ0AEAAAAAsAAKOgAAAAAAFkBBBwAAAADAAijoAAAAAABYAAUdAAAAAAALoKADAAAAAGABFHQAAAAAACyAgg4AAAAAgAVQ0AEAAAAAsAAKOgAAAAAAFkBBBwAAAADAAijoAAAAAABYAAUdAAAAAAALoKADAAAAAGABFHQAAAAAACyAgg4AAAAAgAVQ0AEAAAAAsAAPswMgZSUkJOjcuXPKkCGDbDab2XEAAAAAmMRutysiIkK5cuWSmxtjt1ZAQXcx586dU548ecyOAQAAAMAiTp8+rdy5c5sdA6Kgu5wMGTJIuv0h9Pb2NjkNAAAAALOEh4crT548RkeA+SjoLubOtHZvb28KOgAAAABOfbUQTjQAAAAAAMACKOgAAAAAAFgABR0AAAAAAAugoAMAAAAAYAEUdAAAAAAALICCDgAAAACABVDQAQAAAACwAAo6AAAAAAAWQEEHAAAAAMACKOgAAAAAAFgABR0AAAAAAAugoAMAAAAAYAEUdAAAAAAALICCDgAAAACABVDQAQAAAACwAAo6AAAAAAAWQEEHAAAAAMACKOgAAAAAAFgABR0AAAAAAAugoAMAAAAAYAEUdAAAAAAALICCDgAAAACABVDQAQAAAACwAAo6AAAAAAAWQEEHAAAAAMACKOgAAAAAAFgABR0AAAAAAAugoAMAAAAAYAEUdAAAAAAALICCDgAAAACABVDQAQAAAACwAAo6AAAAAAAWQEEHAAAAAMACKOgAAAAAAFgABR0AAAAAAAugoAMAAAAAYAEUdAAAAAAALICCDgAAAACABVDQAQAAAACwAAo6AAAAAAAWQEEHAAAAAMACKOgAAAAAAFgABR0AAAAAAAugoAMAAAAAYAEUdAAAAAAALICCDgCAi/noo4/UsGFDffTRR2ZHAQAAd7HZ7Xa72SGQcsLDw+Xj46OwsDB5e3ubHQcAkMLi4uLk5eWluLg4eXh4KDIyUh4eHmbHAgCYgG5gPYygAwDgQn755RfFxcVJul3W586da3IiAABwBwUdAAAXERcXp08//TTRuk8//dQo7AAAwFwUdAAAXMQvv/yiY8eOJVp39OhRRtEBALAICjoAAC7gfqPndzCKDgCANVDQAQBwAXePnqdKlSrRfxlFBwDAGijoAAA4uf8dPb9zpd67r9jLKDoAAOajoAMA4OTuHj2vU6eOUqdOLUlKnTq1ateuLYlRdAAArICCDgCAE/vf0fNhw4Yl2n73MqPoAACYi4IOAIAT+9/R81q1aiXaXrt2bUbRAQCwCAo6AABO6lGj5/dbzyg6AADmoaADAOCkHjV6fgej6AAAWAMFHQAAJ7V48WLj8YNGz++3PSgoKLkiAQCAh/AwOwAAAEgeCxYs0OLFi7VmzZoHjp7fUbt2bb311luqX7++mjdvnjIBAQBAIja73W43OwRSTnh4uHx8fBQWFpbo/rcAANeRO3dunT17Vn5+fjpz5ozZcQAAJqEbWA9T3AEAAAAAsAAKOgAAAAAAFkBBBwAAAADAAijoAAAAAABYAAUdAAAAAAALoKADAAAAAGABFHQAAAAAACyAgg4AAAAAgAVQ0AEAAAAAsAAKOgAAAAAAFkBBBwAAAADAAijoAAAAAABYAAUdAAAAAAALoKADAAAAAGABFHQAAAAAACyAgg4AAAAAgAVQ0AEAAAAAsAAKOgAAAAAAFkBBBwAAAADAAijoAAAAAABYAAXdQjZs2KAmTZooV65cstlsWrx4caLtdrtdH330kXLmzCkvLy/Vq1dPx44dMycsAAAAACBJUdAt5ObNmypbtqy+++67+27/8ssvNW7cOP3www/atm2b0qVLp5dffllRUVEpnBQAAAAAkNQ8zA6A/8/f31/+/v733Wa32/XNN99oyJAhatasmSTp559/Vvbs2bV48WK1a9cuJaMCAExmt9sVExOjW7duPfQnPj5eCQkJSkhIkN1uV0JCgm7duiVJunXrlqZNmyY3NzfZbDa5ubnJzc1N7u7uSps27UN/UqVKJZvNZvL/CgAAOBcKuoM4efKkLly4oHr16hnrfHx8VLlyZW3ZsuWBBT06OlrR0dHGcnh4eLJnBQA8noSEBIWFhSk0NDTRz+XLl+9ZFx4eft/y/SyuXbum119//amee78S7+3tLV9f30Q/WbNmvWedj4+P3NyYxAcAwP+ioDuICxcuSJKyZ8+eaH327NmNbfczatQoffLJJ8maDQBwr4iICP333386deqU/vvvP+Px2bNnExXvZy3ZZomPj1dERIQiIiKe+Lnu7u6JCrufn5/y5cunvHnzKm/evMbjDBkyJENyAACsi4Lu5D744AO9++67xnJ4eLjy5MljYiIAcHx2u12XLl3SyZMn7yngd/57/fr1JH3PtGnTKl26dEqXLt0jp5/f2cfLy0seHh7G9PU7/33//fd1/fp1ZcyYUZ9//nmi6e92u11xcXGKjIzUrVu3dPPmzUdOo79586ax3+OIj4/XxYsXdfHixYfulylTpntK+53Hzz33nLJly8Y0ewCAU6GgO4gcOXJIki5evKicOXMa6y9evKhy5co98HmpU6dW6tSpkzseADil+Ph4nTx5UkeOHNHhw4d1+PBh4/GzFPC0adM+1lTwO+szZ84sT0/PJPtzffrpp7p+/brSpUungICAJHvd2NhYXb169b5T9O+3LjQ09KGl/tq1a7p27Zr27t173+0ZM2ZU8eLFVaxYMRUvXtz4yZ8/v9zd3ZPszwUAQEqhoDuI5557Tjly5NDatWuNQh4eHq5t27apZ8+e5oYDAAcXGRmpo0eP3lPCjx49mug6Ho/Dw8NDefLkuWfk985/c+fOrfTp0yfTn8Rcnp6eyp49+z2nYz3MjRs3dObMmXtmINyZlXD69GnFxcXd97nXr1/Xli1btGXLlkTrU6dOrSJFihiF/U6BL1KkiLy8vJ7pzwgAQHKioFvIjRs3dPz4cWP55MmT2rNnjzJnzqy8efOqX79+GjFihAoXLqznnntOQ4cOVa5cudS8eXPzQgOAg7l586b27NmjnTt3aufOndqxY4eOHDmihISEx36NPHnyqHjx4ipUqNA9U69z5MjB6O0TSJ8+vYoVK6ZixYrdd3t8fLwuXLhwz6kEx44d05EjR3T69Ol7nhMdHa39+/dr//79ida7ubmpWLFiqlChgsqXL6/y5curXLlySpcuXbL82QAAeFI2u91uNzsEblu/fr3q1Klzz/rXXntN06dPl91u17BhwzR58mRdv35d1atX18SJE1WkSJHHfo/w8HD5+PgoLCxM3t7eSRkfACznxo0bicr4zp07H7uMe3h4qHDhwvdMny5atKjDj4Dnzp1bZ8+elZ+fn86cOWN2nGdy48YNHTly5J7TEI4dO/bAkfe73Sntdwp7hQoVKO0AXAbdwHoo6C6GDyEAZxUXF6c9e/Zo06ZNT1TGPTw8VKpUKZUuXTrRlOiCBQsm6XnfVuJMBf1BYmNj9c8//yQq7vv379eBAwceWdz/t7RXq1ZN5cqVk4cHEw8BOBe6gfVQ0F0MH0IAziIqKkrbt2/Xhg0btGHDBm3evFk3btx46HM8PT1VqlSpRKOlpUuXdrmLabpCQX+QqKgo7d+/P9GsigMHDig2Nvahz0ufPr2qVaumGjVqqGbNmqpYsaLSpEmTQqkBIHnQDayHgu5i+BACcFQRERHasmWLNm7cqA0bNmjbtm0PvYCbp6enSpcubZTx8uXLu2QZvx9XLuj3c+ec9btL+/79+x9a2lOnTq3KlSurZs2aqlmzpl588UWHP/UBgOuhG1gPBd3F8CEE4CjCw8O1fv16Y4R8165dio+Pf+D+OXPmVK1atVSjRg1VrlxZpUqVoow/AAX90aKjo3XgwAFt27ZNGzdu1J9//qnz588/cH93d3e98MILRmGvXbs2v2cBWB7dwHoo6C6GDyEAq7Lb7dq3b5+Cg4O1cuVKbdq06aHnChcoUMAoQzVr1lSBAgVks9lSMLHjoqA/ObvdrhMnThhfGG3YsEEnTpx44P4eHh6qVq2a/P395e/vr9KlS/P3E4Dl0A2sh4LuYvgQArCSsLAwrV69WitXrlRwcLDOnTv3wH1LlixplPEaNWrIz88vBZM6Fwp60jhz5ow2btxonHZx8ODBB+7r5+enV155Rf7+/qpXr558fHxSMCkA3B/dwHoo6C6GDyEAM9ntdu3du1crV67UypUrtXnz5gdOWy9UqJBeeeUV1a1bV9WrV5evr28Kp3VeFPTkERoaqr/++ktr167VypUr9c8//9x3Pw8PD1WtWtUo7GXLlmV0HYAp6AbWQ0F3MXwIAaS0mJgYrVmzRosWLdLKlSsfeB5vmjRpVKdOHWNKcKFChVI4qeugoKeM48ePG19GrVu3TlFRUffdL2fOnPL391erVq1Ur149pUqVKoWTAnBVdAProaC7GD6EAFJCVFSUVq1apYULF2rJkiUKCwu7736FCxc2CnmtWrXk5eWVwkldEwU95UVGRurPP/80CvuxY8fuu5+Pj4+aNm2qNm3aqH79+tzKDUCyohtYDwXdxfAhBJBcIiMjFRwcrIULF2rp0qWKiIi4Zx8vLy+99NJLxtTeggULmpAUFHTz/fPPP4lG1yMjI+/ZJ0OGDGrSpInatGmjl19+mS+wACQ5uoH1UNBdDB9CAEnp1q1bWrFihRYuXKhly5bp5s2b9+zj7e2tpk2bqnXr1mrQoAElwwIo6NYSGRmZaMZJeHj4PfukS5dOjRs3Vps2beTv76+0adOakBSAs6EbWA8F3cXwIQTwrGJiYrRs2TL98ssvWrFihW7dunXPPhkzZlSzZs3Upk0b1atXj/uRWwwF3bqio6O1evVqLVy4UL/99puuX79+zz5p06ZVw4YN1b59ezVu3Jhz1gE8NbqB9VDQXQwfQgBPw263a/fu3Zo+fbrmzJmjK1eu3LNP5syZ1aJFC7Vu3VovvfQSpcHCKOiOISYmRn/88YcWLFigxYsX6+rVq/fskyVLFnXs2FFdu3ZVuXLluBo8gCdCN7AeCrqL4UMI4ElcunRJs2bN0vTp07V///57tvv6+qply5Zq3bq1ateuLU9PTxNS4klR0B1PbGys1q9frwULFigoKEihoaH37FOmTBl17dpVHTt2VLZs2UxICcDR0A2sh4LuYvgQAniUmJgYLV++XNOnT9eKFSsUFxeXaHuaNGnUokULvfbaa6pbt648PDxMSoqnRUF3bHFxcVq7dq1mzJihoKCge27f5uHhoYYNG6pr165q1KgRs1kAPBDdwHoo6C6GDyGAB7kzhX327Nn3ncL+4osvqmvXrmrbtq0yZsyY8gGRZCjozuP69euaP3++pk+fri1bttyz3dfXN9EUeAC4G93AeijoLoYPIYC7RUZG6pdfftGECRO0e/fue7bnypVLXbp0UdeuXVW0aFETEiI5UNCd05EjRzRjxgz9/PPPOnfu3D3bn3/+efXp00ft27fnbgoAJNENrIiC7mL4EAKQpH///Vfff/+9fvzxx3suPJU6dWq1aNFCXbt2Vb169eTu7m5SSiQXCrpzi4+P15o1azR9+nQFBQUpOjo60fbMmTOre/fu6tWrl/Lly2dSSgBWQDewHgq6i+FDCLguu92uP/74Q+PHj9fSpUuVkJCQaHuFChX0xhtvqF27dkxhd3IUdNdx7do1zZs3Tz/++KN27tyZaJubm5uaNGmiwMBAvfTSS1wBHnBBdAProaC7GD6EgOuJiIjQzJkzNWHCBB0+fDjRNk9PT7366qsKDAxUpUqVTEqIlEZBd03btm3ThAkTNG/ePMXGxibaVrx4cfXp00ddunRR+vTpTUoIIKXRDayHgu5i+BACruPo0aP67rvvNH36dIWHhyfalitXLvXs2VM9evRQ9uzZTUoIs1DQXdvFixc1efJk/fDDD/ecq+7t7a2uXbuqd+/eKlKkiEkJAaQUuoH1UNBdDB9CwPn99ddfGjVqlFasWHHPtho1aigwMFDNmzfnnuUujIIO6fa91YOCgjRhwgRt3Ljxnu0NGzbUBx98oOrVq5uQDkBKoBtYj5vZAQAAz85utys4OFg1a9ZUjRo1EpVzLy8vde/eXXv27NGGDRvUpk0byjkAeXp6qm3bttqwYYN2796tN954Q2nSpDG2r1ixQjVq1FDNmjUVHBwsxnQAIPlR0AHAgcXHx2vBggUqX768/P39E42C5c2bV6NHj9aZM2c0ZcoUlS1b1sSkAKysXLly+vHHH3X27FmNHj1aefPmNbZt3LhR/v7+Kl++vBYsWKD4+HgTkwKAc6OgA4ADiomJ0U8//aQSJUqobdu2ie5hXqxYMc2YMUPHjx/XgAEDlDlzZhOTAnAkmTNn1oABA3T8+HFNnz5dxYoVM7bt3r1bbdu2VYkSJTRt2jTFxMSYmBQAnBMFHQAcyK1btzRu3DgVLFhQb7zxho4ePWpsK1++vBYtWqSDBw+qS5cuTGMH8NQ8PT312muv6eDBg1q0aJHKly9vbDt69Khef/11FSpUSOPGjdOtW7dMTAoAzoWCDgAOIDw8XJ999pny5cunt99+O9GFvWrXrq3ff/9d27dvV8uWLeXmxj/tAJKGm5ubWrZsqe3bt+v3339XrVq1jG2nT5/W22+/rfz58+uzzz67524RAIAnx1EcAFhYVFSUvvrqKxUoUEAffvihQkNDjW2NGzfWpk2btG7dOjVo0EA2m83EpACcmc1mU4MGDbR+/Xpt2rRJjRs3NrZdvnxZH374oQoUKKCxY8cqKirKxKQA4Ngo6ABgQXFxcZo6daoKFy6sAQMG6MqVK5Juj2a1b99ee/fu1dKlS1W1alWTkwJwNVWrVtXSpUu1Z88etWvXzpi1c+XKFfXv31+FCxfW1KlTFRcXZ3JSAHA8FHQAsBC73a6FCxeqVKlS6t69uzGV3WazqWPHjjpy5IjmzJmjMmXKmJwUgKsrW7asfvnlFx05ckQdO3Y0ZvGcOXNG3bt3V6lSpbRo0SJuzwYAT4CCDgAWsWbNGlWqVElt2rTR33//baxv3Lix9uzZo1mzZqlw4cImJgSAexUuXFizZs3S7t271ahRI2P933//rdatW6tSpUpas2aNiQkBwHFQ0AHAZCEhIapbt67q16+vHTt2GOurV6+ujRs3aunSpYyYA7C8smXLatmyZdq4caOqV69urN+xY4fq16+vevXqafv27SYmBADro6ADgEmOHDmiVq1aqXLlyvrjjz+M9WXKlNHy5cu1YcOGRAe5AOAIqlevrg0bNmj58uWJvlxcu3atKlWqpFatWunIkSMmJgQA66KgA0AKCw8PV//+/VW6dGn9+uuvxvoCBQpozpw52r17txo2bMhV2QE4LJvNpoYNG2r37t2aPXu2ChQoYGz79ddfVbp0aQ0YMIBbswHA/6CgA0AKSUhI0PTp01WkSBGNHTvWuMJxjhw5NHHiRB0+fFjt27fnPuYAnIabm5s6dOigw4cPa+LEicqRI4ek23eq+Oqrr1SkSBHNmDFDCQkJJicFAGvgKBAAUsCOHTtUrVo1devWTRcvXpQkpUmTRsOGDdPx48fVs2dPpUqVyuSUAJA8UqVKpZ49e+r48eMaNmyY0qRJI0m6ePGiunbtqmrVqiW6BgcAuCoKOgAko0uXLql79+6qVKmStm7daqxv2bKlDh8+rI8//ljp0qUzMSEApJx06dLp448/1uHDh9WyZUtj/datW1WpUiX16NFDly9fNjEhAJiLgg4AySAuLk7jxo1TkSJFNHXqVOM+wMWLF9fq1au1aNEi5c+f39yQAGCS/Pnza9GiRVq1apWKFy8uSbLb7frxxx9VuHBhjRs3zjgNCABcCQUdAJLYunXrVK5cOb399tsKCwuTJHl7e2vs2LHau3ev6tWrZ3JCALCG+vXra+/evRo7dqy8vb0lSWFhYXr77bf1/PPPa926dSYnBICURUEHgCRy6dIltW/fXi+99JIOHjxorO/WrZuOHj2qd955R56eniYmBADr8fT01DvvvKO///5bXbt2NdYfOHBAL730ktq3b8+0dwAug4IOAM/Ibrdr9uzZKlGihObOnWusr1ixorZu3aqffvpJ2bNnNzEhAFhfjhw5NG3aNG3dulUVK1Y01s+dO1fFixfXnDlzjNOFAMBZUdAB4BmcOXNGTZo0UadOnXTlyhVJUubMmfXjjz9q69atqly5sskJAcCxVK5cWVu3btWPP/6ozJkzS5KuXLmijh07qmnTpjpz5ozJCQEg+VDQAeApJCQkaPLkySpZsqSWL19urG/btq0OHz6sN954g/uZA8BTcnNz0xtvvKFDhw6pTZs2xvply5apZMmSmjx5MqPpAJwSR48A8ISOHz+uunXrKiAgQOHh4ZJuT80MCgrSvHnzlC1bNpMTAoBzyJ49u+bPn69ff/1VOXLkkCSFh4crICBAdevW1T///GNyQgBIWhR0AHhM8fHx+uqrr1SmTBmtX7/eWN+tWzcdOnRIzZs3Ny0bADizFi1a6NChQ+rWrZuxbt26dSpdurTGjh2r+Ph4E9MBQNKhoAPAYzhw4ICqVq2qAQMGKDIyUpKUL18+rVq1Sj/99JMyZcpkckIAcG6ZMmXSTz/9pN9//1358uWTJEVGRqp///6qWrVqortnAICjoqADwEMkJCRozJgxeuGFFxQSEiJJstls6tu3rw4cOKD69eubnBAAXEuDBg104MABBQYGymazSZJCQkL0/PPPa8yYMUpISDA5IQA8PQo6ADzA+fPn9fLLL2vgwIGKjY2VJBUtWlQbN27Ut99+q/Tp05ucEABcU/r06TVu3Dht3LhRRYsWlSTFxsZq4MCBeuWVV3T+/HmTEwLA06GgA8B9LF26VGXKlNGaNWsk3R41HzRokPbs2aNq1aqZnA4AIEnVqlXTnj17NHDgQGM0ffXq1SpTpoyWLVtmcjoAeHIUdAC4S2RkpPr06aOmTZsqNDRUkpQrVy6tXr1aX3zxhdKkSWNyQgDA3dKkSaMvv/xSq1evVs6cOSVJoaGhatKkiQIDA43rhgCAI6CgA8D/OXDggCpVqqTvvvvOWNesWTPt3btXdevWNTEZAOBR6tatq3379qlp06bGugkTJqhSpUo6cOCAickA4PFR0AG4PLvdru+++04VKlQwDuLSpEmj77//XkFBQfL19TU5IQDgcfj6+mrx4sWaOHGiMePpwIEDqlixoiZOnCi73W5yQgB4OAo6AJcWGhqqZs2aqU+fPoqOjpYklS5dWjt27NBbb71lnNMIAHAMNptNPXv21I4dO1S6dGlJUlRUlHr37q1mzZoZpy8BgBVR0AG4rPXr16tMmTJaunSpsa5v374KCQlRyZIlTUwGAHhWJUuWVEhIiAIDA411dy4Aun79evOCAcBDUNABuBy73a7Ro0erbt26xq14smbNqmXLlunbb7/lQnAA4CTSpEmjcePGadmyZcbpSufPn1e9evU0ZswYprwDsBwKOgCXEhERoTZt2mjQoEFKSEiQJNWrV0979+5Vo0aNTE4HAEgOjRo10r59+1SvXj1JUnx8vAYOHKi2bdsqIiLC5HQA8P9R0AG4jMOHD6tSpUpatGiRsW7o0KEKDg42bs0DAHBOOXPmVHBwsIYMGWKsW7hwoSpVqqTDhw+bmAwA/j8KOgCX8Ouvv6pixYo6cuSIJMnHx0dLlizR8OHD5e7ubnI6AEBKcHd316effqolS5bIx8dHknTkyBFVqlRJv/76q8npAICCDsDJJSQkaOjQoWrVqpVu3rwpSSpTpox27NihJk2amJwOAGCGJk2aJLrK+40bN9SqVSt99NFHxulPAGAGCjoApxUeHq7mzZtrxIgRxroOHTpoy5YtKlSokInJAABmK1SokLZs2aIOHToY6z799FO1aNFC4eHhJiYD4Moo6ACc0tGjR1W5cmXjFmpubm4aM2aMZs2apbRp05qcDgBgBenSpdOsWbM0ZswYubndPixesmSJqlSpoqNHj5qcDoAroqADcDpr165VpUqVjPPNM2XKpODgYPXv3182m83kdAAAK7HZbOrfv79WrlypjBkzSvr/FxVdu3atueEAuBwKOgCnMnPmTL3yyisKCwuTJJUsWVLbt29X/fr1TU4GALCyBg0aaPv27SpZsqQkKSwsTP7+/po5c6bJyQC4Ego6AKdgt9s1cuRIdenSRXFxcZJuXwRoy5YtKliwoMnpAACO4M556Y0bN5YkxcbGqkuXLho5cqTsdrvJ6QC4Ago6AIcXFxenN998M9G9bXv27KmgoCBlyJDBxGQAAEeTIUMGBQUFqWfPnsa6IUOGKCAgwPgCGACSCwUdgEO7ceOGmjZtqh9//NFY98UXX+i7777j/uYAgKfi4eGh7777Tp9//rmxbsqUKWrWrJlu3LhhYjIAzo6CDsBhnT9/XrVq1dLKlSslSalSpdKcOXM0aNAgLgYHAHgmNptN7733nmbPni1PT09J0ooVK1SrVi1duHDB5HQAnBUFHYBDOnz4sF588UXt2rVLkpQxY0atWrVK7du3NzkZAMCZdOjQQatWrZKPj48kadeuXapSpYoOHz5scjIAzoiCDsDhbNiwQVWrVtWpU6ckSXnz5tWmTZtUq1Ytk5MBAJxR7dq1tWnTJuXJk0eSdOrUKVWrVk0bNmwwORkAZ0NBB+BQfv31V9WvX1/Xr1+XJD3//PPasmWLSpQoYW4wAIBTK1mypLZu3apy5cpJkq5du6b69evr119/NTcYAKdCQQfgMH755Re1bdtWMTExkqRXXnlFf/75p3LlymVyMgCAK8iVK5c2bNigl19+WZIUExOjtm3bau7cuSYnA+AsKOgAHML06dPVsWNHxcfHS5K6dOmiJUuWcBs1AECKypAhg5YuXaouXbpIkuLj49WxY0fNmDHD5GQAnAEFHYDlTZ48Wd26dZPdbpckvfnmm5o2bZpxVV0AAFKSp6enpk2bph49ekiSEhIS1K1bN02ePNnkZAAcHQUdgKWNGzdOAQEBxnLfvn31ww8/yM2Nf74AAOZxc3PTpEmTFBgYKEmy2+0KCAjQ+PHjTU4GwJFxhAvAskaPHq23337bWB44cKC++eYb7nEOALAEm82mb7/9VgMGDDDW9e3bV2PGjDExFQBHRkEHYEkjRozQoEGDjOWhQ4fqiy++oJwDACzFZrPpyy+/1JAhQ4x1AwcO1MiRI01MBcBRUdABWIrdbteQIUM0dOhQY92IESM0fPhwyjkAwJJsNps+/fRTffrpp8a6O7/L7lw/BQAeBwUdgGXY7XYNGjQo0ajDmDFj9OGHH5qYCgCAxzNkyBCNHj3aWB4xYoTee+89SjqAx0ZBB2AZw4YNS3Te3vjx49W/f38TEwEA8GQGDBigcePGGcujR4/Wxx9/bF4gAA6Fgg7AEr7++utEUwMnTZqkPn36mJgIAICnExgYqEmTJhnLw4cP1zfffGNeIAAOg4IOwHTTp0/Xu+++ayx/++23evPNN01MBADAs3nzzTcTlfJ33nlHM2bMMC8QAIdAQQdgqqCgIL3xxhvG8scff6y+ffuamAgAgKTx9ttva9iwYcbyG2+8ocWLF5sXCIDlUdABmGbt2rVq166dEhISJN2+d+xHH31kcioAAJLOsGHDFBgYKEmKj4/Xq6++qrVr15qcCoBVUdABmGLbtm1q1qyZYmJiJEldunTR119/za3UAABOxWaz6ZtvvlHnzp0lSTExMWrWrJlCQkJMTgbAiijoAFLcgQMH5O/vr5s3b0qSmjZtqqlTp8rNjX+SAADOx83NTVOnTlXTpk0lSTdv3pS/v78OHjxocjIAVsPRMIAUdfLkSTVo0EDXrl2TJNWpU0fz5s2Th4eHyckAAEg+np6emjdvnmrXri1Junr1qho0aKCTJ0+aGwyApVDQAaSYS5cuqV69ejp//rwkqWLFivrtt9+UJk0ak5MBAJD80qRJoyVLlqhChQqSpHPnzql+/fq6dOmSyckAWAUFHUCKiIqKUvPmzXXixAlJUokSJbRixQplyJDB5GQAAKScDBkyaOXKlSpevLgk6Z9//lGLFi0UFRVlcjIAVkBBB5Ds7Ha7unfvri1btkiS/Pz89Pvvv8vX19fkZAAApDxfX1+tWrVKfn5+kqTNmzerR48estvtJicDYDYKOoBk99lnn2n27NmSpLRp02rp0qXKnTu3yakAADBP7ty5tWTJEqVNm1aSNGvWLI0aNcrkVADMRkEHkKwWLlyoIUOGGMuzZs3S888/b2IiAACs4YUXXtDMmTON5Q8//FCLFi0yMREAs1HQASSbnTt3qkuXLsbyqFGj1KJFCxMTAQBgLS1bttRnn31mLHfu3Fm7du0yMREAM1HQASSLs2fPqmnTpoqMjJQkdenSRe+9957JqQAAsJ73339fnTt3liRFRkaqSZMmOnfunMmpAJiBgg4gyd26dUvNmjUzDi6qVaumyZMny2azmZwMAADrsdlsmjJliqpWrSrp9u3XmjZtqlu3bpmcDEBKo6ADSFIJCQnq0qWLdu7cKUnKnz+/goKClDp1apOTAQBgXalTp1ZQUJDy588v6fZpYq+99poSEhLMDQYgRVHQASSpTz75xLjATYYMGbRs2TJlzZrV5FQAAFhftmzZtHTpUmXIkEHS7QutfvLJJyanApCSKOgAkkxwcLCGDx8uSXJzc9O8efNUsmRJk1MBAOA4SpUqpblz58rN7fZh+qeffqrff//d5FQAUgoFHUCSOHPmjDp16mQsf/755/L39zcxEQAAjqlhw4b6/PPPJUl2u12dOnXSmTNnTE4FICVQ0AE8s7i4OLVr105XrlyRJDVp0kQDBgwwORUAAI6rf//+aty4sSQpNDRU7du3V1xcnMmpACQ3CjqAZzZkyBBt2rRJkpQvXz5Nnz6dK7YDAPAM3NzcNGPGDOXNm1eS9Ndff2no0KEmpwKQ3CjoDubjjz+WzWZL9FOsWDGzY8GFLV++XF988YUkycPDQ/PmzVPmzJlNTgUAgOPLnDmz5s2bJw8PD0m3Tx9bsWKFyakAJCcKugMqWbKkzp8/b/z89ddfZkeCi/rvv//UpUsXY/nLL79U5cqVTUwEAIBzqVKlivFFuCR17txZp0+fNjERgOREQXdAHh4eypEjh/Hj6+trdiS4oNjYWLVr105Xr16VJDVr1kz9+vUzNxQAAE7onXfeUdOmTSVJV69eVbt27RQbG2tyKgDJgYLugI4dO6ZcuXKpQIEC6tixo/77778H7hsdHa3w8PBEP0BSGDx4sLZs2SJJyp8/v6ZNm8Z55wAAJAObzabp06crX758kqTNmzfrww8/NDkVgORAQXcwlStX1vTp0xUcHKzvv/9eJ0+eVI0aNRQREXHf/UeNGiUfHx/jJ0+ePCmcGM5o6dKlGjNmjCTJ09NT8+fPV6ZMmUxOBQCA88qUKZPmz58vT09PSdLo0aO1bNkyk1MBSGo2u91uNzsEnt7169eVL18+jR07Vm+88cY926OjoxUdHW0sh4eHK0+ePAoLC5O3t3dKRoWTuHTpkkqWLKnQ0FBJ0rfffqu+ffuanArAk8idO7fOnj0rPz8/7q0MOJhvv/3WOKUsa9asOnjwoLJmzWpuKDis8PBw+fj40A0shBF0B5cxY0YVKVJEx48fv+/21KlTy9vbO9EP8LTsdrt69epllPNmzZopMDDQ5FQAALiOvn37GuejX758Wb179zY5EYCkREF3cDdu3NA///yjnDlzmh0FLmD+/PlatGiRJClLliyaNGkS550DAJCCbDabJk+erCxZskiSFixYoPnz55ucCkBSoaA7mAEDBujPP//Uv//+q82bN6tFixZyd3dX+/btzY4GJ3fhwgX16tXLWJ44caKyZ89uYiIAAFxT9uzZ9d133xnLvXr10sWLF01MBCCpUNAdzJkzZ9S+fXsVLVpUbdu2VZYsWbR161bOPUKystvteuutt4xbqrVp00Zt27Y1ORUAAK6rbdu2at26tSTpypUr6tmzp7i0FOD4uEici+FCEHgas2fPVqdOnSRxQRrAGXCROMA5XL58WSVLltTly5cl3f593aFDB5NTwZHQDayHEXQAD3X+/PlEF4L7/vvvKecAAFhA1qxZ9f333xvLffr00fnz501MBOBZUdABPJDdbldAQICuXbsmSWrfvr1atWplcioAAHBHq1at1K5dO0nStWvXFBAQwFR3wIFR0AE80MyZM7V06VJJty9IM378eJMTAQCA/zVhwgTjwq1Lly7VrFmzTE4E4GlR0AHc14ULF9S3b19jedKkScYtXQAAgHXcufXpHX379tWFCxeS5b1++eUXeXl5JZpK361bN5UpU0ZhYWHJ8p6AK6GgA7iv9957z/hF26lTJzVr1szkRAAA4EGaNWumjh07SpKuX7+u999/P1nep127dipSpIg+++wzSdKwYcO0Zs0arVy5Uj4+PsnynoAroaADuMemTZv0888/S5IyZcqkr7/+2uREAADgUb7++mtlzJhRkjRjxgxt3rw5yd/DZrNp5MiRmjJlikaOHKnx48crODhYfn5+kqSxY8fKz89PZcuWVZEiRbRq1aokzwA4Mwo6gETi4+PVp08fY3nEiBHy9fU1MREAAHgcWbNm1YgRI4zlPn36KD4+Psnfp3HjxipRooSGDx+uoKAglSxZ0th24MABjRkzRnv37tWIESM0dOjQJH9/wJlR0AEkMmnSJO3Zs0eSVK5cOQUEBJgbCAAAPLaAgACVLVtWkrR7925Nnjw5yd8jODhYR44cUXx8vHFxujsOHDigwoULS5IKFCigVKlSJfn7A86Mgg7AcPnyZX344YfG8oQJE+Tu7m5iIgAA8CQ8PDw0YcIEY/nDDz9UaGhokr3+rl271LZtW02dOlV169ZNNEJut9t1+PBhFSlSRPHx8frpp58YQQeeEAUdgOHDDz/U9evXJUmdO3dWtWrVzA0EAACeWPXq1dWpUydJt++NfveX78/i33//VaNGjTR48GC1b99ew4cP16JFi7Rr1y5J0smTJxUdHa2aNWvK19dXN2/eVIMGDZLkvQFXYbPb7XazQyDlhIeHy8fHR2FhYfL29jY7Dixk+/btqly5sux2uzJkyKCjR48qR44cZscCkAxy586ts2fPys/PT2fOnDE7DoBkcP78eRUtWlQRERGy2WwKCQlRhQoVnvr1rl69qqpVq6p27dr64YcfjPWNGjVSfHy8goODtWTJEk2ZMkVLly7V6dOnVaJECR05csS4gBysh25gPYygA1BCQoJ69+6tO9/XffLJJ5RzAAAcWM6cOfXxxx9Luj31vHfv3kpISHjq18ucObOOHDmSqJxL0vLlyxUcHCzp9vnn5cqVkyTlyZNHjRs3NrYBeDwUdACaNm2atm/fLkkqUaJEoqu4AwAAxxQYGKjixYtLkkJCQjR9+vRkfb+7C7okNWnShNusAU+IKe4uhmks+F83btxQgQIFdPnyZUnS2rVr9dJLL5mcCkByYoo74DrWrl2revXqSbp9G7YTJ04offr0JqeCVdANrIcRdMDFffvtt0Y5b926NeUcAAAnUrduXbVq1UrS7bu1jBs3zuREAB6Ggg64sGvXrmn06NGSJDc3N40YMcLkRAAAIKmNGDFCbm63D/u//PJLXbt2zeREAB6Egg64sNGjRyssLEyS1LVrVxUtWtTkRAAAIKkVK1ZMr732miQpLCxMY8aMMTkRgAfhHHQXw3kmuOPChQsqWLCgbt26JU9PTx07dkz58uUzOxaAFMA56IDr+ffff1WkSBHFxsYqbdq0OnHihLJnz252LJiMbmA9jKADLmrUqFG6deuWJOmtt96inAMA4MTy58+vgIAASdKtW7c0atQokxMBuB8KOuCC/vvvP+M+pl5eXho8eLDJiQAAQHL78MMP5eXlJUn6/vvv9d9//z3za4aHhysgIEBNmjTRzJkzn/n1AFdHQQdc0PDhwxUTEyNJevvtt5UjRw6TEwEAgOSWI0cO9e3bV5IUExOjTz/99Jlf89ixY5o8ebKWLVumIUOGPPPrAa6Ogg64mKNHj2r69OmSJG9vbw0cONDcQAAAIMUMGjTIONd42rRpOnbs2DO93nfffWc8/u+//3TkyJFnej3A1VHQARczbNgwxcfHS5IGDhyozJkzm5wIAACklMyZM2vAgAGSpPj4eA0bNuypX+vs2bOaPXt2onVJMSoPuDIKOuBCjhw5onnz5kmSfH199fbbb5ucCAAApLR+/frJ19dXkjR37tynHvX+/PPPjVPm7vjll18YRQeeAQUdcCFjx47VnTsrDho0SBkyZDA5EQAASGkZMmQwTnGz2+36+uuvn/g1zp49q8mTJ9+z3m63M4oOPAMKOuAiLl26pJ9//lnS7V/Mb775psmJAACAWQICAowv6n/++Wddvnz5iZ5/v9HzOxhFB54eBR1wERMnTlR0dLQkqUePHvLx8TE5EQAAMIuPj4+6d+8uSYqKitLEiRMf+7kPGj2/g1F04OlR0AEXEBkZaVxl1d3dnXPPAQCA3n77bbm7u0uSJkyYoMjIyMd63sNGz+9gFB14OhR0wAX8/PPPCg0NlSS1bdtWefPmNTkRAAAwW758+dSmTRtJUmhoqGbOnPnI5zxq9PwORtGBp0NBB5xcQkKCxo4dayz379/fxDQAAMBK7j4uGDt2rBISEh66/+OMnt/BKDrw5CjogJNbtmyZjh49KkmqXbu2ypcvb3IiAABgFRUqVFCtWrUkSX///beWL1/+wH0fd/T8DkbRgSdHQQec3FdffWU8ZvQcAAD8r7uPD+4+bvhfkydPfuzR8zt++eUXXbp06amzAa6Ggg44se3bt2vDhg2SpKJFi6phw4YmJwIAAFbTqFEjFS1aVJL0559/aseOHffdz8vL64lfO23atM+UDXA1HmYHAJB8vv32W+Pxu+++Kzc3vpMDAACJubm56Z133tFbb70lSfrmm280a9ase/br37+/SpcurQsXLhjrrl+/rgEDBkiSXnjhBfXq1cvYZrPZVL16dWXLli2Z/wSA87DZ7Xa72SGQcsLDw+Xj46OwsDB5e3ubHQfJ6Nq1a8qZM6eio6OVOXNmnTlz5qm++QbgfHLnzq2zZ8/Kz89PZ86cMTsOAAuIjIxU7ty5dfXqVaVJk0bnz59XxowZH/m8c+fOyc/PT5LUsmVLLVq0KJmTIinRDayH4TTASc2dO1fR0dGSpE6dOlHOAQDAA3l5ealjx46SpKioKM2dO9fkRIBroqADTmratGnG49dff93EJAAAwBHcfbxw93EEgJRDQQec0P79+7V9+3ZJ0vPPP6+yZcuanAgAAFhduXLlVK5cOUlSSEiIDhw4YG4gwAVR0AEnxOg5AAB4GoyiA+aioANOJiYmRjNnzpQkpUqVSh06dDA5EQAAcBQdOnRQqlSpJEkzZ8584vueA3g2FHTAySxbtkyhoaGSpBYtWihz5swmJwIAACnp2rVrWrt27VM9N0uWLGrevLkk6fLly1q+fHkSJksat27d0ooVK8yOASQLCjrgZH766SfjMdPbAQBwLQcOHFDFihVVr149ffTRR0pISHji17j7+OHu4worOHnypKpWrapGjRqpd+/ejPDD6VDQASdy7tw5rVy5UpKUJ08e1a1b1+REAAAgpcyfP1+VK1fWP//8I0n69NNP1aRJE12/fv2JXqdevXrKnTu3JGnFihU6d+5cUkd9KqtWrVL58uW1d+9eSdLEiRP10ksv6cKFCyYnA5IOBR1wIjNnzjS+Ke/atavc3d1NTgQAAJJbXFyc3nvvPb366qu6detWom0rVqxQxYoVn+iK7O7u7urataskKSEhwbi2jVnsdrs+//xzvfLKK7p27VqibZs2bdILL7ygLVu2mJQOSFoUdMCJzJ8/33j82muvmZgEAACkhCtXrsjf319ffvnlA/c5fvy4qlSpkug44VHuFHRJWrBgwbNEfCYRERFq27atPvjgA9nt9vvuc/78edWqVUuTJ09O4XRA0qOgA07i1KlT2rVrlyTphRdeUMGCBU1OBAAAktPu3btVoUIFrVmz5pH73rx5U6+++qree+89xcXFPXL/ggUL6vnnn5ck7dy5U//9998z531Sx44dU5UqVbRw4cJH7hsbG6uAgAD16NFD0dHRKZAOSB4UdMBJLF682HjcokUL84IAAIBkN2vWLFWtWlX//vvvEz3vyy+/lL+/v65cufLIfe8+nrj7OCMlLFu2TBUrVtShQ4ee6Hk//vijatWqpTNnziRTMiB5UdABJxEUFGQ8pqADAOCcYmNj9fbbb6tz586Kiop6qtdYs2aNKlSooN27dz90v7uPJ+4+zkhOCQkJ+uSTT9SkSROFhYU91Wts27ZN5cuX14YNG5I4HZD8KOiAE7h8+bI2btwoSSpcuLBKlChhciIAAJDULl68qHr16mncuHHP/Fr//vuvqlatqlmzZj1wn5IlS6pQoUKSpA0bNig0NPSZ3/dhwsLC1Lx5c3388cfP/FqXLl1S3bp1NX78+Aeeuw5YEQUdcALLli0zrt7eokUL2Ww2kxMBAICkFBISkuSjwlFRUercubP69eun2NjYe7bbbDZjFD0hIUHLli1Lsvf+X4cOHVKlSpW0dOnSJHvNuLg49e3bV127dlVkZGSSvS6QnCjogBNgejsAAM5r6tSpqlGjhs6ePZssr//tt9+qfv36unz58j3bUmKa++LFi1W5cmUdPXo0WV7/559/VvXq1XXq1KlkeX0gKVHQAQd348YNrVq1SpKUM2dOVapUyeREAAAgKcTExKhnz57q3r27YmJikvW98ufPr/Tp09+zvnLlysqZM6ckadWqVbp582aSv7efn58yZsyY5K97t127dql8+fL6448/kvV9gGdFQQccXHBwsHE7kebNm8vNjY81AACO7ty5c6pTp45++OGHZH0fDw8PTZgwQdOmTZOXl9c9293c3NSsWTNJt6fEBwcHJ3mGihUraufOnapVq1aSv/bdrly5ovr16+urr77ivHRYFkfygINjejsAAM5l06ZNKl++vDZv3pys75M9e3b98ccf6t2790OvX5MS09yzZcum1atXq1+/fsny+nckJCRowIAB6tChQ7LMBgCeFQUdcGDx8fFasWKFJCljxoyqXbu2uYEAAMBTs9vt+v7771WnTh1duHAhWd+rcuXK2rlzp2rUqPHIfWvXri0fHx9J0ooVKxQfH58smTw9PfX1119r1qxZ9x3NT0pz587Viy++qH/++SdZ3wd4UhR0wIHt3btX169flyTVq1dPnp6e5gYCAABPJSoqSt27d1evXr3ue0X1pPTmm2/qzz//lJ+f32PtnypVKtWrV0+SdO3aNe3bty8546ljx47avHmz8ufPn6zvs3//flWoUCFZpu0DT8vD7AAAnt769euNx4yeAwDgmE6fPq1WrVpp+/btyfo+qVKl0qhRo9S5c2eFh4c/0XPLly+vRYsWSbp9e9fcuXNLun1e9x3R0dH3vRL80/Dz81NwcLACAgL0559/Jslr3s/169fVsGFDjRgxQh988AG3qoXpbHaukOBSwsPD5ePjo7CwMHl7e5sdB8+oSZMmxj1JDxw4oJIlS5qcCIAjyJ07t86ePSs/Pz+dOXPG7DiAS1u/fr3atm2bZMUWT69FixaaMWOGMmTIYHaUFEM3sB6muAMOKj4+Xhs2bJAkZc2aVSVKlDA5EQAAeBILFixQvXr1KOcWERQUpCpVqigiIsLsKHBhFHTAQe3Zs8eYnla7dm2mZAEA4GAaNmyotm3bmh0D/ydDhgwaOXKkS42gw3oo6ICDWrdunfGY888BAHA86dKl0+zZszV27Fi5u7ubHcelFS1aVCEhIWrevLnZUeDiuEgc4KDuvkBcnTp1zAsCAACems1m0zvvvKNy5cqpbdu2Cg0NTfL3OHTokHx9fZ/5df7++2/jtmz169fX7NmzdeHCBZUpU0aS1KhRI02bNu2Z3+dBQkNDk+WUvubNm2vGjBmcgw1LoKADDiguLs44/zxbtmwqVqyYyYkAAMCzqFOnjnbu3KmWLVtq586dT/06NWrU0MaNGxOt8/X1VdasWZ81ovE6ly9f1rZt25QpU6ZEt4RLnTp1krzPk0ifPr1u3LjxVM+12WwaPny4Bg8eLDc3JhbDGvibCDig3bt3Gxcw4fxzAACcQ968ebVx40Z17dr1qZ7fv39/zZs3L2lD3cVmsxmn1YWHh2vPnj3J9l6P6/fff3+qgQofHx8tW7ZMQ4YMoZzDUvjbCDggprcDAOCcvLy89NNPP+m7776Th8fjTXb18vLSL7/8ojFjxjz2c57W3ccdd18PxyyFCxfWtm3bnujc8VKlSmnHjh1q2LBh8gUDnhIFHXBAISEhxuM754IBAADnYLPZ1KtXL61bt07Zs2d/6L4FChTQ1q1b1a5duxTJVrNmTePx9u3bU+Q9H8Xb21uLFi3SiBEjHjmrsE2bNtqyZYsKFSqUQumAJ0NBBxzQnSllXl5enH8OAICTql69unbu3KkqVarcd/vLL7+s7du3GxdpSwnFihWTl5eXJFliivsdbm5u+vDDD7V8+XJlzJjxvtu//PJLzZs3T+nTp0/5gMBjoqADDiY8PFzHjx+XJJUpU4bbsgAA4MT8/Py0fv16BQQEJFo/ePBgLV++XJkzZ07RPO7u7ipdurQk6dixY099gbbk4u/vrx07dhgZJSlz5swKDg7WwIEDuW4PLI+CDjiYffv2GY/LlStnXhAAAJAiUqdOrR9++EFTpkxRlixZtGjRIo0cOdK0L+nvPv44fPiwKRkepmDBgtqyZYteffVVlStXTjt37lT9+vXNjgU8Fm6zBjiYu6eTUdABAHAd3bt3V6dOnZQmTRpTc9x9/HHgwAHzgjxEunTp9MsvvygmJkapU6c2Ow7w2BhBBxwMBR0AANdldjmXEh9/HDx40Lwgj2Cz2SjncDgUdMDB3CnoNpst0flVAAAAKaF06dLGudxWLuiAI6KgAw4kNjbWmEpWpEgRpUuXzuREAADA1aRPn16FCxeWJB05csTkNIBzoaADDuTvv/9WdHS0JKa3AwAA89w5DomJiTE3COBkKOiAA+H8cwAAYAUchwDJg4IOOJC9e/caj/nFCAAAzMJxCJA8KOiAAzl+/LjxuHjx4iYmAQAArqxEiRJmRwCcEgUdcCD//vuvJMnDw0N+fn7mhgEAAC7Lz89P7u7uZscAnA4FHXAgdwp6njx55OHhYW4YAADgsjw8PJQnTx6zYwBOh4IOOIjr16/r+vXrkqT8+fObmgUAAIDjESDpUdABB3Hq1CnjMb8QAQCA2TgeAZIeBR1wEHemt0v8QgQAAObjeARIehR0wEFQ0AEAgJVwPAIkPQo64CAo6AAAwEo4HgGSHgUdcBAUdAAAYCUcjwBJj4IOOIi774GeK1cuc8MAAACX5+fnJzc36gSQlPhEAQ7iv//+kyTlzp2be6ADAADTMWgAJD0KOuAAEhISdO3aNUlStmzZTE4DAABwW5YsWYzHdrvdxCSAc6CgAw4gIiLC+KWXMWNGc8MAAAD8H29vb+NxXFyciUkA50BBBxzA9evXjccUdAAAYBU+Pj7G49jYWBOTAM6Bgg44AAo6AACwortH0CnowLOjoAMOgIIOAACsiBF0IGlR0AEHcHdBv/sXIQAAgJkyZMhgPKagA8+Ogg44AEbQAQCAFTHFHUhaFHTAAVDQAQCAFd09sy8mJsbEJIBzoKADDoCCDgAArMjKI+iRkZHas2eP2TGAJ0JBBxwABR0AgIc7e/asAgMDVbBgQY0dO9bsOC7DyheJmzRpkp5//nm1bNmSog6HQUEHHEB4eLjx+O5vqgEAcHV3inmBAgU0YcIEnThxQiNHjjQ7lsuw6kXiIiMj9cUXX0iSgoKCKOpwGBT0/3Pu3DmzIwAPdPcvvFSpUpmYBACAR8udO7cmTpyYaN3mzZuVNm1anTp1Kkne43+L+d3nP0dFRSXJe+DRPDw8jMd2u93EJIm5ublp8ODBypkzp7GOog5HQEH/PyVLltScOXPMjvFYvvvuO+XPn19p0qRR5cqVFRISYnYkJLOEhATjsZsbH1sAgLVVrlxZ27dvN5btdrv69eund955R/ny5Xum135YMUfKu/u4xEoFPXXq1AoMDNSJEyc0btw4ijocBkf6/2fkyJEKCAhQmzZtdPXqVbPjPNC8efP07rvvatiwYdq1a5fKli2rl19+WZcuXTI7GpJRfHy88djd3d3EJAAAPFqVKlUSFfSZM2fq9OnT+uCDDyRJY8eOlZ+fn8qWLasiRYpo1apVj3xNirk13X1cYqWCfkeaNGko6nAoHo/exTX06tVL/v7+euONN1SiRAlNmTJFTZo0MTvWPcaOHasePXqoW7dukqQffvhBy5cv108//aT333/f5HRILhR0AEnp1q1bkqSbN2/qxx9/NDkNnNHly5d16NAhTZgwQTabTUOGDFHTpk01d+5cSdKvv/6qhg0bGiPtb731lgYPHnzf11q3bp127typY8eOJZpR9jAxMTF67bXXkuzP40juN72/T58+SpMmTbK8X2hoqPH42rVryfpvSkRExD3rZs2aleg8+Ifx8vLS0KFDtWHDBq1cuVJhYWGSbhf1oKAglStXTi1btlTfvn0TXfwOSEk2uxW/6jLZhAkT9M4776h48eKJzquRpF27dpmU6vYvm7Rp02rhwoVq3ry5sf61117T9evX9dtvv93znOjoaEVHRxvL4eHhypMnj8LCwrjYmANp3bq1Fi1aJEk6c+aM/Pz8TE4EwJG5u7s/dtEBAFdz4MABlSxZ0uwYKSI8PFw+Pj50AwthBP1/nDp1Sr/++qsyZcqkZs2a3VPQzRQaGqr4+Hhlz5490frs2bPryJEj933OqFGj9Mknn6REPAAAAADAM7BO+7SAKVOmqH///qpXr54OHjyorFmzmh3pmX3wwQd69913jeU7I+hwLHdfgOXu6e4A8DTeeust3bhxQ6lSpVLlypXNjgMnNXv2bP35558qW7asevfubay/fPmyhg4dqpw5c+rq1asqW7asXn/99Qe+ztNMcffw8FCHDh2e+c/giKKiojR//vxE69q2bZtsU9zDwsKMWZx+fn76+OOPk+V9pNtT3O8+rpVun/75uFPcpdt3xvnfKe53PP/882rRooVy586dJHmBp0FB/z+vvPKKQkJCNGHCBHXp0sXsOPfl6+srd3d3Xbx4MdH6ixcvKkeOHPd9TurUqZU6deqUiIdkdPd55xR0AM/qu+++MzsCXEB8fLw2b96sBQsWqFChQsb6JUuWyN/fX0uXLtXp06dVokQJ+fv7P/D0re7du0u6fZG4zz//XJMnT37kBeJSpUqlGTNmJN0fxoFcvnz5noI+YcKEZBt4OnHihFHQa9asafz/lRwuX758T0Hv1KnTY/3ZoqKiNGXKFI0aNUrnz59PtK1Fixb66KOPVK5cuaSMCzwVruL+f+Lj47Vv3z7LlnPp9i+b8uXLa+3atca6hIQErV27Vi+++KKJyZDcKOgAAEczd+5c9enTJ1E5l26f33unCOXJk0eNGzdWcHDwI1/Pz89P48eP14kTJ9SnTx+lSpUqOWLjCVn9QrZRUVEaP368ChQooL59+yYq5y1atNDu3bv166+/Us5hGRT0/7N69WqHmM7y7rvvasqUKZoxY4YOHz6snj176ubNm8ZV3eGc7p7izoWdAABWlZCQoIsXL+qzzz7TsWPHNGzYsHv2ubugS1KTJk0e6zZrd1DUreXu45K7j1fMFh0dTTGHQ2KKu4N59dVXdfnyZX300Ue6cOGCypUrp+Dg4HsuHAfn4unpaTzmvq8AAKvasGGDXnrpJRUrVkyLFi2671Wh58yZk2i5Q4cOT3W++J2i/v77798z9T25zrfGvWJjY43HVrq4ckJCgj777DNduHDBWMdUdjgC63zNhcfWp08fnTp1StHR0dq2bRsX+HEBdx/ghIeHm5gEAIAHq127thISEnTo0KEUOz753xH1ggULasiQISny3lCiC61Z6d7hXl5eeu+99yQxYg7HYp2vuQA8UMaMGY3H169fNy0HAABWdaeoI2XdfVxy9/GKFQQEBKh27dqUcjgURtABB0BBBwAAVmTlgu7l5UU5h8OhoAMOgIIOAACsyMoFHXBEFHTAAVDQAQCAFVHQgaRFQQccwN2/8O6+GAsAAICZ7j4uoaADz46CDjgARtABAIAVMYIOJC0KOuAAKOgAAMCKKOhA0qKgAw6Agg4AAKyIgg4kLQo64AAyZMggm80miYIOAACs485xiZubm9KnT29uGMAJUNABB+Dm5qZMmTJJki5dumRyGgAAgNsuX74s6fbouZsb1QJ4VnyKAAeRN29eSdKZM2cUFxdnchoAAODq4uLidPr0aUlSvnz5TE4DOAcKOuAg8ufPL+n2L8Nz586ZGwYAALi8s2fPKj4+XtL/P04B8Gwo6ICDuPsX37///mtaDgAAACnx8QgFHUgaFHTAQVDQAQCAlVDQgaRHQQccBAUdAABYCQUdSHoUdMBBUNABAICVUNCBpEdBBxzE3VdHpaADAACz3X08wlXcgaRBQQccRMaMGZUxY0ZJFHQAAGC+O8cjmTJlko+Pj7lhACdBQQccyJ3pY6dPn+Ze6AAAwDR33wOd6e1A0qGgAw7k7nuhnz171twwAADAZXEPdCB5UNABB1KoUCHj8eHDh01MAgAAXNmhQ4eMxwULFjQxCeBcKOiAAylbtqzxeM+ePeYFAQAALu3u45By5cqZlgNwNhR0wIHc/QuQgg4AAMxCQQeSBwUdcCBFixZV6tSpJVHQAQCAee4ch6ROnVpFixY1NwzgRCjogAPx9PRUqVKlJElHjx7VzZs3TU4EAABczY0bN3Ts2DFJUunSpeXh4WFyIsB5UNABB3NnGpndbtf+/fvNDQMAAFzO/v37ZbfbJTG9HUhqFHTAwXAeOgAArisqKsrsCA5z/rndbld0dLTZMYAnQkEHHAwFHQAA1zRlyhTlzp1bixYtMjWHIxT0mzdvql27dqpSpYr+/fdfs+MAj42CDjiYMmXKGI8p6AAAOL/o6GgFBATozTff1JUrV9S6dWsNHjxY8fHxpuS5c/xhs9kSHZdYxfHjx1WlShXNnz9fe/bsUfny5bV69WqzYwGPhYIOOBhvb28VKlRIkrRv3z7TfjkDAIDkd/bsWdWuXVuTJ09OtH7UqFFq1KiRrl69mqJ54uLitG/fPklSoUKFlCFDhhR9/0dZuXKlKlasqAMHDhjrrl69qldeeUVffvmlce48YFUUdMAB3ZlOFhkZqSNHjpgbBgAAJIu//vpL5cuX19atW++7/ffff1eFChW0d+/eFMv0999/G+fBW2l6e0JCgkaMGKFGjRrp+vXr993+3nvv6dVXX9WNGzdSPiDwmCjogAOqVKmS8Xjjxo0mJgEAAEnNbrfru+++U506dXTx4sWH7nvy5Em9+OKL+uWXX1Ik24YNG4zHFStWTJH3fJTw8HC1atVKQ4cOfeQI+YIFC1SlShUdP348hdIBT4aCDjig2rVrG4/XrVtnXhAAAJCkIiMj1a1bN/Xp00dxcXGP/ZwOHTqof//+j/2cp3X3cUedOnWS9b0ex7Fjx1S5cmUtXrz4sZ9z8OBBVahQQcuXL0++YMBTstk5EcOlhIeHy8fHR2FhYfL29jY7Dp5SXFycMmfOrIiICGXLlk0XLlyQzWYzOxYAAHgGp06dUsuWLbVr166nfo3q1avrr7/+SrTu0qVLypo167PGk91uV/bs2XX58mV5e3vrypUr8vDweObXfVyXL19WtmzZEq1Lnz79U09Zt9ls+uSTT/Thhx/Kzc01xy3pBtaTcp8oAEnGw8NDNWvW1PLly3Xp0iUdOXJExYsXNzsWAAB4Sn/88YdeffVVhYaGPtPr/G85l/TMr3nH33//rcuXL0uSKleurGvXriXJ6z6u+/05nuV8crvdro8++kg7d+7Uzz//TEGFJVDQAQdVu3ZtY2rWunXrKOgAADggu92ur7/+WgMHDlRCQkKyvEeJEiWS/DVXr159z2i2o/rtt99UqVIlLV68WMWKFTM7Dlyca87lAJzA3ed9rV+/3rwgAADgqdy8edM4dzy5yjkez99//22UdMBMFHTAQZUrV86YirV+/Xru6wkAgINZuXKlFixYYHYM/J+IiAh9+OGHioiIMDsKXBgFHXBQ7u7uqlmzpqTbF005dOiQyYkAAMCTaN26tdasWZMkF3DDs2vZsqW2bt2qDBkymB0FLoxz0AEHVqdOHS1btkzS7VH0kiVLmpwIAAA8idq1a2vnzp1q1aqVtm/fnqzv5enpqVGjRqlLly5P/Nwff/xRgwcPliQNHz5cb731VlLHu8fVq1cVEBCgP//8M1nfx2azaeTIkXr//fe5Kw5MR0EHHNjd90Nfv369evfubV4YAADwVPLkyaMNGzaod+/e+umnn5LtfWJjYzVgwAD9/fffGj9+vFKnTv3Yz925c6fxuHHjxsk+6r979261bNlS//77b7K+T6ZMmTRnzhy98soryfo+wOPiPuguhnsdOpf4+Hj5+vrq+vXr8vHx0eXLl+Xp6Wl2LAAA8BTsdrsmTZqkvn37KjY2Nlnfq3Llylq0aJH8/PweuW9MTIyyZcumsLAwZcqUSaGhocl63/BZs2apR48eioqKSrb3kKQyZcooKChIBQoUSNb3sTK6gfVwDjrgwNzd3dWwYUNJUlhYGFdzBwDAgdlsNr311ltav369cuTIkazvtW3bNpUvX14bN2585L7r169XWFiYJKlhw4bJVs5jY2PVr18/de7cOdnLebt27bR582aXLuewJgo64OBatGhhPA4KCjIxCQAASApVq1bVrl27VLVq1WR9n4sXL+qll17ShAkTHno3mLuPL+4+7khKly5dUv369fXtt98my+vf4ebmpq+++kpz5sxRunTpkvW9gKfBFHcXwzQW53Pjxg35+voqOjpaOXPm1JkzZ5J12hkAAEgZMTEx6tevn77//vtkf68uXbrohx9+kJeXV6L1CQkJyp07t86fP680adIoNDQ0yYvt9u3b1bJlS505cyZJX/d/+fr6at68eXrppZeS9X0cCd3AejiKBxxc+vTp1aBBA0nS+fPnFRISYnIiAACQFFKlSqWJEydq6tSpSpUqVbK+16lTp3Tjxo171m/btk3nz5+XJDVo0CBZRp3Pnj2r69evJ/nr3u2FF17Qjh07KOewPAo64ASY5g4AgPN6/fXXtXHjRuXOnTtZXr9fv35avXr1fa/MnhLT25s3b65t27apSJEiyfL6Xbp00V9//aV8+fIly+sDSYmCDjiBxo0bG9Pag4KCHnoeGQAAcDyVKlXSzp07VatWrSR7TS8vL82aNUtff/31fe8CY7fbjYLu5uamxo0bJ9l7/68SJUooJCRETZo0SbLX9PDw0Pjx4zV9+vR7pu4DVkVBB5xA1qxZVaNGDUnSsWPHdOjQIZMTAQCApJYtWzatXr1ab7/99jO/Vv78+bV582Z17NjxgfscPHhQx48flyTVrFlTvr6+z/y+D+Pj46PFixfrk08+kc1me6bXypYtm/744w/16dPnmV8LSEkUdMBJMM0dAADn5+npqW+++UYzZ8586lHhevXqaceOHSpXrtxD90uJ6e3/y83NTR999JGWLl0qHx+fp3qNypUra9euXcbgBeBIKOiAk2jevLnxmIIOAIBz69SpkzZv3qz8+fM/0fPee+89BQcHK0uWLI/c9+7jibuPM1JCo0aNtH37dpUoUeKJntejRw/9+eef8vPzS6ZkQPKioANOIl++fHrhhRckSbt27dI///xjciIAAJCcypUrpx07dqhevXqP3DddunSaP3++Pv/8c7m7uz9y/3/++Ue7d++WJJUvX1558+Z95rxPqnDhwtq2bZtat279yH09PT01adIkTZ48WalTp06BdEDyoKADTqRt27bG4xkzZpiYBAAApIQsWbIoODhY77333gP3KVSokLZu3ao2bdo89utOnz7dePwkz0tq6dOnN75YuHNB3P+VK1cu/fnnn3rzzTdTOB2Q9Gx2LvfsUsLDw+Xj46OwsDB5e3ubHQdJ7Ny5c8qTJ48SEhKUJ08enTx58rG+JQcAAI5v/vz5ev3113Xz5k1jXcOGDTV79mxlzJjxsV8nPj5e+fPn15kzZ+Tu7q7Tp08rZ86cyZD4yaxatUrt27fX1atXjXXVq1fXggULlCNHDhOTOS66gfUwgg44kVy5csnf31+SdPr0aa1du9bkRAAAIKW0bdtWW7duVcGCBSXJuNjak5RzSVqzZo3OnDkjSfL397dEOZekBg0aaMeOHSpbtqwkqXfv3lq7di3lHE6Fgg44mddff914/NNPP5mYBAAApLRSpUppx44dWrNmjT755JMHTgt/mLuPH+4+rrCC5557Tps3b9by5cs1YcIEpUqVyuxIQJJiiruLYRqL84uJiZGfn59CQ0OVKlUqnT9/XpkzZzY7FgAAcABXrlxRrly5FBMTo6xZs+rMmTOUYCdGN7AeRtABJ5MqVSp17txZ0u2yPmfOHJMTAQAARzFnzhzFxMRIkjp37kw5B1IYBR1wQkxzBwAAT+Pu44Zu3bqZmARwTRR0wAmVKlVKFStWlCTt3r1be/bsMTcQAACwvLuPGSpVqqRSpUqZGwhwQRR0wEnd/a33tGnTTEwCAAAcwd3HC4yeA+bgInEuhgtBuI7r168rZ86cioqKUubMmXXmzBl5eXmZHQsAAFhQZGSkcufOratXrypNmjQ6f/78E9+eDY6HbmA9jKADTipjxoxq1aqVJOnq1auaOXOmyYkAAIBV/fzzz7p69aokqVWrVpRzwCQUdMCJ9evXz3g8duxYJSQkmBcGAABYUkJCgsaOHWss3338ACBlUdABJ1ahQgXVrFlTkvT3339rxYoVJicCAABWs3z5ch09elSSVKtWLVWoUMHkRIDroqADTq5///7G46+++srEJAAAwIruPj64+7gBQMqjoANOrnHjxipSpIgkaf369dq5c6fJiQAAgFXs2LFDf/75pySpaNGiatSokcmJANdGQQecnJubm959911jmVF0AABwx93HBe+++67c3KgHgJm4zZqL4VYKrikyMlJ58+ZVaGio3N3ddeLECeXNm9fsWAAAwESnTp1SwYIFFR8fr6xZs+rUqVPcktXF0A2sh6/IABfg5eWl3r17S5Li4+P17bffmpwIAACY7dtvv1V8fLwkqXfv3pRzwAIYQXcxfEvmui5duqS8efMqOjpaGTJk0OnTp+Xj42N2LAAAYIKwsDDlyZNHERERSpMmjf777z9lzZrV7FhIYXQD62EEHXAR2bJlU5cuXSRJERERmjx5ssmJAACAWSZNmqSIiAhJUpcuXSjngEUwgu5i+JbMtR05ckQlSpSQ3W6Xr6+vTpw4oQwZMpgdCwAApKCIiAgVKFBAoaGhstlsOnTokIoVK2Z2LJiAbmA9jKADLqRYsWJ69dVXJUmhoaGciw4AgAv65ptvFBoaKklq164d5RywEEbQXQzfkuHo0aMqUaKE4uPj5e3trZMnTypz5sxmxwIAACng6tWreu655xQeHi53d3cdPnxYhQsXNjsWTEI3sB5G0AEXU6RIEXXt2lXS7X+UR48ebW4gAACQYr788kuFh4dLkrp160Y5ByyGEXQXw7dkkKT//vtPhQsXVkxMjLy8vHTixAnlyJHD7FgAACAZnT9/XgULFlRkZKRSpUql48ePK0+ePGbHgonoBtbDCDrggvLmzau33npLkhQZGanPPvvM5EQAACC5ffbZZ4qMjJQk9ezZk3IOWBAj6C6Gb8lwx8WLF1WgQAHdunVLnp6eOnbsmPLly2d2LAAAkAz+/fdfFSlSRLGxsUqbNq1OnDih7Nmzmx0LJqMbWA8j6ICLyp49u95++21JUmxsrIYPH25yIgAAkFyGDx+u2NhYSVK/fv0o54BFMYLuYviWDHe7du2annvuOYWFhcnNzU2HDh1S0aJFzY4FAACS0JEjR1SyZEklJCTIx8dHJ0+eVKZMmcyOBQugG1gPI+iAC8uUKZMGDhwoSUpISNCQIUNMTgQAAJLakCFDlJCQIEkaNGgQ5RywMEbQXQzfkuF/3bhxQwUKFNDly5clSWvXrtVLL71kcioAAJAU1q5dq3r16kmSsmXLpn/++Ufp06c3ORWsgm5gPYygAy4uffr0GjVqlLEcGBhonKMGAAAcV2xsrAIDA43lUaNGUc4Bi6OgA1C3bt1UsWJFSdKhQ4c0YcIEkxMBAIBnNX78eB0+fFiSVKlSJXXt2tXcQAAeiSnuLoZpLHiQ7du3q3LlyrLb7cqQIYOOHj2qHDlymB0LAAA8hfPnz6to0aKKiIiQzWZTSEiIKlSoYHYsWAzdwHoYQQcgSapYsaK6d+8uSYqIiNCgQYNMTgQAAJ7WoEGDFBERIUnq0aMH5RxwEIyguxi+JcPDhIaGqkiRIrp27ZokaePGjapevbrJqQAAwJPYuHGjatasKen2HVuOHj0qX19fk1PBiugG1sMIOgCDr6+vRowYYSz36dNH8fHxJiYCAABPIi4uTn369DGWR44cSTkHHAgFHUAiAQEBKleunCRp7969mjRpkrmBAADAY5s0aZL27dsnSXr++ef15ptvmpwIwJNgiruLYRoLHsemTZuMqe0ZM2bU0aNHlTVrVpNTAQCAh7l8+bKKFCmi69evS7r9+7xq1armhoKl0Q2shxF0APeoVq2aunTpIkm6fv263n33XZMTAQCAR3nnnXeMcv7aa69RzgEHxAi6i+FbMjyuCxcuqFixYgoLC5MkLV68WM2aNTM5FQAAuJ/FixerRYsWkm7Pfjt8+DC3S8Uj0Q2shxF0APeVI0cOjRs3zlgOCAjQlStXTEwEAADuJzQ0VAEBAcbyuHHjKOeAg6KgA3igzp07q0mTJpKkixcvKjAw0OREAADgfwUGBurSpUuSpKZNm6pTp04mJwLwtCjoAB7IZrNp0qRJypQpkyTpl19+0aJFi0xOBQAA7li4cKHmzp0rScqcObMmTZokm81mcioAT4uCDuChcubMqfHjxxvLPXv21OXLl01MBAAAJOnSpUvq2bOnsTx+/HimtgMOjoIO4JE6dOig5s2bS7p9C5fevXubGwgAABdnt9vVq1cvhYaGSpJatGih9u3bm5wKwLOioAN4JJvNph9++EFZsmSRJC1YsEDz5883ORUAAK5r/vz5xmlnWbJk0ffff8/UdsAJUNAdSP78+WWz2RL9fP7552bHgovInj27vvvuO2O5V69eunjxoomJAABwTRcuXFCvXr2M5YkTJyp79uwmJgKQVCjoDmb48OE6f/688cNVtZGS2rZtq9atW0uSrly5ooCAANntdpNTAQDgOux2uwICAnT16lVJUps2bdS2bVuTUwFIKhR0B5MhQwblyJHD+EmXLp3ZkeBCbDabJk6cqKxZs0qSfvvtt0QXkAMAAMlr3LhxWrJkiSQpa9asiWa3AXB8FHQH8/nnnytLlix6/vnnNXr0aMXFxT10/+joaIWHhyf6AZ5F1qxZNXXqVGN5wIABCgkJMTERAACuISQkRAMHDjSWf/rpJ+NLcwDOgYLuQPr27au5c+dq3bp1CggI0GeffaZBgwY99DmjRo2Sj4+P8ZMnT54USgtn1qRJEw0YMECSFBsbq7Zt2+ratWsmpwIAwHldvXpVbdu2VWxsrCRp4MCBaty4scmpACQ1m50TSE31/vvv64svvnjoPocPH1axYsXuWf/TTz8pICBAN27cUOrUqe/73OjoaEVHRxvL4eHhypMnj8LCwuTt7f1s4eHSYmNjVatWLW3ZskWS1KxZMwUFBXEFWQAAkpjdblfz5s2Nqe1Vq1bV+vXr5enpaXIyOLrw8HD5+PjQDSyEgm6yy5cv68qVKw/dp0CBAkqVKtU96w8ePKhSpUrpyJEjKlq06GO9Hx9CJKXTp0+rXLlyxoVqxo4dq3feecfkVAAAOJexY8eqf//+km7fUm337t3MikSSoBtYj4fZAVxd1qxZn/rcoT179sjNzU3ZsmVL4lTA48mTJ49mzpypRo0aSZIGDRqkqlWrqnLlyiYnAwDAOWzdulXvvfeesTxz5kzKOeDEOAfdQWzZskXffPON9u7dqxMnTmj27Nl655131KlTJ2XKlMnseHBhDRs2NA4c4uLi1LZtW2NEHQAAPL2rV6/q1VdfNS4K/P7778vf39/kVACSE1PcHcSuXbvUq1cvHTlyRNHR0XruuefUuXNnvfvuuw88//x+mMaC5BAXF6fatWtr06ZNkm5fRO63337jfHQAAJ5SQkKCmjVrpmXLlkmSqlevrnXr1snDgwmwSDp0A+uhoLsYPoRILmfOnNHzzz+v0NBQSdKXX36Z6FYwAADg8Y0ePdq4W4+vr6/27NkjPz8/k1PB2dANrIcp7gCSRO7cuTVz5kxj+f3339fKlStNTAQAgGNasWKF3n//fUmSzWbTrFmzKOeAi6CgA0gyr7zyij766CNJt6fmvfrqqzpw4IDJqQAAcBwHDhxQu3btlJCQIEkaOnSoXn75ZZNTAUgpFHQASWrYsGFq3bq1JCkiIkJNmjTRpUuXTE4FAID1Xbp0SY0bN1ZERIQkqXXr1ho2bJjJqQCkJAo6gCTl5uamGTNmqHz58pKkf//9Vy1btlR0dLTJyQAAsK6oqCi1aNFCp06dkiRVqFBBM2bMkJsbh+uAK+ETDyDJpU2bVr/99pty5colSdq0aZN69OghrkkJAMC97Ha7evTooc2bN0uS/Pz89Ntvvylt2rQmJwOQ0ijoAJKFn5+flixZIi8vL0nSzJkz9cUXX5icCgAA6/n88881a9YsSZKXl5eWLFlifMkNwLVQ0AEkm/Lly+vnn382lj/44AMFBQWZmAgAAGv59ddfNXjwYGN51qxZeuGFF0xMBMBMFHQAyap169YaMWKEsdypUyft3r3bxEQAAFjDrl271LlzZ2N55MiRatmypYmJAJiNgg4g2Q0ePFidOnWSJN26dUtNmjTRmTNnTE4FAIB5zpw5o6ZNm+rWrVuSpM6dO+uDDz4wORUAs1HQASQ7m82mKVOmqGrVqpKks2fPqkGDBgoNDTU5GQAAKS80NFQNGjTQ2bNnJUlVq1bVlClTZLPZTE4GwGwUdAApIk2aNAoKClLBggUlSYcPH5a/v79xr1cAAFxBeHi4/P39dfjwYUlSwYIFFRQUpNSpU5ucDIAVUNABpJhs2bJp9erVypkzpyRpx44datasmaKiokxOBgBA8ouMjFSzZs20Y8cOSVKuXLm0evVqZcuWzeRkAKyCgg4gRT333HNavXq1MmfOLElat26dXn31VcXFxZmcDACA5BMbG6tXX31V69evlyRlzpxZq1at0nPPPWduMACWQkEHkOJKliypFStWKF26dJKkJUuW6I033lBCQoLJyQAASHoJCQl64403tHTpUklS+vTptXLlSpUsWdLkZACshoIOwBSVK1fWb7/9plSpUkmSfv75Z73zzjuy2+0mJwMAIOnY7Xb169dPM2fOlCSlSpVKv/32mypVqmRyMgBWREEHYJq6detq7ty5cnO7/U/RuHHjNHz4cJNTAQCQdD755BONHz9ekuTu7q558+bppZdeMjkVAKuioAMwVYsWLTR16lRj+eOPP9a3335rYiIAAJLGt99+q08++cRYnjp1qpo3b25eIACWR0EHYLquXbvq66+/Npb79eunyZMnm5gIAIBnM3nyZPXr189Y/uabb/Taa6+ZFwiAQ6CgA7CEfv36aejQocZyQECAJkyYYGIiAACezvjx4xUQEGAsf/TRR3r77bdNTATAUVDQAVjGJ598ogEDBhjLgYGB+uqrr0xMBADAkxkzZoz69u1rLA8cOFAff/yxeYEAOBQKOgDLsNls+vLLLzVkyBBj3YABAzRy5EgTUwEA8HhGjBihgQMHGstDhw7VF198IZvNZmIqAI6Egg7AUmw2mz799FN9+umnxrohQ4Zo6NCh3IINAGBJdrvd+F11x4gRIzR8+HDKOYAnQkEHYElDhgzR6NGjjeURI0bovffeo6QDACzFbrdr0KBBiWZ7jRkzRh9++KGJqQA4Kgo6AMsaMGCAxo0bZyyPHj1ab7/9NiUdAGAJCQkJ6tu3r8aMGWOsGz9+vPr3729iKgCOjIIOwNICAwM1adIkY4rg+PHj9dZbbykhIcHkZAAAV5aQkKC33nrLuOOIzWbTpEmT1KdPH5OTAXBkFHQAlvfmm29q2rRpcnO7/U/W5MmT1a1bN8XGxpqcDADgimJjY9WtWzdNmTJFkuTm5qZp06bpzTffNDkZAEdHQQfgEF577TXNmjVL7u7ukqSff/5ZTZo0UUREhMnJAACuJCIiQk2aNNHPP/8sSXJ3d9fs2bP12muvmZwMgDOgoANwGO3bt9f8+fOVKlUqSdLvv/+umjVr6ty5cyYnAwC4gnPnzqlmzZr6/fffJUmpUqXS/Pnz1a5dO5OTAXAWFHQADqVly5ZavXq1MmbMKEnas2ePXnzxRR08eNDcYAAAp3bw4EFVqVJFe/bskSRlypRJa9asUcuWLc0NBsCpUNABOJyaNWtq8+bNypcvnyTpv//+U7Vq1bR+/XpzgwEAnNK6detUrVo1nT59WpKUL18+bdq0STVq1DA5GQBnQ0EH4JCKFy+uLVu26IUXXpAkhYWF6eWXX9Yvv/xicjIAgDOZM2eOXn75ZYWFhUmSXnjhBW3dulXFixc3ORkAZ0RBB+CwcubMqT///FMNGzaUJMXExKhDhw764osvuFc6AOCZ2O12ff755+rYsaNx15CGDRvqzz//VI4cOUxOB8BZUdABOLT06dPrt99+U48ePYx177//vnr37q24uDgTkwEAHFVcXJx69eqlDz74wFj35ptv6rffflP69OlNTAbA2VHQATg8Dw8PTZo0SSNHjjTWff/992rZsiW3YQMAPJGIiAi1aNFCP/zwg7Fu5MiR+uGHH+Th4WFiMgCugIIOwCnYbDYNHjxYP//8s3EAtXTpUr344os6fvy4yekAAI7g+PHjqlKlipYtWyZJ8vT01MyZMzV48GDZbDaT0wFwBRR0AE6lc+fOCg4Olo+Pj6Tbt8WpWLGiVq1aZXIyAICV/f7776pYsaIOHTokSfLx8VFwcLA6depkcjIAroSCDsDp1K1bVyEhIcYVdq9fvy5/f3+NGTOGi8cBABKx2+0aM2aMGjZsqOvXr0u6faeQ7du366WXXjI3HACXQ0EH4JSKFCmirVu3qkmTJpKkhIQEDRw4UJ06ddLNmzdNTgcAsIKbN2+qU6dOGjhwoBISEiRJTZs21datW1W4cGGT0wFwRRR0AE7L29tbixcv1tChQ411c+bM4bx0AICOHz+uF198UXPmzDHWffTRRwoKCpK3t7eJyQC4Mgo6AKfm5uam4cOHa9GiRcatcfbv368KFSpo6dKlJqcDAJhhyZIlqlChgvbv3y/p9i07Fy1apE8++URubhweAzAP/wIBcAktW7ZUSEiIihUrJkkKCwtT06ZNNXToUMXHx5ucDgCQEuLj4zVkyBA1a9ZMYWFhkqRixYopJCRELVu2NDkdAFDQAbiQ4sWLKyQkRK1btzbWjRgxQq+88orOnz9vYjIAQHI7f/68XnnlFY0cOdJY17p160QXFQUAs1HQAbiUDBkyaP78+Ro9erQxjXHNmjUqU6aMli9fbnI6AEByWLZsmcqUKaM1a9ZIktzd3TVmzBjNnz9fGTJkMDkdAPx/FHQALsdms2nAgAFau3atcubMKUkKDQ1V48aN1bdvX0VFRZmcEACQFKKiohQYGKgmTZooNDRUkpQzZ06tWbNG/fv3l81mMzkhACRGQQfgsmrXrq19+/YZt2KTpPHjx6tSpUo6ePCgickAAM/qwIEDqlixoiZMmGCsa9q0qfbt26fatWubFwwAHoKCDsCl+fr66rffftN3332nNGnSSPr/V3n//vvvZbfbTU4IAHgSdrtdEydOVMWKFXXgwAFJUpo0aTRx4kQtXrxYvr6+JicEgAejoANweTabTb169dL27dtVqlQpSbenRfbq1UvNmzc3pkUCAKwtNDRUzZs3V+/evY3TlUqXLq0dO3aoZ8+eTGkHYHkUdAD4P6VKlVJISIj69OljrFuyZInKlCmjtWvXmpgMAPAoa9euVZkyZbRkyRJjXWBgoEJCQlSyZEkTkwHA46OgA8BdvLy8NH78eC1dutSYBnn+/HnVr19fgwYN4gJyAGAxUVFRGjRokOrXr2/cMtPX11dLly7VuHHjjNOXAMARUNAB4D4aN26sffv2qX79+pJun9M4evRolStXTps2bTI5HQBAkv766y+VLVtWo0ePNq4ZUr9+fe3bt0+NGzc2OR0APDkKOgA8QM6cORUcHKwxY8bI09NTkvT333+rRo0a6tu3r27cuGFyQgBwTTdu3FBgYKBq1qypo0ePSpI8PT01ZswYBQcHG7fQBABHQ0EHgIdwc3NT//79tXv3blWqVEnS7dH08ePHq1SpUlq1apXJCQHAtaxatUqlSpXShAkTjFHzypUra/fu3erfv7/c3Di8BeC4+BcMAB5DyZIltXnzZn311Vfy8vKSJJ06dUovv/yyunXrpmvXrpmcEACc27Vr19StWze9/PLLOnXqlKTb1w0ZO3asNm3axIXgADgFCjoAPCZ3d3e9++672r9/v+rUqWOsnz59ukqUKKGgoCAT0wGA8/r1119VokQJTZ8+3VhXp04d7d+/X++8847c3d3NCwcASYiCDgBPqGDBglq7dq0mT54sb29vSdKFCxfUsmVLtW3bVhcvXjQ5IQA4h4sXL6pNmzZq1aqVLly4IEny9vbW5MmTtXbtWhUsWNDkhACQtCjoAPAUbDabevTooYMHDya6UvCCBQtUokQJTZ06VQkJCSYmBADHlZCQoKlTp6pEiRJauHChsb5x48Y6ePCgevToIZvNZmJCAEgeFHQAeAa5c+fWkiVLNHv2bGXJkkWSdPXqVXXv3l2VK1fWtm3bTE4IAI5l69atqly5srp3766rV69Kun1f8zlz5mjJkiXKnTu3yQkBIPlQ0AHgGdlsNnXo0EGHDx9W+/btjfU7duxQlSpV1K1bN6a9A8AjXLhwQV27dtWLL76oHTt2GOvbt2+vQ4cOqX379oyaA3B6FHQASCJZs2bVnDlz9Mcff6hUqVLG+unTp6tIkSIaO3asYmNjTUwIANYTGxursWPHqkiRIpoxY4axvlSpUlq3bp3mzJmjrFmzmpgQAFIOBR0AklidOnW0e/dujRs3ThkzZpQkhYeHq3///ipbtqxWr15tbkAAsIjVq1erTJky6t+/vyIiIiRJGTNm1Lhx47R7927Vrl3b3IAAkMIo6ACQDDw8PBQYGKijR4+qe/fuxrTMw4cPq0GDBmrZsqX+/fdfc0MCgElOnjypli1bqkGDBjpy5Iik/3/xzaNHjyowMFAeHh4mpwSAlEdBB4BklDVrVk2ZMkUhISGqUqWKsT4oKEjFixfXsGHDdPPmTRMTAkDKuXnzpoYNG6YSJUooKCjIWF+lShWFhIRo8uTJTGcH4NIo6ACQAipUqKBNmzZp+vTpyp49uyQpKipKw4cPV6FChTRx4kTFxMSYnBIAkkdMTIwmTpyoggULavjw4YqKipIkZc+eXTNmzNCmTZtUoUIFk1MCgPko6ACQQtzc3PTaa6/p6NGj6t+/vzF988KFC+rdu7eKFy+uOXPmcP90AE4jISFBs2fPVvHixdW7d2/jjhYeHh4aMGCAjh49qi5dusjNjUNSAJAo6ACQ4ry9vTVmzBjt379frVq1MtafOHFCHTt21PPPP6/ly5fLbrebmBIAnp7dbtfy5cv1/PPPq1OnTjpx4oSxrVWrVjpw4IBGjx4tb29vE1MCgPVQ0AHAJMWKFdPChQu1bds21a1b11i/b98+NW7cWDVr1tRff/1lYkIAeHIbN25UjRo11LhxY+3bt89YX69ePYWEhGjhwoUqWrSoiQkBwLoo6ABgskqVKmnNmjVavXp1onMw//rrL+Mgd+/evSYmBIBH27t3rxo1aqSaNWtq06ZNxvoKFSpo9erVWr16tSpWrGhiQgCwPgo6AFjEg0aX7kwT7dixo44dO2ZiQgC417Fjx9SxY0eVK1dOK1asMNYXK1ZMixYtUkhIiOrVq2diQgBwHBR0ALAQm81mnJ85depU5c6dW9Lt8znnzJmjYsWKqX379ommjQKAGfbu3at27dqpWLFimjNnjrE+T548mjp1qvbv36+WLVvKZrOZmBIAHAsFHQAsyMPDQ6+//rqOHTumr776SlmyZJF0+4rIc+fOVdmyZdW4cWNt3rzZ5KQAXM2mTZvUuHFjlStXTvPmzTPuPJElSxaNHTtWR48e1euvv27cqQIA8Pgo6ABgYWnSpNG7776rEydO6LPPPlPWrFmNbcuXL1e1atVUu3Zt/f7771z1HUCysdvt+v3331WrVi1Vr15dy5cvN7ZlzZpVn332mU6cOKF33nlHadKkMTEpADg2m50jOpcSHh4uHx8fhYWFcWsTwAHdunVLU6dO1ejRo3X69OlE21544QUNHjxYLVq04J7CAJJEQkKCgoKC9Nlnn2nXrl2JtuXJk0cDBw7UG2+8obRp05qUEMCzoBtYD0dwAOBA0qZNq8DAQB0/flw//fSTihQpYmzbtWuXWrdurZIlS2rGjBmKjY01MSkARxYbG6vp06erRIkSat26daJyXrRoUU2bNk3Hjx9XYGAg5RwAkhAj6C6Gb8kA5xIfH2+Mbu3evTvRtrx586pPnz56/fXXjXPYAeBhrly5op9++kkTJkzQf//9l2jbCy+8oA8++EAtWrSQu7u7SQkBJCW6gfVQ0F0MH0LAOdntdq1atUqfffaZNmzYkGhbmjRp1LFjR/Xp00flypUzJyAAS9uzZ4/Gjx+vOXPmKCoqKtG2mjVravDgwWrQoAFXZAecDN3AeijoLoYPIeD8/vrrL40aNSrR/YjvqF69ugIDA9WiRQt5enqakA6AVcTGxurXX3/VhAkT9Ndff92zvWHDhvrggw9UvXp1E9IBSAl0A+uhoLsYPoSA6zh69KgmTpyoadOmKTw8PNG2XLly6a233tKbb76p7Nmzm5QQgBkuXLigyZMn64cfftD58+cTbfP29la3bt3Uu3dvFS5c2KSEAFIK3cB6KOguhg8h4HoiIiI0a9YsTZgwQYcOHUq0zdPTU23btlVgYKAqVarE9FXASdntdm3btk0TJkzQ/Pnz77mIZIkSJdSnTx917txZ6dOnNyklgJRGN7AeCrqL4UMIuC673a5169Zp/PjxWrJkiRISEhJtL1++vN544w21a9dOmTJlMiklgKR07do1zZ07V1OnTtXOnTsTbXNzc1PTpk0VGBioOnXq8AUd4ILoBtZDQXcxfAgBSNK///6rH374QVOmTNHVq1cTbUudOrWaN2+url27qn79+lytGXAw8fHxWr16taZPn67FixcrOjo60fbMmTOrR48e6tmzp/Lly2dSSgBWQDewHgq6i+FDCOBukZGRmjt3rsaPH3/Pbdqk2+eqd+7cWV27dlWxYsVMSAjgcR05ckTTp0/XzJkzde7cuXu2v/DCC+rTp4/atWsnLy8vExICsBq6gfVQ0F0MH0IAD7Jnzx5Nnz5ds2fPVmho6D3bq1Spoq5du+rVV19VxowZUz4ggHtcv35d8+bN0/Tp07V169Z7tvv6+qpTp0567bXXuM0igHvQDayHgu5i+BACeJSYmBitWLFC06dP1/LlyxUXF5doe+rUqdWiRQt17dpVdevWlYeHh0lJAdcUFxentWvXavr06QoKCrpnCruHh4caNWqkrl27qmHDhkqVKpVJSQFYHd3AeijoLoYPIYAncenSJc2ePVvTpk3T/v3779nu6+urFi1aqHXr1qpTpw73VgeSSWxsrNatW6cFCxYoKChIV65cuWefMmXKqFu3burQoYOyZctmQkoAjoZuYD0UdBfDhxDA07Db7YmmwN+vHGTOnFnNmzdX69atVbduXUbtgGcUExOjtWvXasGCBVq8eLGuXbt2zz6+vr7q2LGjunbtyhR2AE+MbmA9FHQXw4cQwLOKiYnRsmXLNHfuXC1fvly3bt26Zx8fHx81a9ZMbdq0Uf369ZU6dWoTkgKOJzo6WqtWrdLChQv122+/KSws7J590qZNq0aNGqldu3Zq3LgxX4YBeGp0A+uhoLsYPoQAktKtW7e0cuVKLVy4UEuXLtXNmzfv2cfb21tNmjRR69at9fLLL3P1aOB/REZG6vfff9fChQu1ZMkSRURE3LNP+vTp1bhxY7Vp00avvPKK0qZNa0JSAM6GbmA9FHQXw4cQQHJ5nJLh5eWlOnXq6JVXXpG/v78KFSpkQlLAfMePH9fKlSu1cuVKrV+/XpGRkffskyFDBjVt2lRt2rRRgwYN+HILQJKjG1gPBd3F8CEEkBKioqK0evXqh07TlaRChQrJ399f/v7+ql27NgUETisyMlLr1683Svnx48fvux+nhwBISXQD66Gguxg+hABS2p0LXS1atEgrVqzQ+fPn77tfmjRpVLt2baOwFy5cOIWTAknr2LFjiUbJo6Ki7rtfrly55O/vr1atWnGBRQApim5gPRR0F8OHEICZ7Ha79u3bZ5SWTZs2KT4+/r77FixYUP7+/nrppZdUo0YN+fr6pnBa4MlcvnxZf/31l9auXavg4GD9888/993Pw8ND1apVM071KFOmjGw2WwqnBQC6gRVR0F0MH0IAVhIWFqY1a9Zo5cqVCg4O1tmzZx+4b4kSJVSzZk3VrFlTNWrUUO7cuVMwKXCvM2fOaMOGDdq4caM2bNigQ4cOPXBfPz8/Y3ZI3bp15ePjk4JJAeD+6AbWQ0F3MXwIAViV3W7X/v37FRwcrJUrV+qvv/5SXFzcA/d/7rnnjMJes2ZNFSxYkFFIJBu73a5//vlHGzZsMH5Onjz5wP09PDxUvXp1o5SXKlWKv58ALIduYD0UdBfDhxCAowgPD9f69euN0cmdO3c+cDq8JOXMmdMYXa9cubJKly7NBbbw1KKjo7V//35t27bN+Dv4oOsnSJK7u7vKly9v/B2sXbs2v2cBWB7dwHoo6C6GDyEAR3Xjxg1t2bLFKEtbt25VdHT0A/f39PRUqVKlVL58eeOnTJkylHbcIyoqSvv379fOnTuNnwMHDig2NvaBz0mdOrWqVKlizOCoUqWK0qdPn4KpAeDZ0Q2sh4LuYvgQAnAW0dHR2r59uzHdeNOmTbpx48ZDn+Ph4ZGotFeoUEGlS5dWmjRpUig1zBYVFaV9+/bdU8YfdjqFdPue5NWqVVONGjVUs2ZNVaxYkS97ADg8uoH1UNBdDB9CAM4qLi5Oe/fu1aZNm4zidfjwYSUkJDz0eXdKe6lSpVS8eHEVL15cxYoVU6FCheTp6ZlC6ZHUYmNjdfz4cR05ckSHDx/W4cOHdeDAgccq425ubipevLjxRU61atVUtmxZeXh4pFB6AEgZdAProaC7GD6EAFzJzZs3tWfPnkSjpY9T2qX/197dxlZ5lw8cvw6t7WgpdLBSIJQnkYcaHqZow4IRlKwxbIkxIZmZrPWddaIVMGMRBzOrQxaNwc2gZkt5qW/cG7fEScDF0MCUlExCHTOUQqDlYUILbDDa83/hv81q2dY52P3r+vkkJ23vc3rO1eTm0O/53efuf8J97ty5sWDBgoFwX7hwYcyfPz/Kyso+gukZjp6enmhraxsU4m1tbfH666+/b4hHDI3xZcuWxZIlS6K0tPQjmB4gW9ogPQJ9lPGPEBjtrly5EocPHx4I9r/97W/DjvZ+06dPj4ULF8bcuXNj5syZMWPGjJgxY0bMnDkzpk6dGgUFBbfxJxhdent748yZM3HixIno6OiIjo6OOHHiRBw7diza2tri1KlTw76v/hhftmzZQJCLcWA00wbpEeiJaGpqij/+8Y/R2toaRUVFcfHixSG36ejoiIaGhti7d2+MGzcu6urq4sknn/xAh9z5Rwgw1FtvvRWvvfbaoBXYo0ePxj//+c/3PBHdzRQWFsb06dMHRfs7P1ZVVTmZ2Dtcvnw5Tp48ORDe7/zY0dERp06dGtZK+DsVFxfH/PnzB71lYeHChTFv3jznGwB4B22QHm+mSsT169dj7dq1sXz58nj22WeHXN/b2xtr1qyJKVOmxP79++PMmTPx0EMPxSc+8Yn4yU9+ksHEAB8fd9xxRyxevDgWL148aHtvb2+0t7cPOXz66NGj8e9///um93Xjxo1ob2+P9vb2d328sWPHxl133TXoUlFRMWRb//ZJkyaNiPfDv/3223HhwoU4d+5cnD9/ftDlZtvOnz8fb7755v/8eHfeeeegAO+/zJw501EMAIxIVtAT09zcHI2NjUNW0F988cW477774vTp01FZWRkREbt27YpHHnkkzp07F0VFRcO6f6+SAXx4+Xw+zp49G+3t7UMOve7/+G4B/78qKSmJkpKSKC0tHfj83S79txk7dmwUFhZGLpeLMWPGDHzs/zyfz0dfX1/09fUNfJ7P5+PGjRvx5ptvxtWrV+PKlStx9erV97y88za30sSJE4ccidD/+axZs2Ly5MmRy+Vu6WMCjCbaID1W0EeIlpaWWLRo0UCcR0TU1tZGQ0NDHDlyJO6+++6bft+1a9cGHZ7Z3d1922cF+LjL5XJRWVkZlZWVUVNTc9Pb9PT0xMmTJ4cE/KlTp+LChQsDK8jDPXy7P4DPnz9/K3+UTBQWFg4cITBp0qSYPn36kACvqqpyMj4ARh2BPkJ0dnYOivOIGPi6s7PzXb/vySefjMcff/y2zgbAUGVlZVFdXR3V1dXvept8Ph+XLl1638PBz507Fz09PUNWrXt7ez/Cn2iwgoKCIav5ZWVlQw7Vv9mh+xMmTLDyDQA3IdBvo82bN8dPf/rT97zN0aNHY8GCBbdthkcffTQ2bNgw8HV3d3dUVVXdtscDYPhyuVyUl5dHeXl5zJ079wN9bz6fj7fffvt9Dz/v7e0dchh7/6X/cPf/Pvy9oKDgfQ+jH+5bqwCA4RPot9HGjRujvr7+PW8zZ86cYd3XlClT4uDBg4O2dXV1DVz3boqLi6O4uHhYjwHAyJHL5aKoqCiKioqivLw863EAgFtAoN9GFRUVUVFRcUvua/ny5dHU1BRnz56NyZMnR0TESy+9FOPHj3/PwycBAAAYGQR6Ijo6OuKNN96Ijo6O6O3tjdbW1oiImDt3bowbNy7uvffeqK6ujnXr1sWOHTuis7MztmzZEg8//LAVcgAAgI8Bf2YtEfX19bF79+4h2/fu3RsrV66MiIgTJ05EQ0ND7Nu3L0pLS6Ouri62b98ehYXDf53Fn1IAAAAitEGKBPoo4x8hAAAQoQ1SNCbrAQAAAACBDgAAAEkQ6AAAAJAAgQ4AAAAJEOgAAACQAIEOAAAACRDoAAAAkACBDgAAAAkQ6AAAAJAAgQ4AAAAJEOgAAACQAIEOAAAACRDoAAAAkACBDgAAAAkQ6AAAAJAAgQ4AAAAJEOgAAACQAIEOAAAACRDoAAAAkACBDgAAAAkQ6AAAAJAAgQ4AAAAJEOgAAACQAIEOAAAACRDoAAAAkACBDgAAAAkQ6AAAAJAAgQ4AAAAJEOgAAACQAIEOAAAACRDoAAAAkACBDgAAAAkQ6AAAAJAAgQ4AAAAJEOgAAACQAIEOAAAACRDoAAAAkACBDgAAAAkQ6AAAAJAAgQ4AAAAJEOgAAACQAIEOAAAACRDoAAAAkACBDgAAAAkQ6AAAAJAAgQ4AAAAJEOgAAACQAIEOAAAACRDoAAAAkACBDgAAAAkQ6AAAAJAAgQ4AAAAJEOgAAACQAIEOAAAACRDoAAAAkACBDgAAAAkQ6AAAAJAAgQ4AAAAJEOgAAACQAIEOAAAACRDoAAAAkACBDgAAAAkQ6AAAAJAAgQ4AAAAJEOgAAACQAIEOAAAACRDoAAAAkACBDgAAAAkQ6AAAAJAAgQ4AAAAJEOgAAACQAIEOAAAACRDoAAAAkACBDgAAAAkQ6AAAAJAAgQ4AAAAJEOgAAACQAIEOAAAACRDoAAAAkACBDgAAAAkozHoAPlr5fD4iIrq7uzOeBAAAyFJ/E/Q3AtkT6KNMT09PRERUVVVlPAkAAJCCnp6emDBhQtZjEBG5vJdLRpW+vr44ffp0lJWVRS6Xy3ocPoDu7u6oqqqKkydPxvjx47Meh0TZTxgu+wrDYT9hOOwnI1c+n4+enp6YNm1ajBnj3c8psII+yowZMyamT5+e9Rh8COPHj/efH+/LfsJw2VcYDvsJw2E/GZmsnKfFyyQAAACQAIEOAAAACRDoMEIUFxfH1q1bo7i4OOtRSJj9hOGyrzAc9hOGw34Ct46TxAEAAEACrKADAABAAgQ6AAAAJECgAwAAQAIEOgAAACRAoMMI0NTUFPfcc0+UlJREeXn5TW/T0dERa9asiZKSkpg8eXL84Ac/iBs3bny0g5KUWbNmRS6XG3TZvn171mORgGeeeSZmzZoVd9xxR9TU1MTBgwezHonEbNu2bcjzx4IFC7Iei4y9/PLLcf/998e0adMil8vF888/P+j6fD4fjz32WEydOjXGjh0bq1evjmPHjmUzLIxQAh1GgOvXr8fatWujoaHhptf39vbGmjVr4vr167F///7YvXt3NDc3x2OPPfYRT0pqfvzjH8eZM2cGLuvXr896JDL2u9/9LjZs2BBbt26NQ4cOxZIlS6K2tjbOnj2b9Wgk5tOf/vSg54+//vWvWY9Exq5cuRJLliyJZ5555qbX79ixI3bu3Bm7du2KAwcORGlpadTW1sZbb731EU8KI5c/swYjSHNzczQ2NsbFixcHbX/xxRfjvvvui9OnT0dlZWVEROzatSseeeSROHfuXBQVFWUwLVmbNWtWNDY2RmNjY9ajkJCampr43Oc+F08//XRERPT19UVVVVWsX78+Nm/enPF0pGLbtm3x/PPPR2tra9ajkKhcLhd/+MMf4qtf/WpE/Gf1fNq0abFx48bYtGlTRERcunQpKisro7m5OR544IEMp4WRwwo6fAy0tLTEokWLBuI8IqK2tja6u7vjyJEjGU5G1rZv3x6TJk2Ku+++O5566ilvexjlrl+/Hn//+99j9erVA9vGjBkTq1evjpaWlgwnI0XHjh2LadOmxZw5c+LBBx+Mjo6OrEciYcePH4/Ozs5Bzy8TJkyImpoazy/wARRmPQDw4XV2dg6K84gY+LqzszOLkUjAd7/73fjMZz4TEydOjP3798ejjz4aZ86ciZ///OdZj0ZGzp8/H729vTd9vmhra8toKlJUU1MTzc3NMX/+/Dhz5kw8/vjj8YUvfCH+8Y9/RFlZWdbjkaD+3zdu9vzidxEYPivokJHNmzcPOQHPf1/8wsx/+yD7zYYNG2LlypWxePHi+Na3vhU/+9nP4pe//GVcu3Yt458CSN1XvvKVWLt2bSxevDhqa2vjhRdeiIsXL8bvf//7rEcD+Fizgg4Z2bhxY9TX17/nbebMmTOs+5oyZcqQszB3dXUNXMfHx4fZb2pqauLGjRvR3t4e8+fPvw3Tkbq77rorCgoKBp4f+nV1dXmu4D2Vl5fHvHnz4vXXX896FBLV/xzS1dUVU6dOHdje1dUVS5cuzWgqGHkEOmSkoqIiKioqbsl9LV++PJqamuLs2bMxefLkiIh46aWXYvz48VFdXX1LHoM0fJj9prW1NcaMGTOwjzD6FBUVxWc/+9nYs2fPwImd+vr6Ys+ePfGd73wn2+FI2uXLl+Nf//pXrFu3LutRSNTs2bNjypQpsWfPnoEg7+7ujgMHDrzrX6EBhhLoMAJ0dHTEG2+8ER0dHdHb2ztwVt25c+fGuHHj4t57743q6upYt25d7NixIzo7O2PLli3x8MMPR3FxcbbDk4mWlpY4cOBArFq1KsrKyqKlpSW+//3vxze+8Y248847sx6PDG3YsCHq6upi2bJl8fnPfz5+8YtfxJUrV+Kb3/xm1qORkE2bNsX9998fM2fOjNOnT8fWrVujoKAgvv71r2c9Ghm6fPnyoKMojh8/Hq2trTFx4sSYMWNGNDY2xhNPPBGf+tSnYvbs2fGjH/0opk2bNvCCIPD+/Jk1GAHq6+tj9+7dQ7bv3bs3Vq5cGRERJ06ciIaGhti3b1+UlpZGXV1dbN++PQoLvQ43Gh06dCi+/e1vR1tbW1y7di1mz54d69atiw0bNnjRhnj66afjqaeeis7Ozli6dGns3Lkzampqsh6LhDzwwAPx8ssvx4ULF6KioiJWrFgRTU1N8clPfjLr0cjQvn37YtWqVUO219XVRXNzc+Tz+di6dWv85je/iYsXL8aKFSviV7/6VcybNy+DaWFkEugAAACQAGdxBwAAgAQIdAAAAEiAQAcAAIAECHQAAABIgEAHAACABAh0AAAASIBABwAAgAQIdAAAAEiAQAeAUaC3tzfuueee+NrXvjZo+6VLl6Kqqip++MMfZjQZANAvl8/n81kPAQDcfq+99losXbo0fvvb38aDDz4YEREPPfRQHD58OF555ZUoKirKeEIAGN0EOgCMIjt37oxt27bFkSNH4uDBg7F27dp45ZVXYsmSJVmPBgCjnkAHgFEkn8/Hl770pSgoKIhXX3011q9fH1u2bMl6LAAgBDoAjDptbW2xcOHCWLRoURw6dCgKCwuzHgkACCeJA4BR57nnnouSkpI4fvx4nDp1KutxAID/ZwUdAEaR/fv3xxe/+MX405/+FE888URERPz5z3+OXC6X8WQAgBV0ABglrl69GvX19dHQ0BCrVq2KZ599Ng4ePBi7du3KejQAIKygA8Co8b3vfS9eeOGFOHz4cJSUlERExK9//evYtGlTvPrqqzFr1qxsBwSAUU6gA8Ao8Je//CW+/OUvx759+2LFihWDrqutrY0bN2441B0AMibQAQAAIAHegw4AAAAJEOgAAACQAIEOAAAACRDoAAAAkACBDgAAAAkQ6AAAAJAAgQ4AAAAJEOgAAACQAIEOAAAACRDoAAAAkACBDgAAAAkQ6AAAAJAAgQ4AAAAJEOgAAACQAIEOAAAACRDoAAAAkACBDgAAAAkQ6AAAAJAAgQ4AAAAJEOgAAACQAIEOAAAACRDoAAAAkACBDgAAAAkQ6AAAAJAAgQ4AAAAJEOgAAACQAIEOAAAACRDoAAAAkACBDgAAAAkQ6AAAAJAAgQ4AAAAJEOgAAACQAIEOAAAACRDoAAAAkACBDgAAAAkQ6AAAAJAAgQ4AAAAJEOgAAACQAIEOAAAACRDoAAAAkACBDgAAAAkQ6AAAAJAAgQ4AAAAJEOgAAACQAIEOAAAACRDoAAAAkACBDgAAAAn4P6D2VZU0Ht+SAAAAAElFTkSuQmCC' width=1000.0/>\n",
       "            </div>\n",
       "        "
      ],
      "text/plain": [
       "Canvas(toolbar=Toolbar(toolitems=[('Home', 'Reset original view', 'home', 'home'), ('Back', 'Back to previous …"
      ]
     },
     "metadata": {},
     "output_type": "display_data"
    }
   ],
   "source": [
    "%matplotlib widget\n",
    "from mobile_robot_omni_wheel import *\n",
    "fig = plt.figure(figsize=(10, 8))\n",
    "\n",
    "\n",
    "anim = omni_rob_animation(fig, 10, rob=True, wheels=False)\n",
    "#anim.save('omni_wheel_circle.gif')"
   ]
  }
 ],
 "metadata": {
  "kernelspec": {
   "display_name": "Python 3 (ipykernel)",
   "language": "python",
   "name": "python3"
  },
  "language_info": {
   "codemirror_mode": {
    "name": "ipython",
    "version": 3
   },
   "file_extension": ".py",
   "mimetype": "text/x-python",
   "name": "python",
   "nbconvert_exporter": "python",
   "pygments_lexer": "ipython3",
   "version": "3.8.10"
  }
 },
 "nbformat": 4,
 "nbformat_minor": 5
}
