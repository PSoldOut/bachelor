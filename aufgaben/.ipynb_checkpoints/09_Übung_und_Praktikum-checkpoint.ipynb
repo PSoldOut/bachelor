{
 "cells": [
  {
   "cell_type": "markdown",
   "id": "19e5b4f4",
   "metadata": {
    "tags": []
   },
   "source": [
    "# Praktikum 9"
   ]
  },
  {
   "cell_type": "markdown",
   "id": "87ecf0bf",
   "metadata": {},
   "source": [
    "Für dieses Praktikum wird das Modul sympy benötigt. Dieses muss vorher gegebenenfalls über das Terminal installiert werden.\n",
    "\n",
    "```\n",
    "pip install sympy\n",
    "```\n",
    "\n",
    "Anschließend kann das Modul importiert werden.\n",
    "\n",
    "Für die Darstellung wird zudem das Modul IPython.display verwendet."
   ]
  },
  {
   "cell_type": "code",
   "execution_count": null,
   "id": "2bb99bca",
   "metadata": {},
   "outputs": [],
   "source": [
    "from sympy import *\n",
    "from IPython.display import display, Math, Latex\n",
    "from sympy.physics.mechanics import dynamicsymbols, init_vprinting\n",
    "init_vprinting(use_latex='mathjax')"
   ]
  },
  {
   "cell_type": "code",
   "execution_count": null,
   "id": "3f55d5a5-56c6-4d2c-8cf5-2279e7262247",
   "metadata": {},
   "outputs": [],
   "source": [
    "# helper function for latex pretty printing\n",
    "def display_latex_result(a, b=None):\n",
    "  if b is None:\n",
    "    res = \"$${}$$\".format(a)\n",
    "  else:\n",
    "    res = \"$${} = {}$$\".format(a, latex(b, mat_delim='('))\n",
    "  display(Latex(res))"
   ]
  },
  {
   "cell_type": "markdown",
   "id": "6c78a811-a0a7-4c0e-bafc-6fcadfa4c025",
   "metadata": {},
   "source": [
    "$\\newcommand{\\mbf}{\\mathbf}$\n",
    "$\\newcommand{\\mrm}{\\mathrm}$\n",
    "$\\newcommand{\\tcdegree}{{°}}$\n",
    "$\\newcommand{\\unitms}{{\\mathrm{\\frac{m}{s}}}}$\n",
    "$\\newcommand{\\unitrads}{{\\mathrm{\\frac{rad}{s}}}}$\n",
    "\n",
    "Gegeben ist der abgebildete Zylinder-Roboter mit 3 Freiheitsgraden. Der Endeffektor des Roboters (z.B. seinen Greifer) kann\n",
    "direkt in den Zylinderkoordinaten $r$, $\\varphi$ und $z$\n",
    "verfahren werden. Der Roboter besitzt hierfür ein Dreh- und zwei Schubgelenke.\n",
    "\n",
    "<table><tr>\n",
    "<td> \n",
    "\n",
    "Nr.  | $\\theta_i$  | $d_i$ | $a_i$ |$\\alpha_i$\n",
    ":---:|:-----------:|:-----:|:-----:|:--------:|\n",
    "1    |             |       |       |          |\n",
    "2    |             |       |       |          |\n",
    "3    |             |       |       |          |\n",
    "\n",
    "\n",
    "<td>\n",
    "<figure>\n",
    "<center>\n",
    "<img width='400' src='https://fh-dortmund.sciebo.de/s/esxLNzGVvbZZEm5/download?path=%2F&files=stanford.png'/>\n",
    "</figure>\n",
    "</td>\n",
    "</tr></table>    \n",
    "    \n"
   ]
  },
  {
   "cell_type": "markdown",
   "id": "094bf170-8ef6-4e04-949a-2e772c7d9051",
   "metadata": {
    "tags": []
   },
   "source": [
    "## Aufgabe 9.1"
   ]
  },
  {
   "cell_type": "markdown",
   "id": "0abbceb8-8848-40a2-aaa5-1707cd0414e8",
   "metadata": {
    "jp-MarkdownHeadingCollapsed": true,
    "tags": []
   },
   "source": [
    "Zeichnen Sie die Koordinatensysteme nach Denavit-Hartenberg in die Zeichnung ein."
   ]
  },
  {
   "cell_type": "markdown",
   "id": "d4603723-ce62-4e05-9484-65bc41d3ef30",
   "metadata": {
    "tags": []
   },
   "source": [
    "## Aufgabe 9.2"
   ]
  },
  {
   "cell_type": "markdown",
   "id": "a9409cca-fcf2-4783-a9b4-e52c99a93649",
   "metadata": {
    "jp-MarkdownHeadingCollapsed": true,
    "tags": []
   },
   "source": [
    "Tragen Sie die Denavit-Hartenberg-Parameter in die Tabelle ein."
   ]
  },
  {
   "cell_type": "markdown",
   "id": "2b3e5f25-5911-4203-9c4b-e31fdc31e07f",
   "metadata": {
    "tags": []
   },
   "source": [
    "## Aufgabe 9.3"
   ]
  },
  {
   "cell_type": "markdown",
   "id": "e1de2ce8-3ea1-4fc8-8633-c3bab5dc4646",
   "metadata": {
    "jp-MarkdownHeadingCollapsed": true,
    "tags": []
   },
   "source": [
    "Geben Sie die drei Denavit-Hartenberg-Matritzen ${}^0\\mbf{T}_1 ,\\; {}^1\\mbf{T}_2  ,\\; {}^2\\mbf{T}_3$ allgemein an."
   ]
  },
  {
   "cell_type": "markdown",
   "id": "bb769139-9d0f-4642-b3cf-d1a5e7f898e3",
   "metadata": {},
   "source": [
    "### Ergänzen Sie den nachstehenden Code um die Rechnung zu überprüfen."
   ]
  },
  {
   "cell_type": "code",
   "execution_count": null,
   "id": "a938e0f0-d8f7-4ab1-b7cb-0c609cb6ab13",
   "metadata": {},
   "outputs": [],
   "source": [
    "from sympy import *\n",
    "theta_i, alpha_i, a_i, d_i = symbols('theta_i alpha_i a_i d_i')"
   ]
  },
  {
   "cell_type": "code",
   "execution_count": null,
   "id": "15c7c2c9-f415-4405-829f-7432a80d4781",
   "metadata": {},
   "outputs": [],
   "source": [
    "def dhFrame(theta, d, a, alpha):\n",
    "    \n",
    "    rot_theta = Matrix([ [cos(theta), -sin(theta), 0, 0], \n",
    "                         [sin(theta), ,  0, 0], \n",
    "                         [0,             0,        1, 0], \n",
    "                         [0,             0,        0, 1] ])\n",
    "    \n",
    "    trans_d = Matrix([ [1, 0, 0, ],\n",
    "                       [0, 1, 0, ],\n",
    "                       [0, 0, 1, ],\n",
    "                       [0, 0, 0, 1] ])\n",
    "    \n",
    "    trans_a = Matrix([ [1, 0, 0, ], \n",
    "                       [0, 1, 0, ], \n",
    "                       [0, 0, 1, ], \n",
    "                       [0, 0, 0, 1] ])\n",
    "    \n",
    "    rot_alpha = Matrix([ [1,          0,           0, 0], \n",
    "                         [0, cos(alpha), , 0], \n",
    "                         [0, sin(alpha),  cos(alpha), 0], \n",
    "                         [0,          0,           0, 1] ])\n",
    "    \n",
    "    dh_frame = rot_theta * trans_d * trans_a * rot_alpha\n",
    "    \n",
    "    return dh_frame;"
   ]
  },
  {
   "cell_type": "code",
   "execution_count": null,
   "id": "ecc69636-19b4-41b6-9969-401317769f0b",
   "metadata": {},
   "outputs": [],
   "source": [
    "Tdh = dhFrame(theta_i, d_i, a_i, alpha_i)\n",
    "display_latex_result('T_\\mrm{DH}', Tdh)"
   ]
  },
  {
   "cell_type": "code",
   "execution_count": null,
   "id": "917f0409-c86d-4df4-8c7d-5826378fad81",
   "metadata": {},
   "outputs": [],
   "source": [
    "phi = symbols('varphi')\n",
    "T01 = dhFrame( , , , )\n",
    "display_latex_result('{}^0\\mbf{T}_1', T01)"
   ]
  },
  {
   "cell_type": "code",
   "execution_count": null,
   "id": "e4708479-f0e2-4993-87aa-8467addb6003",
   "metadata": {},
   "outputs": [],
   "source": [
    "z = symbols('z')\n",
    "T12 = dhFrame( , , , )\n",
    "display_latex_result('{}^1\\mbf{T}_2', T12)"
   ]
  },
  {
   "cell_type": "code",
   "execution_count": null,
   "id": "ff4c7ec1-050c-41c9-adef-18fb8e1a9ac2",
   "metadata": {},
   "outputs": [],
   "source": [
    "r = symbols('r')\n",
    "T23 = dhFrame( , , , )\n",
    "display_latex_result('{}^2\\mbf{T}_3', T23)"
   ]
  },
  {
   "cell_type": "markdown",
   "id": "ba6d4b45-1690-4d76-a063-f9ab870a4cc8",
   "metadata": {
    "tags": []
   },
   "source": [
    "## Aufgabe 9.4"
   ]
  },
  {
   "cell_type": "markdown",
   "id": "82a3489b-846a-4d0d-95e8-30876da84eb5",
   "metadata": {},
   "source": [
    "Berechnen Sie die Transformationsmatrix ${}^0\\mbf{T}_3  =  {}^0\\mbf{T}_1 \\; {}^1\\mbf{T}_2  \\; {}^2\\mbf{T}_3$."
   ]
  },
  {
   "cell_type": "markdown",
   "id": "7b7729d1-d82b-473e-8f58-347d33f92e62",
   "metadata": {},
   "source": [
    "### Ergänzen Sie den nachstehenden Code um die Rechnung zu überprüfen."
   ]
  },
  {
   "cell_type": "code",
   "execution_count": null,
   "id": "9f3c81be-fc50-4c1f-9dca-fb5bf691552e",
   "metadata": {},
   "outputs": [],
   "source": [
    "T03 = \n",
    "display_latex_result('{}^0\\mbf{T}_3', T03)"
   ]
  },
  {
   "cell_type": "markdown",
   "id": "fb76f2d4-d12d-486f-a366-d4588270a257",
   "metadata": {
    "tags": []
   },
   "source": [
    "## Aufgabe 9.5"
   ]
  },
  {
   "cell_type": "markdown",
   "id": "cdf6fb10-210d-4d7f-8efe-63d8631a9100",
   "metadata": {},
   "source": [
    "Berechnen Sie die Position des TCP im Koordinatensystem $K_0$, für $\\varphi = 30\\tcdegree$, $z = \\frac{1}{5}$ und $r = \\frac{1}{2}$."
   ]
  },
  {
   "cell_type": "markdown",
   "id": "173a0e92-2218-4ddf-8194-2433649cda55",
   "metadata": {},
   "source": [
    "### Ergänzen Sie den nachstehenden Code um die Rechnung zu überprüfen."
   ]
  },
  {
   "cell_type": "code",
   "execution_count": null,
   "id": "e13d35b0-8ddb-4898-8f8f-5b129e5792cd",
   "metadata": {},
   "outputs": [],
   "source": [
    "T03 = T03.subs({phi:, z:, r:})\n",
    "display_latex_result('{}^0\\mbf{T}_3', T03)\n",
    "p = \n",
    "display_latex_result('\\mbf{p}', p)"
   ]
  },
  {
   "cell_type": "markdown",
   "id": "5cafbfaf-1746-477b-b28d-7d1b4168480e",
   "metadata": {
    "tags": []
   },
   "source": [
    "## Aufgabe 9.6"
   ]
  },
  {
   "cell_type": "markdown",
   "id": "2646c436-41fb-4996-a779-7a43941ad461",
   "metadata": {},
   "source": [
    "Welche Orientierung ausgedrückt als Rotationsmatrix hat der Roboter in dieser Stellung?"
   ]
  },
  {
   "cell_type": "markdown",
   "id": "31cd3910-0494-47d1-8091-48c70ff9541c",
   "metadata": {},
   "source": [
    "### Ergänzen Sie den nachstehenden Code um die Rechnung zu überprüfen."
   ]
  },
  {
   "cell_type": "code",
   "execution_count": null,
   "id": "524d336e-0cc2-4db8-bcb7-0c231e76ac25",
   "metadata": {},
   "outputs": [],
   "source": [
    "R = \n",
    "display_latex_result('\\mbf{R}', R)"
   ]
  },
  {
   "cell_type": "markdown",
   "id": "3c72c614-e7be-4cc6-a004-272e7b8342be",
   "metadata": {
    "tags": []
   },
   "source": [
    "## Aufgabe 9.7"
   ]
  },
  {
   "cell_type": "markdown",
   "id": "7f34d3f1-64e8-4939-a806-f049286b6839",
   "metadata": {},
   "source": [
    "Berechnen Sie die Euler-Winkel und die Roll-Nick-Gier-Winkel in dieser Stellung."
   ]
  },
  {
   "cell_type": "markdown",
   "id": "f8d9bfe2-472a-4119-bc43-7a0a1ab4b569",
   "metadata": {},
   "source": [
    "### Ergänzen Sie den nachstehenden Code um die Rechnung zu überprüfen."
   ]
  },
  {
   "cell_type": "code",
   "execution_count": null,
   "id": "2b357ff2-1974-4315-9c65-81f3209b5fbd",
   "metadata": {},
   "outputs": [],
   "source": [
    "rad2deg = 180/pi\n",
    "\n",
    "def rot2eul(R):\n",
    "  eul = Matrix([0, 0, 0])\n",
    "  eul[0] = atan2(R[1,2], R[0,2])\n",
    "  sin_alpha = sin(eul[0])\n",
    "  cos_alpha = cos(eul[0])\n",
    "  eul[1] = atan2(cos_alpha * R[0,2] + sin_alpha * R[1,2], R[2,2])\n",
    "  eul[2] = atan2(-sin_alpha * R[0,0] + cos_alpha * R[1,0], -sin_alpha * R[0,1] + cos_alpha * R[1,1])\n",
    "  return eul\n",
    "\n",
    "display_latex_result('\\mrm{EUL} = \\\\begin{pmatrix}\\\\alpha\\\\\\\\ \\\\beta\\\\\\\\ \\\\gamma\\\\end{pmatrix}', )\n",
    "\n",
    "def rot2rpy(R):\n",
    "  eul = Matrix([0, 0, 0])\n",
    "  if R[1,0] == 0 and R[0,0] == 0: # singularity\n",
    "    eul[0] = 0\n",
    "  else:      \n",
    "    eul[0] = atan2(R[1,0], R[0,0])\n",
    "  \n",
    "  sin_alpha = sin(eul[0])\n",
    "  cos_alpha = cos(eul[0])\n",
    "  eul[1] = atan2(-R[2,0], cos_alpha * R[0,0] + sin_alpha * R[1,0])\n",
    "  eul[2] = atan2(sin_alpha * R[0,2] - cos_alpha * R[1,2], cos_alpha * R[1,1] - sin_alpha * R[0,1])\n",
    "  return eul\n",
    "\n",
    "display_latex_result('\\mrm{RPY} = \\\\begin{pmatrix}\\\\alpha\\\\\\\\ \\\\beta\\\\\\\\ \\\\gamma\\\\end{pmatrix}', )"
   ]
  }
 ],
 "metadata": {
  "kernelspec": {
   "display_name": "Python 3 (ipykernel)",
   "language": "python",
   "name": "python3"
  },
  "language_info": {
   "codemirror_mode": {
    "name": "ipython",
    "version": 3
   },
   "file_extension": ".py",
   "mimetype": "text/x-python",
   "name": "python",
   "nbconvert_exporter": "python",
   "pygments_lexer": "ipython3",
   "version": "3.8.10"
  }
 },
 "nbformat": 4,
 "nbformat_minor": 5
}
