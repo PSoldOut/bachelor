{
 "cells": [
  {
   "cell_type": "markdown",
   "id": "19e5b4f4",
   "metadata": {
    "tags": []
   },
   "source": [
    "# Praktikum 10"
   ]
  },
  {
   "cell_type": "markdown",
   "id": "87ecf0bf",
   "metadata": {},
   "source": [
    "Für dieses Praktikum wird das Modul sympy benötigt. Dieses muss vorher gegebenenfalls über das Terminal installiert werden.\n",
    "\n",
    "```\n",
    "pip install sympy\n",
    "```\n",
    "\n",
    "Anschließend kann das Modul importiert werden.\n",
    "\n",
    "Für die Darstellung wird zudem das Modul IPython.display verwendet."
   ]
  },
  {
   "cell_type": "code",
   "execution_count": null,
   "id": "2bb99bca",
   "metadata": {},
   "outputs": [],
   "source": [
    "from sympy import *\n",
    "from IPython.display import display, Math, Latex\n",
    "from sympy.physics.mechanics import dynamicsymbols, init_vprinting\n",
    "init_vprinting(use_latex='mathjax')"
   ]
  },
  {
   "cell_type": "code",
   "execution_count": null,
   "id": "3f55d5a5-56c6-4d2c-8cf5-2279e7262247",
   "metadata": {},
   "outputs": [],
   "source": [
    "# helper function for latex pretty printing\n",
    "def display_latex_result(a, b=None):\n",
    "  if b is None:\n",
    "    res = \"$${}$$\".format(a)\n",
    "  else:\n",
    "    res = \"$${} = {}$$\".format(a, latex(b, mat_delim='('))\n",
    "  display(Latex(res))"
   ]
  },
  {
   "cell_type": "markdown",
   "id": "6c78a811-a0a7-4c0e-bafc-6fcadfa4c025",
   "metadata": {},
   "source": [
    "$\\newcommand{\\mbf}{\\mathbf}$\n",
    "$\\newcommand{\\mrm}{\\mathrm}$\n",
    "$\\newcommand{\\tcdegree}{{°}}$\n",
    "$\\newcommand{\\unitms}{{\\mathrm{\\frac{m}{s}}}}$\n",
    "$\\newcommand{\\unitrads}{{\\mathrm{\\frac{rad}{s}}}}$\n",
    "\n",
    "Gegeben ist der abgebildete ebene Roboter mit 3 Freiheitsgraden in der 2D-Ebene. \n",
    "Der Endeffektor des Roboters ist in der 2D-Ebene bezüglich seiner Position ($x, y$) und seiner Orientierung ($\\varphi$) variabel. \n",
    "Der Roboter besitzt im Konfigurationsraum hierfür zwei Dreh- und ein Schubgelenke (DSD).\n",
    "\n",
    "<table><tr>\n",
    "<td> \n",
    "\n",
    "Nr.  | $\\theta_i$  | $d_i$ | $a_i$ |$\\alpha_i$\n",
    ":---:|:-----------:|:-----:|:-----:|:--------:|\n",
    "1    |             |       |       |          |\n",
    "2    |             |       |       |          |\n",
    "3    |             |       |       |          |\n",
    "\n",
    "<!--\n",
    "<figure>\n",
    "<center>\n",
    "<img width='400' src='https://fh-dortmund.sciebo.de/s/esxLNzGVvbZZEm5/download?path=%2F&files=stanford.png'/>\n",
    "</figure>\n",
    "-->\n",
    "\n",
    "<td>\n",
    "<figure>\n",
    "<center>\n",
    "<img width='500' src='https://fh-dortmund.sciebo.de/s/esxLNzGVvbZZEm5/download?path=%2F&files=dh-dsd.png'/>\n",
    "</figure>\n",
    "</td>\n",
    "</tr></table>    \n",
    "    \n"
   ]
  },
  {
   "cell_type": "markdown",
   "id": "094bf170-8ef6-4e04-949a-2e772c7d9051",
   "metadata": {
    "tags": []
   },
   "source": [
    "## Aufgabe 10.1"
   ]
  },
  {
   "cell_type": "markdown",
   "id": "0abbceb8-8848-40a2-aaa5-1707cd0414e8",
   "metadata": {
    "jp-MarkdownHeadingCollapsed": true,
    "tags": []
   },
   "source": [
    "Zeichnen Sie die Koordinatensysteme nach Denavit-Hartenberg in die Abbildung ein."
   ]
  },
  {
   "cell_type": "markdown",
   "id": "d4603723-ce62-4e05-9484-65bc41d3ef30",
   "metadata": {
    "tags": []
   },
   "source": [
    "## Aufgabe 10.2"
   ]
  },
  {
   "cell_type": "markdown",
   "id": "a9409cca-fcf2-4783-a9b4-e52c99a93649",
   "metadata": {
    "jp-MarkdownHeadingCollapsed": true,
    "tags": []
   },
   "source": [
    "Tragen Sie die Denavit-Hartenberg-Parameter in die Tabelle ein."
   ]
  },
  {
   "cell_type": "markdown",
   "id": "2b3e5f25-5911-4203-9c4b-e31fdc31e07f",
   "metadata": {
    "tags": []
   },
   "source": [
    "## Aufgabe 10.3\n"
   ]
  },
  {
   "cell_type": "markdown",
   "id": "e1de2ce8-3ea1-4fc8-8633-c3bab5dc4646",
   "metadata": {
    "jp-MarkdownHeadingCollapsed": true,
    "tags": []
   },
   "source": [
    "Geben Sie die drei Denavit-Hartenberg-Matritzen ${}^0\\mbf{T}_1 ,\\; {}^1\\mbf{T}_2  ,\\; {}^2\\mbf{T}_3$ allgemein an."
   ]
  },
  {
   "cell_type": "markdown",
   "id": "bb769139-9d0f-4642-b3cf-d1a5e7f898e3",
   "metadata": {},
   "source": [
    "### Ergänzen Sie den nachstehenden Code um die Rechnung zu überprüfen."
   ]
  },
  {
   "cell_type": "code",
   "execution_count": null,
   "id": "a938e0f0-d8f7-4ab1-b7cb-0c609cb6ab13",
   "metadata": {},
   "outputs": [],
   "source": [
    "from sympy import *\n",
    "theta_i, alpha_i, a_i, d_i = symbols('theta_i alpha_i a_i d_i')"
   ]
  },
  {
   "cell_type": "code",
   "execution_count": null,
   "id": "15c7c2c9-f415-4405-829f-7432a80d4781",
   "metadata": {},
   "outputs": [],
   "source": [
    "def dhFrame(theta, d, a, alpha):\n",
    "    \n",
    "    rot_theta = Matrix([ [cos(theta), -sin(theta), 0, 0], \n",
    "                         [sin(theta), cos(theta),  0, 0], \n",
    "                         [0,             0,        1, 0], \n",
    "                         [0,             0,        0, 1] ])\n",
    "    \n",
    "    trans_d = Matrix([ [1, 0, 0, 0],\n",
    "                       [0, 1, 0, 0],\n",
    "                       [0, 0, 1, d],\n",
    "                       [0, 0, 0, 1] ])\n",
    "    \n",
    "    trans_a = Matrix([ [1, 0, 0, a], \n",
    "                       [0, 1, 0, 0], \n",
    "                       [0, 0, 1, 0], \n",
    "                       [0, 0, 0, 1] ])\n",
    "    \n",
    "    rot_alpha = Matrix([ [1,          0,           0, 0], \n",
    "                         [0, cos(alpha), -sin(alpha), 0], \n",
    "                         [0, sin(alpha),  cos(alpha), 0], \n",
    "                         [0,          0,           0, 1] ])\n",
    "    \n",
    "    dh_frame = rot_theta * trans_d * trans_a * rot_alpha\n",
    "    \n",
    "    return dh_frame;"
   ]
  },
  {
   "cell_type": "code",
   "execution_count": null,
   "id": "ecc69636-19b4-41b6-9969-401317769f0b",
   "metadata": {},
   "outputs": [],
   "source": [
    "Tdh = dhFrame(theta_i, d_i, a_i, alpha_i)\n",
    "display_latex_result('T_\\mrm{DH}', Tdh)"
   ]
  },
  {
   "cell_type": "code",
   "execution_count": null,
   "id": "917f0409-c86d-4df4-8c7d-5826378fad81",
   "metadata": {},
   "outputs": [],
   "source": [
    "theta1 = symbols('theta_1')\n",
    "T01 = dhFrame(, , , )\n",
    "display_latex_result('{}^0\\mbf{T}_1', T01)"
   ]
  },
  {
   "cell_type": "code",
   "execution_count": null,
   "id": "e4708479-f0e2-4993-87aa-8467addb6003",
   "metadata": {},
   "outputs": [],
   "source": [
    "l1 = symbols('l_1')\n",
    "T12 = dhFrame(, , , )\n",
    "display_latex_result('{}^1\\mbf{T}_2', T12)"
   ]
  },
  {
   "cell_type": "code",
   "execution_count": null,
   "id": "ff4c7ec1-050c-41c9-adef-18fb8e1a9ac2",
   "metadata": {},
   "outputs": [],
   "source": [
    "theta3, l2 = symbols('theta_3 l_2')\n",
    "T23 = dhFrame(, , , )\n",
    "display_latex_result('{}^2\\mbf{T}_3', T23)"
   ]
  },
  {
   "cell_type": "markdown",
   "id": "ba6d4b45-1690-4d76-a063-f9ab870a4cc8",
   "metadata": {
    "tags": []
   },
   "source": [
    "## Aufgabe 10.4"
   ]
  },
  {
   "cell_type": "markdown",
   "id": "82a3489b-846a-4d0d-95e8-30876da84eb5",
   "metadata": {},
   "source": [
    "Ergänzen Sie den nachstehenden Code um die Transformationsmatrix ${}^0\\mbf{T}_3  =  {}^0\\mbf{T}_1 \\; {}^1\\mbf{T}_2  \\; {}^2\\mbf{T}_3$ zu berechnen."
   ]
  },
  {
   "cell_type": "code",
   "execution_count": null,
   "id": "9f3c81be-fc50-4c1f-9dca-fb5bf691552e",
   "metadata": {},
   "outputs": [],
   "source": [
    "T03 = \n",
    "display_latex_result('{}^0\\mbf{T}_3', T03)"
   ]
  },
  {
   "cell_type": "markdown",
   "id": "fb76f2d4-d12d-486f-a366-d4588270a257",
   "metadata": {
    "tags": []
   },
   "source": [
    "## Aufgabe 10.5"
   ]
  },
  {
   "cell_type": "markdown",
   "id": "cdf6fb10-210d-4d7f-8efe-63d8631a9100",
   "metadata": {},
   "source": [
    "Geben Sie die Transformationsmatrix ${}^UT_H$ an. (Hinweis: Bestimmen Sie dazu zuerst ${}^UT_0$ und ${}^3T_H$, \n",
    "hierbei handelt es sich nicht unbedingt um Denavit-Hartenberg-Matritzen.)"
   ]
  },
  {
   "cell_type": "markdown",
   "id": "173a0e92-2218-4ddf-8194-2433649cda55",
   "metadata": {},
   "source": [
    "### Ergänzen Sie den nachstehenden Code um ${}^{U}\\mbf{T}_H$ zu berechnen."
   ]
  },
  {
   "cell_type": "code",
   "execution_count": null,
   "id": "e13d35b0-8ddb-4898-8f8f-5b129e5792cd",
   "metadata": {},
   "outputs": [],
   "source": [
    "ux, uy = symbols('u_x u_y')\n",
    "\n",
    "TU0 = Matrix([ ])\n",
    "T3H = Matrix([ ])\n",
    "\n",
    "TUH = \n",
    "display_latex_result('{}^0\\mbf{T}_3', simplify(TUH))"
   ]
  },
  {
   "cell_type": "markdown",
   "id": "51b0bba1-c24d-4caf-8363-f835a9069ecc",
   "metadata": {},
   "source": [
    "## Berechnung Roll-Nick-Gier-Winkel\n",
    "\n",
    "Für die weitere Berechnung müssen die Roll-Nick-Gier-Winkel $(\\alpha, \\beta, \\gamma)$ der Matrix ${}^u\\mathbf{T}_h$ in ZYX-Konvention bestimmt werden\n",
    "\n",
    "\\begin{equation*}\n",
    "\\mathbf{R}_\\mathrm{RPY} \\,:=\\, \\mathbf{R}_\\mathrm{RPY}(\\alpha, \\beta, \\gamma) \\,:=\\,\n",
    "\\mathbf{R}(z, \\alpha)\\mathbf{R}(y, \\beta)\\mathbf{R}(x, \\gamma)\n",
    "\\end{equation*} \n",
    "\n",
    "die Roll-Nick-Gier-Winkel lassen sich wie folgt bestimmen\n",
    "\n",
    "\\begin{equation*}\n",
    "\\begin{array}{lcl}\n",
    "\\alpha    & = & \\displaystyle\n",
    "\\mathrm{atan2} \\left( R_{21}, ~R_{11}  \\right) \\\\\n",
    "\\beta    & = &  \\displaystyle\n",
    "\\mathrm{atan2} \\left(-R_{31}, ~R_{21}\\cdot\\sin\\alpha  + R_{11}\\cdot\\cos\\alpha  \\right) \\\\\n",
    "\\gamma    & = & \\displaystyle\n",
    "\\mathrm{atan2} \\left( R_{13}\\cdot\\sin\\alpha  -  R_{23}\\cdot\\cos\\alpha, ~-R_{12}\\cdot\\sin\\alpha +  R_{22}\\cdot\\cos\\alpha \\right) \n",
    "\\end{array}\n",
    "\\end{equation*}\n",
    "\n",
    "\n",
    "(Hinweis: Für die Vereinfachung gilt: $\\mathrm{atan2}(\\sin(x), \\cos(x)) = x$ für $x \\in \\{-\\pi \\dots \\pi\\}$; $\\cos(x) = \\sin(x + \\pi/2)$; $-\\sin(x) = \\cos(x + \\pi/2)$)"
   ]
  },
  {
   "cell_type": "code",
   "execution_count": null,
   "id": "c7b0a70b-dd85-4e85-8a16-f09ac2b344f4",
   "metadata": {},
   "outputs": [],
   "source": [
    "alpha, beta, gamma = symbols('alpha beta gamma')\n",
    "alpha = atan2(TUH[1,0], TUH[0,0])\n",
    "alpha"
   ]
  },
  {
   "cell_type": "markdown",
   "id": "a9490bdc-5026-4cef-ad42-9496603974ee",
   "metadata": {},
   "source": [
    "Dieser Ausdruck kann noch vereinfacht werden, da gilt: $\\mathrm{atan2}(\\sin(x), \\cos(x)) = x$ und $\\cos(x) = \\sin(x + \\pi/2)$ sowie $-\\sin(x) = \\cos(x + \\pi/2)$"
   ]
  },
  {
   "cell_type": "code",
   "execution_count": null,
   "id": "4fffaa1c-97b8-49e7-b4fb-89787c118c35",
   "metadata": {},
   "outputs": [],
   "source": [
    "x = Wild('x')\n",
    "alpha = alpha.replace(atan2(cos(x), -sin(x)), x + pi/2)\n",
    "alpha"
   ]
  },
  {
   "cell_type": "code",
   "execution_count": null,
   "id": "bcf46809-9dd2-4401-a273-e8170f83d636",
   "metadata": {},
   "outputs": [],
   "source": [
    "beta = atan2(-TUH[2,0], TUH[1,0]*sin(alpha) + TUH[0,0]*cos(alpha))\n",
    "beta"
   ]
  },
  {
   "cell_type": "markdown",
   "id": "7ecc5725-2f20-453e-be7b-c10fd4d19d3d",
   "metadata": {},
   "source": [
    "Auch dies kann weiter vereinfacht werden:"
   ]
  },
  {
   "cell_type": "code",
   "execution_count": null,
   "id": "6f3929a5-74d9-4c29-adbf-08ead5e74739",
   "metadata": {},
   "outputs": [],
   "source": [
    "beta = simplify(beta)\n",
    "beta"
   ]
  },
  {
   "cell_type": "code",
   "execution_count": null,
   "id": "13797880-4439-487b-9c87-08797c9df1d1",
   "metadata": {},
   "outputs": [],
   "source": [
    "gamma = atan2(TUH[0,2]*sin(alpha) - TUH[1,2]*cos(alpha), -TUH[0,1]*sin(alpha) + TUH[1,1]*cos(alpha))\n",
    "gamma"
   ]
  },
  {
   "cell_type": "markdown",
   "id": "4d91518f-1268-49e3-ad0e-4392c1a71f9a",
   "metadata": {},
   "source": [
    "was noch zu vereinfachen ist:"
   ]
  },
  {
   "cell_type": "code",
   "execution_count": null,
   "id": "098bf1ae-71ec-4252-91c9-572192138ca0",
   "metadata": {},
   "outputs": [],
   "source": [
    "gamma = simplify(gamma)\n",
    "gamma"
   ]
  },
  {
   "cell_type": "markdown",
   "id": "fcac9c15-2d09-45dc-ba21-e0100b0a4eb5",
   "metadata": {},
   "source": [
    "Kontrolle des Ergebnisses:"
   ]
  },
  {
   "cell_type": "code",
   "execution_count": null,
   "id": "95c23f0c-a025-4231-b224-9ab672410a2c",
   "metadata": {},
   "outputs": [],
   "source": [
    "Rz = Matrix([ [cos(alpha), -sin(alpha), 0], [sin(alpha), cos(alpha), 0], [0, 0, 1]  ])\n",
    "Ry = Matrix([ [cos(beta), 0, sin(beta)], [0, 1, 0], [-sin(beta), 0, cos(beta)] ])\n",
    "Rx = Matrix([ [ 1, 0, 0], [0, cos(gamma), -sin(gamma)], [0, sin(gamma), cos(gamma)] ])\n",
    "\n",
    "R = Rz * Ry * Rx\n",
    "R"
   ]
  },
  {
   "cell_type": "markdown",
   "id": "4508e1e9-0fb0-4906-919a-242951575139",
   "metadata": {},
   "source": [
    "Die Orientierung des Werkzeugkoordinatensystems $K_h$ relativ zum Basiskoordinatensystem $K_u$ kann also durch die Roll-Nick-Gierwinkel\n",
    "\n",
    "\\begin{equation*}\n",
    "\\begin{array}{lcl}\n",
    "\\alpha    & = &  \\displaystyle \\theta_1 + \\theta_3 + \\frac{\\pi}{2}\\\\\n",
    "\\beta    & = &   0 \\\\\n",
    "\\gamma    & = &  \\displaystyle \\frac{\\pi}{2}\n",
    "\\end{array}\n",
    "\\end{equation*}\n",
    "\n",
    "dargestellt werden, wobei der Rotationswinkel um die z-Achse ($\\alpha$) genau dem Winkel $\\varphi$ aus der Abbildung entspricht. Die Orientierung ist somit auch nur in $\\alpha$ variabel."
   ]
  },
  {
   "cell_type": "markdown",
   "id": "5cafbfaf-1746-477b-b28d-7d1b4168480e",
   "metadata": {
    "tags": []
   },
   "source": [
    "## Aufgabe 10.6"
   ]
  },
  {
   "cell_type": "markdown",
   "id": "c86cd144-cf26-4f69-901f-82d6b0cc39ff",
   "metadata": {},
   "source": [
    "Ergänzen Sie die nachstehende Funktion so, dass diese die Vorwärtrkinematik des Roboters abbildet:\n",
    "$$\n",
    "\\mathbf{x} = \\mathbf{f}(\\mathbf{q}) ~~\\text{mit}~~ \\mathbf{x} = [x, y, \\alpha]^T ~~\\text{und}~~ \\mathbf{q} = [\\theta_1, d_2, \\theta_3]^T\n",
    "$$\n",
    "(Es sollen nur die variablen Komponenten der Weltkoordinaten berechnet werden.)\n",
    "\n",
    "Die Konstanten seien hierfür $u_x = 0.4, u_y = 0.4, l_2 = 0.5$"
   ]
  },
  {
   "cell_type": "code",
   "execution_count": null,
   "id": "9239858d-eca1-45dd-9a57-1a3b77499934",
   "metadata": {},
   "outputs": [],
   "source": [
    "def fkine(q): # q = [theta1, l1 , theta3]\n",
    "\n",
    "    return x\n",
    "\n",
    "# aufrufen der Funktion mit theta1 = pi/2, l1 = 2, theta3 = pi/2\n",
    "q = Matrix([pi, 2, -pi/2])\n",
    "fkine(q)"
   ]
  },
  {
   "cell_type": "markdown",
   "id": "0facb6ce-397e-48c2-930a-775ad11096d6",
   "metadata": {
    "tags": []
   },
   "source": [
    "## Aufgabe 10.7"
   ]
  },
  {
   "cell_type": "markdown",
   "id": "2646c436-41fb-4996-a779-7a43941ad461",
   "metadata": {},
   "source": [
    "Geben Sie die Gleichungen zur Rücktransformation der Koordinaten $x$, $y$ und $\\varphi$ nach $\\theta_1$, $d_2$ und $\\theta_3$ an.\n",
    "Der Winkel $\\varphi$ beschreibt die Rotation von $K_H$ um $z_u$ und ist der Winkel zwischen $z_H$ und $x_u$."
   ]
  },
  {
   "cell_type": "markdown",
   "id": "3c72c614-e7be-4cc6-a004-272e7b8342be",
   "metadata": {
    "tags": []
   },
   "source": [
    "## Aufgabe 10.8"
   ]
  },
  {
   "cell_type": "markdown",
   "id": "31cd3910-0494-47d1-8091-48c70ff9541c",
   "metadata": {},
   "source": [
    "Ergänzen Sie den nachstehenden Code zur Implementierung der inversen Kinematik."
   ]
  },
  {
   "cell_type": "code",
   "execution_count": null,
   "id": "524d336e-0cc2-4db8-bcb7-0c231e76ac25",
   "metadata": {},
   "outputs": [],
   "source": [
    "ux = 0.4\n",
    "uy = 0.4\n",
    "l2 = 0.5\n",
    "\n",
    "def ikine(x): # x = [x, y, phi] \n",
    "    return q;  "
   ]
  }
 ],
 "metadata": {
  "kernelspec": {
   "display_name": "Python 3 (ipykernel)",
   "language": "python",
   "name": "python3"
  },
  "language_info": {
   "codemirror_mode": {
    "name": "ipython",
    "version": 3
   },
   "file_extension": ".py",
   "mimetype": "text/x-python",
   "name": "python",
   "nbconvert_exporter": "python",
   "pygments_lexer": "ipython3",
   "version": "3.8.10"
  }
 },
 "nbformat": 4,
 "nbformat_minor": 5
}
