{
 "cells": [
  {
   "cell_type": "markdown",
   "id": "19e5b4f4",
   "metadata": {
    "tags": []
   },
   "source": [
    "# Musterlösung Praktikum 1 Einführung in Sympy"
   ]
  },
  {
   "cell_type": "markdown",
   "id": "87ecf0bf",
   "metadata": {},
   "source": [
    "Für dieses Praktikum wird das Modul sympy benötigt. Dieses muss vorher gegebenenfalls über das Terminal installiert werden.\n",
    "\n",
    "```\n",
    "pip install sympy\n",
    "```\n",
    "\n",
    "Anschließend kann das Modul importiert werden.\n",
    "\n",
    "Für die Darstellung wird zudem das Modul IPython.display verwendet."
   ]
  },
  {
   "cell_type": "code",
   "execution_count": 1,
   "id": "2bb99bca",
   "metadata": {},
   "outputs": [],
   "source": [
    "from sympy import *\n",
    "from IPython.display import display, Math, Latex\n",
    "# from display_latex import *\n",
    "init_printing(use_latex='mathjax')"
   ]
  },
  {
   "cell_type": "markdown",
   "id": "8aa09cb6-2c06-46e8-b1f1-3036a03c1ced",
   "metadata": {},
   "source": [
    "sympy arbeitet mit symbolischen Variablen, die bei Bedarf auch mit Zahlenwerten substituiert werden können. Wir definieren uns zuerst die symbolischen Variablen $a, b, c, \\alpha, \\beta, \\gamma$:"
   ]
  },
  {
   "cell_type": "code",
   "execution_count": 2,
   "id": "2d46f8f3-4898-4659-83b9-bac9f04f4b9f",
   "metadata": {},
   "outputs": [],
   "source": [
    "a, b, c, alpha, beta, gamma = symbols('a b c alpha beta gamma')"
   ]
  },
  {
   "cell_type": "markdown",
   "id": "d3061991-c689-4bd5-a81c-4bdd583bae8c",
   "metadata": {},
   "source": [
    "Danach können mit den Variablen Berechnungen und Umformungen durchgeführt werden:"
   ]
  },
  {
   "cell_type": "code",
   "execution_count": 3,
   "id": "36602305-6580-4640-ad97-0f862024fb8c",
   "metadata": {},
   "outputs": [
    {
     "data": {
      "text/latex": [
       "$\\displaystyle \\sin{\\left(\\alpha \\right)} \\cos{\\left(\\beta \\right)} + \\sin{\\left(\\beta \\right)} \\cos{\\left(\\alpha \\right)}$"
      ],
      "text/plain": [
       "sin(α)⋅cos(β) + sin(β)⋅cos(α)"
      ]
     },
     "metadata": {},
     "output_type": "display_data"
    }
   ],
   "source": [
    "a = sin(alpha)*cos(beta) + cos(alpha)*sin(beta)\n",
    "display(a)"
   ]
  },
  {
   "cell_type": "markdown",
   "id": "a4fc44f3-16fc-47b9-a3d0-651be2cc9aa4",
   "metadata": {},
   "source": [
    "Es können auch symbolische Vereinfachungen durchgeführt werden."
   ]
  },
  {
   "cell_type": "code",
   "execution_count": 4,
   "id": "18a75420-a5a9-4243-bc69-d47b51f3c87d",
   "metadata": {},
   "outputs": [
    {
     "data": {
      "text/latex": [
       "$\\displaystyle \\sin{\\left(\\alpha + \\beta \\right)}$"
      ],
      "text/plain": [
       "sin(α + β)"
      ]
     },
     "metadata": {},
     "output_type": "display_data"
    }
   ],
   "source": [
    "a = simplify(a)\n",
    "display(a)"
   ]
  },
  {
   "cell_type": "markdown",
   "id": "40cb25aa-434f-489f-9d1f-0713f4264e8c",
   "metadata": {},
   "source": [
    "Hierbei werden von Sympy die Additionstheoreme angewendet, um a zu vereinfachen. \n",
    "\n",
    "Es können auch Substitutionen mit Symbolen und Zahlenwerten durchgeführt werden."
   ]
  },
  {
   "cell_type": "code",
   "execution_count": 5,
   "id": "c6429658-275a-49ae-80a5-666a6164a10a",
   "metadata": {},
   "outputs": [
    {
     "data": {
      "text/latex": [
       "$\\displaystyle \\cos{\\left(\\alpha \\right)}$"
      ],
      "text/plain": [
       "cos(α)"
      ]
     },
     "metadata": {},
     "output_type": "display_data"
    }
   ],
   "source": [
    "b = a.subs({beta:pi/2})\n",
    "display(b)"
   ]
  },
  {
   "cell_type": "code",
   "execution_count": 6,
   "id": "0899f104-bb8e-4dd9-a92e-d6e9181910b1",
   "metadata": {},
   "outputs": [
    {
     "data": {
      "text/latex": [
       "$\\displaystyle 1$"
      ],
      "text/plain": [
       "1"
      ]
     },
     "metadata": {},
     "output_type": "display_data"
    }
   ],
   "source": [
    "c = b.subs({alpha:0})\n",
    "display(c)"
   ]
  },
  {
   "cell_type": "markdown",
   "id": "54abc612-54e6-4f7b-85e1-8526c2843c35",
   "metadata": {},
   "source": [
    "Wir können auch Vektoren und Matritzen in sympy definieren: "
   ]
  },
  {
   "cell_type": "code",
   "execution_count": 7,
   "id": "d3f0c51a-df32-4ca2-b674-dc3badd63e3f",
   "metadata": {},
   "outputs": [
    {
     "data": {
      "text/latex": [
       "$\\displaystyle \\left[\\begin{matrix}1 & 0 & 0\\\\0 & 2 & 0\\\\0 & 0 & 3\\end{matrix}\\right]$"
      ],
      "text/plain": [
       "⎡1  0  0⎤\n",
       "⎢       ⎥\n",
       "⎢0  2  0⎥\n",
       "⎢       ⎥\n",
       "⎣0  0  3⎦"
      ]
     },
     "metadata": {},
     "output_type": "display_data"
    }
   ],
   "source": [
    "A = Matrix([ [1, 0, 0],\n",
    "             [0, 2, 0],\n",
    "             [0, 0, 3] ])\n",
    "display(A)"
   ]
  },
  {
   "cell_type": "code",
   "execution_count": 8,
   "id": "d995bd51-7b2d-423f-bffa-bce723634654",
   "metadata": {},
   "outputs": [
    {
     "data": {
      "text/latex": [
       "$\\displaystyle \\left[\\begin{matrix}a\\\\b\\\\c\\end{matrix}\\right]$"
      ],
      "text/plain": [
       "⎡a⎤\n",
       "⎢ ⎥\n",
       "⎢b⎥\n",
       "⎢ ⎥\n",
       "⎣c⎦"
      ]
     },
     "metadata": {},
     "output_type": "display_data"
    }
   ],
   "source": [
    "a, b, c = symbols('a b c')\n",
    "d = Matrix([a, b, c])\n",
    "display(d)"
   ]
  },
  {
   "cell_type": "code",
   "execution_count": 9,
   "id": "1b788862-67f9-498b-87cc-3d45818c53c3",
   "metadata": {},
   "outputs": [
    {
     "data": {
      "text/latex": [
       "$\\displaystyle \\left[\\begin{matrix}a\\\\2 b\\\\3 c\\end{matrix}\\right]$"
      ],
      "text/plain": [
       "⎡ a ⎤\n",
       "⎢   ⎥\n",
       "⎢2⋅b⎥\n",
       "⎢   ⎥\n",
       "⎣3⋅c⎦"
      ]
     },
     "metadata": {},
     "output_type": "display_data"
    }
   ],
   "source": [
    "# Multiplikation Matrix A mit Vektor d\n",
    "e = A * d\n",
    "display(e)"
   ]
  },
  {
   "cell_type": "code",
   "execution_count": 10,
   "id": "2a8b7a30-7a9f-4ee5-978d-2b33d4a06c6e",
   "metadata": {},
   "outputs": [
    {
     "data": {
      "text/latex": [
       "$\\displaystyle \\left[\\begin{matrix}1 & 0 & 0\\\\0 & 1 & 0\\\\0 & 0 & 1\\end{matrix}\\right]$"
      ],
      "text/plain": [
       "⎡1  0  0⎤\n",
       "⎢       ⎥\n",
       "⎢0  1  0⎥\n",
       "⎢       ⎥\n",
       "⎣0  0  1⎦"
      ]
     },
     "execution_count": 10,
     "metadata": {},
     "output_type": "execute_result"
    }
   ],
   "source": [
    "# Erzeugen einer Einheitsmatrix\n",
    "eye(3)"
   ]
  },
  {
   "cell_type": "code",
   "execution_count": 11,
   "id": "5d98806b-02fb-4b92-bcce-2cf1db08c378",
   "metadata": {},
   "outputs": [
    {
     "data": {
      "text/latex": [
       "$\\displaystyle \\left[\\begin{matrix}0 & 0 & 0\\\\0 & 0 & 0\\end{matrix}\\right]$"
      ],
      "text/plain": [
       "⎡0  0  0⎤\n",
       "⎢       ⎥\n",
       "⎣0  0  0⎦"
      ]
     },
     "execution_count": 11,
     "metadata": {},
     "output_type": "execute_result"
    }
   ],
   "source": [
    "# Ereugen einer Nullmatrix\n",
    "zeros(2,3)"
   ]
  },
  {
   "cell_type": "code",
   "execution_count": 12,
   "id": "333b4df2-b554-4014-a8aa-b97aa7047ce4",
   "metadata": {},
   "outputs": [
    {
     "data": {
      "text/latex": [
       "$\\displaystyle \\left[\\begin{matrix}1 & 1 & 1\\\\1 & 1 & 1\\end{matrix}\\right]$"
      ],
      "text/plain": [
       "⎡1  1  1⎤\n",
       "⎢       ⎥\n",
       "⎣1  1  1⎦"
      ]
     },
     "execution_count": 12,
     "metadata": {},
     "output_type": "execute_result"
    }
   ],
   "source": [
    "# Erzeugen einer Einsmatrix\n",
    "ones(2,3)"
   ]
  },
  {
   "cell_type": "code",
   "execution_count": 13,
   "id": "9ff5062b-4626-45a7-835b-3d4fbc1c0b9b",
   "metadata": {},
   "outputs": [
    {
     "data": {
      "text/latex": [
       "$\\displaystyle \\left[\\begin{matrix}a & 0 & 0\\\\0 & b & 0\\\\0 & 0 & c\\end{matrix}\\right]$"
      ],
      "text/plain": [
       "⎡a  0  0⎤\n",
       "⎢       ⎥\n",
       "⎢0  b  0⎥\n",
       "⎢       ⎥\n",
       "⎣0  0  c⎦"
      ]
     },
     "execution_count": 13,
     "metadata": {},
     "output_type": "execute_result"
    }
   ],
   "source": [
    "# Erzeugen einer Diagonalmatrix\n",
    "diag(a, b, c)"
   ]
  },
  {
   "cell_type": "markdown",
   "id": "04234ae7-7b63-44e4-b9d1-802c76a7908b",
   "metadata": {},
   "source": [
    "## Aufgabe 1.1:"
   ]
  },
  {
   "cell_type": "markdown",
   "id": "128527cb-7c45-4a34-94fe-b9b52e26171d",
   "metadata": {},
   "source": [
    "Rechnen mit Sympy:<br>\n",
    "Setzen Sie die folgenden Anweisungen mit Sympy Funktionen um. Lassen Sie sich die Ergebnisse jeweils ausgeben."
   ]
  },
  {
   "cell_type": "markdown",
   "id": "544dbb10",
   "metadata": {},
   "source": [
    "**Vektor $\\cdot$ Skalar:**\n",
    "- $v = \\begin{bmatrix}a \\\\ b \\\\ c\\end{bmatrix} \\cdot \\sin\\left(-\\frac{\\pi}{2}\\right)$"
   ]
  },
  {
   "cell_type": "code",
   "execution_count": 14,
   "id": "43385891",
   "metadata": {},
   "outputs": [
    {
     "data": {
      "text/latex": [
       "$\\displaystyle \\left[\\begin{matrix}- a\\\\- b\\\\- c\\end{matrix}\\right]$"
      ],
      "text/plain": [
       "⎡-a⎤\n",
       "⎢  ⎥\n",
       "⎢-b⎥\n",
       "⎢  ⎥\n",
       "⎣-c⎦"
      ]
     },
     "metadata": {},
     "output_type": "display_data"
    }
   ],
   "source": [
    "# Ergänzen Sie den Code\n",
    "a, b, c = symbols('a b c')\n",
    "v = Matrix([a, b, c]) * sin(-pi/2)\n",
    "display(v)"
   ]
  },
  {
   "cell_type": "markdown",
   "id": "34794c96",
   "metadata": {},
   "source": [
    "**Vektor + Vektor:**\n",
    "- $v = \\begin{bmatrix}a \\\\ b \\\\ c\\end{bmatrix} + \\begin{bmatrix}1 \\\\ 3 \\\\ 6\\end{bmatrix}$"
   ]
  },
  {
   "cell_type": "code",
   "execution_count": 15,
   "id": "696f1669",
   "metadata": {},
   "outputs": [
    {
     "data": {
      "text/latex": [
       "$\\displaystyle \\left[\\begin{matrix}a + 1\\\\b + 3\\\\c + 6\\end{matrix}\\right]$"
      ],
      "text/plain": [
       "⎡a + 1⎤\n",
       "⎢     ⎥\n",
       "⎢b + 3⎥\n",
       "⎢     ⎥\n",
       "⎣c + 6⎦"
      ]
     },
     "execution_count": 15,
     "metadata": {},
     "output_type": "execute_result"
    }
   ],
   "source": [
    "v = Matrix([a, b, c]) + Matrix([1, 3, 6])\n",
    "v"
   ]
  },
  {
   "cell_type": "markdown",
   "id": "cf529dac",
   "metadata": {},
   "source": [
    "**Erzeugen Sie zwei Zeilenvektoren:**\n",
    "- $a = \\begin{bmatrix}1 & 3 & 5 & 7 & 9\\end{bmatrix}$\n",
    "- $b = \\begin{bmatrix}1 & 2 & 3 & 4 & 5\\end{bmatrix}$"
   ]
  },
  {
   "cell_type": "code",
   "execution_count": 16,
   "id": "621966da",
   "metadata": {},
   "outputs": [
    {
     "data": {
      "text/latex": [
       "$\\displaystyle \\left[\\begin{matrix}1 & 3 & 5 & 7 & 9\\end{matrix}\\right]$"
      ],
      "text/plain": [
       "[1  3  5  7  9]"
      ]
     },
     "metadata": {},
     "output_type": "display_data"
    },
    {
     "data": {
      "text/latex": [
       "$\\displaystyle \\left[\\begin{matrix}1 & 2 & 3 & 4 & 5\\end{matrix}\\right]$"
      ],
      "text/plain": [
       "[1  2  3  4  5]"
      ]
     },
     "metadata": {},
     "output_type": "display_data"
    }
   ],
   "source": [
    "a = Matrix([[1, 3, 5, 7, 9]])\n",
    "display(a)\n",
    "b = Matrix([[1, 2, 3, 4, 5]])\n",
    "display(b)"
   ]
  },
  {
   "cell_type": "markdown",
   "id": "43a000cf",
   "metadata": {},
   "source": [
    "Berechnen Sie:\n",
    "\n",
    "$a \\cdot b^T$\n",
    "\n",
    "und \n",
    "\n",
    "$a^T \\cdot b$\n",
    "\n",
    "**Transponieren:**\n",
    "Sympy bietet dafür das Attribut .T"
   ]
  },
  {
   "cell_type": "code",
   "execution_count": 17,
   "id": "5c2a6abf",
   "metadata": {},
   "outputs": [
    {
     "data": {
      "text/latex": [
       "$\\displaystyle \\left[\\begin{matrix}95\\end{matrix}\\right]$"
      ],
      "text/plain": [
       "[95]"
      ]
     },
     "metadata": {},
     "output_type": "display_data"
    },
    {
     "data": {
      "text/latex": [
       "$\\displaystyle \\left[\\begin{matrix}1 & 2 & 3 & 4 & 5\\\\3 & 6 & 9 & 12 & 15\\\\5 & 10 & 15 & 20 & 25\\\\7 & 14 & 21 & 28 & 35\\\\9 & 18 & 27 & 36 & 45\\end{matrix}\\right]$"
      ],
      "text/plain": [
       "⎡1  2   3   4   5 ⎤\n",
       "⎢                 ⎥\n",
       "⎢3  6   9   12  15⎥\n",
       "⎢                 ⎥\n",
       "⎢5  10  15  20  25⎥\n",
       "⎢                 ⎥\n",
       "⎢7  14  21  28  35⎥\n",
       "⎢                 ⎥\n",
       "⎣9  18  27  36  45⎦"
      ]
     },
     "metadata": {},
     "output_type": "display_data"
    }
   ],
   "source": [
    "display(a * b.T)\n",
    "display(a.T * b)"
   ]
  },
  {
   "cell_type": "markdown",
   "id": "8c462994-eb5a-4a1e-9a06-c100e2507276",
   "metadata": {
    "tags": []
   },
   "source": [
    "## Aufgabe 1.2:"
   ]
  },
  {
   "cell_type": "markdown",
   "id": "8a184849-dd6c-4d0e-af22-e44a40786bf7",
   "metadata": {},
   "source": [
    "Gegeben sind zwei Matrizen A und B.<br>\n",
    "\n",
    "$A = \\begin{bmatrix}\n",
    "        1 & 0 & 0\\\\\n",
    "        0 & 1 & 0\\\\\n",
    "        0 & 0 & 1\n",
    "        \\end{bmatrix}$\n",
    "$B = \\begin{bmatrix}\n",
    "        1 & 2 & 3\\\\\n",
    "        4 & 5 & 6\\\\\n",
    "        7 & 8 & 9\n",
    "        \\end{bmatrix}$<br>\n",
    "        \n",
    "Setzen Sie die Matrizen mit Sympy um.\n",
    "\n",
    "Was sind die Ergebnisse von:\n",
    "- $A + B$\n",
    "- $A \\cdot 2$\n",
    "- $A / 2$\n",
    "- $B ^ 2$\n",
    "- $A \\cdot B$"
   ]
  },
  {
   "cell_type": "code",
   "execution_count": 18,
   "id": "b0e0bc54",
   "metadata": {},
   "outputs": [
    {
     "data": {
      "text/latex": [
       "$\\displaystyle \\left[\\begin{matrix}1 & 0 & 0\\\\0 & 1 & 0\\\\0 & 0 & 1\\end{matrix}\\right]$"
      ],
      "text/plain": [
       "⎡1  0  0⎤\n",
       "⎢       ⎥\n",
       "⎢0  1  0⎥\n",
       "⎢       ⎥\n",
       "⎣0  0  1⎦"
      ]
     },
     "metadata": {},
     "output_type": "display_data"
    },
    {
     "data": {
      "text/latex": [
       "$\\displaystyle \\left[\\begin{matrix}1 & 2 & 3\\\\4 & 5 & 6\\\\7 & 8 & 9\\end{matrix}\\right]$"
      ],
      "text/plain": [
       "⎡1  2  3⎤\n",
       "⎢       ⎥\n",
       "⎢4  5  6⎥\n",
       "⎢       ⎥\n",
       "⎣7  8  9⎦"
      ]
     },
     "metadata": {},
     "output_type": "display_data"
    },
    {
     "data": {
      "text/plain": [
       "'Addition A + B:'"
      ]
     },
     "metadata": {},
     "output_type": "display_data"
    },
    {
     "data": {
      "text/latex": [
       "$\\displaystyle \\left[\\begin{matrix}2 & 2 & 3\\\\4 & 6 & 6\\\\7 & 8 & 10\\end{matrix}\\right]$"
      ],
      "text/plain": [
       "⎡2  2  3 ⎤\n",
       "⎢        ⎥\n",
       "⎢4  6  6 ⎥\n",
       "⎢        ⎥\n",
       "⎣7  8  10⎦"
      ]
     },
     "metadata": {},
     "output_type": "display_data"
    },
    {
     "data": {
      "text/plain": [
       "'Skalarmultiplikation A*2:'"
      ]
     },
     "metadata": {},
     "output_type": "display_data"
    },
    {
     "data": {
      "text/latex": [
       "$\\displaystyle \\left[\\begin{matrix}2 & 0 & 0\\\\0 & 2 & 0\\\\0 & 0 & 2\\end{matrix}\\right]$"
      ],
      "text/plain": [
       "⎡2  0  0⎤\n",
       "⎢       ⎥\n",
       "⎢0  2  0⎥\n",
       "⎢       ⎥\n",
       "⎣0  0  2⎦"
      ]
     },
     "metadata": {},
     "output_type": "display_data"
    },
    {
     "data": {
      "text/plain": [
       "'Skalardivision A/2:'"
      ]
     },
     "metadata": {},
     "output_type": "display_data"
    },
    {
     "data": {
      "text/latex": [
       "$\\displaystyle \\left[\\begin{matrix}\\frac{1}{2} & 0 & 0\\\\0 & \\frac{1}{2} & 0\\\\0 & 0 & \\frac{1}{2}\\end{matrix}\\right]$"
      ],
      "text/plain": [
       "⎡1/2   0    0 ⎤\n",
       "⎢             ⎥\n",
       "⎢ 0   1/2   0 ⎥\n",
       "⎢             ⎥\n",
       "⎣ 0    0   1/2⎦"
      ]
     },
     "metadata": {},
     "output_type": "display_data"
    },
    {
     "data": {
      "text/plain": [
       "'Quadrat A²:'"
      ]
     },
     "metadata": {},
     "output_type": "display_data"
    },
    {
     "data": {
      "text/latex": [
       "$\\displaystyle \\left[\\begin{matrix}30 & 36 & 42\\\\66 & 81 & 96\\\\102 & 126 & 150\\end{matrix}\\right]$"
      ],
      "text/plain": [
       "⎡30   36   42 ⎤\n",
       "⎢             ⎥\n",
       "⎢66   81   96 ⎥\n",
       "⎢             ⎥\n",
       "⎣102  126  150⎦"
      ]
     },
     "metadata": {},
     "output_type": "display_data"
    },
    {
     "data": {
      "text/plain": [
       "'Multiplikation A + B:'"
      ]
     },
     "metadata": {},
     "output_type": "display_data"
    },
    {
     "data": {
      "text/latex": [
       "$\\displaystyle \\left[\\begin{matrix}1 & 2 & 3\\\\4 & 5 & 6\\\\7 & 8 & 9\\end{matrix}\\right]$"
      ],
      "text/plain": [
       "⎡1  2  3⎤\n",
       "⎢       ⎥\n",
       "⎢4  5  6⎥\n",
       "⎢       ⎥\n",
       "⎣7  8  9⎦"
      ]
     },
     "metadata": {},
     "output_type": "display_data"
    }
   ],
   "source": [
    "A = eye(3,3)\n",
    "display(A)\n",
    "B = Matrix([[1, 2, 3], [4, 5, 6], [7, 8, 9]])\n",
    "display(B)\n",
    "display(\"Addition A + B:\")\n",
    "display(A + B)\n",
    "display(\"Skalarmultiplikation A*2:\")\n",
    "display(A*2)\n",
    "display(\"Skalardivision A/2:\")\n",
    "display(A/2)\n",
    "display(\"Quadrat A²:\")\n",
    "display(B**2) \n",
    "display(\"Multiplikation A + B:\")\n",
    "display(A * B)"
   ]
  },
  {
   "cell_type": "markdown",
   "id": "c7c46997-a93d-4d20-a55e-8c2aa5b8d12c",
   "metadata": {
    "tags": []
   },
   "source": [
    "# Web-Recherche:"
   ]
  },
  {
   "cell_type": "markdown",
   "id": "e7d6152a-40e9-43fc-9ce7-b2ec5aef4002",
   "metadata": {
    "tags": []
   },
   "source": [
    "## Aufgabe 1.3:"
   ]
  },
  {
   "cell_type": "markdown",
   "id": "e0af7261-5658-410b-b22d-700c7ab7fbc2",
   "metadata": {
    "tags": []
   },
   "source": [
    "Recherchieren Sie im Web jeweils drei Roboterhersteller aus Europa, Japan und aus den USA."
   ]
  },
  {
   "cell_type": "markdown",
   "id": "b9c65042-6642-4253-802b-34c21ea45d1b",
   "metadata": {
    "jp-MarkdownHeadingCollapsed": true,
    "tags": []
   },
   "source": [
    "### Lösung:"
   ]
  },
  {
   "cell_type": "markdown",
   "id": "853a15f0-9490-434d-986c-c718f28c4d99",
   "metadata": {},
   "source": [
    "<div class=\"alert alert-block alert-warning\">\n",
    "Beispielhaft eine Auswahl an Roboterherstellern. Es gibt natürlich noch weitere Hersteller.\n",
    "    \n",
    "Roboterhersteller in den USA:\n",
    "    \n",
    "• Adept Technology - http://www.adept.com\n",
    "    \n",
    "• iRobot - http://www.irobot.com\n",
    "    \n",
    "• Neato Robotics - http://www.neatorobotics.com\n",
    "    \n",
    "• Willow Garage - http://www.willowgarage.com\n",
    "    \n",
    "Roboterhersteller in Europa:\n",
    "    \n",
    "• ABB - http://www.abb.de\n",
    "    \n",
    "• Bosch - http://www.boschrexroth.com\n",
    "    \n",
    "• Kuka - http://www.kuka.com\n",
    "    \n",
    "• Reis Robotics - http://http://www.reisrobotics.de\n",
    "    \n",
    "• Stäubli - http://www.staeubli.com\n",
    "    \n",
    "Roboterhersteller in Japan:\n",
    "    \n",
    "• Epson Robots - http://www.robots.epson.com/\n",
    "\n",
    "• Fanuc Robotics - http://www.fanucrobotics.com\n",
    "\n",
    "• Honda - http://www.honda-robots.com\n",
    "\n",
    "• IAI - http://www.intelligentactuator.com\n",
    "\n",
    "• Kawasaki Heavy Industries - http://www.kawasakirobot.de\n",
    "\n",
    "• Mitsubishi - http://www.mitsubishi-robots.com\n",
    "\n",
    "• Sony - http://www.sony.co.jp    \n",
    "</div>"
   ]
  },
  {
   "cell_type": "markdown",
   "id": "21994493-e6ea-474b-b9c3-9c37d592d42f",
   "metadata": {
    "tags": []
   },
   "source": [
    "## Aufgabe 1.4: "
   ]
  },
  {
   "cell_type": "markdown",
   "id": "7e17d34f-4e04-4f54-99e7-dbb7b75062dd",
   "metadata": {
    "jp-MarkdownHeadingCollapsed": true,
    "tags": []
   },
   "source": [
    "Was bedeuten die Abkürzugen PUMA und SCARA?"
   ]
  },
  {
   "cell_type": "markdown",
   "id": "afe32562-5a24-4569-acc6-65c78ca92452",
   "metadata": {
    "jp-MarkdownHeadingCollapsed": true,
    "tags": []
   },
   "source": [
    "### Lösung:"
   ]
  },
  {
   "cell_type": "markdown",
   "id": "21f0969f-de5d-4c21-95ac-2a19828d1a1c",
   "metadata": {},
   "source": [
    "<div class=\"alert alert-block alert-warning\">\n",
    "<b>PUMA</b> Programmable Universal Machine for Assembly - Roboterarm, der seinen Einsatz in der\n",
    "Industrierobotik findet.\n",
    "    \n",
    "<b>SCARA</b> Selective Compliant Assembly Robot Arm - Industrieroboter, dessen Aufbau einem mensch-\n",
    "lichen Arm ähnelt und daher als „horizontaler Gelenkarmroboter“ bezeichnet wird.\n",
    "</div>"
   ]
  },
  {
   "cell_type": "markdown",
   "id": "8d9eb21e-c0f8-4d35-a209-f51c1d074f0b",
   "metadata": {
    "tags": []
   },
   "source": [
    "## Aufgabe 1.5: "
   ]
  },
  {
   "cell_type": "markdown",
   "id": "d598307a-7191-4eef-abca-449f288176cd",
   "metadata": {
    "tags": []
   },
   "source": [
    "Recherchieren Sie die Robotergesetze von Isaac Asimov."
   ]
  },
  {
   "cell_type": "markdown",
   "id": "4f7ac43b-1c10-4796-b85a-364dd5ea7573",
   "metadata": {
    "jp-MarkdownHeadingCollapsed": true,
    "tags": []
   },
   "source": [
    "### Lösung:"
   ]
  },
  {
   "cell_type": "markdown",
   "id": "c12f819e-e494-41e2-aeb3-c1abf16e5fc0",
   "metadata": {},
   "source": [
    "<div class=\"alert alert-block alert-warning\">\n",
    "Die Drei Assimovschen Robotergesetze:\n",
    "    \n",
    "  1. Ein Roboter darf kein menschliches Wesen verletzen oder durch Untätigkeit gestatten,\n",
    "dass einem menschlichen Wesen Schaden zugefügt wird.\n",
    "\n",
    "  2. Ein Roboter muss den ihm von einem Menschen gegebenen Befehlen gehorchen, es sei\n",
    "denn, ein solcher Befehl würde mit Regel Eins kollidieren.\n",
    "\n",
    "  3. Ein Roboter muss seine Existenz beschützen, solange dieser Schutz nicht mit den Regel\n",
    "Eins und Zwei kollidiert    \n",
    "    \n",
    "</div>"
   ]
  },
  {
   "cell_type": "markdown",
   "id": "e98abe7d-bb22-4880-aff0-5588ddfbd016",
   "metadata": {
    "tags": []
   },
   "source": [
    "## Aufgabe 1.6:"
   ]
  },
  {
   "cell_type": "markdown",
   "id": "22c2fc95-884b-4714-a646-5a445b3ab536",
   "metadata": {
    "tags": []
   },
   "source": [
    "Wofür steht die Abkürzung Cyborg?"
   ]
  },
  {
   "cell_type": "markdown",
   "id": "89bc0cd2-b233-4958-90a5-7ef9ab3bb905",
   "metadata": {
    "jp-MarkdownHeadingCollapsed": true,
    "tags": []
   },
   "source": [
    "### Lösung:"
   ]
  },
  {
   "cell_type": "markdown",
   "id": "5a5cabff-f264-483b-9e6c-7cd3ebb44e11",
   "metadata": {},
   "source": [
    "<div class=\"alert alert-block alert-warning\">\n",
    "<b>Cyborg</b> (Cybernetic Organism) Hybride (biologische Vermischungaus) aus menschlichen und\n",
    "maschinellen Teilen, wobei der gesamte Organismus als modulierbar erfahren werden. Das\n",
    "Wort Cyborg bezieht seine Bedeutung aus den Wörtern Kybernetik und Organismus.\n",
    "\n",
    "</div>"
   ]
  },
  {
   "cell_type": "markdown",
   "id": "1ff5a72c-583c-40da-83d2-fcac1ba284d2",
   "metadata": {
    "tags": []
   },
   "source": [
    "## Aufgabe 1.7:"
   ]
  },
  {
   "cell_type": "markdown",
   "id": "fa391106-76e1-4580-a79f-0d2d835efa1f",
   "metadata": {
    "tags": []
   },
   "source": [
    "Was sind die Unterschiede zwischen einem humanoidem Roboter, einem Androiden und einem Cyborg?"
   ]
  },
  {
   "cell_type": "markdown",
   "id": "5497c4da-72ac-44d7-94ef-66905be0c343",
   "metadata": {
    "jp-MarkdownHeadingCollapsed": true,
    "tags": []
   },
   "source": [
    "### Lösung:"
   ]
  },
  {
   "cell_type": "markdown",
   "id": "94adcf73-c549-4553-9645-46a71fa17baf",
   "metadata": {},
   "source": [
    "<div class=\"alert alert-block alert-warning\">\n",
    "Der Unterschied zwischen einem <b>Cyborg</b> und einem <b>Humanoiden Roboter</b> besteht darin, dass\n",
    "ein Cyborg kein Roboter ist, sondern ein Mischwesen aus einem lebendigen Organismus und\n",
    "einer Maschine ist, indem Technischer Geräte in den Menschen als Ersatz oder zur Unterstützung\n",
    "integriert werden.\n",
    "    \n",
    "<b>Humanoide Roboter</b> sind Roboter, die in ihrer Konstruktion der menschlichen Gestalt nachemp-\n",
    "funden sind. Besonders die Position der Gelenke sowie die Bewegungsabläufe sind vom Men-\n",
    "schen inspiriert.\n",
    "    \n",
    "Ein <b>Android</b> ist eine dem Menschen in seinem Aussehen und Verhalten besonders ähnliche\n",
    "Form der humanoiden Roboter.    \n",
    "</div>"
   ]
  }
 ],
 "metadata": {
  "kernelspec": {
   "display_name": "Python 3 (ipykernel)",
   "language": "python",
   "name": "python3"
  },
  "language_info": {
   "codemirror_mode": {
    "name": "ipython",
    "version": 3
   },
   "file_extension": ".py",
   "mimetype": "text/x-python",
   "name": "python",
   "nbconvert_exporter": "python",
   "pygments_lexer": "ipython3",
   "version": "3.8.10"
  }
 },
 "nbformat": 4,
 "nbformat_minor": 5
}
