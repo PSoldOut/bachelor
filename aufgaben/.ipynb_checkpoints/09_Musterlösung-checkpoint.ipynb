{
 "cells": [
  {
   "cell_type": "markdown",
   "id": "19e5b4f4",
   "metadata": {
    "tags": []
   },
   "source": [
    "# Musterlösung Praktikum 9"
   ]
  },
  {
   "cell_type": "markdown",
   "id": "87ecf0bf",
   "metadata": {},
   "source": [
    "Für dieses Praktikum wird das Modul sympy benötigt. Dieses muss vorher gegebenenfalls über das Terminal installiert werden.\n",
    "\n",
    "```\n",
    "pip install sympy\n",
    "```\n",
    "\n",
    "Anschließend kann das Modul importiert werden.\n",
    "\n",
    "Für die Darstellung wird zudem das Modul IPython.display verwendet."
   ]
  },
  {
   "cell_type": "code",
   "execution_count": 1,
   "id": "2bb99bca",
   "metadata": {},
   "outputs": [],
   "source": [
    "from sympy import *\n",
    "from IPython.display import display, Math, Latex\n",
    "from sympy.physics.mechanics import dynamicsymbols, init_vprinting\n",
    "init_vprinting(use_latex='mathjax')"
   ]
  },
  {
   "cell_type": "code",
   "execution_count": 2,
   "id": "3f55d5a5-56c6-4d2c-8cf5-2279e7262247",
   "metadata": {},
   "outputs": [],
   "source": [
    "# helper function for latex pretty printing\n",
    "def display_latex_result(a, b=None):\n",
    "  if b is None:\n",
    "    res = \"$${}$$\".format(a)\n",
    "  else:\n",
    "    res = \"$${} = {}$$\".format(a, latex(b, mat_delim='('))\n",
    "  display(Latex(res))"
   ]
  },
  {
   "cell_type": "markdown",
   "id": "6c78a811-a0a7-4c0e-bafc-6fcadfa4c025",
   "metadata": {},
   "source": [
    "$\\newcommand{\\mbf}{\\mathbf}$\n",
    "$\\newcommand{\\mrm}{\\mathrm}$\n",
    "$\\newcommand{\\tcdegree}{{°}}$\n",
    "$\\newcommand{\\unitms}{{\\mathrm{\\frac{m}{s}}}}$\n",
    "$\\newcommand{\\unitrads}{{\\mathrm{\\frac{rad}{s}}}}$\n",
    "\n",
    "Gegeben ist der abgebildete Zylinder-Roboter mit 3 Freiheitsgraden. Der Endeffektor des Roboters (z.B. seinen Greifer) kann\n",
    "direkt in den Zylinderkoordinaten $r$, $\\varphi$ und $z$\n",
    "verfahren werden. Der Roboter besitzt hierfür ein Dreh- und zwei Schubgelenke.\n",
    "\n",
    "<table><tr>\n",
    "<td> \n",
    "\n",
    "Nr.  | $\\theta_i$  | $d_i$ | $a_i$ |$\\alpha_i$\n",
    ":---:|:-----------:|:-----:|:-----:|:--------:|\n",
    "1    | $\\varphi$   | $0$   | $0$   |$0$       |\n",
    "2    | $90°$       | $z$   | $0$   |$90°$     |\n",
    "3    | $0°$        | $r$   | $0$   |$0$       |\n",
    "\n",
    "<!--\n",
    "<figure>\n",
    "<center>\n",
    "<img width='400' src='https://fh-dortmund.sciebo.de/s/esxLNzGVvbZZEm5/download?path=%2F&files=stanford.png'/>\n",
    "</figure>\n",
    "-->\n",
    "\n",
    "<td>\n",
    "<figure>\n",
    "<center>\n",
    "<img width='500' src='https://fh-dortmund.sciebo.de/s/esxLNzGVvbZZEm5/download?path=%2F&files=ZylRobKoord.png'/>\n",
    "</figure>\n",
    "</td>\n",
    "</tr></table>    \n",
    "    \n"
   ]
  },
  {
   "cell_type": "markdown",
   "id": "094bf170-8ef6-4e04-949a-2e772c7d9051",
   "metadata": {
    "tags": []
   },
   "source": [
    "## Aufgabe 9.1"
   ]
  },
  {
   "cell_type": "markdown",
   "id": "0abbceb8-8848-40a2-aaa5-1707cd0414e8",
   "metadata": {
    "jp-MarkdownHeadingCollapsed": true,
    "tags": []
   },
   "source": [
    "Zeichnen Sie die Koordinatensysteme nach Denavit-Hartenberg in die Zeichnung ein."
   ]
  },
  {
   "cell_type": "markdown",
   "id": "d4603723-ce62-4e05-9484-65bc41d3ef30",
   "metadata": {
    "tags": []
   },
   "source": [
    "## Aufgabe 9.2"
   ]
  },
  {
   "cell_type": "markdown",
   "id": "a9409cca-fcf2-4783-a9b4-e52c99a93649",
   "metadata": {
    "jp-MarkdownHeadingCollapsed": true,
    "tags": []
   },
   "source": [
    "Tragen Sie die Denavit-Hartenberg-Parameter in die Tabelle ein."
   ]
  },
  {
   "cell_type": "markdown",
   "id": "2b3e5f25-5911-4203-9c4b-e31fdc31e07f",
   "metadata": {
    "tags": []
   },
   "source": [
    "## Aufgabe 9.3"
   ]
  },
  {
   "cell_type": "markdown",
   "id": "e1de2ce8-3ea1-4fc8-8633-c3bab5dc4646",
   "metadata": {
    "jp-MarkdownHeadingCollapsed": true,
    "tags": []
   },
   "source": [
    "Geben Sie die drei Denavit-Hartenberg-Matritzen ${}^0\\mbf{T}_1 ,\\; {}^1\\mbf{T}_2  ,\\; {}^2\\mbf{T}_3$ allgemein an."
   ]
  },
  {
   "cell_type": "markdown",
   "id": "cd32b8ac-a298-45ef-8fd2-e446d391000d",
   "metadata": {
    "tags": []
   },
   "source": [
    "### Lösung:"
   ]
  },
  {
   "cell_type": "markdown",
   "id": "b91f9644-0599-42dc-afda-e35ce158ca3c",
   "metadata": {},
   "source": [
    "<div class=\"alert alert-warning\" role=\"alert\">\n",
    "\n",
    "$\n",
    "{}^{i-1}\\mbf{T}_i \\, = \\, \n",
    "\\left( \\begin{array}{cccc}\n",
    "\\cos \\theta_i & -\\sin \\theta_i \\, \\cos \\alpha_i & \\sin \\theta_i\n",
    "\\, \\sin \\alpha_i & a_i \\, \\cos \\theta_i  \\\\\n",
    "\\sin \\theta_i & \\cos \\theta_i \\, \\cos \\alpha_i & -\\cos \\theta_i\n",
    "\\, \\sin \\alpha_i & a_i \\, \\sin \\theta_i \\\\\n",
    "0 & \\sin \\alpha_i & \\cos \\alpha_i & d_i \\\\\n",
    "0 & 0 & 0 & 1\n",
    "\\end{array} \\right)\n",
    "$\n",
    "\n",
    "$\n",
    "{}^0\\mbf{T}_1 \\,=\\,\n",
    "\\left(\n",
    "\\begin{array}{cccc}\n",
    " \\cos \\varphi  &  - \\sin \\varphi  &  0  &  0  \\\\\n",
    " \\sin \\varphi  &    \\cos \\varphi  &  0  &  0  \\\\\n",
    "        0         &         0           &  1  &  0  \\\\\n",
    "        0         &         0           &  0  &  1\n",
    "\\end{array}\n",
    "\\right)\n",
    "$\n",
    "\n",
    "$\n",
    "{}^1\\mbf{T}_2 \\,=\\,\\left(\n",
    "\\begin{array}{cccc}\n",
    " 0   &  0  &  1  &  0     \\\\\n",
    " 1   &  0  &  0  &  0     \\\\\n",
    " 0   &  1  &  0  &  z  \\\\\n",
    " 0   &  0  &  0  &  1    \n",
    "\\end{array}\n",
    "\\right)\n",
    "$\n",
    "\n",
    "$\n",
    "{}^2\\mbf{T}_3 \\,=\\,\n",
    "\\left(\n",
    "\\begin{array}{cccc}\n",
    "1  &  0  &  0  &  0    \\\\\n",
    "0  &  1  &  0  &  0    \\\\\n",
    "0  &  0  &  1  &  r \\\\\n",
    "0  &  0  &  0  &  1   \n",
    "\\end{array}\n",
    "\\right)\n",
    "$\n",
    "\n",
    "</div>"
   ]
  },
  {
   "cell_type": "markdown",
   "id": "bb769139-9d0f-4642-b3cf-d1a5e7f898e3",
   "metadata": {},
   "source": [
    "### Ergänzen Sie den nachstehenden Code um die Rechnung zu überprüfen."
   ]
  },
  {
   "cell_type": "code",
   "execution_count": 3,
   "id": "a938e0f0-d8f7-4ab1-b7cb-0c609cb6ab13",
   "metadata": {},
   "outputs": [],
   "source": [
    "from sympy import *\n",
    "theta_i, alpha_i, a_i, d_i = symbols('theta_i alpha_i a_i d_i')"
   ]
  },
  {
   "cell_type": "code",
   "execution_count": 4,
   "id": "15c7c2c9-f415-4405-829f-7432a80d4781",
   "metadata": {},
   "outputs": [],
   "source": [
    "def dhFrame(theta, d, a, alpha):\n",
    "    \n",
    "    rot_theta = Matrix([ [cos(theta), -sin(theta), 0, 0], \n",
    "                         [sin(theta), cos(theta),  0, 0], \n",
    "                         [0,             0,        1, 0], \n",
    "                         [0,             0,        0, 1] ])\n",
    "    \n",
    "    trans_d = Matrix([ [1, 0, 0, 0],\n",
    "                       [0, 1, 0, 0],\n",
    "                       [0, 0, 1, d],\n",
    "                       [0, 0, 0, 1] ])\n",
    "    \n",
    "    trans_a = Matrix([ [1, 0, 0, a], \n",
    "                       [0, 1, 0, 0], \n",
    "                       [0, 0, 1, 0], \n",
    "                       [0, 0, 0, 1] ])\n",
    "    \n",
    "    rot_alpha = Matrix([ [1,          0,           0, 0], \n",
    "                         [0, cos(alpha), -sin(alpha), 0], \n",
    "                         [0, sin(alpha),  cos(alpha), 0], \n",
    "                         [0,          0,           0, 1] ])\n",
    "    \n",
    "    dh_frame = rot_theta * trans_d * trans_a * rot_alpha\n",
    "    \n",
    "    return dh_frame;"
   ]
  },
  {
   "cell_type": "code",
   "execution_count": 5,
   "id": "ecc69636-19b4-41b6-9969-401317769f0b",
   "metadata": {},
   "outputs": [
    {
     "data": {
      "text/latex": [
       "$$T_\\mrm{DH} = \\left(\\begin{matrix}\\cos{\\left(\\theta_{i} \\right)} & - \\sin{\\left(\\theta_{i} \\right)} \\cos{\\left(\\alpha_{i} \\right)} & \\sin{\\left(\\alpha_{i} \\right)} \\sin{\\left(\\theta_{i} \\right)} & a_{i} \\cos{\\left(\\theta_{i} \\right)}\\\\\\sin{\\left(\\theta_{i} \\right)} & \\cos{\\left(\\alpha_{i} \\right)} \\cos{\\left(\\theta_{i} \\right)} & - \\sin{\\left(\\alpha_{i} \\right)} \\cos{\\left(\\theta_{i} \\right)} & a_{i} \\sin{\\left(\\theta_{i} \\right)}\\\\0 & \\sin{\\left(\\alpha_{i} \\right)} & \\cos{\\left(\\alpha_{i} \\right)} & d_{i}\\\\0 & 0 & 0 & 1\\end{matrix}\\right)$$"
      ],
      "text/plain": [
       "<IPython.core.display.Latex object>"
      ]
     },
     "metadata": {},
     "output_type": "display_data"
    }
   ],
   "source": [
    "Tdh = dhFrame(theta_i, d_i, a_i, alpha_i)\n",
    "display_latex_result('T_\\mrm{DH}', Tdh)"
   ]
  },
  {
   "cell_type": "code",
   "execution_count": 6,
   "id": "917f0409-c86d-4df4-8c7d-5826378fad81",
   "metadata": {},
   "outputs": [
    {
     "data": {
      "text/latex": [
       "$${}^0\\mbf{T}_1 = \\left(\\begin{matrix}\\cos{\\left(\\varphi \\right)} & - \\sin{\\left(\\varphi \\right)} & 0 & 0\\\\\\sin{\\left(\\varphi \\right)} & \\cos{\\left(\\varphi \\right)} & 0 & 0\\\\0 & 0 & 1 & 0\\\\0 & 0 & 0 & 1\\end{matrix}\\right)$$"
      ],
      "text/plain": [
       "<IPython.core.display.Latex object>"
      ]
     },
     "metadata": {},
     "output_type": "display_data"
    }
   ],
   "source": [
    "phi = symbols('varphi')\n",
    "T01 = dhFrame(phi, 0, 0, 0)\n",
    "display_latex_result('{}^0\\mbf{T}_1', T01)"
   ]
  },
  {
   "cell_type": "code",
   "execution_count": 7,
   "id": "e4708479-f0e2-4993-87aa-8467addb6003",
   "metadata": {},
   "outputs": [
    {
     "data": {
      "text/latex": [
       "$${}^1\\mbf{T}_2 = \\left(\\begin{matrix}0 & 0 & 1 & 0\\\\1 & 0 & 0 & 0\\\\0 & 1 & 0 & z\\\\0 & 0 & 0 & 1\\end{matrix}\\right)$$"
      ],
      "text/plain": [
       "<IPython.core.display.Latex object>"
      ]
     },
     "metadata": {},
     "output_type": "display_data"
    }
   ],
   "source": [
    "z = symbols('z')\n",
    "T12 = dhFrame(pi/2, z, 0, pi/2)\n",
    "display_latex_result('{}^1\\mbf{T}_2', T12)"
   ]
  },
  {
   "cell_type": "code",
   "execution_count": 8,
   "id": "ff4c7ec1-050c-41c9-adef-18fb8e1a9ac2",
   "metadata": {},
   "outputs": [
    {
     "data": {
      "text/latex": [
       "$${}^2\\mbf{T}_3 = \\left(\\begin{matrix}1 & 0 & 0 & 0\\\\0 & 1 & 0 & 0\\\\0 & 0 & 1 & r\\\\0 & 0 & 0 & 1\\end{matrix}\\right)$$"
      ],
      "text/plain": [
       "<IPython.core.display.Latex object>"
      ]
     },
     "metadata": {},
     "output_type": "display_data"
    }
   ],
   "source": [
    "r = symbols('r')\n",
    "T23 = dhFrame(0, r, 0, 0)\n",
    "display_latex_result('{}^2\\mbf{T}_3', T23)"
   ]
  },
  {
   "cell_type": "markdown",
   "id": "ba6d4b45-1690-4d76-a063-f9ab870a4cc8",
   "metadata": {
    "tags": []
   },
   "source": [
    "## Aufgabe 9.4"
   ]
  },
  {
   "cell_type": "markdown",
   "id": "82a3489b-846a-4d0d-95e8-30876da84eb5",
   "metadata": {},
   "source": [
    "Berechnen Sie die Transformationsmatrix ${}^0\\mbf{T}_3  =  {}^0\\mbf{T}_1 \\; {}^1\\mbf{T}_2  \\; {}^2\\mbf{T}_3$."
   ]
  },
  {
   "cell_type": "markdown",
   "id": "73767686-ca68-4c4a-b1de-8d31f70e001b",
   "metadata": {
    "tags": []
   },
   "source": [
    "### Lösung:"
   ]
  },
  {
   "cell_type": "markdown",
   "id": "c7aa4ab8-a74a-4ee7-9663-ad27d3a1d718",
   "metadata": {},
   "source": [
    "<div class=\"alert alert-warning\" role=\"alert\">\n",
    "\n",
    "Es ergibt sich die vollständige Transformation zwischen \n",
    "Endeffektor-Koordinatensystem $x_3, y_3, z_3$ und\n",
    "Basis-Koordinatensystem $x_0, y_0, z_0$ \n",
    "zu ${}^0\\mbf{T}_3$:\n",
    "\n",
    "$\n",
    "{}^0\\mbf{T}_3  =  {}^0\\mbf{T}_1 \\; {}^1\\mbf{T}_2  \\; {}^2\\mbf{T}_3  =\n",
    "\\left(\n",
    "\\begin{array}{cccc}\n",
    "-\\sin \\varphi  &  0  & \\cos \\varphi  &    r \\cos \\varphi     \\\\\n",
    "\\cos \\varphi  &  0  &  \\sin \\varphi  &    r \\sin \\varphi     \\\\\n",
    "     0         &         1         &  0  &  z                     \\\\\n",
    "     0         &         0         &  0  &  1                          \\\\\n",
    "\\end{array}\n",
    "\\right)\n",
    "$\n",
    "\n",
    "\n",
    "</div>"
   ]
  },
  {
   "cell_type": "markdown",
   "id": "7b7729d1-d82b-473e-8f58-347d33f92e62",
   "metadata": {},
   "source": [
    "### Ergänzen Sie den nachstehenden Code um die Rechnung zu überprüfen."
   ]
  },
  {
   "cell_type": "code",
   "execution_count": 9,
   "id": "9f3c81be-fc50-4c1f-9dca-fb5bf691552e",
   "metadata": {},
   "outputs": [
    {
     "data": {
      "text/latex": [
       "$${}^0\\mbf{T}_3 = \\left(\\begin{matrix}- \\sin{\\left(\\varphi \\right)} & 0 & \\cos{\\left(\\varphi \\right)} & r \\cos{\\left(\\varphi \\right)}\\\\\\cos{\\left(\\varphi \\right)} & 0 & \\sin{\\left(\\varphi \\right)} & r \\sin{\\left(\\varphi \\right)}\\\\0 & 1 & 0 & z\\\\0 & 0 & 0 & 1\\end{matrix}\\right)$$"
      ],
      "text/plain": [
       "<IPython.core.display.Latex object>"
      ]
     },
     "metadata": {},
     "output_type": "display_data"
    }
   ],
   "source": [
    "T03 = T01 * T12 * T23\n",
    "display_latex_result('{}^0\\mbf{T}_3', T03)"
   ]
  },
  {
   "cell_type": "markdown",
   "id": "fb76f2d4-d12d-486f-a366-d4588270a257",
   "metadata": {
    "tags": []
   },
   "source": [
    "## Aufgabe 9.5"
   ]
  },
  {
   "cell_type": "markdown",
   "id": "cdf6fb10-210d-4d7f-8efe-63d8631a9100",
   "metadata": {},
   "source": [
    "Berechnen Sie die Position des TCP im Koordinatensystem $K_0$, für $\\varphi = 30\\tcdegree$, $z = \\frac{1}{5}$ und $r = \\frac{1}{2}$."
   ]
  },
  {
   "cell_type": "markdown",
   "id": "272c9273-9d83-4eaf-b010-5f57c10ef6ab",
   "metadata": {
    "tags": []
   },
   "source": [
    "### Lösung:"
   ]
  },
  {
   "cell_type": "markdown",
   "id": "d2ca7edc-91a8-40ed-a55f-415a5dee67c7",
   "metadata": {},
   "source": [
    "<div class=\"alert alert-warning\" role=\"alert\">\n",
    "\n",
    "$\n",
    "{}^0\\mbf{T}_3  = \n",
    "\\begin{pmatrix} \n",
    "-\\frac{1}{2}      & 0 & \\frac{\\sqrt{3}}{2} & \\frac{\\sqrt{3}}{4}\\\\\n",
    "\\frac{\\sqrt{3}}{2} & 0 & \\frac{1}{2}       & \\frac{1}{4}\\\\\n",
    "0                     & 1 & 0                      & \\frac{1}{5}\\\\\n",
    "0                     & 0 & 0                      & 1\\\\\n",
    "\\end{pmatrix}\n",
    "$\n",
    "\n",
    "Position des TCP in $K_0$\n",
    "\n",
    "$\n",
    "\\mbf{p}  = \n",
    "\\begin{pmatrix} \n",
    "\\frac{\\sqrt{3}}{4}\\\\\n",
    "\\frac{1}{4}\\\\\n",
    "\\frac{1}{5}\\\\\n",
    "\\end{pmatrix}\n",
    "$\n",
    "\n",
    "</div>"
   ]
  },
  {
   "cell_type": "markdown",
   "id": "173a0e92-2218-4ddf-8194-2433649cda55",
   "metadata": {},
   "source": [
    "### Ergänzen Sie den nachstehenden Code um die Rechnung zu überprüfen."
   ]
  },
  {
   "cell_type": "code",
   "execution_count": 10,
   "id": "e13d35b0-8ddb-4898-8f8f-5b129e5792cd",
   "metadata": {},
   "outputs": [
    {
     "data": {
      "text/latex": [
       "$${}^0\\mbf{T}_3 = \\left(\\begin{matrix}- \\frac{1}{2} & 0 & \\frac{\\sqrt{3}}{2} & 0.25 \\sqrt{3}\\\\\\frac{\\sqrt{3}}{2} & 0 & \\frac{1}{2} & 0.25\\\\0 & 1 & 0 & 0.2\\\\0 & 0 & 0 & 1\\end{matrix}\\right)$$"
      ],
      "text/plain": [
       "<IPython.core.display.Latex object>"
      ]
     },
     "metadata": {},
     "output_type": "display_data"
    },
    {
     "data": {
      "text/latex": [
       "$$\\mbf{p} = \\left(\\begin{matrix}0.25 \\sqrt{3}\\\\0.25\\\\0.2\\end{matrix}\\right)$$"
      ],
      "text/plain": [
       "<IPython.core.display.Latex object>"
      ]
     },
     "metadata": {},
     "output_type": "display_data"
    }
   ],
   "source": [
    "T03 = T03.subs({phi:pi/6, z:1/5, r:1/2})\n",
    "display_latex_result('{}^0\\mbf{T}_3', T03)\n",
    "p = T03[0:3,3:4]\n",
    "display_latex_result('\\mbf{p}', p)"
   ]
  },
  {
   "cell_type": "markdown",
   "id": "5cafbfaf-1746-477b-b28d-7d1b4168480e",
   "metadata": {
    "tags": []
   },
   "source": [
    "## Aufgabe 9.6"
   ]
  },
  {
   "cell_type": "markdown",
   "id": "2646c436-41fb-4996-a779-7a43941ad461",
   "metadata": {},
   "source": [
    "Welche Orientierung ausgedrückt als Rotationsmatrix hat der Roboter in dieser Stellung?"
   ]
  },
  {
   "cell_type": "markdown",
   "id": "838688ee-85be-482d-ad09-377e975e1a5f",
   "metadata": {
    "tags": []
   },
   "source": [
    "### Lösung:"
   ]
  },
  {
   "cell_type": "markdown",
   "id": "d1c32005-93aa-47a9-9329-19ac5ac7ed99",
   "metadata": {},
   "source": [
    "<div class=\"alert alert-warning\" role=\"alert\">\n",
    "\n",
    "$\n",
    "\\mbf{R}  = \n",
    "\\begin{pmatrix} \n",
    "-\\frac{1}{2}      & 0 & \\frac{\\sqrt{3}}{2}\\\\\n",
    "\\frac{\\sqrt{3}}{2} & 0 & \\frac{1}{2}      \\\\\n",
    "0                     & 1 & 0                     \\\\\n",
    "\\end{pmatrix}\n",
    "$\n",
    "\n",
    "</div>"
   ]
  },
  {
   "cell_type": "markdown",
   "id": "31cd3910-0494-47d1-8091-48c70ff9541c",
   "metadata": {},
   "source": [
    "### Ergänzen Sie den nachstehenden Code um die Rechnung zu überprüfen."
   ]
  },
  {
   "cell_type": "code",
   "execution_count": 11,
   "id": "524d336e-0cc2-4db8-bcb7-0c231e76ac25",
   "metadata": {},
   "outputs": [
    {
     "data": {
      "text/latex": [
       "$$\\mbf{R} = \\left(\\begin{matrix}- \\frac{1}{2} & 0 & \\frac{\\sqrt{3}}{2}\\\\\\frac{\\sqrt{3}}{2} & 0 & \\frac{1}{2}\\\\0 & 1 & 0\\end{matrix}\\right)$$"
      ],
      "text/plain": [
       "<IPython.core.display.Latex object>"
      ]
     },
     "metadata": {},
     "output_type": "display_data"
    }
   ],
   "source": [
    "R = T03[0:3, 0:3]\n",
    "display_latex_result('\\mbf{R}', R)"
   ]
  },
  {
   "cell_type": "markdown",
   "id": "3c72c614-e7be-4cc6-a004-272e7b8342be",
   "metadata": {
    "tags": []
   },
   "source": [
    "## Aufgabe 9.7"
   ]
  },
  {
   "cell_type": "markdown",
   "id": "7f34d3f1-64e8-4939-a806-f049286b6839",
   "metadata": {},
   "source": [
    "Berechnen Sie die Euler-Winkel und die Roll-Nick-Gier-Winkel in dieser Stellung."
   ]
  },
  {
   "cell_type": "markdown",
   "id": "16324b92-774c-4c69-b72e-80bd8abf9fee",
   "metadata": {
    "tags": []
   },
   "source": [
    "### Lösung:"
   ]
  },
  {
   "cell_type": "markdown",
   "id": "add1b7d3-8c12-4a2d-9ba3-c4d0e5af77ad",
   "metadata": {},
   "source": [
    "<div class=\"alert alert-warning\" role=\"alert\">\n",
    "$\\newcommand{\\Atan}{{\\mathrm{atan2}}}$\n",
    "Euler-Winkel:\n",
    "\n",
    "$\n",
    "\\begin{array}{lcl}\n",
    "\\alpha    & = & \\displaystyle\n",
    "\\Atan \\left( R_{23}, R_{13}  \\right) \\\\\n",
    " & = & 30\\tcdegree \\\\[3mm]\n",
    "\\beta    & = &  \\displaystyle\n",
    "\\Atan \\left(R_{23}\\cdot\\sin\\alpha + R_{13}\\cdot\\cos\\alpha, R_{33}  \\right) \\\\\n",
    " & = & 90\\tcdegree\\\\[3mm]\n",
    "\\gamma    & = & \\displaystyle\n",
    "\\Atan \\left(-R_{11}\\cdot \\sin\\alpha + R_{21}\\cdot\\cos\\alpha, -R_{12}\\cdot\\sin\\alpha  + R_{22}\\cdot\\cos\\alpha \\right) \\\\\n",
    "& = & 90\\tcdegree\n",
    "\\end{array}\n",
    "$\n",
    "\n",
    "Roll-Nick-Gier-Winkel:\n",
    "\n",
    "$\n",
    "\\begin{array}{lcl}\n",
    "%\\sin\\beta & = & \\sqrt{1 - R_\\mrm{RPY,33}^2} \\\\[1ex]\n",
    "\\alpha    & = & \\displaystyle\n",
    "\\Atan \\left( R_{21}, R_{11}  \\right) \\\\\n",
    " & = & 120\\tcdegree \\\\[3mm]\n",
    "\\beta    & = &  \\displaystyle\n",
    "\\Atan \\left(-R_{31}, R_{21}\\cdot\\sin\\alpha  + R_{11}\\cdot\\cos\\alpha  \\right) \\\\\n",
    " & = & 0\\tcdegree \\\\[3mm]\n",
    "\\gamma    & = & \\displaystyle\n",
    "\\Atan \\left( R_{13}\\cdot\\sin\\alpha  -  R_{23}\\cdot\\cos\\alpha, -R_{12}\\cdot\\sin\\alpha +  R_{22}\\cdot\\cos\\alpha \\right)\\\\\n",
    " & = & 90\\tcdegree \n",
    "\\end{array}\n",
    "$\n",
    "\n",
    "</div>"
   ]
  },
  {
   "cell_type": "markdown",
   "id": "f8d9bfe2-472a-4119-bc43-7a0a1ab4b569",
   "metadata": {},
   "source": [
    "### Ergänzen Sie den nachstehenden Code um die Rechnung zu überprüfen."
   ]
  },
  {
   "cell_type": "code",
   "execution_count": 12,
   "id": "2b357ff2-1974-4315-9c65-81f3209b5fbd",
   "metadata": {},
   "outputs": [
    {
     "data": {
      "text/latex": [
       "$$\\mrm{EUL} = \\begin{pmatrix}\\alpha\\\\ \\beta\\\\ \\gamma\\end{pmatrix} = \\left(\\begin{matrix}30\\\\90\\\\90\\end{matrix}\\right)$$"
      ],
      "text/plain": [
       "<IPython.core.display.Latex object>"
      ]
     },
     "metadata": {},
     "output_type": "display_data"
    },
    {
     "data": {
      "text/latex": [
       "$$\\mrm{RPY} = \\begin{pmatrix}\\alpha\\\\ \\beta\\\\ \\gamma\\end{pmatrix} = \\left(\\begin{matrix}120\\\\0\\\\90\\end{matrix}\\right)$$"
      ],
      "text/plain": [
       "<IPython.core.display.Latex object>"
      ]
     },
     "metadata": {},
     "output_type": "display_data"
    }
   ],
   "source": [
    "rad2deg = 180/pi\n",
    "\n",
    "def rot2eul(R):\n",
    "  eul = Matrix([0, 0, 0])\n",
    "  eul[0] = atan2(R[1,2], R[0,2])\n",
    "  sin_alpha = sin(eul[0])\n",
    "  cos_alpha = cos(eul[0])\n",
    "  eul[1] = atan2(cos_alpha * R[0,2] + sin_alpha * R[1,2], R[2,2])\n",
    "  eul[2] = atan2(-sin_alpha * R[0,0] + cos_alpha * R[1,0], -sin_alpha * R[0,1] + cos_alpha * R[1,1])\n",
    "  return eul\n",
    "\n",
    "display_latex_result('\\mrm{EUL} = \\\\begin{pmatrix}\\\\alpha\\\\\\\\ \\\\beta\\\\\\\\ \\\\gamma\\\\end{pmatrix}', rot2eul(R) * rad2deg)\n",
    "\n",
    "def rot2rpy(R):\n",
    "  eul = Matrix([0, 0, 0])\n",
    "  if R[1,0] == 0 and R[0,0] == 0: # singularity\n",
    "    eul[0] = 0\n",
    "  else:      \n",
    "    eul[0] = atan2(R[1,0], R[0,0])\n",
    "  \n",
    "  sin_alpha = sin(eul[0])\n",
    "  cos_alpha = cos(eul[0])\n",
    "  eul[1] = atan2(-R[2,0], cos_alpha * R[0,0] + sin_alpha * R[1,0])\n",
    "  eul[2] = atan2(sin_alpha * R[0,2] - cos_alpha * R[1,2], cos_alpha * R[1,1] - sin_alpha * R[0,1])\n",
    "  return eul\n",
    "\n",
    "display_latex_result('\\mrm{RPY} = \\\\begin{pmatrix}\\\\alpha\\\\\\\\ \\\\beta\\\\\\\\ \\\\gamma\\\\end{pmatrix}', rot2rpy(R) * rad2deg)"
   ]
  }
 ],
 "metadata": {
  "kernelspec": {
   "display_name": "Python 3 (ipykernel)",
   "language": "python",
   "name": "python3"
  },
  "language_info": {
   "codemirror_mode": {
    "name": "ipython",
    "version": 3
   },
   "file_extension": ".py",
   "mimetype": "text/x-python",
   "name": "python",
   "nbconvert_exporter": "python",
   "pygments_lexer": "ipython3",
   "version": "3.8.10"
  }
 },
 "nbformat": 4,
 "nbformat_minor": 5
}
