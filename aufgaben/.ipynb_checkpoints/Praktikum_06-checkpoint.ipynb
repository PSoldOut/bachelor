{
 "cells": [
  {
   "cell_type": "markdown",
   "id": "19e5b4f4",
   "metadata": {
    "tags": []
   },
   "source": [
    "# Musterlösung Praktikum 6"
   ]
  },
  {
   "cell_type": "markdown",
   "id": "87ecf0bf",
   "metadata": {},
   "source": [
    "Für dieses Praktikum wird das Modul sympy benötigt. Dieses muss vorher gegebenenfalls über das Terminal installiert werden.\n",
    "\n",
    "```\n",
    "pip install sympy\n",
    "```\n",
    "\n",
    "Anschließend kann das Modul importiert werden.\n",
    "\n",
    "Für die Darstellung wird zudem das Modul IPython.display verwendet."
   ]
  },
  {
   "cell_type": "code",
   "execution_count": 1,
   "id": "2bb99bca",
   "metadata": {},
   "outputs": [],
   "source": [
    "from sympy import *\n",
    "from IPython.display import display, Math, Latex\n",
    "from sympy.physics.mechanics import dynamicsymbols, init_vprinting\n",
    "init_vprinting(use_latex='mathjax')"
   ]
  },
  {
   "cell_type": "code",
   "execution_count": 2,
   "id": "3f55d5a5-56c6-4d2c-8cf5-2279e7262247",
   "metadata": {},
   "outputs": [],
   "source": [
    "# helper function for latex pretty printing\n",
    "def display_latex_result(a, b=None):\n",
    "  if b is None:\n",
    "    res = \"$${}$$\".format(a)\n",
    "  else:\n",
    "    res = \"$${} = {}$$\".format(a, latex(b, mat_delim='('))\n",
    "  display(Latex(res))"
   ]
  },
  {
   "cell_type": "markdown",
   "id": "6c78a811-a0a7-4c0e-bafc-6fcadfa4c025",
   "metadata": {},
   "source": [
    "$\\newcommand{\\mbf}{\\mathbf}$\n",
    "$\\newcommand{\\mrm}{\\mathrm}$\n",
    "$\\newcommand{\\tcdegree}{{°}}$\n",
    "$\\newcommand{\\unitms}{{\\mathrm{\\frac{m}{s}}}}$\n",
    "$\\newcommand{\\unitrads}{{\\mathrm{\\frac{rad}{s}}}}$\n",
    "\n",
    "Gegeben ist ein omnidirektionaler mobiler Roboter mit vier Omni-Wheels. \n",
    "Ein Omni-Wheel ermöglicht eine angetriebene Fahrt in Richtung des Rades und gleichzeitig ein passives Rollen in orthogonaler Richtung.\n",
    "Die Omni-Wheels sind am Roboter bezogen auf das Roboterkoordinatensystem um $45^\\circ$ geneigt angebracht ($\\delta_i = \\pm 45^\\circ$, siehe Abbildung).\n",
    "\n",
    "<table><tr>\n",
    "<td> \n",
    "    \n",
    "$i$  | $\\delta_i$  | $\\alpha_i$                | $l_i$              |\n",
    ":---:|:-----------:|:-------------------------:|:------------------:|\n",
    "1    |             |                           |                    |\n",
    "2    |             |                           |                    |\n",
    "3    |             |                           |                    |\n",
    "4    |             |                           |                    |\n",
    "\n",
    "</td>\n",
    "<td>\n",
    "<figure>\n",
    "<center>\n",
    "<img width='300' src='https://fh-dortmund.sciebo.de/s/esxLNzGVvbZZEm5/download?path=%2F&files=4stanford.png' />\n",
    "</figure>\n",
    "</td>\n",
    "</tr></table>    "
   ]
  },
  {
   "cell_type": "markdown",
   "id": "094bf170-8ef6-4e04-949a-2e772c7d9051",
   "metadata": {
    "tags": []
   },
   "source": [
    "## Aufgabe 6.1"
   ]
  },
  {
   "cell_type": "markdown",
   "id": "0abbceb8-8848-40a2-aaa5-1707cd0414e8",
   "metadata": {
    "jp-MarkdownHeadingCollapsed": true,
    "tags": []
   },
   "source": [
    "Zeichnen Sie die Radkoordinatensysteme in die Grafik ein und tragen Sie zu jedem Radkoordinatensystem die dazugehörigen Parameter in die angegebene Tabelle ein."
   ]
  },
  {
   "cell_type": "markdown",
   "id": "d4603723-ce62-4e05-9484-65bc41d3ef30",
   "metadata": {
    "tags": []
   },
   "source": [
    "## Aufgabe 6.2"
   ]
  },
  {
   "cell_type": "markdown",
   "id": "a9409cca-fcf2-4783-a9b4-e52c99a93649",
   "metadata": {
    "jp-MarkdownHeadingCollapsed": true,
    "tags": []
   },
   "source": [
    "Geben Sie die kinematische Gleichung der Rückwärtstransformation an.\n",
    "\n",
    "\n",
    "Die Kinematik des Rades $i$ kann durch die nachfolgende Gleichung beschrieben werden:\n",
    "\n",
    "$$\n",
    "\\dot{\\varphi}_i = \\frac{1}{r}\\begin{pmatrix} \\cos(\\delta_i), & \\sin(\\delta_i), & l_i  \\sin(\\delta_i - \\alpha_i)\\end{pmatrix}\n",
    "\\begin{pmatrix} \\dot{x}_\\mathrm{R} \\\\ \\dot{y}_\\mathrm{R} \\\\ \\dot{\\theta} \\\\ \\end{pmatrix}\n",
    "$$ \n",
    "\n",
    "Es gilt: $\\sin(x+y) = \\sin x \\cdot \\cos y + \\cos x \\cdot \\sin y$ ; $\\sin(x-y) = \\sin x \\cdot \\cos y - \\cos x \\cdot \\sin y$ ; $\\sin(\\arctan x) = \\frac{x}{\\sqrt{x^2 + 1}}$ ; $\\cos(\\arctan x) = \\frac{1}{\\sqrt{x^2 + 1}}$ .\n"
   ]
  },
  {
   "cell_type": "markdown",
   "id": "4a846008-8e8f-4fa2-b582-0176e56cc152",
   "metadata": {},
   "source": [
    "### Ergänzen Sie den nachstehenden Code um Ihre Rechnung zu überprüfen"
   ]
  },
  {
   "cell_type": "code",
   "execution_count": null,
   "id": "ce59944d-70e9-47bd-be9b-f6a7307b16c3",
   "metadata": {},
   "outputs": [],
   "source": [
    "def wheel_vel(r, delta, alpha, l):\n",
    "      vel = Matrix([[cos(delta), sin(delta), l*sin(delta - alpha)]])\n",
    "      vel = 1/r*vel\n",
    "      return vel;\n",
    "\n",
    "# Definition der benötigten Symbole\n",
    "r_i, alpha_i, delta_i, l_i = symbols('r_i alpha_i delta_i l_i')\n",
    "\n",
    "# Ausgabe der allgemeinen Gleichung\n",
    "dot_phi = wheel_vel(r_i, delta_i, alpha_i, l_i)\n",
    "display_latex_result('\\\\mathbf{\\\\dot{\\\\varphi}_i}', dot_phi)\n",
    "\n",
    "# Einsetzen der Parameter des konkreten mobilen Roboters\n",
    "r, a, b, = symbols('r a b', positive=True)\n",
    "l = sqrt(a*a + b*b)\n",
    "J = Matrix([[wheel_vel( , , , )],\n",
    "            [wheel_vel( , , , )],\n",
    "            [wheel_vel( , , , )],\n",
    "            [wheel_vel( , , , )]])\n",
    "\n",
    "display_latex_result('\\\\mathbf{J}', J)\n",
    "\n",
    "# Vereinfachung der Matrix\n",
    "J = simplify(J)\n",
    "display_latex_result('\\\\mathbf{J}', J)\n",
    "\n",
    "# Herausziehen eines gemeinsamen Faktors\n",
    "fac = sqrt(2)/2/r\n",
    "Jf = J/fac\n",
    "res = \"$${} = {} \\cdot {} \\cdot {}$$\".format('\\\\dot{\\mathbf{\\\\varphi}} = \\mathbf{J} \\cdot \\\\dot{\\mathbf{x}}_\\mathrm{R}', latex(fac), latex(Jf, mat_delim='('), '\\\\dot{\\mathbf{x}}_\\mathrm{R}')\n",
    "display(Latex(res))"
   ]
  },
  {
   "cell_type": "markdown",
   "id": "0875652e-565f-43a5-a8ef-e64dd6a73bd6",
   "metadata": {},
   "source": [
    "Der Roboter soll im Weltkoordinatensystem vorwärts einen Kreis mit dem Radius 10m mit der Geschwindigkeit $\\dot{x}_\\mathrm{R} =$ 1m/s abfahren. Der Roboter hat die Abmessungen von\n",
    "$a =$ 0,2m und $b =$ 0,3m, sowie einen Radradius von $r =$ 0,1m.\n",
    "\n",
    "Die nachfolgende Animation visualisiert die Bewegung des Roboters beim Abfahren des Kurses\n",
    "\n",
    "<figure>\n",
    "<center>\n",
    "<img width='800' src='https://fh-dortmund.sciebo.de/s/esxLNzGVvbZZEm5/download?path=%2F&files=omni_wheel_circle.gif' />\n",
    "</figure>"
   ]
  },
  {
   "cell_type": "markdown",
   "id": "2b3e5f25-5911-4203-9c4b-e31fdc31e07f",
   "metadata": {
    "tags": []
   },
   "source": [
    "## Aufgabe 6.3"
   ]
  },
  {
   "cell_type": "markdown",
   "id": "e1de2ce8-3ea1-4fc8-8633-c3bab5dc4646",
   "metadata": {
    "jp-MarkdownHeadingCollapsed": true,
    "tags": []
   },
   "source": [
    "Wie groß ist die Drehgeschwindigkeit $\\dot{\\theta}$ des Roboters für den Kreis?"
   ]
  },
  {
   "cell_type": "markdown",
   "id": "86984d82-319f-4820-8aae-4b39e0806c8c",
   "metadata": {},
   "source": [
    "### Ergänzen Sie den nachstehenden Code um Ihre Rechnung zu überprüfen"
   ]
  },
  {
   "cell_type": "code",
   "execution_count": null,
   "id": "b0a30989-efc1-43d9-8217-886c2b8ed1c3",
   "metadata": {
    "colab": {
     "base_uri": "https://localhost:8080/",
     "height": 38
    },
    "id": "2_ZTdcyR6TH5",
    "outputId": "fd0ab3d1-b5b0-4405-b210-2eacc4845ec8"
   },
   "outputs": [],
   "source": [
    "R = \n",
    "v_x = \n",
    "s = \n",
    "t = \n",
    "dot_theta = \n",
    "display_latex_result('\\\\dot{\\\\theta}', dot_theta)"
   ]
  },
  {
   "cell_type": "markdown",
   "id": "ba6d4b45-1690-4d76-a063-f9ab870a4cc8",
   "metadata": {
    "tags": []
   },
   "source": [
    "## Aufgabe 6.4"
   ]
  },
  {
   "cell_type": "markdown",
   "id": "82a3489b-846a-4d0d-95e8-30876da84eb5",
   "metadata": {},
   "source": [
    "Auf welche Winkelgeschwindigkeit müssen die Räder $\\dot{\\varphi}_1 \\dots \\dot{\\varphi}_4$ eingestellt werden."
   ]
  },
  {
   "cell_type": "markdown",
   "id": "6bccfc2d-8375-4553-aec9-955e09d74692",
   "metadata": {
    "tags": []
   },
   "source": [
    "### Ergänzen Sie den nachstehenden Code um Ihre Rechnung zu überprüfen"
   ]
  },
  {
   "cell_type": "code",
   "execution_count": null,
   "id": "e8b332bd-1869-412c-b626-03aac09f1802",
   "metadata": {},
   "outputs": [],
   "source": [
    "# Einsetzen der konkreten Werte für die geometrischen Parameter des Roboters\n",
    "J = J.subs({r:, a:, b:})\n",
    "#J = J.evalf()\n",
    "display_latex_result('\\\\mathbf{J}', J)\n",
    "\n",
    "# Multipizieren der Matrix J mit den Geschwindigkeiten in Roboterkoordinaten\n",
    "x_R = Matrix([, , ])\n",
    "dot_phi = J * x_R\n",
    "display_latex_result('\\dot{\\mathbf{\\\\varphi}}', dot_phi)\n",
    "\n",
    "# oder als Fießkommazahl\n",
    "display_latex_result('\\dot{\\mathbf{\\\\varphi}}', dot_phi.evalf())"
   ]
  },
  {
   "cell_type": "markdown",
   "id": "9e8a7a2d-2c5f-497f-a585-42705587de88",
   "metadata": {
    "tags": []
   },
   "source": [
    "## Animation des mobilen Roboters"
   ]
  },
  {
   "cell_type": "markdown",
   "id": "d14c826a-442d-4827-ba9a-aa2cde540c0e",
   "metadata": {},
   "source": [
    "Für die Animation des mobilen Roboters sind mehrere Pakete (matplotlib, ipympl, ipyfilechoose) erforderich, die in der requirements.txt angegeben sind:\n",
    "\n",
    "```\n",
    "pip install -r requirements.txt\n",
    "```"
   ]
  },
  {
   "cell_type": "code",
   "execution_count": null,
   "id": "ef17097d-4ab4-4b2c-9968-ecfa5cd8b37a",
   "metadata": {},
   "outputs": [],
   "source": [
    "%matplotlib widget\n",
    "from mobile_robot_omni_wheel import *\n",
    "fig = plt.figure(figsize=(10, 8))\n",
    "\n",
    "\n",
    "anim = omni_rob_animation(fig, 10, rob=True, wheels=False)\n",
    "#anim.save('omni_wheel_circle.gif')"
   ]
  }
 ],
 "metadata": {
  "kernelspec": {
   "display_name": "Python 3 (ipykernel)",
   "language": "python",
   "name": "python3"
  },
  "language_info": {
   "codemirror_mode": {
    "name": "ipython",
    "version": 3
   },
   "file_extension": ".py",
   "mimetype": "text/x-python",
   "name": "python",
   "nbconvert_exporter": "python",
   "pygments_lexer": "ipython3",
   "version": "3.8.10"
  }
 },
 "nbformat": 4,
 "nbformat_minor": 5
}
