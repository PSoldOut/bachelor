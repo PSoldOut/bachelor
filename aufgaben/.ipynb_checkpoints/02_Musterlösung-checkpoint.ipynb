{
 "cells": [
  {
   "cell_type": "markdown",
   "id": "19e5b4f4",
   "metadata": {},
   "source": [
    "# Musterlösung Praktikum 2 Berechnungen mit Vektoren und Matritzen"
   ]
  },
  {
   "cell_type": "markdown",
   "id": "87ecf0bf",
   "metadata": {},
   "source": [
    "Für dieses Praktikum wird das Modul sympy benötigt. Dieses muss vorher gegebenenfalls über das Terminal installiert werden.\n",
    "\n",
    "```\n",
    "pip install sympy\n",
    "```\n",
    "\n",
    "Anschließend kann das Modul importiert werden.\n",
    "\n",
    "Für die Darstellung wird zudem das Modul IPython.display verwendet."
   ]
  },
  {
   "cell_type": "code",
   "execution_count": 1,
   "id": "2bb99bca",
   "metadata": {},
   "outputs": [],
   "source": [
    "from sympy import *\n",
    "from IPython.display import display, Math, Latex\n",
    "init_printing(use_latex='mathjax')"
   ]
  },
  {
   "cell_type": "markdown",
   "id": "e77aaa70-984f-4308-8285-0fab7af997a6",
   "metadata": {},
   "source": [
    "$\\newcommand{\\mbf}{\\mathbf}$\n",
    "$\\newcommand{\\mrm}{\\mathrm}$\n",
    "\n",
    "Gegeben sind zwei Vektoren $\\mbf{x}$ und $\\mbf{y}$ sowie eine Rotationsmatrix $\\mbf{A}$:\n",
    "\n",
    "$\n",
    "\\mbf{x} =\n",
    "\\begin{pmatrix}\n",
    "1 \\\\\n",
    "2 \\\\\n",
    "3\n",
    "\\end{pmatrix}\n",
    "\\; , \\quad\n",
    "%\n",
    "\\mbf{y} =\n",
    "\\left(\n",
    "\\begin{array}{c}\n",
    "3 \\\\\n",
    "2 \\\\\n",
    "1\n",
    "\\end{array}\n",
    "\\right)\\; , \\quad\n",
    "%\n",
    "\\mbf{A} = \\frac{1}{2}\\left(\\begin{array}{ccc}\n",
    "2 & 0 & 0 \\\\\n",
    "0 & \\sqrt {3} & 1 \\\\\n",
    "0 &  -1 &  \\sqrt {3} \n",
    "\\end{array}\\right)\n",
    "$"
   ]
  },
  {
   "cell_type": "code",
   "execution_count": 2,
   "id": "3f55d5a5-56c6-4d2c-8cf5-2279e7262247",
   "metadata": {},
   "outputs": [
    {
     "data": {
      "text/latex": [
       "$$\\mbf{x} = \\left(\\begin{matrix}1\\\\2\\\\3\\end{matrix}\\right)$$"
      ],
      "text/plain": [
       "<IPython.core.display.Latex object>"
      ]
     },
     "metadata": {},
     "output_type": "display_data"
    },
    {
     "data": {
      "text/latex": [
       "$$\\mbf{y} = \\left(\\begin{matrix}3\\\\2\\\\1\\end{matrix}\\right)$$"
      ],
      "text/plain": [
       "<IPython.core.display.Latex object>"
      ]
     },
     "metadata": {},
     "output_type": "display_data"
    },
    {
     "data": {
      "text/latex": [
       "$$\\mbf{A} = \\left(\\begin{matrix}1.0 & 0 & 0\\\\0 & 0.5 \\sqrt{3} & 0.5\\\\0 & -0.5 & 0.5 \\sqrt{3}\\end{matrix}\\right)$$"
      ],
      "text/plain": [
       "<IPython.core.display.Latex object>"
      ]
     },
     "metadata": {},
     "output_type": "display_data"
    }
   ],
   "source": [
    "# helper function for latex pretty printing\n",
    "def display_latex_result(a, b=None):\n",
    "  if b is None:\n",
    "    res = \"$${}$$\".format(a)\n",
    "  else:\n",
    "    res = \"$${} = {}$$\".format(a, latex(b, mat_delim='('))\n",
    "  display(Latex(res))\n",
    "\n",
    "# definition of x, y, A\n",
    "x = Matrix([1, 2, 3])\n",
    "display_latex_result('\\mbf{x}', x)\n",
    "\n",
    "y = Matrix([3, 2, 1])\n",
    "display_latex_result('\\mbf{y}', y)\n",
    "\n",
    "A = 1/2 * Matrix([[2,       0,       0], \n",
    "                  [0, sqrt(3),       1], \n",
    "                  [0,      -1, sqrt(3)]\n",
    "                 ])\n",
    "display_latex_result('\\mbf{A}', A)"
   ]
  },
  {
   "cell_type": "markdown",
   "id": "f332e729-3b68-4f16-9839-80496aeda8ee",
   "metadata": {
    "tags": []
   },
   "source": [
    "## Aufgabe 2.1"
   ]
  },
  {
   "cell_type": "markdown",
   "id": "3e49ada0-bfb3-412d-9122-46e900c5e5bf",
   "metadata": {},
   "source": [
    "Berechnen Sie die Summation  $\\mbf{x} + \\mbf{y}$ und die Subtraktion $\\mbf{x} - \\mbf{y}$ von Hand."
   ]
  },
  {
   "cell_type": "markdown",
   "id": "ad806b2a-e791-4983-8603-09c9ca40dd16",
   "metadata": {
    "tags": []
   },
   "source": [
    "### Lösung:"
   ]
  },
  {
   "cell_type": "markdown",
   "id": "85e24364-c1d9-476f-ac42-2a47f4bd2376",
   "metadata": {},
   "source": [
    "<div class=\"alert alert-block alert-warning\">\n",
    "$\n",
    "\\mbf{x} + \\mbf{y} = \\left( \\begin{array}{c} 1 + 3 \\\\ 2 + 2\\\\ 3 + 1\\end{array} \\right)\n",
    "= \\left( \\begin{array}{c} 4 \\\\ 4 \\\\ 4\\end{array} \\right)\\; , \\quad\n",
    "\\mbf{x} - \\mbf{y} = \\left( \\begin{array}{c} 1 - 3\\\\ 2 - 2\\\\ 3 - 1\\end{array} \\right)\n",
    "= \\left( \\begin{array}{c} -2\\\\ 0\\\\ 2\\end{array} \\right)\\; \n",
    "$\n",
    "</div>    "
   ]
  },
  {
   "cell_type": "markdown",
   "id": "ec4a3592-097d-4563-bbb5-f1b75758c689",
   "metadata": {
    "tags": []
   },
   "source": [
    "### Überprüfen Sie Ihr Ergebnis durch die Eränzung des folgenden Codes."
   ]
  },
  {
   "cell_type": "code",
   "execution_count": 3,
   "id": "dbf8904c-e946-404a-a40d-3289adebe200",
   "metadata": {},
   "outputs": [
    {
     "data": {
      "text/latex": [
       "$$\\mbf{x} + \\mbf{y} = \\left(\\begin{matrix}4\\\\4\\\\4\\end{matrix}\\right)$$"
      ],
      "text/plain": [
       "<IPython.core.display.Latex object>"
      ]
     },
     "metadata": {},
     "output_type": "display_data"
    },
    {
     "data": {
      "text/latex": [
       "$$\\mbf{x} - \\mbf{y} = \\left(\\begin{matrix}-2\\\\0\\\\2\\end{matrix}\\right)$$"
      ],
      "text/plain": [
       "<IPython.core.display.Latex object>"
      ]
     },
     "metadata": {},
     "output_type": "display_data"
    }
   ],
   "source": [
    "res = x + y\n",
    "display_latex_result('\\mbf{x} + \\mbf{y}', res)\n",
    "\n",
    "res = x - y\n",
    "display_latex_result('\\mbf{x} - \\mbf{y}', res)"
   ]
  },
  {
   "cell_type": "markdown",
   "id": "145b01e7-60a7-46ec-adbe-a761b7d2d249",
   "metadata": {
    "tags": []
   },
   "source": [
    "## Aufgabe 2.2"
   ]
  },
  {
   "cell_type": "markdown",
   "id": "4c133719-a6c9-474b-90f0-e30c2a6af01c",
   "metadata": {},
   "source": [
    "Berechnen Sie das Skalarprodukt $\\mbf{x} \\cdot \\mbf{y}$ und das Kreuzprodukt $\\mbf{x} \\times \\mbf{y}$ von Hand."
   ]
  },
  {
   "cell_type": "markdown",
   "id": "bc5c8551-a2f6-43a7-a51e-d3df413df620",
   "metadata": {
    "tags": []
   },
   "source": [
    "### Lösung:"
   ]
  },
  {
   "cell_type": "markdown",
   "id": "cb1df41f-0885-40e5-9935-e7640621788e",
   "metadata": {},
   "source": [
    "<div class=\"alert alert-block alert-warning\">\n",
    "$\n",
    "\\mbf{x} \\cdot \\mbf{y} = 1 \\cdot 3 + 2 \\cdot 2 + 3 \\cdot 1 = 10 \\; , \\quad\n",
    "\\mbf{x} \\times \\mbf{y} = \\left( \\begin{array}{c} 3 \\cdot 1 - 3 \\cdot 2\\\\ 3 \\cdot 3 - 1 \\cdot 1\\\\ 1 \\cdot 2  - 2 \\cdot 3\\end{array} \\right)\n",
    "= \\left( \\begin{array}{c} -4\\\\ 8\\\\ -4\\end{array} \\right)\\; \n",
    "$\n",
    "</div>"
   ]
  },
  {
   "cell_type": "markdown",
   "id": "ccfa4627-2bac-411d-9e06-70a92263db08",
   "metadata": {
    "tags": []
   },
   "source": [
    "### Überprüfen Sie Ihr Ergebnis durch die Eränzung des folgenden Codes."
   ]
  },
  {
   "cell_type": "code",
   "execution_count": 4,
   "id": "1f9eeca3-e799-4f06-a9c7-a7230365cbb6",
   "metadata": {},
   "outputs": [
    {
     "data": {
      "text/latex": [
       "$$\\mbf{x} \\cdot \\mbf{y} = 10$$"
      ],
      "text/plain": [
       "<IPython.core.display.Latex object>"
      ]
     },
     "metadata": {},
     "output_type": "display_data"
    },
    {
     "data": {
      "text/latex": [
       "$$\\mbf{x} \\times \\mbf{y} = \\left(\\begin{matrix}-4\\\\8\\\\-4\\end{matrix}\\right)$$"
      ],
      "text/plain": [
       "<IPython.core.display.Latex object>"
      ]
     },
     "metadata": {},
     "output_type": "display_data"
    }
   ],
   "source": [
    "# dot product\n",
    "res = x.dot(y)\n",
    "display_latex_result('\\mbf{x} \\\\cdot \\mbf{y}', res)\n",
    "\n",
    "# cross product\n",
    "res = x.cross(y)\n",
    "display_latex_result('\\mbf{x} \\\\times \\mbf{y}', res)"
   ]
  },
  {
   "cell_type": "markdown",
   "id": "fde93141-a992-476f-90dc-847c6dc107f8",
   "metadata": {
    "tags": []
   },
   "source": [
    "## Aufgabe 2.3"
   ]
  },
  {
   "cell_type": "markdown",
   "id": "2f2f2454-7eff-44ef-a930-6b969a19502e",
   "metadata": {},
   "source": [
    "Berechnen Sie die Beträge (Längen) $|\\mbf{x}|$ und $|\\mbf{y}|$ von Hand."
   ]
  },
  {
   "cell_type": "markdown",
   "id": "7a716ad3-af0d-42a7-8ca5-8457f36b932a",
   "metadata": {
    "tags": []
   },
   "source": [
    "### Lösung:"
   ]
  },
  {
   "cell_type": "markdown",
   "id": "e045d5e3-2d40-41c1-aa94-5ca842f11312",
   "metadata": {},
   "source": [
    "<div class=\"alert alert-block alert-warning\">\n",
    "$\n",
    "|\\mbf{x}| = |\\mbf{y}| = \\sqrt{1^2 + 2^2 + 3^2} = \\sqrt{14} = 3,7417\n",
    "$\n",
    "</div>    "
   ]
  },
  {
   "cell_type": "markdown",
   "id": "c5d91060-aa05-4eb4-af62-5c8375b231e4",
   "metadata": {
    "tags": []
   },
   "source": [
    "### Überprüfen Sie Ihr Ergebnis durch die Eränzung des folgenden Codes. Hinweis: $|\\mbf{x}| = \\sqrt{\\mbf{x}^\\mrm{T} \\cdot \\mbf{x}}$ "
   ]
  },
  {
   "cell_type": "code",
   "execution_count": 14,
   "id": "a9a20ed7-1f33-46a9-b883-660ff6ccd0f2",
   "metadata": {},
   "outputs": [
    {
     "data": {
      "text/plain": [
       "sympy.matrices.dense.MutableDenseMatrix"
      ]
     },
     "metadata": {},
     "output_type": "display_data"
    },
    {
     "data": {
      "text/plain": [
       "sympy.core.power.Pow"
      ]
     },
     "metadata": {},
     "output_type": "display_data"
    },
    {
     "data": {
      "text/latex": [
       "$$|\\mbf{x}| = \\sqrt{14}$$"
      ],
      "text/plain": [
       "<IPython.core.display.Latex object>"
      ]
     },
     "metadata": {},
     "output_type": "display_data"
    },
    {
     "data": {
      "text/latex": [
       "$$|\\mbf{x}| = 3.74165738677394$$"
      ],
      "text/plain": [
       "<IPython.core.display.Latex object>"
      ]
     },
     "metadata": {},
     "output_type": "display_data"
    },
    {
     "data": {
      "text/plain": [
       "sympy.core.numbers.Float"
      ]
     },
     "metadata": {},
     "output_type": "display_data"
    },
    {
     "data": {
      "text/latex": [
       "$$|\\mbf{y}| = \\sqrt{14}$$"
      ],
      "text/plain": [
       "<IPython.core.display.Latex object>"
      ]
     },
     "metadata": {},
     "output_type": "display_data"
    },
    {
     "data": {
      "text/latex": [
       "$$|\\mbf{x}| = 3.74165738677394$$"
      ],
      "text/plain": [
       "<IPython.core.display.Latex object>"
      ]
     },
     "metadata": {},
     "output_type": "display_data"
    }
   ],
   "source": [
    "norm_x = (x.T*x)\n",
    "display(type(norm_x))\n",
    "norm_x = sqrt(norm_x[0,0])\n",
    "display(type(norm_x))\n",
    "display_latex_result('|\\mbf{x}|', norm_x)\n",
    "display_latex_result('|\\mbf{x}|', norm_x.evalf())\n",
    "display(type(norm_x.evalf()))\n",
    "\n",
    "norm_y = (y.T*y)\n",
    "norm_y = sqrt(norm_y[0,0])\n",
    "display_latex_result('|\\mbf{y}|', norm_y)\n",
    "display_latex_result('|\\mbf{x}|', norm_y.evalf())"
   ]
  },
  {
   "cell_type": "markdown",
   "id": "da3cc7df-8af2-40e0-9b0f-a2998ad051a2",
   "metadata": {
    "tags": []
   },
   "source": [
    "## Aufgabe 2.4"
   ]
  },
  {
   "cell_type": "markdown",
   "id": "47077231-e12a-4c29-a209-7e893df8d2c0",
   "metadata": {},
   "source": [
    "Berechnen Sie den eingeschlossenen Winkel zwischen den Vektoren $\\phi = \\angle (\\mbf{x}, \\mbf{y})$ von Hand.\n",
    "\n",
    "Hinweis: $\\displaystyle{\\cos\\phi = \\frac{\\mbf{x} \\cdot \\mbf{y}}{|\\mbf{x}| \\cdot |\\mbf{y}|}}$"
   ]
  },
  {
   "cell_type": "markdown",
   "id": "a1308ebd-7491-417b-88fc-57a06e529a98",
   "metadata": {
    "tags": []
   },
   "source": [
    "### Lösung:"
   ]
  },
  {
   "cell_type": "markdown",
   "id": "03a43288-b4a2-44c6-bf1f-032649ede875",
   "metadata": {},
   "source": [
    "<div class=\"alert alert-block alert-warning\">\n",
    "$\n",
    "\\phi = \\arccos\\left(\\frac{\\mbf{x} \\cdot \\mbf{y}}{|\\mbf{x}| \\cdot |\\mbf{y}|}\\right) =\n",
    "\\arccos\\left(\\frac{10}{14}\\right) = 0,7752 \\mrm{rad} = 44,415°\n",
    "$\n",
    "</div>"
   ]
  },
  {
   "cell_type": "markdown",
   "id": "714d62f5-05e3-40fc-bf68-e465d1f293ea",
   "metadata": {},
   "source": [
    "Überprüfen Sie Ihr Ergebnis durch die Eränzung des folgenden Codes."
   ]
  },
  {
   "cell_type": "code",
   "execution_count": 6,
   "id": "e2d0c752-46ca-4ce0-a975-2aaaf30efb2b",
   "metadata": {},
   "outputs": [
    {
     "data": {
      "text/latex": [
       "$$\\phi = 44.415308597193$$"
      ],
      "text/plain": [
       "<IPython.core.display.Latex object>"
      ]
     },
     "metadata": {},
     "output_type": "display_data"
    }
   ],
   "source": [
    "res = acos(x.dot(y)/(norm_x*norm_y))*180/pi\n",
    "display_latex_result('\\phi', res.evalf())"
   ]
  },
  {
   "cell_type": "markdown",
   "id": "bbc270ed-f1e8-45f1-8558-3bdf7c477897",
   "metadata": {
    "tags": []
   },
   "source": [
    "## Aufgabe 2.5"
   ]
  },
  {
   "cell_type": "markdown",
   "id": "34e16f65-1ead-4eb3-b98f-1a954ed00ed4",
   "metadata": {},
   "source": [
    "Berechnen Sie die Rotationen $\\mbf{A} \\cdot \\mbf{x}$ und $\\mbf{A} \\cdot \\mbf{y}$ von Hand."
   ]
  },
  {
   "cell_type": "markdown",
   "id": "08fb3e54-f2c2-424f-80bb-2603ff5e155c",
   "metadata": {
    "tags": []
   },
   "source": [
    "### Lösung:"
   ]
  },
  {
   "cell_type": "markdown",
   "id": "481604e6-1811-49bb-8733-eba4f1a559f1",
   "metadata": {},
   "source": [
    "<div class=\"alert alert-block alert-warning\">\n",
    "$\n",
    "\\mbf{A} \\cdot \\mbf{x} = \\left(\n",
    "\\begin{array}{c}\n",
    "1 \\\\\n",
    "\\sqrt{3} + \\frac{3}{2}\\\\\n",
    "\\frac{3}{2}\\sqrt{3} - 1\n",
    "\\end{array}\n",
    "\\right)\\; , \\quad\n",
    "\\mbf{A} \\cdot \\mbf{y} = \\left(\n",
    "\\begin{array}{c}\n",
    "3 \\\\\n",
    "\\sqrt{3} + \\frac{1}{2}\\\\\n",
    "\\frac{\\sqrt{3}}{2} - 1\n",
    "\\end{array}\n",
    "\\right)\n",
    "$\n",
    "</div>"
   ]
  },
  {
   "cell_type": "markdown",
   "id": "5f8d7ce9-2133-4c4e-8e3b-0ac3faa88aff",
   "metadata": {
    "tags": []
   },
   "source": [
    "### Überprüfen Sie Ihr Ergebnis durch die Eränzung des folgenden Codes."
   ]
  },
  {
   "cell_type": "code",
   "execution_count": 7,
   "id": "fc6e2b37-048a-4f0e-9a80-b5ef0a880fd8",
   "metadata": {},
   "outputs": [
    {
     "data": {
      "text/latex": [
       "$$\\mbf{A} \\cdot \\mbf{x} = \\left(\\begin{matrix}1.0\\\\1.5 + 1.0 \\sqrt{3}\\\\-1.0 + 1.5 \\sqrt{3}\\end{matrix}\\right)$$"
      ],
      "text/plain": [
       "<IPython.core.display.Latex object>"
      ]
     },
     "metadata": {},
     "output_type": "display_data"
    },
    {
     "data": {
      "text/latex": [
       "$$\\mbf{A} \\cdot \\mbf{x} = \\left(\\begin{matrix}1.0\\\\3.23205080756888\\\\1.59807621135332\\end{matrix}\\right)$$"
      ],
      "text/plain": [
       "<IPython.core.display.Latex object>"
      ]
     },
     "metadata": {},
     "output_type": "display_data"
    },
    {
     "data": {
      "text/latex": [
       "$$\\mbf{A} \\cdot \\mbf{y} = \\left(\\begin{matrix}3.0\\\\0.5 + 1.0 \\sqrt{3}\\\\-1.0 + 0.5 \\sqrt{3}\\end{matrix}\\right)$$"
      ],
      "text/plain": [
       "<IPython.core.display.Latex object>"
      ]
     },
     "metadata": {},
     "output_type": "display_data"
    },
    {
     "data": {
      "text/latex": [
       "$$\\mbf{A} \\cdot \\mbf{y} = \\left(\\begin{matrix}3.0\\\\2.23205080756888\\\\-0.133974596215561\\end{matrix}\\right)$$"
      ],
      "text/plain": [
       "<IPython.core.display.Latex object>"
      ]
     },
     "metadata": {},
     "output_type": "display_data"
    }
   ],
   "source": [
    "res = A * x\n",
    "display_latex_result('\\mbf{A} \\\\cdot \\mbf{x}', res)\n",
    "display_latex_result('\\mbf{A} \\\\cdot \\mbf{x}', res.evalf())\n",
    "\n",
    "res = A * y\n",
    "display_latex_result('\\mbf{A} \\\\cdot \\mbf{y}', res)\n",
    "display_latex_result('\\mbf{A} \\\\cdot \\mbf{y}', res.evalf())"
   ]
  },
  {
   "cell_type": "markdown",
   "id": "712d55e8-2b17-4a4a-97b4-68e0f5f380ef",
   "metadata": {},
   "source": [
    "## Aufgabe 2.6"
   ]
  },
  {
   "cell_type": "markdown",
   "id": "286a20d6-830d-4d9a-8531-8e91a026b419",
   "metadata": {},
   "source": [
    "Stellen Sie die Rotationsmatritzen $\\mbf{R}_x := \\mbf{R}(x, 30°)$, $\\mbf{R}_y := \\mbf{R}(y, 90°$ und $\\mbf{R}_z := \\mbf{R}(z, -90°)$ von Hand auf (siehe Vorlesung Basisrotationen)."
   ]
  },
  {
   "cell_type": "markdown",
   "id": "7315bd50-b604-420d-ae11-f2fb8dbd0a83",
   "metadata": {
    "tags": []
   },
   "source": [
    "### Lösung:"
   ]
  },
  {
   "cell_type": "markdown",
   "id": "43aa1929-a9a7-4cc4-b80a-b0958bd487c1",
   "metadata": {},
   "source": [
    "<div class=\"alert alert-block alert-warning\">\n",
    "$\n",
    "\\mbf{R}_x := \\mbf{R}(x, \\alpha) \n",
    "= \\left(\\begin{array}{ccc} \n",
    "1 & 0 & 0 \\\\\n",
    "0 & \\cos(\\alpha) & -\\sin(\\alpha) \\\\\n",
    "0 & \\sin(\\alpha) & \\cos(\\alpha) \n",
    "\\end{array}\\right)\n",
    "$\n",
    "\n",
    "$\n",
    "\\mbf{R}_y := \\mbf{R}(y, \\beta) \n",
    "= \\left(\\begin{array}{ccc}\n",
    "\\cos(\\beta) & 0 & \\sin(\\beta) \\\\\n",
    "0 & 1 & 0 \\\\\n",
    "-\\sin(\\beta) & 0 & \\cos(\\beta) \n",
    "\\end{array}\\right) \n",
    "$\n",
    "\n",
    "$\\mbf{R}_z := \\mbf{R}(z, \\gamma) \n",
    "= \\left(\\begin{array}{ccc}\n",
    "\\cos(\\gamma) & -\\sin(\\gamma) & 0  \\\\\n",
    "\\sin(\\gamma) & \\cos(\\gamma) & 0 \\\\\n",
    "0 & 0 & 1 \n",
    "\\end{array}\\right) \n",
    "$\n",
    "\n",
    "Aufstellen der Rotationsmatrizen:\n",
    "\n",
    "$\n",
    "\\mbf{R}_x := \\mbf{R}(x, 30°) \n",
    "= \\left(\\begin{array}{ccc} \n",
    "1& 0 & 0 \\\\\n",
    "0 & \\cos (30°) & -\\sin (30°) \\\\\n",
    "0 & \\sin (30°) & \\cos (30°) \n",
    "\\end{array}\\right)\n",
    " = \\frac{1}{2}\\left(\\begin{array}{ccc}\n",
    "2 & 0 & 0 \\\\\n",
    "0 & \\sqrt {3} & -1 \\\\\n",
    "0 &  1 &  \\sqrt {3} \n",
    "\\end{array}\\right)\n",
    "$\n",
    "\n",
    "$\n",
    "\\mbf{R}_y := \\mbf{R}(y, 90°) \n",
    "= \\left(\\begin{array}{ccc}\n",
    "\\cos (90°) & 0 & \\sin (90°) \\\\\n",
    "0 & 1 & 0 \\\\\n",
    "-\\sin (90°) & 0 & \\cos (90°) \n",
    "\\end{array}\\right ) \n",
    "= \\left(\\begin{array}{ccc}\n",
    "0 & 0 & 1 \\\\\n",
    "0 & 1 & 0 \\\\\n",
    "-1 & 0 & 0\n",
    "\\end{array}\\right)\n",
    "$\n",
    "\n",
    "$\n",
    "\\mbf{R}_z := \\mbf{R}(z, -90°) \n",
    "= \\left(\\begin{array}{ccc}\n",
    "\\cos (-90°) & -\\sin (-90°) & 0  \\\\\n",
    "\\sin (-90°) & \\cos (-90°) & 0 \\\\\n",
    "0 & 0 & 1 \n",
    "\\end{array}\\right ) \n",
    "= \\left(\\begin{array}{ccc}\n",
    "0 & 1 & 0 \\\\\n",
    "-1 & 0 & 0 \\\\\n",
    "0 & 0 & 1\n",
    "\\end{array}\\right)\n",
    "$\n",
    "</div>    "
   ]
  },
  {
   "cell_type": "markdown",
   "id": "e87e619a-aa4f-4108-8547-77f2827490e6",
   "metadata": {
    "tags": []
   },
   "source": [
    "### Definition der Rotationsmatritzen:"
   ]
  },
  {
   "cell_type": "code",
   "execution_count": 8,
   "id": "69b12932-947d-448d-9cf5-e57258347830",
   "metadata": {},
   "outputs": [
    {
     "data": {
      "text/latex": [
       "$$\\mbf{R}_x = \\left(\\begin{matrix}1 & 0 & 0\\\\0 & \\cos{\\left(\\alpha \\right)} & - \\sin{\\left(\\alpha \\right)}\\\\0 & \\sin{\\left(\\alpha \\right)} & \\cos{\\left(\\alpha \\right)}\\end{matrix}\\right)$$"
      ],
      "text/plain": [
       "<IPython.core.display.Latex object>"
      ]
     },
     "metadata": {},
     "output_type": "display_data"
    },
    {
     "data": {
      "text/latex": [
       "$$\\mbf{R}_y = \\left(\\begin{matrix}\\cos{\\left(\\beta \\right)} & 0 & \\sin{\\left(\\beta \\right)}\\\\0 & 1 & 0\\\\- \\sin{\\left(\\beta \\right)} & 0 & \\cos{\\left(\\beta \\right)}\\end{matrix}\\right)$$"
      ],
      "text/plain": [
       "<IPython.core.display.Latex object>"
      ]
     },
     "metadata": {},
     "output_type": "display_data"
    },
    {
     "data": {
      "text/latex": [
       "$$\\mbf{R}_z = \\left(\\begin{matrix}\\cos{\\left(\\gamma \\right)} & - \\sin{\\left(\\gamma \\right)} & 0\\\\\\sin{\\left(\\gamma \\right)} & \\cos{\\left(\\gamma \\right)} & 0\\\\0 & 0 & 1\\end{matrix}\\right)$$"
      ],
      "text/plain": [
       "<IPython.core.display.Latex object>"
      ]
     },
     "metadata": {},
     "output_type": "display_data"
    }
   ],
   "source": [
    "def rotx(alpha):\n",
    "  Rx = Matrix([[ 1,          0,           0],\n",
    "               [ 0, cos(alpha), -sin(alpha)],\n",
    "               [ 0, sin(alpha),  cos(alpha)]\n",
    "              ])\n",
    "  return Rx\n",
    "\n",
    "def roty(beta):\n",
    "  Ry = Matrix([[ cos(beta),  0, sin(beta)],\n",
    "               [ 0,          1,         0],\n",
    "               [-sin(beta),  0, cos(beta)]\n",
    "              ])\n",
    "  return Ry\n",
    "\n",
    "def rotz(gamma):\n",
    "  Rz = Matrix([[ cos(gamma), -sin(gamma), 0],\n",
    "               [ sin(gamma),  cos(gamma), 0],\n",
    "               [ 0,          0,           1],\n",
    "              ])\n",
    "  return Rz\n",
    "\n",
    "alpha, beta, gamma = symbols('alpha beta gamma')\n",
    "display_latex_result('\\mbf{R}_x', rotx(alpha))\n",
    "display_latex_result('\\mbf{R}_y', roty(beta))\n",
    "display_latex_result('\\mbf{R}_z', rotz(gamma))"
   ]
  },
  {
   "cell_type": "markdown",
   "id": "e10cd632-e473-4a20-8b4b-a473de0c21f3",
   "metadata": {},
   "source": [
    "### Ergänzen Sie den nachfolgenden Code um Ihr Ergebnis zu überprüfen:"
   ]
  },
  {
   "cell_type": "code",
   "execution_count": 9,
   "id": "22537df1-6568-4ce0-b117-fca4c9eeae75",
   "metadata": {},
   "outputs": [
    {
     "data": {
      "text/latex": [
       "$$\\mbf{R}(x, 30°) = \\left(\\begin{matrix}1 & 0 & 0\\\\0 & \\frac{\\sqrt{3}}{2} & - \\frac{1}{2}\\\\0 & \\frac{1}{2} & \\frac{\\sqrt{3}}{2}\\end{matrix}\\right)$$"
      ],
      "text/plain": [
       "<IPython.core.display.Latex object>"
      ]
     },
     "metadata": {},
     "output_type": "display_data"
    },
    {
     "data": {
      "text/latex": [
       "$$\\mbf{R}(y, 90°) = \\left(\\begin{matrix}0 & 0 & 1\\\\0 & 1 & 0\\\\-1 & 0 & 0\\end{matrix}\\right)$$"
      ],
      "text/plain": [
       "<IPython.core.display.Latex object>"
      ]
     },
     "metadata": {},
     "output_type": "display_data"
    },
    {
     "data": {
      "text/latex": [
       "$$\\mbf{R}(z, -90°) = \\left(\\begin{matrix}0 & 1 & 0\\\\-1 & 0 & 0\\\\0 & 0 & 1\\end{matrix}\\right)$$"
      ],
      "text/plain": [
       "<IPython.core.display.Latex object>"
      ]
     },
     "metadata": {},
     "output_type": "display_data"
    }
   ],
   "source": [
    "# conversion constant\n",
    "deg2rad = pi/180\n",
    "\n",
    "Rx = rotx(30 * deg2rad)\n",
    "display_latex_result('\\mbf{R}(x, 30°)', Rx)\n",
    "\n",
    "Ry = roty(90 * deg2rad)\n",
    "display_latex_result('\\mbf{R}(y, 90°)', Ry)\n",
    "\n",
    "Rz = rotz(-90 * deg2rad)\n",
    "display_latex_result('\\mbf{R}(z, -90°)', Rz)"
   ]
  },
  {
   "cell_type": "markdown",
   "id": "7c49f5b4-fc72-4a25-99c1-f9aa76ea6ccb",
   "metadata": {
    "tags": []
   },
   "source": [
    "## Aufgabe 2.7"
   ]
  },
  {
   "cell_type": "markdown",
   "id": "88ae7d96-215a-47e1-8ad3-6056203277b2",
   "metadata": {
    "tags": []
   },
   "source": [
    "Stellen Sie Gesamtrotationsmatrix \n",
    "$\\mbf{R}_G \\,=\\, \\mbf{R}_z \\mbf{R}_y \\mbf{R}_x$ auf."
   ]
  },
  {
   "cell_type": "markdown",
   "id": "6e46d093-74fd-4a8c-b8e6-82cf36d2071d",
   "metadata": {
    "tags": []
   },
   "source": [
    "### Lösung:"
   ]
  },
  {
   "cell_type": "markdown",
   "id": "c1eca744-8939-4c91-b896-817da9105093",
   "metadata": {
    "tags": []
   },
   "source": [
    "<div class=\"alert alert-block alert-warning\">\n",
    "$\n",
    "\\mbf{R}_G = \\mbf{R}_z \\mbf{R}_y \\mbf{R}_x \n",
    "= \n",
    "\\left(\\begin{array}{ccc}\n",
    "0 & 1 & 0 \\\\\n",
    "-1 & 0 & 0 \\\\\n",
    "0 & 0 & 1\n",
    "\\end{array}\\right)\n",
    "\\cdot \n",
    "\\left(\\begin{array}{ccc}\n",
    "0 & 0 & 1 \\\\\n",
    "0 & 1 & 0 \\\\\n",
    "-1 & 0 & 0\n",
    "\\end{array}\\right)\n",
    "\\cdot \\frac{1}{2}\\left(\\begin{array}{ccc}\n",
    "2 & 0 & 0 \\\\\n",
    "0 & \\sqrt {3} & -1 \\\\\n",
    "0 &  1 &  \\sqrt {3} \n",
    "\\end{array}\\right)\n",
    "= \n",
    "\\left(\\begin{array}{rrr}\n",
    "0 &  \\frac{\\sqrt{3}}{2} &  -\\frac{1}{2}\\\\\n",
    "0 & -\\frac{1}{2} & -\\frac{\\sqrt{3}}{2} \\\\\n",
    "-1 & 0 & 0\n",
    "\\end{array}\\right )\n",
    "$\n",
    "</div>    "
   ]
  },
  {
   "cell_type": "markdown",
   "id": "f1b801ea-de9f-492a-834a-6567b438794a",
   "metadata": {
    "tags": []
   },
   "source": [
    "### Ergänzen Sie den nachfolgenden Code um Ihr Ergebnis zu überprüfen:"
   ]
  },
  {
   "cell_type": "code",
   "execution_count": 10,
   "id": "6344f71e-27fa-49c1-9700-23c2738f1ed1",
   "metadata": {},
   "outputs": [
    {
     "data": {
      "text/latex": [
       "$$\\mbf{R}_g(\\alpha, \\beta, \\gamma) = \\left(\\begin{matrix}\\cos{\\left(\\beta \\right)} \\cos{\\left(\\gamma \\right)} & \\sin{\\left(\\alpha \\right)} \\sin{\\left(\\beta \\right)} \\cos{\\left(\\gamma \\right)} - \\sin{\\left(\\gamma \\right)} \\cos{\\left(\\alpha \\right)} & \\sin{\\left(\\alpha \\right)} \\sin{\\left(\\gamma \\right)} + \\sin{\\left(\\beta \\right)} \\cos{\\left(\\alpha \\right)} \\cos{\\left(\\gamma \\right)}\\\\\\sin{\\left(\\gamma \\right)} \\cos{\\left(\\beta \\right)} & \\sin{\\left(\\alpha \\right)} \\sin{\\left(\\beta \\right)} \\sin{\\left(\\gamma \\right)} + \\cos{\\left(\\alpha \\right)} \\cos{\\left(\\gamma \\right)} & - \\sin{\\left(\\alpha \\right)} \\cos{\\left(\\gamma \\right)} + \\sin{\\left(\\beta \\right)} \\sin{\\left(\\gamma \\right)} \\cos{\\left(\\alpha \\right)}\\\\- \\sin{\\left(\\beta \\right)} & \\sin{\\left(\\alpha \\right)} \\cos{\\left(\\beta \\right)} & \\cos{\\left(\\alpha \\right)} \\cos{\\left(\\beta \\right)}\\end{matrix}\\right)$$"
      ],
      "text/plain": [
       "<IPython.core.display.Latex object>"
      ]
     },
     "metadata": {},
     "output_type": "display_data"
    },
    {
     "data": {
      "text/latex": [
       "$$\\mbf{R}_g = \\left(\\begin{matrix}0 & \\frac{\\sqrt{3}}{2} & - \\frac{1}{2}\\\\0 & - \\frac{1}{2} & - \\frac{\\sqrt{3}}{2}\\\\-1 & 0 & 0\\end{matrix}\\right)$$"
      ],
      "text/plain": [
       "<IPython.core.display.Latex object>"
      ]
     },
     "metadata": {},
     "output_type": "display_data"
    }
   ],
   "source": [
    "Rg = rotz(gamma) * roty(beta) * rotx(alpha)\n",
    "display_latex_result('\\mbf{R}_g(\\\\alpha, \\\\beta, \\\\gamma)', Rg)\n",
    "\n",
    "Rg = Rz * Ry * Rx\n",
    "display_latex_result('\\mbf{R}_g', Rg)"
   ]
  }
 ],
 "metadata": {
  "kernelspec": {
   "display_name": "Python 3 (ipykernel)",
   "language": "python",
   "name": "python3"
  },
  "language_info": {
   "codemirror_mode": {
    "name": "ipython",
    "version": 3
   },
   "file_extension": ".py",
   "mimetype": "text/x-python",
   "name": "python",
   "nbconvert_exporter": "python",
   "pygments_lexer": "ipython3",
   "version": "3.8.10"
  }
 },
 "nbformat": 4,
 "nbformat_minor": 5
}
