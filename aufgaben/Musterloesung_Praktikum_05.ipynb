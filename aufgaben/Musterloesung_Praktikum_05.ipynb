{
 "cells": [
  {
   "cell_type": "markdown",
   "id": "19e5b4f4",
   "metadata": {
    "tags": []
   },
   "source": [
    "# Musterlösung Praktikum 5"
   ]
  },
  {
   "cell_type": "markdown",
   "id": "87ecf0bf",
   "metadata": {},
   "source": [
    "Für dieses Praktikum wird das Modul sympy benötigt. Dieses muss vorher gegebenenfalls über das Terminal installiert werden.\n",
    "\n",
    "```\n",
    "pip install sympy\n",
    "```\n",
    "\n",
    "Anschließend kann das Modul importiert werden.\n",
    "\n",
    "Für die Darstellung wird zudem das Modul IPython.display verwendet."
   ]
  },
  {
   "cell_type": "code",
   "execution_count": 1,
   "id": "2bb99bca",
   "metadata": {},
   "outputs": [],
   "source": [
    "from sympy import *\n",
    "from IPython.display import display, Math, Latex\n",
    "from sympy.physics.mechanics import dynamicsymbols, init_vprinting\n",
    "init_vprinting(use_latex='mathjax')\n",
    "#init_printing(use_latex='mathjax')"
   ]
  },
  {
   "cell_type": "code",
   "execution_count": 2,
   "id": "3f55d5a5-56c6-4d2c-8cf5-2279e7262247",
   "metadata": {},
   "outputs": [],
   "source": [
    "# helper function for latex pretty printing\n",
    "def display_latex_result(a, b=None):\n",
    "  if b is None:\n",
    "    res = \"$${}$$\".format(a)\n",
    "  else:\n",
    "    res = \"$${} = {}$$\".format(a, latex(b, mat_delim='('))\n",
    "  display(Latex(res))"
   ]
  },
  {
   "cell_type": "markdown",
   "id": "6c78a811-a0a7-4c0e-bafc-6fcadfa4c025",
   "metadata": {},
   "source": [
    "$\\newcommand{\\mbf}{\\mathbf}$\n",
    "$\\newcommand{\\mrm}{\\mathrm}$\n",
    "$\\newcommand{\\tcdegree}{{°}}$\n",
    "$\\newcommand{\\unitms}{{\\mathrm{\\frac{m}{s}}}}$\n",
    "$\\newcommand{\\unitrads}{{\\mathrm{\\frac{rad}{s}}}}$\n",
    "\n",
    "Gegeben ist ein mobiler Roboter mit Differentialantrieb, der den im Weltkoordinatensystem abgebildeten Kurs von $A$ nach $C$ vorwärts abfährt. \n",
    "Der Kurs besteht aus einem Halbkreis zwischen den Punkten $A = (4, 9)$ und $B = (11, 2)$ und zwischen $B$ und $C = (18, 9)$ aus einer Geraden. Die Positionen der Punkte sind in $\\mathrm{m}$ angegeben.\n",
    "\n",
    "<figure>\n",
    "<center>\n",
    "<img width='800' src='https://fh-dortmund.sciebo.de/s/esxLNzGVvbZZEm5/download?path=%2F&files=diff_drive.png' />\n",
    "</figure>\n",
    "\n",
    "Der Roboter soll den gesamten Kurs mit einer konstanten Lineargeschwindigkeit von $\\dot{x}_\\mathrm{R} = 1\\unitms$ abfahren. Beschleunigungs- und Verzögerungsvorgänge sollen vernachlässigt werden. Der Roboter hat einen halben Radabstand von $b = 0,5\\mathrm{m}$ und Radradius von $r = 0,25\\mathrm{m}$.\n",
    "\n",
    "Die nachfolgende Animation visualisiert die Bewegung des Roboters beim Abfahren des Kurses\n",
    "\n",
    "<figure>\n",
    "<center>\n",
    "<img width='800' src='https://fh-dortmund.sciebo.de/s/esxLNzGVvbZZEm5/download?path=%2F&files=differential_drive_rob.gif' />\n",
    "</figure>"
   ]
  },
  {
   "cell_type": "markdown",
   "id": "094bf170-8ef6-4e04-949a-2e772c7d9051",
   "metadata": {
    "tags": []
   },
   "source": [
    "## Aufgabe 5.1"
   ]
  },
  {
   "cell_type": "markdown",
   "id": "0abbceb8-8848-40a2-aaa5-1707cd0414e8",
   "metadata": {
    "jp-MarkdownHeadingCollapsed": true,
    "tags": []
   },
   "source": [
    "Berechnen Sie die Länge der beiden Kursabschnitte und des gesamten Kurses. "
   ]
  },
  {
   "cell_type": "markdown",
   "id": "9a040286-9a19-488e-adf7-a5da02daf880",
   "metadata": {
    "tags": []
   },
   "source": [
    "### Lösung:"
   ]
  },
  {
   "cell_type": "markdown",
   "id": "00faad36-8b2c-4e54-8a2b-97df7a853084",
   "metadata": {
    "tags": []
   },
   "source": [
    "<div class=\"alert alert-warning\" role=\"alert\">\n",
    "\n",
    "$\n",
    "\\begin{align}\n",
    "& \\text{Durchmesser des Halbkreises:}\\\\[2mm]\n",
    "d_\\mrm{AB} &= | B - A |  \\\\\n",
    "  &= \\left|\\left(\\begin{array}{c} 11\\\\2 \\end{array} \\right) - \\left(\\begin{array}{c} 4\\\\9 \\end{array} \\right) \\right|  \\\\\n",
    " & = \\sqrt{7^2 + (-7)^2} \\\\\n",
    " & = \\sqrt{98} \\approx 9,90\\mathrm{m}  \\\\[2mm]\n",
    "\\end{align}\n",
    "$\n",
    "\n",
    "$\n",
    "\\begin{align}\n",
    "&\\text{Umfang des Halbkreises (Innenwinkel $\\alpha = 180°$):}\\\\[2mm]\n",
    "s_\\mrm{AB} & = r \\cdot 2 \\pi \\cdot \\frac{\\alpha}{360\\tcdegree} \\\\\n",
    " & = \\frac{1}{2} \\sqrt{98}\\mathrm{m} \\cdot 2 \\pi \\cdot \\frac{180\\tcdegree}{360\\tcdegree} \\\\\n",
    " & \\approx 15,55\\mathrm{m}   \\\\[0.5cm]\n",
    " &\\text{Länge der Strecke von B nach C}\\\\\n",
    " s_\\mrm{BC}  & = | C - B |  \\\\\n",
    " & = \\left|\\left(\\begin{array}{c} 18\\\\9 \\end{array} \\right) - \\left(\\begin{array}{c} 11\\\\2 \\end{array} \\right) \\right|  \\\\\n",
    " & = \\sqrt{7^2 + 7^2} \\\\\n",
    " & = \\sqrt{98} \\approx 9,90\\mathrm{m} \\\\[0.5cm]\n",
    "\\end{align}\n",
    "$\n",
    "\n",
    "$\n",
    "\\begin{align}\n",
    " s_\\mrm{ges}  & = s_\\mrm{AB} + s_\\mrm{BC} \\\\\n",
    " & = \\pi \\cdot \\frac{1}{2} \\sqrt{98}\\mathrm{m} + \\sqrt{98}\\mathrm{m} \\\\\n",
    "& \\approx 25,45\\mathrm{m}  \\\\\n",
    "\\end{align}\n",
    "$\n",
    "\n",
    "</div>"
   ]
  },
  {
   "cell_type": "markdown",
   "id": "d7f081c8-6f51-422b-a12e-85e4b73779d6",
   "metadata": {
    "tags": []
   },
   "source": [
    "### Ergänzen Sie den nachstehenden Code um Ihre Rechnung zu überprüfen"
   ]
  },
  {
   "cell_type": "code",
   "execution_count": 3,
   "id": "69b12932-947d-448d-9cf5-e57258347830",
   "metadata": {},
   "outputs": [
    {
     "data": {
      "text/latex": [
       "$$s_\\mathrm{AB} = 3.5 \\sqrt{2} \\pi$$"
      ],
      "text/plain": [
       "<IPython.core.display.Latex object>"
      ]
     },
     "metadata": {},
     "output_type": "display_data"
    },
    {
     "data": {
      "text/latex": [
       "$$s_\\mathrm{AB} = 15.5500902835543$$"
      ],
      "text/plain": [
       "<IPython.core.display.Latex object>"
      ]
     },
     "metadata": {},
     "output_type": "display_data"
    },
    {
     "data": {
      "text/latex": [
       "$$s_\\mathrm{BC} = 7 \\sqrt{2}$$"
      ],
      "text/plain": [
       "<IPython.core.display.Latex object>"
      ]
     },
     "metadata": {},
     "output_type": "display_data"
    },
    {
     "data": {
      "text/latex": [
       "$$s_\\mathrm{g} = 7 \\sqrt{2} + 3.5 \\sqrt{2} \\pi$$"
      ],
      "text/plain": [
       "<IPython.core.display.Latex object>"
      ]
     },
     "metadata": {},
     "output_type": "display_data"
    },
    {
     "data": {
      "text/latex": [
       "$$s_\\mathrm{g} = 25.4495852201659$$"
      ],
      "text/plain": [
       "<IPython.core.display.Latex object>"
      ]
     },
     "metadata": {},
     "output_type": "display_data"
    }
   ],
   "source": [
    "# Durchmesser des Halbkreises\n",
    "A = Matrix([4, 9])\n",
    "B = Matrix([11, 2])\n",
    "dAB = (B - A).norm()\n",
    "\n",
    "# Umfang des Halbkreis (Innenwinkel 180°)\n",
    "alpha = 180\n",
    "sAB = (dAB/2) * (2*pi) * (alpha/360)\n",
    "\n",
    "# Länge der Strecke von B nach C\n",
    "C = Matrix([18, 9])\n",
    "sBC = (C - B).norm()\n",
    "\n",
    "# Gesamtstrecke\n",
    "sg = sAB + sBC\n",
    "display_latex_result('s_\\mathrm{AB}', sAB)\n",
    "display_latex_result('s_\\mathrm{AB}', sAB.evalf())\n",
    "display_latex_result('s_\\mathrm{BC}', sBC)\n",
    "display_latex_result('s_\\mathrm{g}', sg)\n",
    "display_latex_result('s_\\mathrm{g}', sg.evalf())\n"
   ]
  },
  {
   "cell_type": "markdown",
   "id": "d4603723-ce62-4e05-9484-65bc41d3ef30",
   "metadata": {
    "tags": []
   },
   "source": [
    "## Aufgabe 5.2"
   ]
  },
  {
   "cell_type": "markdown",
   "id": "a9409cca-fcf2-4783-a9b4-e52c99a93649",
   "metadata": {
    "jp-MarkdownHeadingCollapsed": true,
    "tags": []
   },
   "source": [
    "Welche Zeit benötigt der Roboter für die beiden Kursabschnitte und den gesamten Kurs?\n",
    "(Beschleunigungs- und Verzögerungsvorgänge sollen vernachlässigt werden.) "
   ]
  },
  {
   "cell_type": "markdown",
   "id": "41d8716c-9592-4b41-a8b6-f52f87abbff8",
   "metadata": {
    "tags": []
   },
   "source": [
    "### Lösung:"
   ]
  },
  {
   "cell_type": "markdown",
   "id": "f86bce46-d8d0-4437-a5a7-0ae1a818a85f",
   "metadata": {},
   "source": [
    "<!--\n",
    "<div class=\"alert alert-warning\" role=\"alert\">\n",
    "-->\n",
    "<div class=\"alert alert-block alert-warning\">\n",
    "Der Roboter bewegt sich mit einer konstanten Geschwindigkeit von $v = \\dot{x}_\\mathrm{R} = 1\\unitms$ entlang des Kurses.\n",
    "\n",
    "$\n",
    "\\begin{align}\n",
    "t_\\mrm{AB} & =  \\frac{s_\\mrm{AB}}{v} = 15,55\\mathrm{s}\\\\[0.25cm]\n",
    "t_\\mrm{BC} & =  \\frac{s_\\mrm{BC}}{v} = 9,90\\mathrm{s}\\\\[0.25cm]\n",
    "t_\\mrm{ges}  & = t_\\mrm{AB} + t_\\mrm{BC} = 25,45\\mathrm{s}\n",
    "\\end{align}\n",
    "$\n",
    "</div>"
   ]
  },
  {
   "cell_type": "markdown",
   "id": "2b3e5f25-5911-4203-9c4b-e31fdc31e07f",
   "metadata": {
    "tags": []
   },
   "source": [
    "## Aufgabe 5.3"
   ]
  },
  {
   "cell_type": "markdown",
   "id": "e1de2ce8-3ea1-4fc8-8633-c3bab5dc4646",
   "metadata": {
    "jp-MarkdownHeadingCollapsed": true,
    "tags": []
   },
   "source": [
    "Welche Geschwindigkeiten in Roboterkoordinaten \n",
    "($\\mbf{v}_\\mathrm{R} = \\dot{\\mbf{x}}_\\mathrm{R} = (\\dot{x}_\\mathrm{R}, \\dot{y}_\\mathrm{R}, \\dot{\\theta})^\\mathrm{T}$) \n",
    "ergeben sich für die beiden Abschnitte jeweils?"
   ]
  },
  {
   "cell_type": "markdown",
   "id": "cd32b8ac-a298-45ef-8fd2-e446d391000d",
   "metadata": {
    "tags": []
   },
   "source": [
    "### Lösung:"
   ]
  },
  {
   "cell_type": "markdown",
   "id": "b91f9644-0599-42dc-afda-e35ce158ca3c",
   "metadata": {},
   "source": [
    "<div class=\"alert alert-warning\" role=\"alert\">\n",
    "\n",
    "    \n",
    "Ein differetialgetriebener Roboter hat zwei Freiheitsgrade, es gilt stets $\\dot{y}_\\mathrm{R} = 0$.\n",
    "\n",
    "Für beide Kursabschnitte gilt $\\dot{x}_\\mathrm{R} = v = 1\\unitms$.\n",
    "Die Rotationsgeschwindigkeit ergibt sich bei konstanter Drehgeschindigkeit aus dem auf dem jeweiligen Kursabschnitt zurückgelegten Drehwinkel durch die dabei verwendete Zeit.\n",
    "\n",
    "Drehgeschwindigkeiten werden hier zur Verdeutlichung immer in der Einheit $\\unitrads$ angegeben. \n",
    "$\\mathrm{rad}$ ist eine Pseudoeinheit, die angibt, dass ein Winkel im Bogenmaß angebenen wird. Sie kann auch weggelassen werden.\n",
    "\n",
    "Halbkreis, Strecke AB:\n",
    "\n",
    "$\n",
    "\\dot{\\theta} = \\frac{\\pi\\cdot \\mathrm{rad}}{15,55\\mathrm{s}} = 0,20\\unitrads\n",
    "$\n",
    "\n",
    "$\n",
    "\\begin{pmatrix}\n",
    "\\dot{x}_\\mathrm{R}  \\\\\n",
    "\\dot{y}_\\mathrm{R} \\\\\n",
    "\\dot{\\theta}  \n",
    "\\end{pmatrix} \n",
    " = \n",
    "\\begin{pmatrix}\n",
    "1\\unitms \\\\\n",
    "0\\\\\n",
    "0,20\\unitrads\n",
    "\\end{pmatrix} \n",
    "$\n",
    "\n",
    "Gerade, Strecke BC:\n",
    "\n",
    "$\n",
    "\\dot{\\theta} = \\frac{0}{9,90\\mathrm{s}} = 0\n",
    "$\n",
    "\n",
    "$\n",
    "\\begin{pmatrix}\n",
    "\\dot{x}_\\mrm{R}  \\\\\n",
    "\\dot{y}_\\mathrm{R}\\\\\n",
    "\\dot{\\theta}  \n",
    "\\end{pmatrix} \n",
    " = \n",
    "\\begin{pmatrix}\n",
    "1\\unitms \\\\\n",
    "0\\\\\n",
    "0\n",
    "\\end{pmatrix} \n",
    "$\n",
    "\n",
    "</div>"
   ]
  },
  {
   "cell_type": "markdown",
   "id": "ba6d4b45-1690-4d76-a063-f9ab870a4cc8",
   "metadata": {
    "tags": []
   },
   "source": [
    "## Aufgabe 5.4"
   ]
  },
  {
   "cell_type": "markdown",
   "id": "82a3489b-846a-4d0d-95e8-30876da84eb5",
   "metadata": {},
   "source": [
    "Welche Radgeschwindigkeiten ($\\dot{\\mbf\\varphi} = (\\dot{\\varphi}_\\mrm{l}, \\dot{\\varphi}_\\mrm{r})^\\mathrm{T}$) ergeben sich für die beiden Kursabschnitte?"
   ]
  },
  {
   "cell_type": "markdown",
   "id": "73767686-ca68-4c4a-b1de-8d31f70e001b",
   "metadata": {
    "tags": []
   },
   "source": [
    "### Lösung:"
   ]
  },
  {
   "cell_type": "markdown",
   "id": "c7aa4ab8-a74a-4ee7-9663-ad27d3a1d718",
   "metadata": {},
   "source": [
    "<div class=\"alert alert-warning\" role=\"alert\">\n",
    "\n",
    "Für einen differentialgetriebenen Roboter gilt:\n",
    "\n",
    "$\n",
    "\\begin{pmatrix} \\dot{\\varphi}_r \\\\ \\dot{\\varphi}_l  \\end{pmatrix} =\n",
    "\\frac{1}{r}\n",
    "\\begin{pmatrix} \n",
    "1 & 0 & +b \\\\\n",
    "1 & 0 & -b \\\\\n",
    "\\end{pmatrix}\n",
    "\\begin{pmatrix} \\dot{x}_\\mrm{R} \\\\ \\dot{y}_\\mrm{R} \\\\ \\dot{\\theta} \\\\ \\end{pmatrix}\n",
    "$ \n",
    "\n",
    "Die Radgeschwindigkeiten werden hier zur Verdeutlichung in der Einheit $\\unitrads$ angegeben. \n",
    "Richtig ist auch die Einheit $\\frac{1}{s}$.\n",
    "\n",
    "Strecke AB:\n",
    "\n",
    "$\n",
    "\\begin{pmatrix} \\dot{\\varphi}_r \\\\ \\dot{\\varphi}_l  \\end{pmatrix} =\n",
    "\\frac{1}{0,25\\mathrm{m}}\n",
    "\\begin{pmatrix} \n",
    "1 & 0 & +0,5\\mathrm{m} \\\\\n",
    "1 & 0 & -0,5\\mathrm{m} \\\\\n",
    "\\end{pmatrix}\n",
    "\\begin{pmatrix} 1\\unitms \\\\ 0 \\\\ 0,2\\unitrads \\\\ \\end{pmatrix}\n",
    "=\n",
    "\\begin{pmatrix} 4,4\\unitrads \\\\ 3,6\\unitrads  \\end{pmatrix}\n",
    "$ \n",
    " \n",
    "Strecke BC:\n",
    "\n",
    "$\n",
    "\\begin{pmatrix} \\dot{\\varphi}_r \\\\ \\dot{\\varphi}_l  \\end{pmatrix} =\n",
    "\\frac{1}{0,25\\mathrm{m}}\n",
    "\\begin{pmatrix} \n",
    "1 & 0 & +0,5\\mathrm{m} \\\\\n",
    "1 & 0 & -0,5\\mathrm{m} \\\\\n",
    "\\end{pmatrix}\n",
    "\\begin{pmatrix} 1\\unitms \\\\ 0 \\\\ 0 \\\\ \\end{pmatrix}\n",
    "=\n",
    "\\begin{pmatrix} 4\\unitrads \\\\ 4\\unitrads  \\end{pmatrix}\n",
    "$ "
   ]
  },
  {
   "cell_type": "markdown",
   "id": "6bccfc2d-8375-4553-aec9-955e09d74692",
   "metadata": {
    "tags": []
   },
   "source": [
    "### Ergänzen Sie den nachstehenden Code um Ihre Rechnung zu überprüfen"
   ]
  },
  {
   "cell_type": "code",
   "execution_count": 4,
   "id": "e8b332bd-1869-412c-b626-03aac09f1802",
   "metadata": {},
   "outputs": [
    {
     "data": {
      "text/latex": [
       "$\\displaystyle \\left[\\begin{matrix}\\dot{\\varphi}_{r}\\\\\\dot{\\varphi}_{l}\\end{matrix}\\right]$"
      ],
      "text/plain": [
       "⎡varṗhiᵣ⎤\n",
       "⎢       ⎥\n",
       "⎣varṗhiₗ⎦"
      ]
     },
     "metadata": {},
     "output_type": "display_data"
    },
    {
     "data": {
      "text/latex": [
       "$$\\begin{pmatrix} \\dot{\\varphi}_r \\\\ \\dot{\\varphi}_l  \\end{pmatrix} = \\left(\\begin{matrix}\\frac{d}{d t} \\varphi_{r}{\\left(t \\right)}\\\\\\frac{d}{d t} \\varphi_{l}{\\left(t \\right)}\\end{matrix}\\right)$$"
      ],
      "text/plain": [
       "<IPython.core.display.Latex object>"
      ]
     },
     "metadata": {},
     "output_type": "display_data"
    },
    {
     "data": {
      "text/latex": [
       "$$\\mathbf{R} = \\left(\\begin{matrix}\\frac{1}{r} & 0 & \\frac{b}{r}\\\\\\frac{1}{r} & 0 & - \\frac{b}{r}\\end{matrix}\\right)$$"
      ],
      "text/plain": [
       "<IPython.core.display.Latex object>"
      ]
     },
     "metadata": {},
     "output_type": "display_data"
    },
    {
     "data": {
      "text/latex": [
       "$\\displaystyle \\left[\\begin{matrix}\\dot{x}_{R}\\\\\\dot{y}_{R}\\\\\\dot{\\theta}\\end{matrix}\\right]$"
      ],
      "text/plain": [
       "⎡x_̇R⎤\n",
       "⎢   ⎥\n",
       "⎢y_̇R⎥\n",
       "⎢   ⎥\n",
       "⎣ θ̇ ⎦"
      ]
     },
     "metadata": {},
     "output_type": "display_data"
    },
    {
     "data": {
      "text/latex": [
       "$$\\begin{pmatrix} \\dot{x}_\\mathrm{R} \\\\ \\dot{y}_\\mathrm{R} \\\\ \\dot{\\theta}  \\end{pmatrix} = \\left(\\begin{matrix}\\frac{d}{d t} x_{R}{\\left(t \\right)}\\\\\\frac{d}{d t} y_{R}{\\left(t \\right)}\\\\\\frac{d}{d t} \\theta{\\left(t \\right)}\\end{matrix}\\right)$$"
      ],
      "text/plain": [
       "<IPython.core.display.Latex object>"
      ]
     },
     "metadata": {},
     "output_type": "display_data"
    },
    {
     "data": {
      "text/latex": [
       "$\\displaystyle 0.202030508910442$"
      ],
      "text/plain": [
       "0.202030508910442"
      ]
     },
     "metadata": {},
     "output_type": "display_data"
    },
    {
     "data": {
      "text/latex": [
       "$$\\begin{pmatrix} \\dot{\\varphi}_r \\\\ \\dot{\\varphi}_l  \\end{pmatrix}_\\mathrm{AB} = \\left(\\begin{matrix}4.40406101782088\\\\3.59593898217912\\end{matrix}\\right)$$"
      ],
      "text/plain": [
       "<IPython.core.display.Latex object>"
      ]
     },
     "metadata": {},
     "output_type": "display_data"
    },
    {
     "data": {
      "text/latex": [
       "$$\\begin{pmatrix} \\dot{\\varphi}_r \\\\ \\dot{\\varphi}_l  \\end{pmatrix}_\\mathrm{BC} = \\left(\\begin{matrix}4.0\\\\4.0\\end{matrix}\\right)$$"
      ],
      "text/plain": [
       "<IPython.core.display.Latex object>"
      ]
     },
     "metadata": {},
     "output_type": "display_data"
    }
   ],
   "source": [
    "r, b, t = symbols('r b t')\n",
    "phi_l, phi_r, xR, yR, theta = dynamicsymbols('varphi_l varphi_r x_R, y_R, theta')\n",
    "dphi_l = phi_l.diff(t)\n",
    "dphi_r = phi_r.diff(t)\n",
    "\n",
    "dphi = Matrix([dphi_r, dphi_l])\n",
    "display(dphi)\n",
    "display_latex_result('\\\\begin{pmatrix} \\\\dot{\\\\varphi}_r \\\\\\\\ \\\\dot{\\\\varphi}_l  \\\\end{pmatrix}', dphi)\n",
    "\n",
    "J = 1/r * Matrix([[1, 0, b],[1, 0, -b]])\n",
    "#display(R)\n",
    "display_latex_result('\\mathbf{R}', J)\n",
    "\n",
    "dxR = xR.diff(t)\n",
    "dyR = yR.diff(t)\n",
    "dtheta = theta.diff(t)\n",
    "dx = Matrix([dxR, dyR, dtheta])\n",
    "display(dx)\n",
    "display_latex_result('\\\\begin{pmatrix} \\\\dot{x}_\\\\mathrm{R} \\\\\\\\ \\\\dot{y}_\\\\mathrm{R} \\\\\\\\ \\\\dot{\\\\theta}  \\\\end{pmatrix}', dx)\n",
    "\n",
    "dphi = J * dx\n",
    "\n",
    "dthetaAB = (pi / sAB).evalf()\n",
    "display(dthetaAB)\n",
    "\n",
    "# Strecke AB\n",
    "dphiAB = dphi.subs({b:0.5, r:0.25, dtheta:dthetaAB, dxR:1})\n",
    "display_latex_result('\\\\begin{pmatrix} \\\\dot{\\\\varphi}_r \\\\\\\\ \\\\dot{\\\\varphi}_l  \\\\end{pmatrix}_\\mathrm{AB}', dphiAB)\n",
    "\n",
    "# Strecke BC\n",
    "dphiBC = dphi.subs({b:0.5, r:0.25, dtheta:0, dxR:1})\n",
    "display_latex_result('\\\\begin{pmatrix} \\\\dot{\\\\varphi}_r \\\\\\\\ \\\\dot{\\\\varphi}_l  \\\\end{pmatrix}_\\mathrm{BC}', dphiBC)"
   ]
  },
  {
   "cell_type": "markdown",
   "id": "9e8a7a2d-2c5f-497f-a585-42705587de88",
   "metadata": {
    "tags": []
   },
   "source": [
    "## Aufgabe 5.5"
   ]
  },
  {
   "cell_type": "markdown",
   "id": "119a9a4a-3231-4754-aa66-85bcd33c86ae",
   "metadata": {},
   "source": [
    "Welche Geschwindigkeiten in Weltkoordinaten ($\\mbf{v}_\\mathrm{W} = \\dot{\\mbf{x}}_\\mathrm{W} = (\\dot{x}_\\mathrm{W}, \\dot{y}_\\mathrm{W}, \\dot{\\theta})^\\mathrm{T}$)  über der Zeit\n",
    "ergeben sich?"
   ]
  },
  {
   "cell_type": "markdown",
   "id": "73fccd5f-ced1-473e-b645-aaef353e7315",
   "metadata": {
    "tags": []
   },
   "source": [
    "### Lösung:"
   ]
  },
  {
   "cell_type": "markdown",
   "id": "bc04a79c-38ec-4527-baf7-fcf6633d9118",
   "metadata": {},
   "source": [
    "<div class=\"alert alert-warning\" role=\"alert\">\n",
    "\n",
    "Vorwärtskinematik (von Roboter- in Weltkoordinaten): \n",
    "\n",
    "$\n",
    "\\left( \\begin{array}{c}\n",
    "\\dot{x}_\\mrm{W} \\\\\n",
    "\\dot{y}_\\mrm{W} \\\\\n",
    "\\dot{\\theta}\n",
    "\\end{array} \\right)\n",
    "= \\left( \\begin{array}{ccc}\n",
    "\\cos \\theta & -\\sin \\theta \\ & 0 \\\\\n",
    "\\sin \\theta & \\cos \\theta & 0 \\\\\n",
    "0 & 0 & 1\n",
    "\\end{array} \\right)\n",
    "\\cdot \\left( \\begin{array}{c}\n",
    "\\dot{x}_\\mrm{R} \\\\\n",
    "\\dot{y}_\\mrm{R} \\\\\n",
    "\\dot{\\theta}\n",
    "\\end{array} \\right)\n",
    "$\n",
    "\n",
    "Gerade Strecke:\n",
    "\n",
    "Berechnung der Bewegungsrichtung $\\alpha$ im Weltkkordinatensystem\n",
    "\n",
    "$\n",
    "\\alpha = \\mathrm{atan2}(\\Delta x, \\Delta y) =  \\mathrm{atan2}(18 - 11, 9 -2) = \\mathrm{atan2}(7, 7) = \\frac{\\pi}{2} = 45°\n",
    "$\n",
    "\n",
    "Beim Differentialantrieb entspricht die Orientierung $\\theta = \\alpha$ bei Vorwärtsfahrt\n",
    "\n",
    "$\n",
    "\\left( \\begin{array}{c}\n",
    "\\dot{x}_\\mrm{W} \\\\\n",
    "\\dot{y}_\\mrm{W} \\\\\n",
    "\\dot{\\theta}\n",
    "\\end{array} \\right)\n",
    "\\, = \\, \n",
    "\\left( \\begin{array}{ccc}\n",
    "\\cos 45\\tcdegree & -\\sin 45\\tcdegree \\ & 0 \\\\\n",
    "\\sin 45\\tcdegree & \\cos 45\\tcdegree & 0 \\\\\n",
    "0 & 0 & 1\n",
    "\\end{array} \\right)\n",
    "\\cdot \\left( \\begin{array}{c}\n",
    "1\\unitms \\\\\n",
    "0\\unitms\\\\\n",
    "0\\unitrads\n",
    "\\end{array} \\right) \n",
    "= \\left( \\begin{array}{c}\n",
    "0,707\\unitms \\\\\n",
    "0,707\\unitms\\\\\n",
    "0\\unitrads\n",
    "\\end{array} \\right)\n",
    "$\n",
    "\n",
    "\n",
    "Halbkreis: \n",
    "\n",
    "Der Roboter ändert auf dem Halbkreis seine Orientierung kontinuierlich zwischen $\\theta_\\mrm{A}$ und $\\theta_\\mrm{B}$.\n",
    "Die Orientierung ist deshalb eine Funktion der Zeit:\n",
    "$\n",
    "\\theta(t) = \\theta_\\mrm{A} + \\dot{\\theta} \\cdot t = -\\frac{3\\, \\pi}{4} + 0,2\\unitrads\\cdot t\n",
    "$\n",
    "\n",
    "$\n",
    "\\left( \\begin{array}{c}\n",
    "\\dot{x}_\\mrm{W} \\\\\n",
    "\\dot{y}_\\mrm{W} \\\\\n",
    "\\dot{\\theta}\n",
    "\\end{array} \\right)\n",
    "\\, = \\, \n",
    "\\left( \\begin{array}{ccc}\n",
    "\\cos(\\theta(t)) & -\\sin(\\theta(t)) \\ & 0 \\\\\n",
    "\\sin(\\theta(t)) & \\cos(\\theta(t)) & 0 \\\\\n",
    "0 & 0 & 1\n",
    "\\end{array} \\right)\n",
    "\\cdot \\left( \\begin{array}{c}\n",
    "1\\unitms \\\\\n",
    "0\\unitms\\\\\n",
    "0,2\\unitrads\n",
    "\\end{array} \\right) \n",
    "= \\left( \\begin{array}{c}\n",
    "\\cos(\\theta(t)) \\cdot 1\\unitms \\\\\n",
    "\\sin(\\theta(t)) \\cdot 1\\unitms\\\\\n",
    "0,2\\unitrads\n",
    "\\end{array} \\right) \n",
    "$\n",
    "\n",
    "</div>"
   ]
  },
  {
   "cell_type": "markdown",
   "id": "1cbcb664-5f04-49b0-bb9d-d2a7a1cff103",
   "metadata": {},
   "source": [
    "### Ergänzen Sie den nachstehenden Code um Ihre Rechnung zu überprüfen"
   ]
  },
  {
   "cell_type": "code",
   "execution_count": 5,
   "id": "ef17097d-4ab4-4b2c-9968-ecfa5cd8b37a",
   "metadata": {},
   "outputs": [
    {
     "data": {
      "text/latex": [
       "$$\\mathbf{R}(\\theta(t)) = \\left(\\begin{matrix}\\cos{\\left(\\theta{\\left(t \\right)} \\right)} & - \\sin{\\left(\\theta{\\left(t \\right)} \\right)} & 0\\\\\\sin{\\left(\\theta{\\left(t \\right)} \\right)} & \\cos{\\left(\\theta{\\left(t \\right)} \\right)} & 0\\\\0 & 0 & 1\\end{matrix}\\right)$$"
      ],
      "text/plain": [
       "<IPython.core.display.Latex object>"
      ]
     },
     "metadata": {},
     "output_type": "display_data"
    },
    {
     "data": {
      "text/latex": [
       "$$\\alpha = \\frac{\\pi}{4}$$"
      ],
      "text/plain": [
       "<IPython.core.display.Latex object>"
      ]
     },
     "metadata": {},
     "output_type": "display_data"
    },
    {
     "data": {
      "text/latex": [
       "$$\\mathbf{R}\\left(\\frac{\\pi}{4}\\right) = \\left(\\begin{matrix}\\frac{\\sqrt{2}}{2} & - \\frac{\\sqrt{2}}{2} & 0\\\\\\frac{\\sqrt{2}}{2} & \\frac{\\sqrt{2}}{2} & 0\\\\0 & 0 & 1\\end{matrix}\\right)$$"
      ],
      "text/plain": [
       "<IPython.core.display.Latex object>"
      ]
     },
     "metadata": {},
     "output_type": "display_data"
    },
    {
     "data": {
      "text/latex": [
       "$$\\begin{pmatrix} \\dot{x}_\\mathrm{W} \\\\ \\dot{y}_\\mathrm{W} \\\\ \\dot{\\theta}  \\end{pmatrix}_\\mrm{BC} = \\left(\\begin{matrix}\\frac{\\sqrt{2}}{2}\\\\\\frac{\\sqrt{2}}{2}\\\\0\\end{matrix}\\right)$$"
      ],
      "text/plain": [
       "<IPython.core.display.Latex object>"
      ]
     },
     "metadata": {},
     "output_type": "display_data"
    },
    {
     "data": {
      "text/latex": [
       "$$\\begin{pmatrix} \\dot{x}_\\mathrm{W} \\\\ \\dot{y}_\\mathrm{W} \\\\ \\dot{\\theta}  \\end{pmatrix}_\\mrm{BC} = \\left(\\begin{matrix}0.707106781186548\\\\0.707106781186548\\\\0\\end{matrix}\\right)$$"
      ],
      "text/plain": [
       "<IPython.core.display.Latex object>"
      ]
     },
     "metadata": {},
     "output_type": "display_data"
    },
    {
     "data": {
      "text/latex": [
       "$$\\begin{pmatrix} \\dot{x}_\\mathrm{W} \\\\ \\dot{y}_\\mathrm{W} \\\\ \\dot{\\theta}  \\end{pmatrix}_\\mrm{AB} = \\left(\\begin{matrix}\\cos{\\left(\\theta{\\left(t \\right)} \\right)}\\\\\\sin{\\left(\\theta{\\left(t \\right)} \\right)}\\\\0.2\\end{matrix}\\right)$$"
      ],
      "text/plain": [
       "<IPython.core.display.Latex object>"
      ]
     },
     "metadata": {},
     "output_type": "display_data"
    }
   ],
   "source": [
    "# Rotationsmatrix zur Umrechnung der Geschwindigkeiten von Roboterkoordinaten in Weltkoordinaten\n",
    "def rotz(theta):\n",
    "  R = Matrix([[cos(theta), -sin(theta), 0],\n",
    "              [sin(theta),  cos(theta), 0],\n",
    "              [         0,           0, 1]])\n",
    "  return R\n",
    "\n",
    "theta = dynamicsymbols('theta')\n",
    "display_latex_result('\\mathbf{R}(\\\\theta(t))', rotz(theta))\n",
    "\n",
    "# Strecke B -> C\n",
    "# Berechnung des Bahnwinkels\n",
    "DeltaCB = C - B\n",
    "alpha = atan2(DeltaCB[1], DeltaCB[1])\n",
    "display_latex_result('\\\\alpha', alpha)\n",
    "\n",
    "# Geschwindigkeiten des Roboters im Roboterkoordinatensystem\n",
    "dxR = Matrix([1, 0, 0])\n",
    "\n",
    "display_latex_result('\\mathbf{R}\\\\left(\\\\frac{\\\\pi}{4}\\\\right)', rotz(alpha))\n",
    "\n",
    "dxW = rotz(alpha) * dxR\n",
    "display_latex_result('\\\\begin{pmatrix} \\\\dot{x}_\\\\mathrm{W} \\\\\\\\ \\\\dot{y}_\\\\mathrm{W} \\\\\\\\ \\\\dot{\\\\theta}  \\\\end{pmatrix}_\\mrm{BC}', dxW)\n",
    "display_latex_result('\\\\begin{pmatrix} \\\\dot{x}_\\\\mathrm{W} \\\\\\\\ \\\\dot{y}_\\\\mathrm{W} \\\\\\\\ \\\\dot{\\\\theta}  \\\\end{pmatrix}_\\mrm{BC}', dxW.evalf())\n",
    "\n",
    "# Strecke A -> B, Halbkreis\n",
    "dxR = Matrix([1, 0, 0.2])\n",
    "dxW = rotz(theta) * dxR\n",
    "display_latex_result('\\\\begin{pmatrix} \\\\dot{x}_\\\\mathrm{W} \\\\\\\\ \\\\dot{y}_\\\\mathrm{W} \\\\\\\\ \\\\dot{\\\\theta}  \\\\end{pmatrix}_\\mrm{AB}', dxW)"
   ]
  },
  {
   "cell_type": "markdown",
   "id": "ba9d5002-2046-4870-a771-f0607f5e8727",
   "metadata": {},
   "source": [
    "## Animation des Roboters"
   ]
  },
  {
   "cell_type": "markdown",
   "id": "82f2c932-a073-4084-953e-63fdce5e4c77",
   "metadata": {},
   "source": [
    "Für die Animation des mobilen Roboters sind mehrere Pakete (matplotlib, ipympl, ipyfilechoose) erforderich, die in der requirements.txt angegeben sind:\n",
    "\n",
    "```\n",
    "pip install -r requirements.txt\n",
    "```"
   ]
  },
  {
   "cell_type": "code",
   "execution_count": 6,
   "id": "a56b3038-0bdc-41e1-a105-34b101d8fa75",
   "metadata": {},
   "outputs": [
    {
     "ename": "RuntimeError",
     "evalue": "'widget is not a recognised GUI loop or backend name",
     "output_type": "error",
     "traceback": [
      "\u001b[0;31m---------------------------------------------------------------------------\u001b[0m",
      "\u001b[0;31mRuntimeError\u001b[0m                              Traceback (most recent call last)",
      "File \u001b[0;32m~/.cache/pypoetry/virtualenvs/visualkinematics-IBCiuEDs-py3.10/lib/python3.10/site-packages/matplotlib/backends/registry.py:407\u001b[0m, in \u001b[0;36mBackendRegistry.resolve_gui_or_backend\u001b[0;34m(self, gui_or_backend)\u001b[0m\n\u001b[1;32m    406\u001b[0m \u001b[38;5;28;01mtry\u001b[39;00m:\n\u001b[0;32m--> 407\u001b[0m     \u001b[38;5;28;01mreturn\u001b[39;00m \u001b[38;5;28;43mself\u001b[39;49m\u001b[38;5;241;43m.\u001b[39;49m\u001b[43mresolve_backend\u001b[49m\u001b[43m(\u001b[49m\u001b[43mgui_or_backend\u001b[49m\u001b[43m)\u001b[49m\n\u001b[1;32m    408\u001b[0m \u001b[38;5;28;01mexcept\u001b[39;00m \u001b[38;5;167;01mException\u001b[39;00m:  \u001b[38;5;66;03m# KeyError ?\u001b[39;00m\n",
      "File \u001b[0;32m~/.cache/pypoetry/virtualenvs/visualkinematics-IBCiuEDs-py3.10/lib/python3.10/site-packages/matplotlib/backends/registry.py:369\u001b[0m, in \u001b[0;36mBackendRegistry.resolve_backend\u001b[0;34m(self, backend)\u001b[0m\n\u001b[1;32m    368\u001b[0m \u001b[38;5;28;01mif\u001b[39;00m gui \u001b[38;5;129;01mis\u001b[39;00m \u001b[38;5;28;01mNone\u001b[39;00m:\n\u001b[0;32m--> 369\u001b[0m     \u001b[38;5;28;01mraise\u001b[39;00m \u001b[38;5;167;01mRuntimeError\u001b[39;00m(\u001b[38;5;124mf\u001b[39m\u001b[38;5;124m\"\u001b[39m\u001b[38;5;124m'\u001b[39m\u001b[38;5;132;01m{\u001b[39;00mbackend\u001b[38;5;132;01m}\u001b[39;00m\u001b[38;5;124m'\u001b[39m\u001b[38;5;124m is not a recognised backend name\u001b[39m\u001b[38;5;124m\"\u001b[39m)\n\u001b[1;32m    371\u001b[0m \u001b[38;5;28;01mreturn\u001b[39;00m backend, gui \u001b[38;5;28;01mif\u001b[39;00m gui \u001b[38;5;241m!=\u001b[39m \u001b[38;5;124m\"\u001b[39m\u001b[38;5;124mheadless\u001b[39m\u001b[38;5;124m\"\u001b[39m \u001b[38;5;28;01melse\u001b[39;00m \u001b[38;5;28;01mNone\u001b[39;00m\n",
      "\u001b[0;31mRuntimeError\u001b[0m: 'widget' is not a recognised backend name",
      "\nDuring handling of the above exception, another exception occurred:\n",
      "\u001b[0;31mRuntimeError\u001b[0m                              Traceback (most recent call last)",
      "Cell \u001b[0;32mIn[6], line 1\u001b[0m\n\u001b[0;32m----> 1\u001b[0m \u001b[43mget_ipython\u001b[49m\u001b[43m(\u001b[49m\u001b[43m)\u001b[49m\u001b[38;5;241;43m.\u001b[39;49m\u001b[43mrun_line_magic\u001b[49m\u001b[43m(\u001b[49m\u001b[38;5;124;43m'\u001b[39;49m\u001b[38;5;124;43mmatplotlib\u001b[39;49m\u001b[38;5;124;43m'\u001b[39;49m\u001b[43m,\u001b[49m\u001b[43m \u001b[49m\u001b[38;5;124;43m'\u001b[39;49m\u001b[38;5;124;43mwidget\u001b[39;49m\u001b[38;5;124;43m'\u001b[39;49m\u001b[43m)\u001b[49m\n\u001b[1;32m      2\u001b[0m \u001b[38;5;28;01mfrom\u001b[39;00m \u001b[38;5;21;01mmobile_robot_differential\u001b[39;00m \u001b[38;5;28;01mimport\u001b[39;00m \u001b[38;5;241m*\u001b[39m\n\u001b[1;32m      4\u001b[0m fig \u001b[38;5;241m=\u001b[39m plt\u001b[38;5;241m.\u001b[39mfigure(figsize\u001b[38;5;241m=\u001b[39m(\u001b[38;5;241m10\u001b[39m, \u001b[38;5;241m14\u001b[39m))\n",
      "File \u001b[0;32m~/.cache/pypoetry/virtualenvs/visualkinematics-IBCiuEDs-py3.10/lib/python3.10/site-packages/IPython/core/interactiveshell.py:2480\u001b[0m, in \u001b[0;36mInteractiveShell.run_line_magic\u001b[0;34m(self, magic_name, line, _stack_depth)\u001b[0m\n\u001b[1;32m   2478\u001b[0m     kwargs[\u001b[38;5;124m'\u001b[39m\u001b[38;5;124mlocal_ns\u001b[39m\u001b[38;5;124m'\u001b[39m] \u001b[38;5;241m=\u001b[39m \u001b[38;5;28mself\u001b[39m\u001b[38;5;241m.\u001b[39mget_local_scope(stack_depth)\n\u001b[1;32m   2479\u001b[0m \u001b[38;5;28;01mwith\u001b[39;00m \u001b[38;5;28mself\u001b[39m\u001b[38;5;241m.\u001b[39mbuiltin_trap:\n\u001b[0;32m-> 2480\u001b[0m     result \u001b[38;5;241m=\u001b[39m \u001b[43mfn\u001b[49m\u001b[43m(\u001b[49m\u001b[38;5;241;43m*\u001b[39;49m\u001b[43margs\u001b[49m\u001b[43m,\u001b[49m\u001b[43m \u001b[49m\u001b[38;5;241;43m*\u001b[39;49m\u001b[38;5;241;43m*\u001b[39;49m\u001b[43mkwargs\u001b[49m\u001b[43m)\u001b[49m\n\u001b[1;32m   2482\u001b[0m \u001b[38;5;66;03m# The code below prevents the output from being displayed\u001b[39;00m\n\u001b[1;32m   2483\u001b[0m \u001b[38;5;66;03m# when using magics with decorator @output_can_be_silenced\u001b[39;00m\n\u001b[1;32m   2484\u001b[0m \u001b[38;5;66;03m# when the last Python token in the expression is a ';'.\u001b[39;00m\n\u001b[1;32m   2485\u001b[0m \u001b[38;5;28;01mif\u001b[39;00m \u001b[38;5;28mgetattr\u001b[39m(fn, magic\u001b[38;5;241m.\u001b[39mMAGIC_OUTPUT_CAN_BE_SILENCED, \u001b[38;5;28;01mFalse\u001b[39;00m):\n",
      "File \u001b[0;32m~/.cache/pypoetry/virtualenvs/visualkinematics-IBCiuEDs-py3.10/lib/python3.10/site-packages/IPython/core/magics/pylab.py:103\u001b[0m, in \u001b[0;36mPylabMagics.matplotlib\u001b[0;34m(self, line)\u001b[0m\n\u001b[1;32m     98\u001b[0m     \u001b[38;5;28mprint\u001b[39m(\n\u001b[1;32m     99\u001b[0m         \u001b[38;5;124m\"\u001b[39m\u001b[38;5;124mAvailable matplotlib backends: \u001b[39m\u001b[38;5;132;01m%s\u001b[39;00m\u001b[38;5;124m\"\u001b[39m\n\u001b[1;32m    100\u001b[0m         \u001b[38;5;241m%\u001b[39m _list_matplotlib_backends_and_gui_loops()\n\u001b[1;32m    101\u001b[0m     )\n\u001b[1;32m    102\u001b[0m \u001b[38;5;28;01melse\u001b[39;00m:\n\u001b[0;32m--> 103\u001b[0m     gui, backend \u001b[38;5;241m=\u001b[39m \u001b[38;5;28;43mself\u001b[39;49m\u001b[38;5;241;43m.\u001b[39;49m\u001b[43mshell\u001b[49m\u001b[38;5;241;43m.\u001b[39;49m\u001b[43menable_matplotlib\u001b[49m\u001b[43m(\u001b[49m\u001b[43margs\u001b[49m\u001b[38;5;241;43m.\u001b[39;49m\u001b[43mgui\u001b[49m\u001b[43m)\u001b[49m\n\u001b[1;32m    104\u001b[0m     \u001b[38;5;28mself\u001b[39m\u001b[38;5;241m.\u001b[39m_show_matplotlib_backend(args\u001b[38;5;241m.\u001b[39mgui, backend)\n",
      "File \u001b[0;32m~/.cache/pypoetry/virtualenvs/visualkinematics-IBCiuEDs-py3.10/lib/python3.10/site-packages/IPython/core/interactiveshell.py:3665\u001b[0m, in \u001b[0;36mInteractiveShell.enable_matplotlib\u001b[0;34m(self, gui)\u001b[0m\n\u001b[1;32m   3662\u001b[0m     \u001b[38;5;28;01mimport\u001b[39;00m \u001b[38;5;21;01mmatplotlib_inline\u001b[39;00m\u001b[38;5;21;01m.\u001b[39;00m\u001b[38;5;21;01mbackend_inline\u001b[39;00m\n\u001b[1;32m   3664\u001b[0m \u001b[38;5;28;01mfrom\u001b[39;00m \u001b[38;5;21;01mIPython\u001b[39;00m\u001b[38;5;21;01m.\u001b[39;00m\u001b[38;5;21;01mcore\u001b[39;00m \u001b[38;5;28;01mimport\u001b[39;00m pylabtools \u001b[38;5;28;01mas\u001b[39;00m pt\n\u001b[0;32m-> 3665\u001b[0m gui, backend \u001b[38;5;241m=\u001b[39m \u001b[43mpt\u001b[49m\u001b[38;5;241;43m.\u001b[39;49m\u001b[43mfind_gui_and_backend\u001b[49m\u001b[43m(\u001b[49m\u001b[43mgui\u001b[49m\u001b[43m,\u001b[49m\u001b[43m \u001b[49m\u001b[38;5;28;43mself\u001b[39;49m\u001b[38;5;241;43m.\u001b[39;49m\u001b[43mpylab_gui_select\u001b[49m\u001b[43m)\u001b[49m\n\u001b[1;32m   3667\u001b[0m \u001b[38;5;28;01mif\u001b[39;00m gui \u001b[38;5;241m!=\u001b[39m \u001b[38;5;28;01mNone\u001b[39;00m:\n\u001b[1;32m   3668\u001b[0m     \u001b[38;5;66;03m# If we have our first gui selection, store it\u001b[39;00m\n\u001b[1;32m   3669\u001b[0m     \u001b[38;5;28;01mif\u001b[39;00m \u001b[38;5;28mself\u001b[39m\u001b[38;5;241m.\u001b[39mpylab_gui_select \u001b[38;5;129;01mis\u001b[39;00m \u001b[38;5;28;01mNone\u001b[39;00m:\n",
      "File \u001b[0;32m~/.cache/pypoetry/virtualenvs/visualkinematics-IBCiuEDs-py3.10/lib/python3.10/site-packages/IPython/core/pylabtools.py:349\u001b[0m, in \u001b[0;36mfind_gui_and_backend\u001b[0;34m(gui, gui_select)\u001b[0m\n\u001b[1;32m    347\u001b[0m \u001b[38;5;28;01melse\u001b[39;00m:\n\u001b[1;32m    348\u001b[0m     gui \u001b[38;5;241m=\u001b[39m _convert_gui_to_matplotlib(gui)\n\u001b[0;32m--> 349\u001b[0m     backend, gui \u001b[38;5;241m=\u001b[39m \u001b[43mbackend_registry\u001b[49m\u001b[38;5;241;43m.\u001b[39;49m\u001b[43mresolve_gui_or_backend\u001b[49m\u001b[43m(\u001b[49m\u001b[43mgui\u001b[49m\u001b[43m)\u001b[49m\n\u001b[1;32m    351\u001b[0m gui \u001b[38;5;241m=\u001b[39m _convert_gui_from_matplotlib(gui)\n\u001b[1;32m    352\u001b[0m \u001b[38;5;28;01mreturn\u001b[39;00m gui, backend\n",
      "File \u001b[0;32m~/.cache/pypoetry/virtualenvs/visualkinematics-IBCiuEDs-py3.10/lib/python3.10/site-packages/matplotlib/backends/registry.py:409\u001b[0m, in \u001b[0;36mBackendRegistry.resolve_gui_or_backend\u001b[0;34m(self, gui_or_backend)\u001b[0m\n\u001b[1;32m    407\u001b[0m     \u001b[38;5;28;01mreturn\u001b[39;00m \u001b[38;5;28mself\u001b[39m\u001b[38;5;241m.\u001b[39mresolve_backend(gui_or_backend)\n\u001b[1;32m    408\u001b[0m \u001b[38;5;28;01mexcept\u001b[39;00m \u001b[38;5;167;01mException\u001b[39;00m:  \u001b[38;5;66;03m# KeyError ?\u001b[39;00m\n\u001b[0;32m--> 409\u001b[0m     \u001b[38;5;28;01mraise\u001b[39;00m \u001b[38;5;167;01mRuntimeError\u001b[39;00m(\n\u001b[1;32m    410\u001b[0m         \u001b[38;5;124mf\u001b[39m\u001b[38;5;124m\"\u001b[39m\u001b[38;5;124m'\u001b[39m\u001b[38;5;132;01m{\u001b[39;00mgui_or_backend\u001b[38;5;132;01m}\u001b[39;00m\u001b[38;5;124m is not a recognised GUI loop or backend name\u001b[39m\u001b[38;5;124m\"\u001b[39m)\n",
      "\u001b[0;31mRuntimeError\u001b[0m: 'widget is not a recognised GUI loop or backend name"
     ]
    }
   ],
   "source": [
    "%matplotlib widget\n",
    "from mobile_robot_differential import *\n",
    "\n",
    "fig = plt.figure(figsize=(10, 14))\n",
    "\n",
    "points = [[4.0, 9.0], [11.0, 2.0], [18.0, 9.0]]\n",
    "\n",
    "anim = differential_drive_rob_animation(fig, points, delta_v=1, delta_theta=0.2, r_val=0.25, b_val=0.5, rob=True, wheels=True)\n",
    "#anim.save(\"differential_drive_rob_wheel_vel.gif\")"
   ]
  },
  {
   "cell_type": "code",
   "execution_count": null,
   "id": "8ec36967-7d70-4514-93f5-018d234e67a7",
   "metadata": {},
   "outputs": [],
   "source": []
  },
  {
   "cell_type": "code",
   "execution_count": null,
   "id": "51938684-a40f-47d7-a702-66387bc3d415",
   "metadata": {},
   "outputs": [],
   "source": []
  }
 ],
 "metadata": {
  "kernelspec": {
   "display_name": "Python 3 (ipykernel)",
   "language": "python",
   "name": "python3"
  },
  "language_info": {
   "codemirror_mode": {
    "name": "ipython",
    "version": 3
   },
   "file_extension": ".py",
   "mimetype": "text/x-python",
   "name": "python",
   "nbconvert_exporter": "python",
   "pygments_lexer": "ipython3",
   "version": "3.10.0"
  }
 },
 "nbformat": 4,
 "nbformat_minor": 5
}
