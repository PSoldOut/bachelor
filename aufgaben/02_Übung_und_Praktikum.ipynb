{
 "cells": [
  {
   "cell_type": "markdown",
   "id": "19e5b4f4",
   "metadata": {
    "tags": []
   },
   "source": [
    "# Praktikum 2: Berechnungen mit Vektoren und Matritzen"
   ]
  },
  {
   "cell_type": "markdown",
   "id": "87ecf0bf",
   "metadata": {},
   "source": [
    "Für dieses Praktikum wird das Modul sympy benötigt. Dieses muss vorher gegebenenfalls über das Terminal installiert werden.\n",
    "\n",
    "```\n",
    "pip install sympy\n",
    "```\n",
    "\n",
    "Anschließend kann das Modul importiert werden.\n",
    "\n",
    "Für die Darstellung wird zudem das Modul IPython.display verwendet."
   ]
  },
  {
   "cell_type": "code",
   "execution_count": 4,
   "id": "2bb99bca",
   "metadata": {},
   "outputs": [],
   "source": [
    "from sympy import *\n",
    "from IPython.display import display, Math, Latex\n",
    "init_printing(use_latex='mathjax')"
   ]
  },
  {
   "cell_type": "markdown",
   "id": "e77aaa70-984f-4308-8285-0fab7af997a6",
   "metadata": {},
   "source": [
    "$\\newcommand{\\mbf}{\\mathbf}$\n",
    "$\\newcommand{\\mrm}{\\mathrm}$\n",
    "\n",
    "Gegeben sind zwei Vektoren $\\mbf{x}$ und $\\mbf{y}$ sowie eine Rotationsmatrix $\\mbf{A}$:\n",
    "\n",
    "$\n",
    "\\mbf{x} =\n",
    "\\begin{pmatrix}\n",
    "1 \\\\\n",
    "2 \\\\\n",
    "3\n",
    "\\end{pmatrix}\n",
    "\\; , \\quad\n",
    "%\n",
    "\\mbf{y} =\n",
    "\\left(\n",
    "\\begin{array}{c}\n",
    "3 \\\\\n",
    "2 \\\\\n",
    "1\n",
    "\\end{array}\n",
    "\\right)\\; , \\quad\n",
    "%\n",
    "\\mbf{A} = \\frac{1}{2}\\left(\\begin{array}{ccc}\n",
    "2 & 0 & 0 \\\\\n",
    "0 & \\sqrt {3} & 1 \\\\\n",
    "0 &  -1 &  \\sqrt {3} \n",
    "\\end{array}\\right)\n",
    "$"
   ]
  },
  {
   "cell_type": "code",
   "execution_count": 6,
   "id": "3f55d5a5-56c6-4d2c-8cf5-2279e7262247",
   "metadata": {},
   "outputs": [
    {
     "data": {
      "text/latex": [
       "$$\\mbf{x} = \\left(\\begin{matrix}1\\\\2\\\\3\\end{matrix}\\right)$$"
      ],
      "text/plain": [
       "<IPython.core.display.Latex object>"
      ]
     },
     "metadata": {},
     "output_type": "display_data"
    },
    {
     "data": {
      "text/latex": [
       "$$\\mbf{y} = \\left(\\begin{matrix}3\\\\2\\\\1\\end{matrix}\\right)$$"
      ],
      "text/plain": [
       "<IPython.core.display.Latex object>"
      ]
     },
     "metadata": {},
     "output_type": "display_data"
    },
    {
     "data": {
      "text/latex": [
       "$$\\mbf{A} = \\left(\\begin{matrix}1.0 & 0 & 0\\\\0 & 0.5 \\sqrt{3} & 0.5\\\\0 & -0.5 & 0.5 \\sqrt{3}\\end{matrix}\\right)$$"
      ],
      "text/plain": [
       "<IPython.core.display.Latex object>"
      ]
     },
     "metadata": {},
     "output_type": "display_data"
    }
   ],
   "source": [
    "# helper function for latex pretty printing\n",
    "def display_latex_result(a, b=None):\n",
    "  if b is None:\n",
    "    res = \"$${}$$\".format(a)\n",
    "  else:\n",
    "    res = \"$${} = {}$$\".format(a, latex(b, mat_delim='('))\n",
    "  display(Latex(res))\n",
    "\n",
    "# definition of x, y, A\n",
    "x = Matrix([1, 2, 3])\n",
    "display_latex_result('\\mbf{x}', x)\n",
    "\n",
    "y = Matrix([3, 2, 1])\n",
    "display_latex_result('\\mbf{y}', y)\n",
    "\n",
    "A = 1/2 * Matrix([[2,       0,       0], \n",
    "                  [0, sqrt(3),       1], \n",
    "                  [0,      -1, sqrt(3)]\n",
    "                 ])\n",
    "display_latex_result('\\mbf{A}', A)"
   ]
  },
  {
   "cell_type": "markdown",
   "id": "7a11631c-198e-4b9e-914c-90d5ffabccd3",
   "metadata": {
    "tags": []
   },
   "source": [
    "## Aufgabe 2.1"
   ]
  },
  {
   "cell_type": "markdown",
   "id": "14033f1c-7d6f-4d26-a3de-c97896bdfcbd",
   "metadata": {},
   "source": [
    "Berechnen Sie die Summation  $\\mbf{x} + \\mbf{y}$ und die Subtraktion $\\mbf{x} - \\mbf{y}$ von Hand."
   ]
  },
  {
   "cell_type": "markdown",
   "id": "ec4a3592-097d-4563-bbb5-f1b75758c689",
   "metadata": {},
   "source": [
    "Überprüfen Sie Ihr Ergebnis durch die Eränzung des folgenden Codes."
   ]
  },
  {
   "cell_type": "code",
   "execution_count": 3,
   "id": "dbf8904c-e946-404a-a40d-3289adebe200",
   "metadata": {},
   "outputs": [
    {
     "data": {
      "text/latex": [
       "$$\\mbf{x} + \\mbf{y} = \\left(\\begin{matrix}4\\\\4\\\\4\\end{matrix}\\right)$$"
      ],
      "text/plain": [
       "<IPython.core.display.Latex object>"
      ]
     },
     "metadata": {},
     "output_type": "display_data"
    },
    {
     "data": {
      "text/latex": [
       "$$\\mbf{x} - \\mbf{y} = \\left(\\begin{matrix}-2\\\\0\\\\2\\end{matrix}\\right)$$"
      ],
      "text/plain": [
       "<IPython.core.display.Latex object>"
      ]
     },
     "metadata": {},
     "output_type": "display_data"
    }
   ],
   "source": [
    "res = x + y\n",
    "display_latex_result('\\mbf{x} + \\mbf{y}', res)\n",
    "\n",
    "res = x - y\n",
    "display_latex_result('\\mbf{x} - \\mbf{y}', res)"
   ]
  },
  {
   "cell_type": "markdown",
   "id": "c82a0fad-6bf0-4290-bf48-fb9880760015",
   "metadata": {
    "tags": []
   },
   "source": [
    "## Aufgabe 2.2"
   ]
  },
  {
   "cell_type": "markdown",
   "id": "0b904a05-5572-43c8-9f17-2fb1b5ced6a8",
   "metadata": {},
   "source": [
    "Berechnen Sie das Skalarprodukt $\\mbf{x} \\cdot \\mbf{y}$ und das Kreuzprodukt $\\mbf{x} \\times \\mbf{y}$ von Hand."
   ]
  },
  {
   "cell_type": "markdown",
   "id": "ccfa4627-2bac-411d-9e06-70a92263db08",
   "metadata": {},
   "source": [
    "Überprüfen Sie Ihr Ergebnis durch die Eränzung des folgenden Codes."
   ]
  },
  {
   "cell_type": "code",
   "execution_count": 4,
   "id": "1f9eeca3-e799-4f06-a9c7-a7230365cbb6",
   "metadata": {},
   "outputs": [
    {
     "data": {
      "text/latex": [
       "$$\\mbf{x} \\cdot \\mbf{y} = 10$$"
      ],
      "text/plain": [
       "<IPython.core.display.Latex object>"
      ]
     },
     "metadata": {},
     "output_type": "display_data"
    },
    {
     "data": {
      "text/latex": [
       "$$\\mbf{x} \\times \\mbf{y} = \\left(\\begin{matrix}-4\\\\8\\\\-4\\end{matrix}\\right)$$"
      ],
      "text/plain": [
       "<IPython.core.display.Latex object>"
      ]
     },
     "metadata": {},
     "output_type": "display_data"
    }
   ],
   "source": [
    "# dot product\n",
    "res = x.dot(y)\n",
    "display_latex_result('\\mbf{x} \\\\cdot \\mbf{y}', res)\n",
    "\n",
    "# cross product\n",
    "res = x.cross(y)\n",
    "display_latex_result('\\mbf{x} \\\\times \\mbf{y}', res)"
   ]
  },
  {
   "cell_type": "markdown",
   "id": "0e785220-db75-43d8-b192-67d4fd7d3a64",
   "metadata": {
    "tags": []
   },
   "source": [
    "## Aufgabe 2.3"
   ]
  },
  {
   "cell_type": "markdown",
   "id": "c06fbd55-5705-4ee8-85a1-98c6c3cae950",
   "metadata": {},
   "source": [
    "Berechnen Sie die Beträge (Längen) $|\\mbf{x}|$ und $|\\mbf{y}|$ von Hand."
   ]
  },
  {
   "cell_type": "markdown",
   "id": "c5d91060-aa05-4eb4-af62-5c8375b231e4",
   "metadata": {},
   "source": [
    "Überprüfen Sie Ihr Ergebnis durch die Eränzung des folgenden Codes. Hinweis: $|\\mbf{x}| = \\sqrt{\\mbf{x}^\\mrm{T} \\cdot \\mbf{x}}$ "
   ]
  },
  {
   "cell_type": "code",
   "execution_count": 5,
   "id": "a9a20ed7-1f33-46a9-b883-660ff6ccd0f2",
   "metadata": {},
   "outputs": [
    {
     "data": {
      "text/latex": [
       "$$|\\mbf{x}| = \\sqrt{14}$$"
      ],
      "text/plain": [
       "<IPython.core.display.Latex object>"
      ]
     },
     "metadata": {},
     "output_type": "display_data"
    },
    {
     "data": {
      "text/latex": [
       "$$|\\mbf{y}| = \\sqrt{14}$$"
      ],
      "text/plain": [
       "<IPython.core.display.Latex object>"
      ]
     },
     "metadata": {},
     "output_type": "display_data"
    }
   ],
   "source": [
    "norm_x = x.T*x\n",
    "norm_x = sqrt(norm_x[0,0])\n",
    "display_latex_result('|\\mbf{x}|', norm_x)\n",
    "\n",
    "norm_y = y.T*y\n",
    "norm_y = sqrt(norm_y[0,0])\n",
    "display_latex_result('|\\mbf{y}|', norm_y)"
   ]
  },
  {
   "cell_type": "markdown",
   "id": "05d3e3f3-503a-4233-84a3-14d468e700d2",
   "metadata": {
    "tags": []
   },
   "source": [
    "## Aufgabe 2.4"
   ]
  },
  {
   "cell_type": "markdown",
   "id": "618e63f9-9c6d-4993-a2a2-77b229f556c9",
   "metadata": {},
   "source": [
    "Berechnen Sie den eingeschlossenen Winkel zwischen den Vektoren $\\phi = \\angle (\\mbf{x}, \\mbf{y})$ von Hand.\n",
    "\n",
    "Hinweis: $\\displaystyle{\\cos\\phi = \\frac{\\mbf{x} \\cdot \\mbf{y}}{|\\mbf{x}| \\cdot |\\mbf{y}|}}$"
   ]
  },
  {
   "cell_type": "markdown",
   "id": "714d62f5-05e3-40fc-bf68-e465d1f293ea",
   "metadata": {},
   "source": [
    "Überprüfen Sie Ihr Ergebnis durch die Eränzung des folgenden Codes."
   ]
  },
  {
   "cell_type": "code",
   "execution_count": 6,
   "id": "e2d0c752-46ca-4ce0-a975-2aaaf30efb2b",
   "metadata": {},
   "outputs": [
    {
     "data": {
      "text/latex": [
       "$$\\phi = 0.775193373310361$$"
      ],
      "text/plain": [
       "<IPython.core.display.Latex object>"
      ]
     },
     "metadata": {},
     "output_type": "display_data"
    }
   ],
   "source": [
    "x_len = x.T*x\n",
    "x_len = sqrt(x_len[0,0])\n",
    "y_len = y.T*y\n",
    "y_len = sqrt(y_len[0,0])\n",
    "res = x.dot(y) / (x_len * y_len)\n",
    "res = acos(res)\n",
    "display_latex_result('\\phi', res.evalf())"
   ]
  },
  {
   "cell_type": "markdown",
   "id": "b0f1ea48-e2bc-48f4-b359-d729d05c7fc5",
   "metadata": {
    "tags": []
   },
   "source": [
    "## Aufgabe 2.5"
   ]
  },
  {
   "cell_type": "markdown",
   "id": "978a825d-f1c7-49f6-90c5-ce4fa0cb1d8b",
   "metadata": {},
   "source": [
    "Berechnen Sie die Rotationen $\\mbf{A} \\cdot \\mbf{x}$ und $\\mbf{A} \\cdot \\mbf{y}$ von Hand."
   ]
  },
  {
   "cell_type": "markdown",
   "id": "5f8d7ce9-2133-4c4e-8e3b-0ac3faa88aff",
   "metadata": {},
   "source": [
    "Überprüfen Sie Ihr Ergebnis durch die Eränzung des folgenden Codes."
   ]
  },
  {
   "cell_type": "code",
   "execution_count": 8,
   "id": "fc6e2b37-048a-4f0e-9a80-b5ef0a880fd8",
   "metadata": {},
   "outputs": [
    {
     "data": {
      "text/latex": [
       "$\\displaystyle \\left[\\begin{matrix}1.0 & 0 & 0\\\\0 & 0.5 \\sqrt{3} & 0.5\\\\0 & -0.5 & 0.5 \\sqrt{3}\\end{matrix}\\right]$"
      ],
      "text/plain": [
       "⎡1.0    0       0   ⎤\n",
       "⎢                   ⎥\n",
       "⎢ 0   0.5⋅√3   0.5  ⎥\n",
       "⎢                   ⎥\n",
       "⎣ 0    -0.5   0.5⋅√3⎦"
      ]
     },
     "metadata": {},
     "output_type": "display_data"
    },
    {
     "data": {
      "text/latex": [
       "$$\\mbf{A} \\cdot \\mbf{x} = \\left(\\begin{matrix}1.0\\\\1.5 + 1.0 \\sqrt{3}\\\\-1.0 + 1.5 \\sqrt{3}\\end{matrix}\\right)$$"
      ],
      "text/plain": [
       "<IPython.core.display.Latex object>"
      ]
     },
     "metadata": {},
     "output_type": "display_data"
    },
    {
     "data": {
      "text/latex": [
       "$$\\mbf{A} \\cdot \\mbf{x} = \\left(\\begin{matrix}1.0\\\\3.23205080756888\\\\1.59807621135332\\end{matrix}\\right)$$"
      ],
      "text/plain": [
       "<IPython.core.display.Latex object>"
      ]
     },
     "metadata": {},
     "output_type": "display_data"
    },
    {
     "data": {
      "text/latex": [
       "$$\\mbf{A} \\cdot \\mbf{y} = \\left(\\begin{matrix}3.0\\\\0.5 + 1.0 \\sqrt{3}\\\\-1.0 + 0.5 \\sqrt{3}\\end{matrix}\\right)$$"
      ],
      "text/plain": [
       "<IPython.core.display.Latex object>"
      ]
     },
     "metadata": {},
     "output_type": "display_data"
    },
    {
     "data": {
      "text/latex": [
       "$$\\mbf{A} \\cdot \\mbf{y} = \\left(\\begin{matrix}3.0\\\\2.23205080756888\\\\-0.133974596215561\\end{matrix}\\right)$$"
      ],
      "text/plain": [
       "<IPython.core.display.Latex object>"
      ]
     },
     "metadata": {},
     "output_type": "display_data"
    }
   ],
   "source": [
    "res = A * x\n",
    "display(A)\n",
    "display_latex_result('\\mbf{A} \\\\cdot \\mbf{x}', res)\n",
    "display_latex_result('\\mbf{A} \\\\cdot \\mbf{x}', res.evalf())\n",
    "\n",
    "res = A * y\n",
    "display_latex_result('\\mbf{A} \\\\cdot \\mbf{y}', res)\n",
    "display_latex_result('\\mbf{A} \\\\cdot \\mbf{y}', res.evalf())"
   ]
  },
  {
   "cell_type": "markdown",
   "id": "c99471f6-d0c6-4a07-9961-2306e2598f96",
   "metadata": {
    "tags": []
   },
   "source": [
    "## Aufgabe 2.6"
   ]
  },
  {
   "cell_type": "markdown",
   "id": "9f6bd49f-c002-4766-91d9-159c9929bea9",
   "metadata": {},
   "source": [
    "Stellen Sie die Rotationsmatritzen $\\mbf{R}_x := \\mbf{R}(x, 30°)$, $\\mbf{R}_y := \\mbf{R}(y, 90°$ und $\\mbf{R}_z := \\mbf{R}(z, -90°)$ von Hand auf (siehe Vorlesung Basisrotationen)."
   ]
  },
  {
   "cell_type": "code",
   "execution_count": null,
   "id": "69b12932-947d-448d-9cf5-e57258347830",
   "metadata": {},
   "outputs": [],
   "source": [
    "def rotx(alpha):\n",
    "  Rx = Matrix([[ 1,          0,           0],\n",
    "               [ 0, cos(alpha), -sin(alpha)],\n",
    "               [ 0, sin(alpha),  cos(alpha)]\n",
    "              ])\n",
    "  return Rx\n",
    "\n",
    "def roty(beta):\n",
    "  Ry = Matrix([[ cos(beta),  0, sin(beta)],\n",
    "               [ 0,          1,         0],\n",
    "               [-sin(beta),  0, cos(beta)]\n",
    "              ])\n",
    "  return Ry\n",
    "\n",
    "def rotz(gamma):\n",
    "  Rz = Matrix([[ cos(gamma), -sin(gamma), 0],\n",
    "               [ sin(gamma),  cos(gamma), 0],\n",
    "               [ 0,          0,           1],\n",
    "              ])\n",
    "  return Rz\n",
    "\n",
    "alpha, beta, gamma = symbols('alpha beta gamma')\n",
    "display_latex_result('\\mbf{R}_x', rotx(alpha))\n",
    "display_latex_result('\\mbf{R}_y', roty(beta))\n",
    "display_latex_result('\\mbf{R}_z', rotz(gamma))"
   ]
  },
  {
   "cell_type": "markdown",
   "id": "e10cd632-e473-4a20-8b4b-a473de0c21f3",
   "metadata": {},
   "source": [
    "Ergänzen Sie den nachfolgenden Code um Ihr Ergebnis zu überprüfen:"
   ]
  },
  {
   "cell_type": "code",
   "execution_count": null,
   "id": "22537df1-6568-4ce0-b117-fca4c9eeae75",
   "metadata": {},
   "outputs": [],
   "source": [
    "# conversion constant\n",
    "deg2rad = pi/180\n",
    "\n",
    "Rx = \n",
    "display_latex_result('\\mbf{R}(x, 30°)', Rx)\n",
    "\n",
    "Ry = \n",
    "display_latex_result('\\mbf{R}(y, 90°)', Ry)\n",
    "\n",
    "Rz = \n",
    "display_latex_result('\\mbf{R}(z, -90°)', Rz)"
   ]
  },
  {
   "cell_type": "markdown",
   "id": "8d8b6204-8c00-49e3-b4bd-43697998a8e0",
   "metadata": {
    "tags": []
   },
   "source": [
    "## Aufgabe 2.7"
   ]
  },
  {
   "cell_type": "markdown",
   "id": "04f9b568-ecd1-4d3c-af25-35d236b5c039",
   "metadata": {},
   "source": [
    "Stellen Sie Gesamtrotationsmatrix \n",
    "$\\mbf{R}_G \\,=\\, \\mbf{R}_z \\mbf{R}_y \\mbf{R}_x$ auf."
   ]
  },
  {
   "cell_type": "code",
   "execution_count": null,
   "id": "6344f71e-27fa-49c1-9700-23c2738f1ed1",
   "metadata": {},
   "outputs": [],
   "source": [
    "Rg = \n",
    "display_latex_result('\\mbf{R}_g', Rg)"
   ]
  }
 ],
 "metadata": {
  "kernelspec": {
   "display_name": "Python 3 (ipykernel)",
   "language": "python",
   "name": "python3"
  },
  "language_info": {
   "codemirror_mode": {
    "name": "ipython",
    "version": 3
   },
   "file_extension": ".py",
   "mimetype": "text/x-python",
   "name": "python",
   "nbconvert_exporter": "python",
   "pygments_lexer": "ipython3",
   "version": "3.10.0"
  }
 },
 "nbformat": 4,
 "nbformat_minor": 5
}
