{
 "cells": [
  {
   "cell_type": "code",
   "execution_count": 8,
   "id": "a023875e-455f-4403-ab33-1a94890df89a",
   "metadata": {},
   "outputs": [
    {
     "ename": "ModuleNotFoundError",
     "evalue": "No module named 'matplotlib'",
     "output_type": "error",
     "traceback": [
      "\u001b[1;31m---------------------------------------------------------------------------\u001b[0m",
      "\u001b[1;31mModuleNotFoundError\u001b[0m                       Traceback (most recent call last)",
      "Cell \u001b[1;32mIn[8], line 3\u001b[0m\n\u001b[0;32m      1\u001b[0m \u001b[38;5;28;01mfrom\u001b[39;00m \u001b[38;5;21;01msympy\u001b[39;00m \u001b[38;5;28;01mimport\u001b[39;00m \u001b[38;5;241m*\u001b[39m\n\u001b[0;32m      2\u001b[0m \u001b[38;5;28;01mimport\u001b[39;00m \u001b[38;5;21;01mnumpy\u001b[39;00m \u001b[38;5;28;01mas\u001b[39;00m \u001b[38;5;21;01mnp\u001b[39;00m\n\u001b[1;32m----> 3\u001b[0m \u001b[38;5;28;01mimport\u001b[39;00m \u001b[38;5;21;01mmatplotlib\u001b[39;00m\u001b[38;5;21;01m.\u001b[39;00m\u001b[38;5;21;01mpyplot\u001b[39;00m \u001b[38;5;28;01mas\u001b[39;00m \u001b[38;5;21;01mplt\u001b[39;00m\n\u001b[0;32m      4\u001b[0m \u001b[38;5;28;01mfrom\u001b[39;00m \u001b[38;5;21;01mIPython\u001b[39;00m\u001b[38;5;21;01m.\u001b[39;00m\u001b[38;5;21;01mdisplay\u001b[39;00m \u001b[38;5;28;01mimport\u001b[39;00m display, Math, Latex\n\u001b[0;32m      5\u001b[0m \u001b[38;5;28;01mfrom\u001b[39;00m \u001b[38;5;21;01msympy\u001b[39;00m\u001b[38;5;21;01m.\u001b[39;00m\u001b[38;5;21;01mphysics\u001b[39;00m\u001b[38;5;21;01m.\u001b[39;00m\u001b[38;5;21;01mmechanics\u001b[39;00m \u001b[38;5;28;01mimport\u001b[39;00m dynamicsymbols, init_vprinting\n",
      "\u001b[1;31mModuleNotFoundError\u001b[0m: No module named 'matplotlib'"
     ]
    }
   ],
   "source": [
    "from sympy import *\n",
    "import numpy as np\n",
    "import matplotlib.pyplot as plt\n",
    "from IPython.display import display, Math, Latex\n",
    "from sympy.physics.mechanics import dynamicsymbols, init_vprinting\n",
    "init_vprinting(use_latex='mathjax')\n",
    "\n",
    "def deg2rad(deg):\n",
    "    return (pi / 180) * deg"
   ]
  },
  {
   "cell_type": "code",
   "execution_count": 3,
   "id": "8862d41d-a326-4548-8d84-aaacf91af63f",
   "metadata": {},
   "outputs": [],
   "source": [
    "# Funktionen zur  Kinematik mobiler Roboter\n",
    "def differential_drive(r, differentialantrieb, dx):\n",
    "    \"\"\"Berechnet die Radgeschwindigkeiten für Differentialantrieb aus einer vorgegebenen Trajektorie.\"\"\"\n",
    "    delta1 = differentialantrieb[0,0]\n",
    "    delta2 = differentialantrieb[1,0]\n",
    "    a1 = differentialantrieb[0,1]\n",
    "    a2 = differentialantrieb[1,1]\n",
    "    l1 = differentialantrieb[0,2]\n",
    "    l2 = differentialantrieb[1,2]\n",
    "    J = (1/r) * Matrix([\n",
    "        [cos(delta1), sin(delta1), l1*sin(delta1 - a1)],\n",
    "        [cos(delta2), sin(delta2), l2*sin(delta2 - a2)]\n",
    "    ])\n",
    "    return J * dx  # Matrix multiplication\n",
    "\n",
    "def omni_wheels(r,omniwheels,b,dx):\n",
    "    \"\"\"Berechnet die Radgeschwindigkeiten für einen Omni-Wheel-Roboter aus einer vorgegebenen Trajektorie.\"\"\"\n",
    "    delta1 = omniwheels[0,0]\n",
    "    delta2 = omniwheels[0,1]\n",
    "    delta3 = omniwheels[0,2]\n",
    "    a1 = omniwheels[1,0]\n",
    "    a2 = omniwheels[1,1]\n",
    "    a3 = omniwheels[1,2]\n",
    "    l1 = b\n",
    "    l2 = b\n",
    "    l3 = b\n",
    "    J = (1/r) * Matrix([\n",
    "        [cos(delta1), sin(delta1), l1*sin(delta1 - a1)],\n",
    "        [cos(delta2), sin(delta2), l2*sin(delta2 - a2)],\n",
    "        [cos(delta3), sin(delta3), l3*sin(delta3 - a3)]\n",
    "    ])\n",
    "    return J * dx  # Matrix multiplication\n",
    "\n",
    "def mecanum_wheels(r, a,b, dx):\n",
    "    \"\"\"Berechnet die Radgeschwindigkeiten für einen Mecanum-Roboter mit vier Rädern.\"\"\"\n",
    "    # Extrahiere Parameter aus omni_params\n",
    "    gamma1, gamma2, gamma3,gamma4 = pi/4,-pi/4,pi/4,-pi/4,\n",
    "    delta1, delta2, delta3,delta4 = 0,0,0,0\n",
    "    alpha1, alpha2, alpha3,alpha4 = -atan(a/b),atan(a/b),pi/2+atan(a/b),-pi/2-atan(a/b)\n",
    "    l1, l2, l3,l4 = sqrt(a+b),sqrt(a+b),sqrt(a+b),sqrt(a+b)\n",
    "\n",
    "    # Definition der Kinematik-Matrix J nach der Gleichung\n",
    "    J = (1 / r) * Matrix([\n",
    "        [cos(delta1+gamma1), sin(delta1+gamma1), l1 * sin(delta1 + gamma1 - alpha1)],\n",
    "        [cos(delta2+gamma2), sin(delta2+gamma2), l2 * sin(delta2 + gamma2 - alpha2)],\n",
    "        [cos(delta3+gamma3), sin(delta3+gamma3), l3 * sin(delta3 + gamma3 - alpha3)],\n",
    "        [cos(delta4+gamma4), sin(delta4+gamma4), l4 * sin(delta4 + gamma4 - alpha4)]\n",
    "    ])\n",
    "    display(J)\n",
    "    return J * dx  # Matrix multiplication"
   ]
  },
  {
   "cell_type": "code",
   "execution_count": 4,
   "id": "a35c3e86-b23c-479f-b2fb-c5ff49860c47",
   "metadata": {},
   "outputs": [],
   "source": [
    "r = 0.25\n",
    "b = 0.5\n",
    "a = 0.3  # Beispiel-Wert für Mecanum-Roboter\n",
    "\n",
    "differentialantrieb = Matrix([\n",
    "[0,-(pi/2),b],\n",
    "[0,(pi/2),b]\n",
    "])\n",
    "omniwheels = Matrix([\n",
    "[-90,0,-90-0],\n",
    "[30,120,30-120],\n",
    "[150,-120,150-(-120)],\n",
    "])"
   ]
  },
  {
   "cell_type": "code",
   "execution_count": 5,
   "id": "70f6f851-021f-488d-8e43-ff8b681c1a6c",
   "metadata": {},
   "outputs": [
    {
     "data": {
      "text/plain": [
       "'🚀 **Bewegung auf einem Halbkreis**'"
      ]
     },
     "metadata": {},
     "output_type": "display_data"
    },
    {
     "data": {
      "text/plain": [
       "'Differential Drive:'"
      ]
     },
     "metadata": {},
     "output_type": "display_data"
    },
    {
     "data": {
      "text/latex": [
       "$\\displaystyle \\left[\\begin{matrix}4.40406101782088\\\\3.59593898217912\\end{matrix}\\right]$"
      ],
      "text/plain": [
       "Matrix([\n",
       "[4.40406101782088],\n",
       "[3.59593898217912]])"
      ]
     },
     "metadata": {},
     "output_type": "display_data"
    },
    {
     "data": {
      "text/plain": [
       "'Omni-Wheel Drive:'"
      ]
     },
     "metadata": {},
     "output_type": "display_data"
    },
    {
     "data": {
      "text/latex": [
       "$\\displaystyle \\left[\\begin{matrix}-2.0268968105677\\\\3.76539765394898\\\\-1.79229446451668\\end{matrix}\\right]$"
      ],
      "text/plain": [
       "Matrix([\n",
       "[ -2.0268968105677],\n",
       "[ 3.76539765394898],\n",
       "[-1.79229446451668]])"
      ]
     },
     "metadata": {},
     "output_type": "display_data"
    },
    {
     "data": {
      "text/latex": [
       "$\\displaystyle \\left[\\begin{matrix}2.0 \\sqrt{2} & 2.0 \\sqrt{2} & 3.57770876399966 \\sin{\\left(0.540419500270584 + \\frac{\\pi}{4} \\right)}\\\\2.0 \\sqrt{2} & - 2.0 \\sqrt{2} & - 3.57770876399966 \\sin{\\left(0.540419500270584 + \\frac{\\pi}{4} \\right)}\\\\2.0 \\sqrt{2} & 2.0 \\sqrt{2} & - 3.57770876399966 \\sin{\\left(0.540419500270584 + \\frac{\\pi}{4} \\right)}\\\\2.0 \\sqrt{2} & - 2.0 \\sqrt{2} & 3.57770876399966 \\sin{\\left(0.540419500270584 + \\frac{\\pi}{4} \\right)}\\end{matrix}\\right]$"
      ],
      "text/plain": [
       "Matrix([\n",
       "[2.0*sqrt(2),  2.0*sqrt(2),  3.57770876399966*sin(0.540419500270584 + pi/4)],\n",
       "[2.0*sqrt(2), -2.0*sqrt(2), -3.57770876399966*sin(0.540419500270584 + pi/4)],\n",
       "[2.0*sqrt(2),  2.0*sqrt(2), -3.57770876399966*sin(0.540419500270584 + pi/4)],\n",
       "[2.0*sqrt(2), -2.0*sqrt(2),  3.57770876399966*sin(0.540419500270584 + pi/4)]])"
      ]
     },
     "metadata": {},
     "output_type": "display_data"
    },
    {
     "data": {
      "text/plain": [
       "'Mecanum-Wheel Drive:'"
      ]
     },
     "metadata": {},
     "output_type": "display_data"
    },
    {
     "data": {
      "text/latex": [
       "$\\displaystyle \\left[\\begin{matrix}3.52965225740664\\\\2.12720199208574\\\\2.12720199208574\\\\3.52965225740664\\end{matrix}\\right]$"
      ],
      "text/plain": [
       "Matrix([\n",
       "[3.52965225740664],\n",
       "[2.12720199208574],\n",
       "[2.12720199208574],\n",
       "[3.52965225740664]])"
      ]
     },
     "metadata": {},
     "output_type": "display_data"
    },
    {
     "data": {
      "text/plain": [
       "'➡ **Bewegung auf einer Geraden**'"
      ]
     },
     "metadata": {},
     "output_type": "display_data"
    },
    {
     "data": {
      "text/plain": [
       "'Differential Drive:'"
      ]
     },
     "metadata": {},
     "output_type": "display_data"
    },
    {
     "data": {
      "text/latex": [
       "$\\displaystyle \\left[\\begin{matrix}4.0\\\\4.0\\end{matrix}\\right]$"
      ],
      "text/plain": [
       "Matrix([\n",
       "[4.0],\n",
       "[4.0]])"
      ]
     },
     "metadata": {},
     "output_type": "display_data"
    },
    {
     "data": {
      "text/plain": [
       "'Omni-Wheel Drive:'"
      ]
     },
     "metadata": {},
     "output_type": "display_data"
    },
    {
     "data": {
      "text/latex": [
       "$\\displaystyle \\left[\\begin{matrix}-1.79229446451668\\\\4.0\\\\-1.79229446451668\\end{matrix}\\right]$"
      ],
      "text/plain": [
       "Matrix([\n",
       "[-1.79229446451668],\n",
       "[              4.0],\n",
       "[-1.79229446451668]])"
      ]
     },
     "metadata": {},
     "output_type": "display_data"
    },
    {
     "data": {
      "text/latex": [
       "$\\displaystyle \\left[\\begin{matrix}2.0 \\sqrt{2} & 2.0 \\sqrt{2} & 3.57770876399966 \\sin{\\left(0.540419500270584 + \\frac{\\pi}{4} \\right)}\\\\2.0 \\sqrt{2} & - 2.0 \\sqrt{2} & - 3.57770876399966 \\sin{\\left(0.540419500270584 + \\frac{\\pi}{4} \\right)}\\\\2.0 \\sqrt{2} & 2.0 \\sqrt{2} & - 3.57770876399966 \\sin{\\left(0.540419500270584 + \\frac{\\pi}{4} \\right)}\\\\2.0 \\sqrt{2} & - 2.0 \\sqrt{2} & 3.57770876399966 \\sin{\\left(0.540419500270584 + \\frac{\\pi}{4} \\right)}\\end{matrix}\\right]$"
      ],
      "text/plain": [
       "Matrix([\n",
       "[2.0*sqrt(2),  2.0*sqrt(2),  3.57770876399966*sin(0.540419500270584 + pi/4)],\n",
       "[2.0*sqrt(2), -2.0*sqrt(2), -3.57770876399966*sin(0.540419500270584 + pi/4)],\n",
       "[2.0*sqrt(2),  2.0*sqrt(2), -3.57770876399966*sin(0.540419500270584 + pi/4)],\n",
       "[2.0*sqrt(2), -2.0*sqrt(2),  3.57770876399966*sin(0.540419500270584 + pi/4)]])"
      ]
     },
     "metadata": {},
     "output_type": "display_data"
    },
    {
     "data": {
      "text/plain": [
       "'Mecanum-Wheel Drive:'"
      ]
     },
     "metadata": {},
     "output_type": "display_data"
    },
    {
     "data": {
      "text/latex": [
       "$\\displaystyle \\left[\\begin{matrix}2.82842712474619\\\\2.82842712474619\\\\2.82842712474619\\\\2.82842712474619\\end{matrix}\\right]$"
      ],
      "text/plain": [
       "Matrix([\n",
       "[2.82842712474619],\n",
       "[2.82842712474619],\n",
       "[2.82842712474619],\n",
       "[2.82842712474619]])"
      ]
     },
     "metadata": {},
     "output_type": "display_data"
    }
   ],
   "source": [
    "# Punkte für den Halbkreis\n",
    "A = Matrix([4, 9])\n",
    "B = Matrix([11, 2])\n",
    "\n",
    "# Abstand zwischen A und B\n",
    "dAB = (B - A).norm()\n",
    "\n",
    "# Halbkreisumfang für 180°\n",
    "alpha = 180  # Degrees\n",
    "sAB = (dAB / 2) * (2 * pi) * (alpha / 360)\n",
    "\n",
    "# Winkeländerung pro Strecke\n",
    "dthetaAB = pi / sAB\n",
    "\n",
    "# Änderung in Weltkoordinaten\n",
    "dxR = 1\n",
    "dyR = 0\n",
    "dtheta = dthetaAB\n",
    "dx_robot = Matrix([dxR, dyR, dtheta])\n",
    "\n",
    "\n",
    "\n",
    "display(\"🚀 **Bewegung auf einem Halbkreis**\")\n",
    "# Berechnung der inversen Kinematik für Differentialantrieb\n",
    "diff1 = differential_drive(r, differentialantrieb, dx_robot).evalf()\n",
    "display(\"Differential Drive:\", diff1)\n",
    "\n",
    "# Berechnung der inversen Kinematik für Omni-Wheel-Roboter\n",
    "omni1 = omni_wheels(r, omniwheels, b,dx_robot).evalf()\n",
    "display(\"Omni-Wheel Drive:\", omni1)\n",
    "\n",
    "# Berechnung der inversen Kinematik für Mecanum-Wheel-Roboter\n",
    "mec1 = mecanum_wheels(r, a, b, dx_robot).evalf()\n",
    "display(\"Mecanum-Wheel Drive:\", mec1)\n",
    "\n",
    "# Beispiel für eine Gerade ohne Drehung\n",
    "dxR = 1\n",
    "dyR = 0\n",
    "dtheta = 0\n",
    "dx_robot = Matrix([dxR, dyR, dtheta])\n",
    "\n",
    "display(\"➡ **Bewegung auf einer Geraden**\")\n",
    "# Berechnung der inversen Kinematik für Differentialantrieb\n",
    "diff2 = differential_drive(r, differentialantrieb, dx_robot).evalf()\n",
    "display(\"Differential Drive:\", diff2)\n",
    "\n",
    "# Berechnung der inversen Kinematik für Omni-Wheel-Roboter\n",
    "omni2 = omni_wheels(r, omniwheels,b, dx_robot).evalf()\n",
    "display(\"Omni-Wheel Drive:\", omni2)\n",
    "\n",
    "# Berechnung der inversen Kinematik für Mecanum-Wheel-Roboter\n",
    "mec2 = mecanum_wheels(r, a, b, dx_robot).evalf()\n",
    "display(\"Mecanum-Wheel Drive:\", mec2)\n",
    "\n",
    "\n"
   ]
  },
  {
   "cell_type": "code",
   "execution_count": 6,
   "id": "26fd9fe8-5d51-4ea1-ad8e-bfb717133cee",
   "metadata": {},
   "outputs": [],
   "source": [
    "def differential_drive_pinv(rad, r, differentialantrieb, steps, dt):\n",
    "    \"\"\"Berechnung der Roboterbewegung mit der Moore-Penrose-Inversen von J.\"\"\"\n",
    "    delta1 = differentialantrieb[0,0]\n",
    "    delta2 = differentialantrieb[1,0]\n",
    "    a1 = differentialantrieb[0,1]\n",
    "    a2 = differentialantrieb[1,1]\n",
    "    l1 = differentialantrieb[0,2]\n",
    "    l2 = differentialantrieb[1,2]\n",
    "\n",
    "    # Definition der Matrix J\n",
    "    J = (1 / r) * Matrix([\n",
    "        [cos(delta1), sin(delta1), l1 * sin(delta1 - a1)],\n",
    "        [cos(delta2), sin(delta2), l2 * sin(delta2 - a2)]\n",
    "    ])\n",
    "    \n",
    "    # Berechnung der Moore-Penrose-Pseudo-Inversen von J\n",
    "    J_pinv = J.pinv()  # Moore-Penrose-Inverse\n",
    "    display(J_pinv)\n",
    "\n",
    "    # Radgeschwindigkeiten\n",
    "    rad = Matrix([rad[0],rad[1]])\n",
    "\n",
    "    # Startposition: (x, y, theta)\n",
    "    trajectory = [[0, 0, 0]]\n",
    "\n",
    "    for _ in range(steps):\n",
    "        dpos = (J_pinv * rad) * dt  # Matrix-Multiplikation\n",
    "\n",
    "        # Aktuelle Werte extrahieren\n",
    "        x, y, theta = trajectory[-1]\n",
    "\n",
    "\n",
    "        # Berechne neue Position unter Berücksichtigung der Rotation\n",
    "        x_new = x + dpos[0] * cos(theta)\n",
    "        y_new = y + dpos[0] * sin(theta)\n",
    "        theta_new = theta + dpos[2]\n",
    "\n",
    "        trajectory.append([x_new, y_new, theta_new])\n",
    "\n",
    "    return trajectory\n",
    "\n",
    "def omni_wheels_pinv(rad, r, omniwheels,b, steps, dt):\n",
    "    \"\"\"Berechnung der Roboterbewegung mit der Moore-Penrose-Inversen von J.\"\"\"\n",
    "    delta1 = omniwheels[0,0]\n",
    "    delta2 = omniwheels[0,1]\n",
    "    delta3 = omniwheels[0,2]\n",
    "    a1 = omniwheels[1,0]\n",
    "    a2 = omniwheels[1,1]\n",
    "    a3 = omniwheels[1,2]\n",
    "    l1 = b\n",
    "    l2 = b\n",
    "    l3 = b\n",
    "    J = (1/r) * Matrix([\n",
    "        [cos(delta1), sin(delta1), l1*sin(delta1 - a1)],\n",
    "        [cos(delta2), sin(delta2), l2*sin(delta2 - a2)],\n",
    "        [cos(delta3), sin(delta3), l3*sin(delta3 - a3)]\n",
    "    ])\n",
    "    \n",
    "    # Berechnung der Moore-Penrose-Pseudo-Inversen von J\n",
    "    J_pinv = J.pinv()  # Moore-Penrose-Inverse\n",
    "    display(J_pinv)\n",
    "\n",
    "    # Radgeschwindigkeiten\n",
    "    rad = Matrix([rad[0],rad[1],rad[2]])\n",
    "\n",
    "    # Startposition: (x, y, theta)\n",
    "    trajectory = [[0, 0, 0]]\n",
    "\n",
    "    for _ in range(steps):\n",
    "        dpos = (J_pinv * rad) * dt  # Matrix-Multiplikation\n",
    "\n",
    "        # Aktuelle Werte extrahieren\n",
    "        x, y, theta = trajectory[-1]\n",
    "\n",
    "\n",
    "        # Berechne neue Position unter Berücksichtigung der Rotation\n",
    "        x_new = x + dpos[0] * cos(theta)\n",
    "        y_new = y + dpos[0] * sin(theta)\n",
    "        theta_new = theta + dpos[2]\n",
    "\n",
    "        trajectory.append([x_new, y_new, theta_new])\n",
    "\n",
    "    return trajectory\n",
    "def mec_wheels_pinv(rad, r, a,b, steps, dt):\n",
    "    \"\"\"Berechnung der Roboterbewegung mit der Moore-Penrose-Inversen von J.\"\"\"\n",
    "    gamma1, gamma2, gamma3,gamma4 = pi/4,-pi/4,pi/4,-pi/4,\n",
    "    delta1, delta2, delta3,delta4 = 0,0,0,0\n",
    "    alpha1, alpha2, alpha3,alpha4 = -atan(a/b),atan(a/b),pi/2+atan(a/b),-pi/2-atan(a/b)\n",
    "    l1, l2, l3,l4 = sqrt(a+b),sqrt(a+b),sqrt(a+b),sqrt(a+b)\n",
    "\n",
    "    # Definition der Kinematik-Matrix J nach der Gleichung\n",
    "    J = (1 / r) * Matrix([\n",
    "        [cos(delta1+gamma1), sin(delta1+gamma1), l1 * sin(delta1 + gamma1 - alpha1)],\n",
    "        [cos(delta2+gamma2), sin(delta2+gamma2), l2 * sin(delta2 + gamma2 - alpha2)],\n",
    "        [cos(delta3+gamma3), sin(delta3+gamma3), l3 * sin(delta3 + gamma3 - alpha3)],\n",
    "        [cos(delta4+gamma4), sin(delta4+gamma4), l4 * sin(delta4 + gamma4 - alpha4)]\n",
    "    ])\n",
    "    \n",
    "    # Berechnung der Moore-Penrose-Pseudo-Inversen von J\n",
    "    J_pinv = J.pinv()  # Moore-Penrose-Inverse\n",
    "    display(J_pinv)\n",
    "\n",
    "    # Radgeschwindigkeiten\n",
    "    rad = Matrix([rad[0],rad[1],rad[2],rad[3]])\n",
    "\n",
    "    # Startposition: (x, y, theta)\n",
    "    trajectory = [[0, 0, 0]]\n",
    "\n",
    "    for _ in range(steps):\n",
    "        dpos = (J_pinv * rad) * dt  # Matrix-Multiplikation\n",
    "\n",
    "        # Aktuelle Werte extrahieren\n",
    "        x, y, theta = trajectory[-1]\n",
    "\n",
    "\n",
    "        # Berechne neue Position unter Berücksichtigung der Rotation\n",
    "        x_new = x + dpos[0] * cos(theta)\n",
    "        y_new = y + dpos[0] * sin(theta)\n",
    "        theta_new = theta + dpos[2]\n",
    "\n",
    "        trajectory.append([x_new, y_new, theta_new])\n",
    "\n",
    "    return trajectory\n",
    "\n"
   ]
  },
  {
   "cell_type": "code",
   "execution_count": 7,
   "id": "89c25afb-7455-4686-92ad-53c6a4ebf3d7",
   "metadata": {},
   "outputs": [
    {
     "data": {
      "text/latex": [
       "$\\displaystyle \\left[\\begin{matrix}0.125 & 0.125\\\\0 & 0\\\\0.25 & -0.25\\end{matrix}\\right]$"
      ],
      "text/plain": [
       "Matrix([\n",
       "[0.125, 0.125],\n",
       "[    0,     0],\n",
       "[ 0.25, -0.25]])"
      ]
     },
     "metadata": {},
     "output_type": "display_data"
    },
    {
     "data": {
      "text/latex": [
       "$\\displaystyle \\left[\\begin{matrix}-0.25 & 0.25 & 0.25\\\\- \\frac{0.00390625 \\left(192.0 \\cos^{2}{\\left(90 \\right)} - 128.0 \\cos{\\left(90 \\right)} + 64.0\\right)}{\\sin{\\left(90 \\right)}} + \\frac{0.00390625 \\left(192.0 \\cos{\\left(90 \\right)} - 64.0\\right) \\cos{\\left(90 \\right)}}{\\sin{\\left(90 \\right)}} - \\frac{0.001953125 \\left(-128.0 + 256.0 \\cos{\\left(90 \\right)}\\right)}{\\sin{\\left(90 \\right)}} & \\frac{0.00390625 \\left(192.0 \\cos{\\left(90 \\right)} - 64.0\\right)}{\\sin{\\left(90 \\right)}} - \\frac{0.001953125 \\left(-128.0 + 256.0 \\cos{\\left(90 \\right)}\\right)}{\\sin{\\left(90 \\right)}} & - \\frac{0.00390625 \\left(192.0 \\cos^{2}{\\left(90 \\right)} - 128.0 \\cos{\\left(90 \\right)} + 64.0\\right)}{\\sin{\\left(90 \\right)}} + \\frac{0.00390625 \\left(192.0 \\cos{\\left(90 \\right)} - 64.0\\right) \\cos{\\left(90 \\right)}}{\\sin{\\left(90 \\right)}}\\\\- \\frac{1.0}{\\sin{\\left(120 \\right)}} + \\frac{1.0 \\cos{\\left(90 \\right)}}{\\sin{\\left(120 \\right)}} - \\frac{0.00390625 \\left(-128.0 + 256.0 \\cos{\\left(90 \\right)}\\right)}{\\sin{\\left(120 \\right)}} & 0 & \\frac{1.0 \\cos{\\left(90 \\right)}}{\\sin{\\left(120 \\right)}} - \\frac{0.00390625 \\left(-128.0 + 256.0 \\cos{\\left(90 \\right)}\\right)}{\\sin{\\left(120 \\right)}}\\end{matrix}\\right]$"
      ],
      "text/plain": [
       "Matrix([\n",
       "[                                                                                                                                                           -0.25,                                                                                     0.25,                                                                                                              0.25],\n",
       "[-0.00390625*(192.0*cos(90)**2 - 128.0*cos(90) + 64.0)/sin(90) + 0.00390625*(192.0*cos(90) - 64.0)*cos(90)/sin(90) - 0.001953125*(-128.0 + 256.0*cos(90))/sin(90), 0.00390625*(192.0*cos(90) - 64.0)/sin(90) - 0.001953125*(-128.0 + 256.0*cos(90))/sin(90), -0.00390625*(192.0*cos(90)**2 - 128.0*cos(90) + 64.0)/sin(90) + 0.00390625*(192.0*cos(90) - 64.0)*cos(90)/sin(90)],\n",
       "[                                                                             -1.0/sin(120) + 1.0*cos(90)/sin(120) - 0.00390625*(-128.0 + 256.0*cos(90))/sin(120),                                                                                        0,                                               1.0*cos(90)/sin(120) - 0.00390625*(-128.0 + 256.0*cos(90))/sin(120)]])"
      ]
     },
     "metadata": {},
     "output_type": "display_data"
    },
    {
     "data": {
      "text/latex": [
       "$\\displaystyle \\left[\\begin{matrix}0.0625 \\sqrt{2} & 0.0625 \\sqrt{2} & 0.0625 \\sqrt{2} & 0.0625 \\sqrt{2}\\\\0.0625 \\sqrt{2} & - 0.0625 \\sqrt{2} & 0.0625 \\sqrt{2} & - 0.0625 \\sqrt{2}\\\\\\frac{0.0698771242968684}{\\sin{\\left(0.540419500270584 + \\frac{\\pi}{4} \\right)}} & - \\frac{0.0698771242968684}{\\sin{\\left(0.540419500270584 + \\frac{\\pi}{4} \\right)}} & - \\frac{0.0698771242968684}{\\sin{\\left(0.540419500270584 + \\frac{\\pi}{4} \\right)}} & \\frac{0.0698771242968684}{\\sin{\\left(0.540419500270584 + \\frac{\\pi}{4} \\right)}}\\end{matrix}\\right]$"
      ],
      "text/plain": [
       "Matrix([\n",
       "[                                  0.0625*sqrt(2),                                    0.0625*sqrt(2),                                    0.0625*sqrt(2),                                   0.0625*sqrt(2)],\n",
       "[                                  0.0625*sqrt(2),                                   -0.0625*sqrt(2),                                    0.0625*sqrt(2),                                  -0.0625*sqrt(2)],\n",
       "[0.0698771242968684/sin(0.540419500270584 + pi/4), -0.0698771242968684/sin(0.540419500270584 + pi/4), -0.0698771242968684/sin(0.540419500270584 + pi/4), 0.0698771242968684/sin(0.540419500270584 + pi/4)]])"
      ]
     },
     "metadata": {},
     "output_type": "display_data"
    },
    {
     "ename": "NameError",
     "evalue": "name 'plt' is not defined",
     "output_type": "error",
     "traceback": [
      "\u001b[1;31m---------------------------------------------------------------------------\u001b[0m",
      "\u001b[1;31mNameError\u001b[0m                                 Traceback (most recent call last)",
      "Cell \u001b[1;32mIn[7], line 31\u001b[0m\n\u001b[0;32m     23\u001b[0m omnicurve \u001b[38;5;241m=\u001b[39m omni_wheels_pinv(\n\u001b[0;32m     24\u001b[0m     omni1,r,omniwheels,b,\n\u001b[0;32m     25\u001b[0m     \u001b[38;5;241m100\u001b[39m, \u001b[38;5;241m0.1\u001b[39m\n\u001b[0;32m     26\u001b[0m )\n\u001b[0;32m     27\u001b[0m meccurve \u001b[38;5;241m=\u001b[39m mec_wheels_pinv(\n\u001b[0;32m     28\u001b[0m     mec1,r,a,b,\n\u001b[0;32m     29\u001b[0m     \u001b[38;5;241m100\u001b[39m, \u001b[38;5;241m0.1\u001b[39m\n\u001b[0;32m     30\u001b[0m )\n\u001b[1;32m---> 31\u001b[0m \u001b[43mvisualise\u001b[49m\u001b[43m(\u001b[49m\u001b[43mdiffcurve\u001b[49m\u001b[43m,\u001b[49m\u001b[38;5;124;43m\"\u001b[39;49m\u001b[38;5;124;43mdiffcurve\u001b[39;49m\u001b[38;5;124;43m\"\u001b[39;49m\u001b[43m)\u001b[49m\n\u001b[0;32m     32\u001b[0m visualise(omnicurve,\u001b[38;5;124m\"\u001b[39m\u001b[38;5;124momnicurve\u001b[39m\u001b[38;5;124m\"\u001b[39m)\n\u001b[0;32m     33\u001b[0m visualise(meccurve,\u001b[38;5;124m\"\u001b[39m\u001b[38;5;124mmeccurve\u001b[39m\u001b[38;5;124m\"\u001b[39m)\n",
      "Cell \u001b[1;32mIn[7], line 6\u001b[0m, in \u001b[0;36mvisualise\u001b[1;34m(line, name)\u001b[0m\n\u001b[0;32m      3\u001b[0m line \u001b[38;5;241m=\u001b[39m Matrix(line)\n\u001b[0;32m      5\u001b[0m \u001b[38;5;66;03m# Visualisierung Differential Drive\u001b[39;00m\n\u001b[1;32m----> 6\u001b[0m \u001b[43mplt\u001b[49m\u001b[38;5;241m.\u001b[39mfigure(figsize\u001b[38;5;241m=\u001b[39m(\u001b[38;5;241m6\u001b[39m, \u001b[38;5;241m6\u001b[39m))\n\u001b[0;32m      7\u001b[0m plt\u001b[38;5;241m.\u001b[39mplot(line[:, \u001b[38;5;241m0\u001b[39m], line[:, \u001b[38;5;241m1\u001b[39m], marker\u001b[38;5;241m=\u001b[39m\u001b[38;5;124m\"\u001b[39m\u001b[38;5;124mo\u001b[39m\u001b[38;5;124m\"\u001b[39m, markersize\u001b[38;5;241m=\u001b[39m\u001b[38;5;241m2\u001b[39m, label\u001b[38;5;241m=\u001b[39mname)\n\u001b[0;32m      8\u001b[0m plt\u001b[38;5;241m.\u001b[39mxlabel(\u001b[38;5;124m\"\u001b[39m\u001b[38;5;124mX Position\u001b[39m\u001b[38;5;124m\"\u001b[39m)\n",
      "\u001b[1;31mNameError\u001b[0m: name 'plt' is not defined"
     ]
    }
   ],
   "source": [
    "def visualise(line,name):\n",
    "    \n",
    "    line = Matrix(line)\n",
    "    \n",
    "    # Visualisierung Differential Drive\n",
    "    plt.figure(figsize=(6, 6))\n",
    "    plt.plot(line[:, 0], line[:, 1], marker=\"o\", markersize=2, label=name)\n",
    "    plt.xlabel(\"X Position\")\n",
    "    plt.ylabel(\"Y Position\")\n",
    "    plt.title(name+\"(Moore-Penrose-Inverse)\")\n",
    "    plt.legend()\n",
    "    plt.grid()\n",
    "    plt.axis(\"equal\")\n",
    "    plt.show()\n",
    "    \n",
    "\n",
    "\n",
    "\n",
    "diffcurve = differential_drive_pinv(\n",
    "    diff1,r,differentialantrieb,\n",
    "    100, 0.1\n",
    ")\n",
    "omnicurve = omni_wheels_pinv(\n",
    "    omni1,r,omniwheels,b,\n",
    "    100, 0.1\n",
    ")\n",
    "meccurve = mec_wheels_pinv(\n",
    "    mec1,r,a,b,\n",
    "    100, 0.1\n",
    ")\n",
    "visualise(diffcurve,\"diffcurve\")\n",
    "visualise(omnicurve,\"omnicurve\")\n",
    "visualise(meccurve,\"meccurve\")\n",
    "\n",
    "diffgerade = differential_drive_pinv(\n",
    "    diff2,r,differentialantrieb,\n",
    "    100, 0.1\n",
    ")\n",
    "omnigerade = omni_wheels_pinv(\n",
    "    omni2,r,omniwheels,b,\n",
    "    100, 0.1\n",
    ")\n",
    "mecgerade = mec_wheels_pinv(\n",
    "    mec2,r,a,b,\n",
    "    100, 0.1\n",
    ")\n",
    "visualise(diffgerade,\"diffgerade\")\n",
    "visualise(omnigerade,\"omnigerade\")\n",
    "visualise(mecgerade,\"mecgerade\")"
   ]
  },
  {
   "cell_type": "code",
   "execution_count": null,
   "id": "387dab2e-a8b4-44fb-baef-aacb129874db",
   "metadata": {},
   "outputs": [],
   "source": []
  },
  {
   "cell_type": "code",
   "execution_count": null,
   "id": "da8785be-b6ec-4e13-9983-ed45eab7a2d4",
   "metadata": {},
   "outputs": [],
   "source": []
  },
  {
   "cell_type": "code",
   "execution_count": null,
   "id": "4c66d8f6-1c49-49f1-925e-a069bdd5e674",
   "metadata": {},
   "outputs": [],
   "source": []
  },
  {
   "cell_type": "code",
   "execution_count": null,
   "id": "4d83ea99-8844-431f-a483-9db0313b0e9b",
   "metadata": {},
   "outputs": [],
   "source": []
  },
  {
   "cell_type": "code",
   "execution_count": null,
   "id": "8be0f0aa-5f93-4be7-860f-aae036072f1b",
   "metadata": {},
   "outputs": [],
   "source": []
  },
  {
   "cell_type": "code",
   "execution_count": null,
   "id": "f233e716-5953-484d-b8e4-dd31dc5ab6af",
   "metadata": {},
   "outputs": [],
   "source": []
  },
  {
   "cell_type": "code",
   "execution_count": null,
   "id": "8b176b0b-1115-4336-9c73-bb23b52ab853",
   "metadata": {},
   "outputs": [],
   "source": []
  },
  {
   "cell_type": "code",
   "execution_count": null,
   "id": "ae104c3e-090f-46ce-a427-1abcdb5eaaf8",
   "metadata": {},
   "outputs": [],
   "source": []
  },
  {
   "cell_type": "code",
   "execution_count": null,
   "id": "67e9cfef-c059-4c35-a083-2e44240296b6",
   "metadata": {},
   "outputs": [],
   "source": []
  },
  {
   "cell_type": "code",
   "execution_count": null,
   "id": "4f77f921-3ca8-4224-aeec-097f392534d5",
   "metadata": {},
   "outputs": [],
   "source": []
  },
  {
   "cell_type": "code",
   "execution_count": null,
   "id": "ebf77a25-65be-4ac4-9afc-57899a9da2b4",
   "metadata": {},
   "outputs": [],
   "source": []
  },
  {
   "cell_type": "code",
   "execution_count": null,
   "id": "0265ba79-0fb7-4c48-b23f-593f2a73474a",
   "metadata": {},
   "outputs": [],
   "source": []
  }
 ],
 "metadata": {
  "kernelspec": {
   "display_name": "Python 3 (ipykernel)",
   "language": "python",
   "name": "python3"
  },
  "language_info": {
   "codemirror_mode": {
    "name": "ipython",
    "version": 3
   },
   "file_extension": ".py",
   "mimetype": "text/x-python",
   "name": "python",
   "nbconvert_exporter": "python",
   "pygments_lexer": "ipython3",
   "version": "3.10.0"
  }
 },
 "nbformat": 4,
 "nbformat_minor": 5
}
