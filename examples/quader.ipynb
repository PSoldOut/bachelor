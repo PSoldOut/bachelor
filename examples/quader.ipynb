{
 "cells": [
  {
   "cell_type": "code",
   "execution_count": 5,
   "id": "b12c45e1",
   "metadata": {},
   "outputs": [],
   "source": [
    "import pythreejs as three\n",
    "from ipywidgets import *\n",
    "import numpy as np\n",
    "import util"
   ]
  },
  {
   "cell_type": "code",
   "execution_count": null,
   "id": "beed7392-2d22-4608-a3d8-0942ba47df13",
   "metadata": {},
   "outputs": [
    {
     "data": {
      "application/vnd.jupyter.widget-view+json": {
       "model_id": "89529b61fb504e4f8686e94bd4c8230a",
       "version_major": 2,
       "version_minor": 0
      },
      "text/plain": [
       "Renderer(camera=PerspectiveCamera(aspect=1.4, position=(8.0, 8.0, 8.0), projectionMatrix=(1.0, 0.0, 0.0, 0.0, …"
      ]
     },
     "metadata": {},
     "output_type": "display_data"
    },
    {
     "data": {
      "application/vnd.jupyter.widget-view+json": {
       "model_id": "28bd971327bd4053a52b0b24c6db8bbf",
       "version_major": 2,
       "version_minor": 0
      },
      "text/plain": [
       "HBox(children=(Checkbox(value=True, description='Show Grid'), Checkbox(value=True, description='Show Axes')))"
      ]
     },
     "metadata": {},
     "output_type": "display_data"
    }
   ],
   "source": [
    "env = util.Environment()\n",
    "\n",
    "b = three.Group()\n",
    "k = util.create_axes(3, show_labels=True, name=\"K\")\n",
    "\n",
    "rectangle = util.create_quad([0,0,0],4,2,3)\n",
    "k.add(rectangle)\n",
    "b.add(k)\n",
    "\n",
    "mat = np.array([                        #für die Orientierung des körpereigenen Koordinatensystems\n",
    "    [ 0,  0, -1],\n",
    "    [-1,  0,  0],\n",
    "    [ 0,  1,  0]\n",
    "])\n",
    "euler = util.rot_matrix_to_euler(mat, \"XYZ\")\n",
    "env.add(b)\n",
    "\n",
    "util.translate(k, [3, 4, 0])            #Das körpereigene Koordinatensystem im Bezug auf das Basiskoordinatensystem verschieben\n",
    "util.translate(rectangle, [2, 1, 1.5])  #Den Quader im Bezug auf das körpereigene Koordinatensystem richtig verschieben\n",
    "\n",
    "display(env)\n",
    "util.rotate(k, euler, \"XYZ\")\n",
    "\n",
    "angles=[60, -180, -90]\n",
    "order = \"ZXY\"\n",
    "util.set_rotation(b, [0,0,0], order)\n",
    "util.rotate_global_animated(b, angles, order)\n",
    "\n",
    "util.set_rotation(b, [0,0,0], order)\n",
    "util.rotate_animated(b, angles[::-1], order[::-1])\n"
   ]
  },
  {
   "cell_type": "code",
   "execution_count": null,
   "id": "502c90b5",
   "metadata": {},
   "outputs": [
    {
     "name": "stdout",
     "output_type": "stream",
     "text": [
      "[[ 1.36673694e-16  8.20357802e-18  1.00000000e+00]\n",
      " [-8.66025404e-01 -5.00000000e-01  1.22464680e-16]\n",
      " [ 5.00000000e-01 -8.66025404e-01 -6.12323400e-17]] Gesamtrotationsmatrix\n",
      "\n",
      "[[ 0  0 -1]\n",
      " [-1  0  0]\n",
      " [ 0  1  0]] Rotation als Matrix vor der Drehung\n",
      "\n",
      "[-180.   90.   90.] Rotation als ZYZ-Eulerwinkel\n",
      "\n",
      "[[-8.20357802e-18  1.00000000e+00 -1.36673694e-16]\n",
      " [ 5.00000000e-01  1.22464680e-16  8.66025404e-01]\n",
      " [ 8.66025404e-01 -6.12323400e-17 -5.00000000e-01]] Rotation als Matrix nach der Drehung\n",
      "\n",
      "[ 90. -60. 180.] Roll Nick Gier Winkel\n"
     ]
    }
   ],
   "source": [
    "rot_mat_x = np.array([[1, 0, 0],\n",
    "    [0, np.cos(np.radians(-180)), -np.sin(np.radians(-180))],\n",
    "    [0, np.sin(np.radians(-180)), np.cos(np.radians(-180))]\n",
    "    ])\n",
    "\n",
    "rot_mat_y = np.array([\n",
    "    [np.cos(np.radians(-90)), 0, np.sin(np.radians(-90))],\n",
    "    [0, 1, 0],\n",
    "    [-np.sin(np.radians(-90)), 0, np.cos(np.radians(-90))]\n",
    "    ])\n",
    "\n",
    "rot_mat_z = np.array([\n",
    "    [np.cos(np.radians(60)), -np.sin(np.radians(60)), 0],\n",
    "    [np.sin(np.radians(60)),  np.cos(np.radians(60)), 0],\n",
    "    [0,             0,             1]\n",
    "    ])\n",
    "\n",
    "rot_mat_ges = rot_mat_y @ rot_mat_x @ rot_mat_z\n",
    "\n",
    "util.set_rotation(b, [0,0,0], order)\n",
    "util.apply_rot_matrix_animated(b, rot_mat_ges)\n",
    "\n",
    "print(rot_mat_ges, \"Gesamtrotationsmatrix\\n\")\n",
    "print(mat, \"Rotation als Matrix vor der Drehung\\n\")\n",
    "print(util.rot_matrix_to_euler(mat), \"Rotation als ZYZ-Eulerwinkel\\n\")\n",
    "print(rot_mat_ges @ mat, \"Rotation als Matrix nach der Drehung\\n\")\n",
    "print(util.rot_matrix_to_euler(rot_mat_ges @ mat, \"ZYX\"), \"Roll Nick Gier Winkel\")"
   ]
  }
 ],
 "metadata": {
  "kernelspec": {
   "display_name": ".venv",
   "language": "python",
   "name": "python3"
  },
  "language_info": {
   "codemirror_mode": {
    "name": "ipython",
    "version": 3
   },
   "file_extension": ".py",
   "mimetype": "text/x-python",
   "name": "python",
   "nbconvert_exporter": "python",
   "pygments_lexer": "ipython3",
   "version": "3.10.0"
  }
 },
 "nbformat": 4,
 "nbformat_minor": 5
}
