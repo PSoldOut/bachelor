{
 "cells": [
  {
   "cell_type": "code",
   "execution_count": 1,
   "id": "0b397e09",
   "metadata": {},
   "outputs": [],
   "source": [
    "import pythreejs as three\n",
    "from pythreejs import *\n",
    "from ipywidgets import *\n",
    "import util"
   ]
  },
  {
   "cell_type": "code",
   "execution_count": 2,
   "id": "a30cc945",
   "metadata": {},
   "outputs": [
    {
     "data": {
      "application/vnd.jupyter.widget-view+json": {
       "model_id": "0666da242c284b48b59b58becd17bdc9",
       "version_major": 2,
       "version_minor": 0
      },
      "text/plain": [
       "Renderer(camera=PerspectiveCamera(aspect=1.4, position=(8.0, 8.0, 8.0), projectionMatrix=(1.0, 0.0, 0.0, 0.0, …"
      ]
     },
     "metadata": {},
     "output_type": "display_data"
    },
    {
     "data": {
      "application/vnd.jupyter.widget-view+json": {
       "model_id": "393f726280524d50829dd780993789fa",
       "version_major": 2,
       "version_minor": 0
      },
      "text/plain": [
       "HBox(children=(Checkbox(value=True, description='Show Grid'), Checkbox(value=True, description='Show Axes')))"
      ]
     },
     "metadata": {},
     "output_type": "display_data"
    }
   ],
   "source": [
    "grid_group = util.create_grid_XY(32,0.5)\n",
    "axes_group = util.create_axes(8)\n",
    "env = util.Environment(frame=axes_group, grid=grid_group)\n",
    "robot = util.create_differential_robot()\n",
    "\n",
    "dummy = three.Group()\n",
    "l1 = util.line_wheel_driven_robot(dummy, [0.01, 0, 0.00202], 1555)\n",
    "l2 = util.line_wheel_driven_robot(dummy, [0.01, 0, 0.0], 990)\n",
    "\n",
    "env.add([robot, l1, l2])\n",
    "display(env)\n"
   ]
  },
  {
   "cell_type": "code",
   "execution_count": 3,
   "id": "57ba7503",
   "metadata": {},
   "outputs": [
    {
     "data": {
      "text/plain": [
       "(-9.907559919761278, 9.905865865191318, 0.0)"
      ]
     },
     "execution_count": 3,
     "metadata": {},
     "output_type": "execute_result"
    }
   ],
   "source": [
    "util.set_rotation(robot, [0,0,0], \"XYZ\")\n",
    "util.set_translation(robot, [0,0,0])\n",
    "\n",
    "util.move(robot, [0.01, 0.0, 0.00202], 1555)\n",
    "util.move(robot, [0.01, 0.0, 0.0], 990)\n",
    "    "
   ]
  }
 ],
 "metadata": {
  "kernelspec": {
   "display_name": ".venv",
   "language": "python",
   "name": "python3"
  },
  "language_info": {
   "codemirror_mode": {
    "name": "ipython",
    "version": 3
   },
   "file_extension": ".py",
   "mimetype": "text/x-python",
   "name": "python",
   "nbconvert_exporter": "python",
   "pygments_lexer": "ipython3",
   "version": "3.10.0"
  }
 },
 "nbformat": 4,
 "nbformat_minor": 5
}
