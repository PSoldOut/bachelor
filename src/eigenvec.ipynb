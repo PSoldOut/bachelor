{
 "cells": [
  {
   "cell_type": "code",
   "execution_count": 1,
   "metadata": {},
   "outputs": [
    {
     "name": "stdout",
     "output_type": "stream",
     "text": [
      "Rotationsachse: [0. 0. 1.]\n"
     ]
    }
   ],
   "source": [
    "import numpy as np\n",
    "\n",
    "# Beispiel: eine 3x3 Rotationsmatrix\n",
    "R = np.array([\n",
    "    [0, -1, 0],\n",
    "    [1,  0, 0],\n",
    "    [0,  0, 1]\n",
    "])\n",
    "\n",
    "# Eigenwerte und Eigenvektoren berechnen\n",
    "eigenvalues, eigenvectors = np.linalg.eig(R)\n",
    "\n",
    "# Eigenvektor für Eigenwert 1 finden\n",
    "axis = eigenvectors[:, np.isclose(eigenvalues, 1)]\n",
    "\n",
    "# Ergebnis auf 1D normieren (optional)\n",
    "axis = axis[:, 0]\n",
    "axis = axis / np.linalg.norm(axis)\n",
    "axis = np.real(axis)\n",
    "print(\"Rotationsachse:\", axis)"
   ]
  }
 ],
 "metadata": {
  "kernelspec": {
   "display_name": ".venv",
   "language": "python",
   "name": "python3"
  },
  "language_info": {
   "codemirror_mode": {
    "name": "ipython",
    "version": 3
   },
   "file_extension": ".py",
   "mimetype": "text/x-python",
   "name": "python",
   "nbconvert_exporter": "python",
   "pygments_lexer": "ipython3",
   "version": "3.10.0"
  }
 },
 "nbformat": 4,
 "nbformat_minor": 2
}
