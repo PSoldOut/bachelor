{
 "cells": [
  {
   "cell_type": "code",
   "execution_count": 1,
   "metadata": {},
   "outputs": [
    {
     "name": "stderr",
     "output_type": "stream",
     "text": [
      "c:\\Users\\Philipp\\Desktop\\gitProjects\\visualkinematics\\pythonAnsatz\\src\\util.py:151: RuntimeWarning: invalid value encountered in divide\n",
      "  face_normal = face_normal / np.linalg.norm(face_normal)\n",
      "c:\\Users\\Philipp\\Desktop\\gitProjects\\visualkinematics\\pythonAnsatz\\.venv\\lib\\site-packages\\pythreejs\\traits.py:257: UserWarning: 64-bit data types not supported for WebGL data, casting to 32-bit.\n",
      "  warnings.warn('64-bit data types not supported for WebGL '\n"
     ]
    },
    {
     "data": {
      "application/vnd.jupyter.widget-view+json": {
       "model_id": "8cb94f8af3b74467bb2bdd4292c169f0",
       "version_major": 2,
       "version_minor": 0
      },
      "text/plain": [
       "Renderer(camera=PerspectiveCamera(aspect=1.5, position=(3.0, 3.0, 3.0), projectionMatrix=(1.0, 0.0, 0.0, 0.0, …"
      ]
     },
     "metadata": {},
     "output_type": "display_data"
    },
    {
     "data": {
      "application/vnd.jupyter.widget-view+json": {
       "model_id": "24342d9e78b8406a994001ae8191f88e",
       "version_major": 2,
       "version_minor": 0
      },
      "text/plain": [
       "HBox(children=(Checkbox(value=True, description='Show Grid'), Checkbox(value=True, description='Show Axes')))"
      ]
     },
     "metadata": {},
     "output_type": "display_data"
    }
   ],
   "source": [
    "import asyncio\n",
    "import pythreejs as three\n",
    "import pywavefront\n",
    "from pythreejs import *\n",
    "from ipywidgets import *\n",
    "from IPython.display import display, Javascript\n",
    "import numpy as np\n",
    "import util\n",
    "import time\n",
    "\n",
    "\n",
    "\n",
    "\n",
    "\n",
    "def toggle_grid(change):\n",
    "    grid_group.visible = not grid_group.visible\n",
    "\n",
    "def toggle_axes(change):\n",
    "    axes_group.visible = not axes_group.visible\n",
    "\n",
    "\n",
    "  \n",
    "\n",
    "\n",
    "\n",
    "width = 600\n",
    "height = 400\n",
    "\n",
    "current_rot_x = 0\n",
    "current_rot_y = 0\n",
    "current_rot_z = 0\n",
    "scene = Scene()\n",
    "scene.background = \"#DDDDDD\"\n",
    "\n",
    "lock = asyncio.Lock()\n",
    "\n",
    "fbx_model = pywavefront.Wavefront(\"C:/Users/Philipp/Desktop/gitProjects/visualkinematics/pythonAnsatz/assets/airboat.obj\", collect_faces=True)  # Die 'model.obj' Datei laden\n",
    "vertices = np.array(fbx_model.vertices)\n",
    "#indices = np.array(fbx_model.meshes[0].faces).flatten()\n",
    "\n",
    "indices = []\n",
    "for name, mesh in fbx_model.meshes.items():\n",
    "    indices.extend(mesh.faces)\n",
    "indices = np.array(indices, dtype=np.uint32).flatten()\n",
    "\n",
    "normals = util.compute_normals(vertices, indices)\n",
    "\n",
    "fbx_geometry = three.BufferGeometry(\n",
    "    attributes={\n",
    "        'position': three.BufferAttribute(vertices, normalized=False),  # Positionsdaten\n",
    "        'index': three.BufferAttribute(indices, normalized=False),  # Indices der Dreiecke\n",
    "        'normal': three.BufferAttribute(normals, normalized=False),  # Hinzufügen der Normalen\n",
    "        'real': three.BufferAttribute(vertices, normalized=False)\n",
    "    }\n",
    ")\n",
    "\n",
    "\n",
    "fbx_material = MeshStandardMaterial(color='orange')\n",
    "fbx_mesh = three.Mesh(fbx_geometry, material=fbx_material)\n",
    "fbx_mesh.scale = (0.05,0.05,0.05)\n",
    "\n",
    "\n",
    "# Licht und Kamera\n",
    "light = PointLight(color='white', intensity=1.5, position=[5, 5, 5])\n",
    "camera = PerspectiveCamera(position=[3, 3, 3],aspect=width/height, fov=50)\n",
    "\n",
    "grid_group = util.create_grid_XZ(10,0.4)\n",
    "axes_group = util.create_axes(4)\n",
    "\n",
    "\n",
    "scene.add([camera, light, axes_group, grid_group, fbx_mesh, AmbientLight(intensity=0.5)])\n",
    "\n",
    "\n",
    "# Renderer mit Orbit-Steuerung\n",
    "renderer = Renderer(camera=camera, scene=scene, controls=[OrbitControls(controlling=camera)], width=width, height=height, background_color=\"#87CEEB\", background_opacity=1.0, antialias=True, precision='highp')\n",
    "\n",
    "\n",
    "checkbox_grid = Checkbox(value=True, description='Show Grid')\n",
    "checkbox_axes = Checkbox(value=True, description='Show Axes')\n",
    "\n",
    "\n",
    "#interactive_control_scale = widgets.interactive(update_cube_scale, x=x_scale_slider, y=y_scale_slider, z=z_scale_slider)\n",
    "\n",
    "checkbox_grid.observe(toggle_grid, names='value')\n",
    "checkbox_axes.observe(toggle_axes, names='value')\n",
    "\n",
    "\n",
    "\n",
    "display(renderer)\n",
    "display(HBox([checkbox_grid, checkbox_axes]))"
   ]
  }
 ],
 "metadata": {
  "kernelspec": {
   "display_name": ".venv",
   "language": "python",
   "name": "python3"
  },
  "language_info": {
   "codemirror_mode": {
    "name": "ipython",
    "version": 3
   },
   "file_extension": ".py",
   "mimetype": "text/x-python",
   "name": "python",
   "nbconvert_exporter": "python",
   "pygments_lexer": "ipython3",
   "version": "3.10.0"
  }
 },
 "nbformat": 4,
 "nbformat_minor": 2
}
