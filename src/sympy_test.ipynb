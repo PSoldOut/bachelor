{
 "cells": [
  {
   "cell_type": "code",
   "execution_count": 2,
   "id": "e36a8861",
   "metadata": {},
   "outputs": [
    {
     "data": {
      "application/vnd.jupyter.widget-view+json": {
       "model_id": "bc3cd7a5e1f5462fb0f9361761bbd4ce",
       "version_major": 2,
       "version_minor": 0
      },
      "text/plain": [
       "Renderer(camera=PerspectiveCamera(aspect=1.4, position=(8.0, 8.0, 8.0), projectionMatrix=(1.0, 0.0, 0.0, 0.0, …"
      ]
     },
     "metadata": {},
     "output_type": "display_data"
    },
    {
     "data": {
      "application/vnd.jupyter.widget-view+json": {
       "model_id": "bd3bbb528f734a44980f9c2aa437fa5f",
       "version_major": 2,
       "version_minor": 0
      },
      "text/plain": [
       "HBox(children=(Checkbox(value=True, description='Show Grid'), Checkbox(value=True, description='Show Axes')))"
      ]
     },
     "metadata": {},
     "output_type": "display_data"
    }
   ],
   "source": [
    "import sympy as sp\n",
    "import numpy as np\n",
    "import util\n",
    "\n",
    "env = util.Environment()\n",
    "\n",
    "a = sp.symbols('a')\n",
    "b = sp.symbols('b')\n",
    "c = a + b\n",
    "c = c.subs({a:2,b:3})\n",
    "\n",
    "M = sp.Matrix([[1, 0, 0],\n",
    "    [sp.pi, np.cos(np.radians(-45)), -np.sin(np.radians(-45))],\n",
    "    [0, np.sin(np.radians(-45)), np.cos(np.radians(-45))]\n",
    "    ])\n",
    "\n",
    "cube = util.create_quad([0,0,0],2,2,2)\n",
    "env.add(cube)\n",
    "\n",
    "display(env)"
   ]
  },
  {
   "cell_type": "code",
   "execution_count": 3,
   "id": "908ee381",
   "metadata": {},
   "outputs": [
    {
     "name": "stdout",
     "output_type": "stream",
     "text": [
      "Matrix([[1, 0, 0], [pi, 0.707106781186548, 0.707106781186548], [0, -0.707106781186548, 0.707106781186548]])\n",
      "Matrix([[1.00000000000000, 0, 0], [3.14159265358979, 0.707106781186548, 0.707106781186548], [0, -0.707106781186548, 0.707106781186548]])\n"
     ]
    }
   ],
   "source": [
    "print(M)\n",
    "print(M.evalf())\n",
    "util.apply_rot_matrix(cube, M)"
   ]
  },
  {
   "cell_type": "code",
   "execution_count": 1,
   "id": "4494d186",
   "metadata": {},
   "outputs": [
    {
     "name": "stdout",
     "output_type": "stream",
     "text": [
      "NumPy Zeit: 0.000184 Sekunden\n",
      "SymPy Zeit: 10.170812 Sekunden\n"
     ]
    }
   ],
   "source": [
    "import numpy as np\n",
    "import sympy as sp\n",
    "import time\n",
    "\n",
    "# Matrixgröße\n",
    "n = 100\n",
    "\n",
    "# NumPy-Setup\n",
    "np_A = np.random.rand(n, n)\n",
    "np_B = np.random.rand(n, n)\n",
    "\n",
    "# SymPy-Setup\n",
    "sp_A = sp.Matrix(np_A)\n",
    "sp_B = sp.Matrix(np_B)\n",
    "\n",
    "# NumPy Zeitmessung\n",
    "start_np = time.perf_counter()\n",
    "np_result = np.dot(np_A, np_B)\n",
    "end_np = time.perf_counter()\n",
    "print(f\"NumPy Zeit: {end_np - start_np:.6f} Sekunden\")\n",
    "\n",
    "# SymPy Zeitmessung\n",
    "start_sp = time.perf_counter()\n",
    "sp_result = sp_A * sp_B\n",
    "end_sp = time.perf_counter()\n",
    "print(f\"SymPy Zeit: {end_sp - start_sp:.6f} Sekunden\")"
   ]
  }
 ],
 "metadata": {
  "kernelspec": {
   "display_name": ".venv",
   "language": "python",
   "name": "python3"
  },
  "language_info": {
   "codemirror_mode": {
    "name": "ipython",
    "version": 3
   },
   "file_extension": ".py",
   "mimetype": "text/x-python",
   "name": "python",
   "nbconvert_exporter": "python",
   "pygments_lexer": "ipython3",
   "version": "3.10.0"
  }
 },
 "nbformat": 4,
 "nbformat_minor": 5
}
