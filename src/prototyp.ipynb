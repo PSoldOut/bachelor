{
 "cells": [
  {
   "cell_type": "code",
   "execution_count": 1,
   "id": "5d3ea4a7",
   "metadata": {},
   "outputs": [
    {
     "data": {
      "application/vnd.jupyter.widget-view+json": {
       "model_id": "1e8011f33ae143dbbbe0e8be9aa1f7f2",
       "version_major": 2,
       "version_minor": 0
      },
      "text/plain": [
       "interactive(children=(FloatSlider(value=0.0, description='Rotation X', max=6.283185307179586, step=0.01), Floa…"
      ]
     },
     "metadata": {},
     "output_type": "display_data"
    },
    {
     "data": {
      "application/vnd.jupyter.widget-view+json": {
       "model_id": "09535c5e913d48969d8dc6f07a2557c6",
       "version_major": 2,
       "version_minor": 0
      },
      "text/plain": [
       "VBox(children=(Renderer(camera=PerspectiveCamera(position=(9.0, 9.0, 9.0), projectionMatrix=(1.0, 0.0, 0.0, 0.…"
      ]
     },
     "metadata": {},
     "output_type": "display_data"
    }
   ],
   "source": [
    "from pythreejs import *\n",
    "from ipywidgets import interact, FloatSlider, VBox\n",
    "from IPython.display import display\n",
    "import numpy as np\n",
    "import util\n",
    "\n",
    "\n",
    "\n",
    "\n",
    "# Geometrie & Material\n",
    "geometry = BoxGeometry(width=4, height=4, depth=4)\n",
    "material = MeshStandardMaterial(color='orange', roughness=0.5, metalness=0.2)\n",
    "cube = Mesh(geometry=geometry, material=material)\n",
    "\n",
    "# Lichtquellen\n",
    "ambient_light = AmbientLight(intensity=0.5)\n",
    "directional_light = DirectionalLight(position=[3, 5, 1], intensity=0.6)\n",
    "\n",
    "# Kamera\n",
    "camera = PerspectiveCamera(position=[9, 9, 9], fov=50)\n",
    "camera.lookAt([0, 0, 0])\n",
    "\n",
    "# Szene\n",
    "scene = Scene(children=[cube, ambient_light, directional_light, camera], background=\"#ffffff\")\n",
    "\n",
    "# Renderer mit OrbitControls\n",
    "controller = OrbitControls(controlling=camera)\n",
    "renderer = Renderer(camera=camera, scene=scene, controls=[controller], width=300, height=300)\n",
    "\n",
    "# Interaktive Slider für Rotation\n",
    "slider_x = FloatSlider(min=0, max=2*np.pi, step=0.01, description='Rotation X')\n",
    "slider_y = FloatSlider(min=0, max=2*np.pi, step=0.01, description='Rotation Y')\n",
    "slider_z = FloatSlider(min=0, max=2*np.pi, step=0.01, description='Rotation Z')\n",
    "\n",
    "# Callback-Funktion zur Aktualisierung der Rotation\n",
    "def update_rotation(rx, ry, rz):\n",
    "\n",
    "    q = util.euler_to_quaternion([np.rad2deg(rx),np.rad2deg(ry),np.rad2deg(rz)], \"XYZ\")\n",
    "    cube.quaternion = (q[0], q[1], q[2], q[3])\n",
    "\n",
    "# Interaktive Verbindung\n",
    "interact(update_rotation, rx=slider_x, ry=slider_y, rz=slider_z)\n",
    "\n",
    "# Anzeige\n",
    "display(VBox([renderer]))\n",
    "\n"
   ]
  }
 ],
 "metadata": {
  "kernelspec": {
   "display_name": ".venv",
   "language": "python",
   "name": "python3"
  },
  "language_info": {
   "codemirror_mode": {
    "name": "ipython",
    "version": 3
   },
   "file_extension": ".py",
   "mimetype": "text/x-python",
   "name": "python",
   "nbconvert_exporter": "python",
   "pygments_lexer": "ipython3",
   "version": "3.10.0"
  }
 },
 "nbformat": 4,
 "nbformat_minor": 5
}
