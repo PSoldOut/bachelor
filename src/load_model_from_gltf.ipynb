{
 "cells": [
  {
   "cell_type": "code",
   "execution_count": 1,
   "metadata": {},
   "outputs": [],
   "source": [
    "from pygltflib import GLTF2, Accessor, Skin, Node"
   ]
  },
  {
   "cell_type": "code",
   "execution_count": 2,
   "metadata": {},
   "outputs": [
    {
     "ename": "FileNotFoundError",
     "evalue": "[Errno 2] No such file or directory: 'C:/Users/Philipp/Desktop/gitProjects/visualkinematics/pythonAnsatz/assets/generator.glb'",
     "output_type": "error",
     "traceback": [
      "\u001b[1;31m---------------------------------------------------------------------------\u001b[0m",
      "\u001b[1;31mFileNotFoundError\u001b[0m                         Traceback (most recent call last)",
      "Cell \u001b[1;32mIn[2], line 2\u001b[0m\n\u001b[0;32m      1\u001b[0m \u001b[38;5;66;03m# Download this file from https://paste.c-net.org/ScreechGrubby\u001b[39;00m\n\u001b[1;32m----> 2\u001b[0m gltf \u001b[38;5;241m=\u001b[39m \u001b[43mGLTF2\u001b[49m\u001b[38;5;241;43m.\u001b[39;49m\u001b[43mload\u001b[49m\u001b[43m(\u001b[49m\u001b[38;5;124;43m\"\u001b[39;49m\u001b[38;5;124;43mC:/Users/Philipp/Desktop/gitProjects/visualkinematics/pythonAnsatz/assets/generator.glb\u001b[39;49m\u001b[38;5;124;43m\"\u001b[39;49m\u001b[43m)\u001b[49m\n",
      "File \u001b[1;32mc:\\Users\\Philipp\\Desktop\\gitProjects\\visualkinematics\\pythonAnsatz\\.venv\\lib\\site-packages\\pygltflib\\__init__.py:1180\u001b[0m, in \u001b[0;36mGLTF2.load\u001b[1;34m(cls, fname)\u001b[0m\n\u001b[0;32m   1178\u001b[0m ext \u001b[38;5;241m=\u001b[39m path\u001b[38;5;241m.\u001b[39msuffix\n\u001b[0;32m   1179\u001b[0m \u001b[38;5;28;01mif\u001b[39;00m ext\u001b[38;5;241m.\u001b[39mlower() \u001b[38;5;129;01min\u001b[39;00m [\u001b[38;5;124m\"\u001b[39m\u001b[38;5;124m.bin\u001b[39m\u001b[38;5;124m\"\u001b[39m, \u001b[38;5;124m\"\u001b[39m\u001b[38;5;124m.glb\u001b[39m\u001b[38;5;124m\"\u001b[39m]:\n\u001b[1;32m-> 1180\u001b[0m     obj \u001b[38;5;241m=\u001b[39m \u001b[38;5;28;43mcls\u001b[39;49m\u001b[38;5;241;43m.\u001b[39;49m\u001b[43mload_binary\u001b[49m\u001b[43m(\u001b[49m\u001b[43mfname\u001b[49m\u001b[43m)\u001b[49m\n\u001b[0;32m   1181\u001b[0m \u001b[38;5;28;01melse\u001b[39;00m:\n\u001b[0;32m   1182\u001b[0m     obj \u001b[38;5;241m=\u001b[39m \u001b[38;5;28mcls\u001b[39m\u001b[38;5;241m.\u001b[39mload_json(fname)\n",
      "File \u001b[1;32mc:\\Users\\Philipp\\Desktop\\gitProjects\\visualkinematics\\pythonAnsatz\\.venv\\lib\\site-packages\\pygltflib\\__init__.py:1166\u001b[0m, in \u001b[0;36mGLTF2.load_binary\u001b[1;34m(cls, fname)\u001b[0m\n\u001b[0;32m   1164\u001b[0m \u001b[38;5;129m@classmethod\u001b[39m\n\u001b[0;32m   1165\u001b[0m \u001b[38;5;28;01mdef\u001b[39;00m \u001b[38;5;21mload_binary\u001b[39m(\u001b[38;5;28mcls\u001b[39m, fname):\n\u001b[1;32m-> 1166\u001b[0m     \u001b[38;5;28;01mwith\u001b[39;00m \u001b[38;5;28;43mopen\u001b[39;49m\u001b[43m(\u001b[49m\u001b[43mfname\u001b[49m\u001b[43m,\u001b[49m\u001b[43m \u001b[49m\u001b[38;5;124;43m\"\u001b[39;49m\u001b[38;5;124;43mrb\u001b[39;49m\u001b[38;5;124;43m\"\u001b[39;49m\u001b[43m)\u001b[49m \u001b[38;5;28;01mas\u001b[39;00m f:\n\u001b[0;32m   1167\u001b[0m         data \u001b[38;5;241m=\u001b[39m f\u001b[38;5;241m.\u001b[39mread()\n\u001b[0;32m   1168\u001b[0m     \u001b[38;5;28;01mreturn\u001b[39;00m \u001b[38;5;28mcls\u001b[39m\u001b[38;5;241m.\u001b[39mload_from_bytes(data)\n",
      "\u001b[1;31mFileNotFoundError\u001b[0m: [Errno 2] No such file or directory: 'C:/Users/Philipp/Desktop/gitProjects/visualkinematics/pythonAnsatz/assets/generator.glb'"
     ]
    }
   ],
   "source": [
    "# Download this file from https://paste.c-net.org/ScreechGrubby\n",
    "gltf = GLTF2.load(\"C:/Users/Philipp/Desktop/gitProjects/visualkinematics/pythonAnsatz/assets/generator.glb\")"
   ]
  },
  {
   "cell_type": "code",
   "execution_count": 1,
   "metadata": {},
   "outputs": [
    {
     "ename": "NameError",
     "evalue": "name 'GLTF2' is not defined",
     "output_type": "error",
     "traceback": [
      "\u001b[1;31m---------------------------------------------------------------------------\u001b[0m",
      "\u001b[1;31mNameError\u001b[0m                                 Traceback (most recent call last)",
      "Cell \u001b[1;32mIn[1], line 40\u001b[0m\n\u001b[0;32m     21\u001b[0m GLTF_ACCESSORTYPE_COUNTS \u001b[38;5;241m=\u001b[39m {\n\u001b[0;32m     22\u001b[0m     \u001b[38;5;124m\"\u001b[39m\u001b[38;5;124mSCALAR\u001b[39m\u001b[38;5;124m\"\u001b[39m: \u001b[38;5;241m1\u001b[39m,\n\u001b[0;32m     23\u001b[0m     \u001b[38;5;124m\"\u001b[39m\u001b[38;5;124mVEC2\u001b[39m\u001b[38;5;124m\"\u001b[39m: \u001b[38;5;241m2\u001b[39m,\n\u001b[1;32m   (...)\u001b[0m\n\u001b[0;32m     28\u001b[0m     \u001b[38;5;124m\"\u001b[39m\u001b[38;5;124mMAT4\u001b[39m\u001b[38;5;124m\"\u001b[39m: \u001b[38;5;241m16\u001b[39m\n\u001b[0;32m     29\u001b[0m }\n\u001b[0;32m     31\u001b[0m GLTF_COMPONENT_UNPACK_FORMATS \u001b[38;5;241m=\u001b[39m {\n\u001b[0;32m     32\u001b[0m     GLTFComponentType\u001b[38;5;241m.\u001b[39mBYTE: \u001b[38;5;124m\"\u001b[39m\u001b[38;5;124mb\u001b[39m\u001b[38;5;124m\"\u001b[39m,\n\u001b[0;32m     33\u001b[0m     GLTFComponentType\u001b[38;5;241m.\u001b[39mUNSIGNED_BYTE: \u001b[38;5;124m\"\u001b[39m\u001b[38;5;124mB\u001b[39m\u001b[38;5;124m\"\u001b[39m,\n\u001b[1;32m   (...)\u001b[0m\n\u001b[0;32m     37\u001b[0m     GLTFComponentType\u001b[38;5;241m.\u001b[39mFLOAT: \u001b[38;5;124m\"\u001b[39m\u001b[38;5;124mf\u001b[39m\u001b[38;5;124m\"\u001b[39m\n\u001b[0;32m     38\u001b[0m }\n\u001b[1;32m---> 40\u001b[0m \u001b[38;5;28;01mdef\u001b[39;00m \u001b[38;5;21mget_dense_data\u001b[39m(gltf: \u001b[43mGLTF2\u001b[49m, accessor: Accessor):\n\u001b[0;32m     41\u001b[0m     bufferView \u001b[38;5;241m=\u001b[39m gltf\u001b[38;5;241m.\u001b[39mbufferViews[accessor\u001b[38;5;241m.\u001b[39mbufferView]\n\u001b[0;32m     42\u001b[0m     buffer \u001b[38;5;241m=\u001b[39m gltf\u001b[38;5;241m.\u001b[39mbuffers[bufferView\u001b[38;5;241m.\u001b[39mbuffer]\n",
      "\u001b[1;31mNameError\u001b[0m: name 'GLTF2' is not defined"
     ]
    }
   ],
   "source": [
    "from enum import IntEnum\n",
    "import struct\n",
    "\n",
    "class GLTFComponentType(IntEnum):\n",
    "    BYTE = 5120\n",
    "    UNSIGNED_BYTE = 5121\n",
    "    SHORT = 5122\n",
    "    UNSIGNED_SHORT = 5123\n",
    "    UNSIGNED_INT = 5125\n",
    "    FLOAT = 5126\n",
    "\n",
    "GLTF_COMPONENTTYPE_SIZES = {\n",
    "    GLTFComponentType.BYTE: 1,\n",
    "    GLTFComponentType.UNSIGNED_BYTE: 1,\n",
    "    GLTFComponentType.SHORT: 2,\n",
    "    GLTFComponentType.UNSIGNED_SHORT: 2,\n",
    "    GLTFComponentType.UNSIGNED_INT: 4,\n",
    "    GLTFComponentType.FLOAT: 4\n",
    "}\n",
    "\n",
    "GLTF_ACCESSORTYPE_COUNTS = {\n",
    "    \"SCALAR\": 1,\n",
    "    \"VEC2\": 2,\n",
    "    \"VEC3\": 3,\n",
    "    \"VEC4\": 4,\n",
    "    \"MAT2\": 4,\n",
    "    \"MAT3\": 9,\n",
    "    \"MAT4\": 16\n",
    "}\n",
    "\n",
    "GLTF_COMPONENT_UNPACK_FORMATS = {\n",
    "    GLTFComponentType.BYTE: \"b\",\n",
    "    GLTFComponentType.UNSIGNED_BYTE: \"B\",\n",
    "    GLTFComponentType.SHORT: \"h\",\n",
    "    GLTFComponentType.UNSIGNED_SHORT: \"H\",\n",
    "    GLTFComponentType.UNSIGNED_INT: \"I\",\n",
    "    GLTFComponentType.FLOAT: \"f\"\n",
    "}\n",
    "\n",
    "def get_dense_data(gltf: GLTF2, accessor: Accessor):\n",
    "    bufferView = gltf.bufferViews[accessor.bufferView]\n",
    "    buffer = gltf.buffers[bufferView.buffer]\n",
    "    buffer_data = gltf.get_data_from_buffer_uri(buffer.uri)\n",
    "    result = []\n",
    "    elem_stride = GLTF_ACCESSORTYPE_COUNTS[accessor.type] * GLTF_COMPONENTTYPE_SIZES[int(accessor.componentType)]\n",
    "    for i in range(accessor.count):\n",
    "        index = bufferView.byteOffset + accessor.byteOffset + i * elem_stride\n",
    "        base64_elem_data = buffer_data[index:index + elem_stride]\n",
    "        elem_data = struct.unpack(f\"<{GLTF_COMPONENT_UNPACK_FORMATS[accessor.componentType] * GLTF_ACCESSORTYPE_COUNTS[accessor.type]}\", base64_elem_data)\n",
    "        if len(elem_data) == 1:\n",
    "            result.append(elem_data[0])\n",
    "        else:\n",
    "            result.append(elem_data)\n",
    "            \n",
    "    return result"
   ]
  },
  {
   "cell_type": "code",
   "execution_count": 8,
   "metadata": {},
   "outputs": [
    {
     "ename": "TypeError",
     "evalue": "list indices must be integers or slices, not NoneType",
     "output_type": "error",
     "traceback": [
      "\u001b[1;31m---------------------------------------------------------------------------\u001b[0m",
      "\u001b[1;31mTypeError\u001b[0m                                 Traceback (most recent call last)",
      "Cell \u001b[1;32mIn[8], line 7\u001b[0m\n\u001b[0;32m      5\u001b[0m normals \u001b[38;5;241m=\u001b[39m get_dense_data(gltf, gltf\u001b[38;5;241m.\u001b[39maccessors[primitive\u001b[38;5;241m.\u001b[39mattributes\u001b[38;5;241m.\u001b[39mNORMAL])\n\u001b[0;32m      6\u001b[0m texcoords \u001b[38;5;241m=\u001b[39m get_dense_data(gltf, gltf\u001b[38;5;241m.\u001b[39maccessors[primitive\u001b[38;5;241m.\u001b[39mattributes\u001b[38;5;241m.\u001b[39mTEXCOORD_0])\n\u001b[1;32m----> 7\u001b[0m joints \u001b[38;5;241m=\u001b[39m get_dense_data(gltf, \u001b[43mgltf\u001b[49m\u001b[38;5;241;43m.\u001b[39;49m\u001b[43maccessors\u001b[49m\u001b[43m[\u001b[49m\u001b[43mprimitive\u001b[49m\u001b[38;5;241;43m.\u001b[39;49m\u001b[43mattributes\u001b[49m\u001b[38;5;241;43m.\u001b[39;49m\u001b[43mJOINTS_0\u001b[49m\u001b[43m]\u001b[49m)\n\u001b[0;32m      8\u001b[0m joint_weights \u001b[38;5;241m=\u001b[39m get_dense_data(gltf, gltf\u001b[38;5;241m.\u001b[39maccessors[primitive\u001b[38;5;241m.\u001b[39mattributes\u001b[38;5;241m.\u001b[39mWEIGHTS_0])\n\u001b[0;32m      9\u001b[0m inverse_bind_matrices \u001b[38;5;241m=\u001b[39m get_dense_data(gltf, gltf\u001b[38;5;241m.\u001b[39maccessors[gltf\u001b[38;5;241m.\u001b[39mskins[\u001b[38;5;241m0\u001b[39m]\u001b[38;5;241m.\u001b[39minverseBindMatrices])\n",
      "\u001b[1;31mTypeError\u001b[0m: list indices must be integers or slices, not NoneType"
     ]
    }
   ],
   "source": [
    "primitive = gltf.meshes[gltf.scenes[gltf.scene].nodes[0]].primitives[0]\n",
    "\n",
    "indices = get_dense_data(gltf, gltf.accessors[primitive.indices])\n",
    "positions = get_dense_data(gltf, gltf.accessors[primitive.attributes.POSITION])\n",
    "normals = get_dense_data(gltf, gltf.accessors[primitive.attributes.NORMAL])\n",
    "texcoords = get_dense_data(gltf, gltf.accessors[primitive.attributes.TEXCOORD_0])\n",
    "joints = get_dense_data(gltf, gltf.accessors[primitive.attributes.JOINTS_0])\n",
    "joint_weights = get_dense_data(gltf, gltf.accessors[primitive.attributes.WEIGHTS_0])\n",
    "inverse_bind_matrices = get_dense_data(gltf, gltf.accessors[gltf.skins[0].inverseBindMatrices])\n"
   ]
  },
  {
   "cell_type": "code",
   "execution_count": null,
   "metadata": {},
   "outputs": [],
   "source": [
    "from pythreejs import *\n",
    "from IPython.display import display"
   ]
  },
  {
   "cell_type": "code",
   "execution_count": null,
   "metadata": {},
   "outputs": [],
   "source": [
    "def rgba_to_html_color(rgba_tuple):\n",
    "    # Convert each RGBA value to its corresponding 8-bit integer representation\n",
    "    r = int(rgba_tuple[0] * 255)\n",
    "    g = int(rgba_tuple[1] * 255)\n",
    "    b = int(rgba_tuple[2] * 255)\n",
    "    a = int(rgba_tuple[3] * 255)\n",
    "\n",
    "    # Format the values as a hexadecimal color string\n",
    "    color_string = \"#{:02X}{:02X}{:02X}{:02X}\".format(r, g, b, a)\n",
    "\n",
    "    return color_string"
   ]
  },
  {
   "cell_type": "code",
   "execution_count": null,
   "metadata": {},
   "outputs": [],
   "source": [
    "def create_material(material: Material):\n",
    "    result = MeshPhongMaterial(\n",
    "        color = rgba_to_html_color(material.pbrMetallicRoughness.baseColorFactor),\n",
    "        metallicFactor = material.pbrMetallicRoughness.metallicFactor,\n",
    "        roughnessFactor = material.pbrMetallicRoughness.roughnessFactor,\n",
    "        emissiveFactor = material.emissiveFactor,\n",
    "        skinning = True)\n",
    "\n",
    "    return result"
   ]
  },
  {
   "cell_type": "code",
   "execution_count": null,
   "metadata": {},
   "outputs": [],
   "source": [
    "mesh_material = create_material(gltf.materials[0])"
   ]
  },
  {
   "cell_type": "code",
   "execution_count": null,
   "metadata": {},
   "outputs": [
    {
     "ename": "NameError",
     "evalue": "name 'positions' is not defined",
     "output_type": "error",
     "traceback": [
      "\u001b[1;31m---------------------------------------------------------------------------\u001b[0m",
      "\u001b[1;31mNameError\u001b[0m                                 Traceback (most recent call last)",
      "Cell \u001b[1;32mIn[9], line 2\u001b[0m\n\u001b[0;32m      1\u001b[0m mesh_geometry \u001b[38;5;241m=\u001b[39m BufferGeometry()\n\u001b[1;32m----> 2\u001b[0m mesh_geometry\u001b[38;5;241m.\u001b[39mattributes[\u001b[38;5;124m\"\u001b[39m\u001b[38;5;124mposition\u001b[39m\u001b[38;5;124m\"\u001b[39m] \u001b[38;5;241m=\u001b[39m BufferAttribute(\u001b[43mpositions\u001b[49m)\n\u001b[0;32m      3\u001b[0m mesh_geometry\u001b[38;5;241m.\u001b[39mattributes[\u001b[38;5;124m\"\u001b[39m\u001b[38;5;124mindex\u001b[39m\u001b[38;5;124m\"\u001b[39m] \u001b[38;5;241m=\u001b[39m BufferAttribute(indices)\n\u001b[0;32m      4\u001b[0m mesh_geometry\u001b[38;5;241m.\u001b[39mattributes[\u001b[38;5;124m\"\u001b[39m\u001b[38;5;124muv\u001b[39m\u001b[38;5;124m\"\u001b[39m] \u001b[38;5;241m=\u001b[39m BufferAttribute(texcoords)\n",
      "\u001b[1;31mNameError\u001b[0m: name 'positions' is not defined"
     ]
    }
   ],
   "source": [
    "mesh_geometry = BufferGeometry()\n",
    "mesh_geometry.attributes[\"position\"] = BufferAttribute(positions)\n",
    "mesh_geometry.attributes[\"index\"] = BufferAttribute(indices)\n",
    "mesh_geometry.attributes[\"uv\"] = BufferAttribute(texcoords)\n",
    "mesh_geometry.attributes[\"normal\"] = BufferAttribute(normals)\n",
    "mesh_geometry.attributes[\"skinIndex\"] = BufferAttribute(joints)\n",
    "mesh_geometry.attributes[\"skinWeight\"] = BufferAttribute(joint_weights)"
   ]
  },
  {
   "cell_type": "code",
   "execution_count": null,
   "metadata": {},
   "outputs": [],
   "source": [
    "from typing import List\n",
    "\n",
    "def create_skeleton(gltf: GLTF2, skin: Skin, bones: List[Bone]):\n",
    "    def create_bone(gltf: GLTF2, node: Node):\n",
    "        bone = Bone(name = node.name, \n",
    "                    position = node.translation, \n",
    "                    scale = node.scale, \n",
    "                    quaternion = node.rotation)\n",
    "        if bones is not None:\n",
    "            bones.insert(0, bone)\n",
    "        for child_node in node.children:\n",
    "            child_bone = create_bone(gltf, gltf.nodes[child_node])\n",
    "            bone.add(child_bone)\n",
    "\n",
    "        return bone\n",
    "\n",
    "    return create_bone(gltf, gltf.nodes[skin.skeleton])"
   ]
  },
  {
   "cell_type": "code",
   "execution_count": null,
   "metadata": {},
   "outputs": [
    {
     "ename": "IndexError",
     "evalue": "list index out of range",
     "output_type": "error",
     "traceback": [
      "\u001b[1;31m---------------------------------------------------------------------------\u001b[0m",
      "\u001b[1;31mIndexError\u001b[0m                                Traceback (most recent call last)",
      "Cell \u001b[1;32mIn[11], line 2\u001b[0m\n\u001b[0;32m      1\u001b[0m bones \u001b[38;5;241m=\u001b[39m []\n\u001b[1;32m----> 2\u001b[0m root_bone \u001b[38;5;241m=\u001b[39m create_skeleton(gltf, \u001b[43mgltf\u001b[49m\u001b[38;5;241;43m.\u001b[39;49m\u001b[43mskins\u001b[49m\u001b[43m[\u001b[49m\u001b[38;5;241;43m0\u001b[39;49m\u001b[43m]\u001b[49m, bones)\n\u001b[0;32m      3\u001b[0m skeleton \u001b[38;5;241m=\u001b[39m Skeleton(bones \u001b[38;5;241m=\u001b[39m bones, boneInverses \u001b[38;5;241m=\u001b[39m inverse_bind_matrices)\n",
      "\u001b[1;31mIndexError\u001b[0m: list index out of range"
     ]
    }
   ],
   "source": [
    "bones = []\n",
    "root_bone = create_skeleton(gltf, gltf.skins[0], bones)\n",
    "skeleton = Skeleton(bones = bones, boneInverses = inverse_bind_matrices)"
   ]
  },
  {
   "cell_type": "code",
   "execution_count": null,
   "metadata": {},
   "outputs": [
    {
     "ename": "NameError",
     "evalue": "name 'root_bone' is not defined",
     "output_type": "error",
     "traceback": [
      "\u001b[1;31m---------------------------------------------------------------------------\u001b[0m",
      "\u001b[1;31mNameError\u001b[0m                                 Traceback (most recent call last)",
      "Cell \u001b[1;32mIn[12], line 2\u001b[0m\n\u001b[0;32m      1\u001b[0m mesh \u001b[38;5;241m=\u001b[39m SkinnedMesh(mesh_geometry, mesh_material)\n\u001b[1;32m----> 2\u001b[0m mesh\u001b[38;5;241m.\u001b[39madd(\u001b[43mroot_bone\u001b[49m)\n\u001b[0;32m      3\u001b[0m mesh\u001b[38;5;241m.\u001b[39mskeleton \u001b[38;5;241m=\u001b[39m skeleton\n\u001b[0;32m      5\u001b[0m helper \u001b[38;5;241m=\u001b[39m SkeletonHelper(mesh)\n",
      "\u001b[1;31mNameError\u001b[0m: name 'root_bone' is not defined"
     ]
    }
   ],
   "source": [
    "mesh = SkinnedMesh(mesh_geometry, mesh_material)\n",
    "mesh.add(root_bone)\n",
    "mesh.skeleton = skeleton\n",
    "\n",
    "helper = SkeletonHelper(mesh)"
   ]
  },
  {
   "cell_type": "code",
   "execution_count": null,
   "metadata": {},
   "outputs": [],
   "source": [
    "sphere = Mesh(\n",
    "    SphereBufferGeometry(1, 32, 16),\n",
    "    MeshStandardMaterial(color='red')\n",
    ")"
   ]
  },
  {
   "cell_type": "code",
   "execution_count": null,
   "metadata": {},
   "outputs": [
    {
     "ename": "NameError",
     "evalue": "name 'helper' is not defined",
     "output_type": "error",
     "traceback": [
      "\u001b[1;31m---------------------------------------------------------------------------\u001b[0m",
      "\u001b[1;31mNameError\u001b[0m                                 Traceback (most recent call last)",
      "Cell \u001b[1;32mIn[14], line 10\u001b[0m\n\u001b[0;32m      7\u001b[0m camera \u001b[38;5;241m=\u001b[39m PerspectiveCamera(position\u001b[38;5;241m=\u001b[39m[\u001b[38;5;241m10\u001b[39m, \u001b[38;5;241m6\u001b[39m, \u001b[38;5;241m10\u001b[39m], aspect\u001b[38;5;241m=\u001b[39mview_width\u001b[38;5;241m/\u001b[39mview_height)\n\u001b[0;32m      9\u001b[0m \u001b[38;5;66;03m# This line doesn't work, draws a small white rectangle\u001b[39;00m\n\u001b[1;32m---> 10\u001b[0m scene_elems \u001b[38;5;241m=\u001b[39m [camera, key_light, ambient_light, mesh, \u001b[43mhelper\u001b[49m]\n\u001b[0;32m     12\u001b[0m \u001b[38;5;66;03m# This line works, draws a red sphere\u001b[39;00m\n\u001b[0;32m     13\u001b[0m \u001b[38;5;66;03m# scene_elems = [camera, key_light, ambient_light, sphere]\u001b[39;00m\n\u001b[0;32m     15\u001b[0m scene \u001b[38;5;241m=\u001b[39m Scene(children \u001b[38;5;241m=\u001b[39m scene_elems)\n",
      "\u001b[1;31mNameError\u001b[0m: name 'helper' is not defined"
     ]
    }
   ],
   "source": [
    "view_width = 800\n",
    "view_height = 600\n",
    "\n",
    "key_light = DirectionalLight(position=[0, 10, 10], intensity=0.6)\n",
    "ambient_light = AmbientLight()\n",
    "\n",
    "camera = PerspectiveCamera(position=[10, 6, 10], aspect=view_width/view_height)\n",
    "\n",
    "# This line doesn't work, draws a small white rectangle\n",
    "scene_elems = [camera, key_light, ambient_light, mesh, helper]\n",
    "\n",
    "# This line works, draws a red sphere\n",
    "# scene_elems = [camera, key_light, ambient_light, sphere]\n",
    "\n",
    "scene = Scene(children = scene_elems)\n",
    "renderer = Renderer(camera=camera, scene=scene,\n",
    "                     controls=[OrbitControls(controlling=camera)],\n",
    "                     width=view_width, height=view_height)\n",
    "renderer"
   ]
  },
  {
   "cell_type": "code",
   "execution_count": null,
   "metadata": {},
   "outputs": [],
   "source": []
  },
  {
   "cell_type": "code",
   "execution_count": null,
   "metadata": {},
   "outputs": [],
   "source": []
  }
 ],
 "metadata": {
  "kernelspec": {
   "display_name": ".venv",
   "language": "python",
   "name": "python3"
  },
  "language_info": {
   "codemirror_mode": {
    "name": "ipython",
    "version": 3
   },
   "file_extension": ".py",
   "mimetype": "text/x-python",
   "name": "python",
   "nbconvert_exporter": "python",
   "pygments_lexer": "ipython3",
   "version": "3.10.0"
  }
 },
 "nbformat": 4,
 "nbformat_minor": 4
}
